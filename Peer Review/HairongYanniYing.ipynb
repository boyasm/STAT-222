{
 "metadata": {
  "name": "Final_Testing@222"
 },
 "nbformat": 3,
 "nbformat_minor": 0,
 "worksheets": [
  {
   "cells": [
    {
     "cell_type": "markdown",
     "metadata": {},
     "source": "Import packages"
    },
    {
     "cell_type": "code",
     "collapsed": false,
     "input": "from pandas.io.data import DataReader\nimport BeautifulSoup\nimport urllib2\nimport pandas as pd\nfrom numpy import random\nfrom sklearn.decomposition import PCA\nimport matplotlib as mpl\nimport matplotlib.pyplot as plt\nfrom sklearn import linear_model\nfrom sklearn.linear_model import LassoCV\nimport numpy as np\nimport scipy as sp\nimport math\nimport datetime\nimport statsmodels.api as sm\nfrom statsmodels.formula.api import logit, probit, poisson\nfrom scipy import stats\nfrom scipy.stats import nbinom\nfrom IPython.display import display\nfrom IPython.display import HTML\nfrom pandas.tools.plotting import autocorrelation_plot\nfrom statsmodels.tsa.arima_model import ARMA\nimport pylab as pl\n%pylab inline",
     "language": "python",
     "metadata": {},
     "outputs": []
    },
    {
     "cell_type": "markdown",
     "metadata": {},
     "source": "Parse SP500 tickers from wikipedia "
    },
    {
     "cell_type": "code",
     "collapsed": false,
     "input": "url=\"http://en.wikipedia.org/wiki/List_of_S%26P_500_companies\"\npage=urllib2.urlopen(url)\nfrom BeautifulSoup import BeautifulSoup\nsoup=BeautifulSoup(page.read())\ntable=soup.find(\"table\")\ntr=table.findAll('tr')\nticker=[0]*(len(tr)-1)\nfor index in range(1,len(tr)):\n    ticker[index-1]=tr[index].findAll(\"td\")[0].find(text=True)\n\nfor index in range(0,len(ticker)):\n    if ticker[index]==\"BRK.B\":\n        ticker[index]=\"BRK-B\"",
     "language": "python",
     "metadata": {},
     "outputs": []
    },
    {
     "cell_type": "markdown",
     "metadata": {},
     "source": "Read in Adjusted Closing Prices of SP500 from 2010 to now (stocks not starting from 2010 are deleted)"
    },
    {
     "cell_type": "code",
     "collapsed": false,
     "input": "s=DataReader(ticker[0:len(ticker)],\"yahoo\")[\"Adj Close\"]\nnull_stock=[0]*len(ticker)\nfor index in range(0,len(ticker)):\n    null_stock[index]=s.iloc[:,index].isnull().sum()\nsp=s.dropna(axis=1,how='any')",
     "language": "python",
     "metadata": {},
     "outputs": []
    },
    {
     "cell_type": "markdown",
     "metadata": {},
     "source": "Calculate daily returns for the 500 companies"
    },
    {
     "cell_type": "code",
     "collapsed": false,
     "input": "rat=sp.copy()\nfor index in range(1,sp.shape[0]):\n    rat.iloc[index,:]=sp.iloc[index,:]/sp.iloc[index-1,:]-1\nr=rat.ix[1:]",
     "language": "python",
     "metadata": {},
     "outputs": []
    },
    {
     "cell_type": "markdown",
     "metadata": {},
     "source": "PCA on daily returns"
    },
    {
     "cell_type": "code",
     "collapsed": false,
     "input": "pca=PCA()\npca.fit(r)\nprojected=pca.fit(r).transform(r)",
     "language": "python",
     "metadata": {},
     "outputs": []
    },
    {
     "cell_type": "markdown",
     "metadata": {},
     "source": "Scree plot"
    },
    {
     "cell_type": "code",
     "collapsed": false,
     "input": "fig=plt.figure()\nplt.plot(range(1,11,1),pca.explained_variance_ratio_[0:10],'ro-',linewidth=2)\nplt.title('Scree plot')\nplt.xlabel('Principal component')\nplt.ylabel('Proportion of variability explained')\nplt.show()",
     "language": "python",
     "metadata": {},
     "outputs": []
    },
    {
     "cell_type": "markdown",
     "metadata": {},
     "source": "Plot PCs"
    },
    {
     "cell_type": "code",
     "collapsed": false,
     "input": "plt.scatter(pca.components_[0,:],pca.components_[1,:])\nplt.xlabel('First principal component')\nplt.ylabel('Second principal component')\nplt.show()",
     "language": "python",
     "metadata": {},
     "outputs": []
    },
    {
     "cell_type": "markdown",
     "metadata": {},
     "source": "LASSO Cross Validation (CV)"
    },
    {
     "cell_type": "code",
     "collapsed": false,
     "input": "sp_index=DataReader(\"^GSPC\",\"yahoo\")[\"Adj Close\"] # get S&P 500 Index historical data from Yahoo Finance\nmod_cv=LassoCV(cv=10).fit(sp,sp_index)\nlog_alphas=np.log10(mod_cv.alphas_)",
     "language": "python",
     "metadata": {},
     "outputs": []
    },
    {
     "cell_type": "markdown",
     "metadata": {},
     "source": "Plot CV errors by varying the penalty"
    },
    {
     "cell_type": "code",
     "collapsed": false,
     "input": "plt.figure()\nplt.plot(log_alphas,mod_cv.mse_path_.mean(axis=-1),'k',label='Average MSE across the folds for each alphas')\nplt.legend()\nplt.xlabel('log(alpha)')\nplt.title('Mean Square Error on 10-folds CV fitting Lasso')\nplt.axvline(np.log10(mod_cv.alpha_),linestyle='--',color='k',label='alpha that gives the least MSE')\nplt.show()",
     "language": "python",
     "metadata": {},
     "outputs": []
    },
    {
     "cell_type": "markdown",
     "metadata": {},
     "source": "LASSO with selected penalty term"
    },
    {
     "cell_type": "code",
     "collapsed": false,
     "input": "mod=linear_model.Lasso(alpha=mod_cv.alpha_)\nmod.fit(sp,sp_index)\nind=np.where(mod.coef_!=0)\nlaso = sp.columns.values[ind[0]]\nprint(laso)",
     "language": "python",
     "metadata": {},
     "outputs": []
    },
    {
     "cell_type": "markdown",
     "metadata": {},
     "source": "Plot eigenvectors with red colors representing the selected companies"
    },
    {
     "cell_type": "code",
     "collapsed": false,
     "input": "col=['black']*len(sp.columns.values)\nfor index in range(0,len(col)):\n    if mod.coef_[index]!=0:\n        col[index]='red'\nsize=[1]*len(sp.columns.values)\nfor index in range(0,len(size)):\n    if mod.coef_[index]!=0:\n        size[index]=15\nplt.figure()\nplt.scatter(pca.components_[0,:],pca.components_[1,:],c=col,s=size)\nfor index in range(0,len(ind[0])):\n    x_cood=pca.components_[0,ind[0][index]]\n    y_cood=pca.components_[1,ind[0][index]]\n    plt.annotate(sp.columns.values[ind[0]][index],xy=(x_cood,y_cood))\nplt.xlabel('First principal component direction')\nplt.ylabel('Second principal component direction')\nplt.show()",
     "language": "python",
     "metadata": {},
     "outputs": []
    },
    {
     "cell_type": "markdown",
     "metadata": {},
     "source": "Display some of the data for presentation purpose"
    },
    {
     "cell_type": "code",
     "collapsed": false,
     "input": "sp.iloc[1:10,1:10]",
     "language": "python",
     "metadata": {},
     "outputs": []
    },
    {
     "cell_type": "markdown",
     "metadata": {},
     "source": "Calculate the standardized daily return for s&p 500 index"
    },
    {
     "cell_type": "code",
     "collapsed": false,
     "input": "rtn500 = sp_index/sp_index.shift(1) -1\nrtn500 =rtn500.drop(rtn500.index[[0]])\nrtn500std = (rtn500-rtn500.mean())/(rtn500.std())",
     "language": "python",
     "metadata": {},
     "outputs": []
    },
    {
     "cell_type": "markdown",
     "metadata": {},
     "source": "The scatter plot of s&p 500 index"
    },
    {
     "cell_type": "code",
     "collapsed": false,
     "input": "rtn500.plot(style='.', label ='S & P 500');plt.xlabel('date');plt.ylabel('adj closed'); plt.legend()\nplt.show()",
     "language": "python",
     "metadata": {},
     "outputs": []
    },
    {
     "cell_type": "markdown",
     "metadata": {},
     "source": "Look closely at the scatter plot from 08/01/2011 to 01/31/2012 because it has large variation according to the plot above. Then we check online and found that there was \"Black Monday\" in 2011 when there was a sharp drop in stock market. (http://en.wikipedia.org/wiki/Black_Monday_%282011%29)"
    },
    {
     "cell_type": "code",
     "collapsed": false,
     "input": "rtn500['20110801':'20120131'].plot(style='.', label ='S & P 500');plt.xlabel('date');\nplt.ylabel('adj closed'); plt.legend()\nplt.show()",
     "language": "python",
     "metadata": {},
     "outputs": []
    },
    {
     "cell_type": "markdown",
     "metadata": {},
     "source": "The density plot for standardized s&p 500 index"
    },
    {
     "cell_type": "code",
     "collapsed": false,
     "input": "rtn500std.plot(kind='kde',label='standardized s&p 500 return'); plt.legend()\nplt.show()",
     "language": "python",
     "metadata": {},
     "outputs": []
    },
    {
     "cell_type": "markdown",
     "metadata": {},
     "source": "QQ plot for standardized s&p 500 index"
    },
    {
     "cell_type": "code",
     "collapsed": false,
     "input": "import scipy.stats as stats\nimport pylab\nstats.probplot(rtn500std, dist='norm',plot=pylab);\npylab.show()",
     "language": "python",
     "metadata": {},
     "outputs": []
    },
    {
     "cell_type": "markdown",
     "metadata": {},
     "source": "Calculate the daily return from the adjusted cloased prices for the 500 or so companies"
    },
    {
     "cell_type": "code",
     "collapsed": false,
     "input": "dayRtn= sp/sp.shift(1)-1\ndayRtn = dayRtn.drop(dayRtn.index[[0]])\ndayRtnStd = (dayRtn-dayRtn.mean())/(dayRtn.std())",
     "language": "python",
     "metadata": {},
     "outputs": []
    },
    {
     "cell_type": "markdown",
     "metadata": {},
     "source": "Density plot for daily returns of all 500 companies"
    },
    {
     "cell_type": "code",
     "collapsed": false,
     "input": "dayRtnStd.plot(kind='kde', legend=False); \nplt.show()",
     "language": "python",
     "metadata": {},
     "outputs": []
    },
    {
     "cell_type": "markdown",
     "metadata": {},
     "source": "Plot standardized daily return for 17 companies selected by LASSO in a plot"
    },
    {
     "cell_type": "code",
     "collapsed": false,
     "input": "dayRtnStd[laso].plot(kind='kde',subplots=True)\nplt.show()",
     "language": "python",
     "metadata": {},
     "outputs": []
    },
    {
     "cell_type": "markdown",
     "metadata": {},
     "source": "Plot standardized daily return for 17 companies selected by LASSO seperately"
    },
    {
     "cell_type": "code",
     "collapsed": false,
     "input": "for i in laso:\n    fig1 = dayRtnStd[i].plot(kind='kde', label=i)\n    plt.legend()\n    plt.show()",
     "language": "python",
     "metadata": {},
     "outputs": []
    },
    {
     "cell_type": "markdown",
     "metadata": {},
     "source": "The means of daily return for these 17 companies"
    },
    {
     "cell_type": "code",
     "collapsed": false,
     "input": "dayRtn[laso].mean()",
     "language": "python",
     "metadata": {},
     "outputs": []
    },
    {
     "cell_type": "markdown",
     "metadata": {},
     "source": "Use the adjusted closed value for March 14 to predict that for March 17 and then calculate the ralative error"
    },
    {
     "cell_type": "code",
     "collapsed": false,
     "input": "start1 = datetime.datetime(2014, 3, 14)\nend1 = datetime.datetime(2014, 3, 17)\nappleTest=DataReader(\"AAPL\",\"yahoo\", start=start1, end=end1)[\"Adj Close\"]\nappleEst = dayRtn['AAPL'].mean() * appleTest[0] + appleTest[0]\n(appleEst-appleTest[1])/appleTest[1]   # relative error",
     "language": "python",
     "metadata": {},
     "outputs": []
    },
    {
     "cell_type": "markdown",
     "metadata": {},
     "source": "Plot S&P 500 Index Historical Data"
    },
    {
     "cell_type": "code",
     "collapsed": false,
     "input": "pl.title('S&P 500 Daily Index')\nsp_index.plot()\nplt.show()",
     "language": "python",
     "metadata": {},
     "outputs": []
    },
    {
     "cell_type": "code",
     "collapsed": false,
     "input": "def acf(series):\n    n = len(series)\n    data = numpy.asarray(series)\n    mean = numpy.mean(data)\n    c0 = numpy.sum((data - mean) ** 2)/float(n)\n    \n    def r(h):\n        acf_lag = ((data[:n - h] - mean) * (data[h:] - mean)).sum()/float(n)\n        return round(acf_lag,3)\n    x = numpy.arange(n)   # Avoiding lag 0 calculation\n    acf_coeffs = map(r,x)\n    return acf_coeffs",
     "language": "python",
     "metadata": {},
     "outputs": []
    },
    {
     "cell_type": "code",
     "collapsed": false,
     "input": "autocorrelation_plot(rtn500)\nplt.figure(1)\nplt.show()",
     "language": "python",
     "metadata": {},
     "outputs": []
    },
    {
     "cell_type": "markdown",
     "metadata": {},
     "source": "Compute and Plot Acf and Pacf"
    },
    {
     "cell_type": "code",
     "collapsed": false,
     "input": "import statsmodels\nstatsmodels.tsa.stattools.acf(rtn500)",
     "language": "python",
     "metadata": {},
     "outputs": []
    },
    {
     "cell_type": "code",
     "collapsed": false,
     "input": "statsmodels.tsa.stattools.pacf(rtn500)",
     "language": "python",
     "metadata": {},
     "outputs": []
    },
    {
     "cell_type": "code",
     "collapsed": false,
     "input": "fig = plt.figure(figsize=(12,10))\nax1 = fig.add_subplot(211)\nfig = sm.graphics.tsa.plot_acf(rtn500,lags=40,ax=ax1)\nax2 = fig.add_subplot(212)\nfig = sm.graphics.tsa.plot_pacf(rtn500,lags=40,ax=ax2)\nplt.show()",
     "language": "python",
     "metadata": {},
     "outputs": []
    },
    {
     "cell_type": "markdown",
     "metadata": {},
     "source": "Unit-root testing"
    },
    {
     "cell_type": "code",
     "collapsed": false,
     "input": "statsmodels.tsa.stattools.adfuller(rtn500,regression=\"ct\")[:2]",
     "language": "python",
     "metadata": {},
     "outputs": []
    },
    {
     "cell_type": "markdown",
     "metadata": {},
     "source": "Fit ARIMA Model"
    },
    {
     "cell_type": "code",
     "collapsed": false,
     "input": "arma_mod33 = sm.tsa.ARMA(rtn500,(3,3)).fit()\nprint arma_mod33.params",
     "language": "python",
     "metadata": {},
     "outputs": []
    },
    {
     "cell_type": "code",
     "collapsed": false,
     "input": "print arma_mod33.aic, arma_mod33.bic, arma_mod33.hqic",
     "language": "python",
     "metadata": {},
     "outputs": []
    },
    {
     "cell_type": "markdown",
     "metadata": {},
     "source": "Compare different model with ARIMA(3,3)"
    },
    {
     "cell_type": "code",
     "collapsed": false,
     "input": "arma_mod20 = sm.tsa.ARMA(rtn500,(2,0)).fit()\nprint arma_mod20.aic, arma_mod20.bic, arma_mod20.hqic",
     "language": "python",
     "metadata": {},
     "outputs": []
    },
    {
     "cell_type": "code",
     "collapsed": false,
     "input": "arma_mod41 = sm.tsa.ARMA(rtn500,(4,1)).fit()\nprint arma_mod41.aic, arma_mod41.bic, arma_mod41.hqic",
     "language": "python",
     "metadata": {},
     "outputs": []
    },
    {
     "cell_type": "markdown",
     "metadata": {},
     "source": "From the two ARIMA modela with different parameters(eg: (2,0),(4,1)), ARIMA(3,3) has the smallest AIC and BIC."
    },
    {
     "cell_type": "markdown",
     "metadata": {},
     "source": "Does our model obey the assumption?"
    },
    {
     "cell_type": "code",
     "collapsed": false,
     "input": "sm.stats.durbin_watson(arma_mod33.resid.values)",
     "language": "python",
     "metadata": {},
     "outputs": []
    },
    {
     "cell_type": "markdown",
     "metadata": {},
     "source": "Whether the residual of ARIMA model is nomal?"
    },
    {
     "cell_type": "code",
     "collapsed": false,
     "input": "fig = plt.figure(figsize=(12,10))\nax = fig.add_subplot(111)\nax = arma_mod33.resid.plot(ax=ax)\nplt.show(1)",
     "language": "python",
     "metadata": {},
     "outputs": []
    },
    {
     "cell_type": "code",
     "collapsed": false,
     "input": "stats.normaltest(arma_mod33.resid)",
     "language": "python",
     "metadata": {},
     "outputs": []
    },
    {
     "cell_type": "markdown",
     "metadata": {},
     "source": "QQ Plot"
    },
    {
     "cell_type": "code",
     "collapsed": false,
     "input": "fig = plt.figure(figsize=(12,8))\nax = fig.add_subplot(111)\nfig = sm.qqplot(arma_mod33.resid,line = 'q',ax=ax,fit=True)\nplt.show(1)",
     "language": "python",
     "metadata": {},
     "outputs": []
    },
    {
     "cell_type": "markdown",
     "metadata": {},
     "source": "Forecast according to fitted ARIMA Model"
    },
    {
     "cell_type": "code",
     "collapsed": false,
     "input": "dates = rtn500.index\nstart =dates.get_loc(pd.datetools.parse(\"-04-11-2014\"))\nend = start +10\npredict_sp = arma_mod33.predict('2014-03-03','2014-04-11',dynamic=True)\nprint predict_sp",
     "language": "python",
     "metadata": {},
     "outputs": []
    },
    {
     "cell_type": "code",
     "collapsed": false,
     "input": "pl.title('Predictted Index from 2014-03-03 to 2014-04-11')  # give plot title\npl.ylim(-0.2,0.2)\nax= rtn500.ix['2013':].plot(figsize=(12,8))\nax=predict_sp.plot(ax=ax,style='r--',label='Dynamic Prediction');\nax.legend();\nplt.show()",
     "language": "python",
     "metadata": {},
     "outputs": []
    },
    {
     "cell_type": "code",
     "collapsed": false,
     "input": "start =dates.get_loc(pd.datetools.parse(\"-1-06-2010\"))\nend = start +10\n\npreDRtn = arma_mod33.predict(start,end)\npreDRtn.values",
     "language": "python",
     "metadata": {},
     "outputs": []
    },
    {
     "cell_type": "code",
     "collapsed": false,
     "input": "n = len(sp_index)-1\nnewsp = [ 0 for I in range(0,10)]\nnewsp[0] = sp_index[n]\nnewsp",
     "language": "python",
     "metadata": {},
     "outputs": []
    },
    {
     "cell_type": "code",
     "collapsed": false,
     "input": "# function that make transformation from Daily Excess Return to Daily Index\n\ndef forecast(data,newdata):\n    n = len(data)\n    for i in range(1,(n-1)):\n        newdata[i] = (data[i-1]+1) * newdata[i-1]\n    return newdata",
     "language": "python",
     "metadata": {},
     "outputs": []
    },
    {
     "cell_type": "code",
     "collapsed": false,
     "input": "prd = forecast(preDRtn.values,newsp)",
     "language": "python",
     "metadata": {},
     "outputs": []
    },
    {
     "cell_type": "code",
     "collapsed": false,
     "input": "def test_predictnum():\n    assert len(prd) == 10",
     "language": "python",
     "metadata": {},
     "outputs": []
    },
    {
     "cell_type": "code",
     "collapsed": false,
     "input": "pl.title('Predicted Price of Future 10 days')\nplt.plot(prd,\"r--\")\nplt.show()",
     "language": "python",
     "metadata": {},
     "outputs": []
    },
    {
     "cell_type": "code",
     "collapsed": false,
     "input": "prd    # Predicted future 10-days S&P 500 Index",
     "language": "python",
     "metadata": {},
     "outputs": []
    },
    {
     "cell_type": "heading",
     "level": 3,
     "metadata": {},
     "source": "Verify Model"
    },
    {
     "cell_type": "code",
     "collapsed": false,
     "input": "# training data is from 2010-01-04 to 2013-12-31\nsp1013 = DataReader(\"^GSPC\",\"yahoo\",start = datetime.datetime(2012,1,4),end=datetime.datetime(2013,12,31))[\"Adj Close\"]\nrtn_train = sp1013/sp1013.shift(1) -1\nrtn_train =rtn_train.drop(rtn_train.index[[0]])\n\n# testing data is from 2013-12-31 to 2014-01-07\nsp_test = DataReader(\"^GSPC\",\"yahoo\",start = datetime.datetime(2013,12,31),end=datetime.datetime(2014,1,9))[\"Adj Close\"]",
     "language": "python",
     "metadata": {},
     "outputs": []
    },
    {
     "cell_type": "code",
     "collapsed": false,
     "input": "# Compare ARIMA model with different parameters to see which one is better\narma_train = ARMA(rtn_train,order=(5,3))\narma_res2 = arma_train.fit(trend='nc',display = -1)\nprint arma_res2.params\n\narma_train2 = ARMA(rtn_train,order=(5,1))\narma_res22 = arma_train2.fit(trend='nc',display = -1)",
     "language": "python",
     "metadata": {},
     "outputs": []
    },
    {
     "cell_type": "code",
     "collapsed": false,
     "input": "print arma_res2.aic, arma_res2.bic, arma_res2.hqic",
     "language": "python",
     "metadata": {},
     "outputs": []
    },
    {
     "cell_type": "code",
     "collapsed": false,
     "input": "print arma_res22.aic, arma_res22.bic, arma_res22.hqic",
     "language": "python",
     "metadata": {},
     "outputs": []
    },
    {
     "cell_type": "code",
     "collapsed": false,
     "input": "def test_arma53():\n    assert (arma_res2.aic>arma_res22.aic) & (arma_res2.hqic>arma_res22.hqic) & (arma_res2.bic>arma_res22.bic)",
     "language": "python",
     "metadata": {},
     "outputs": []
    },
    {
     "cell_type": "markdown",
     "metadata": {},
     "source": "Through comparing, ARIMA(5,1), which is better, has smaller values of AIC, BIC and HQIC."
    },
    {
     "cell_type": "code",
     "collapsed": false,
     "input": "date_train = rtn_train.index\nstart_train =date_train.get_loc(pd.datetools.parse(\"-12-31-2013\"))\nend_train = start_train + 6",
     "language": "python",
     "metadata": {},
     "outputs": []
    },
    {
     "cell_type": "code",
     "collapsed": false,
     "input": "prd1 = arma_res22.predict(start_train,end_train)\nprd1.values",
     "language": "python",
     "metadata": {},
     "outputs": []
    },
    {
     "cell_type": "code",
     "collapsed": false,
     "input": "sp_test",
     "language": "python",
     "metadata": {},
     "outputs": []
    },
    {
     "cell_type": "code",
     "collapsed": false,
     "input": "test = [ 0 for I in range(0,7)]\ntest[0] = sp_test[0]",
     "language": "python",
     "metadata": {},
     "outputs": []
    },
    {
     "cell_type": "code",
     "collapsed": false,
     "input": "# function that make transformation from Daily Excess Return to Daily Index\n\ndef forecast1(data,newdata):\n    n = len(data)\n    for i in range(1,n):\n        newdata[i] = (data[i-1]+1) * newdata[i-1]\n    return newdata\n\nprd_test = forecast1(prd1.values,test)\nprd_test",
     "language": "python",
     "metadata": {},
     "outputs": []
    },
    {
     "cell_type": "code",
     "collapsed": false,
     "input": "pl.ylim(1810,1870)  # set axis limits\nplt.plot(prd_test,\"r-o\")\nplt.plot(sp_test.values,\"g-o\")\nplt.show()",
     "language": "python",
     "metadata": {},
     "outputs": []
    },
    {
     "cell_type": "markdown",
     "metadata": {},
     "source": "Testing functions"
    },
    {
     "cell_type": "markdown",
     "metadata": {},
     "source": "Test if the number of stocks is around 500"
    },
    {
     "cell_type": "code",
     "collapsed": false,
     "input": "def test_tickerLen():\n    assert len(tr)>490 & len(tr)<510",
     "language": "python",
     "metadata": {},
     "outputs": []
    },
    {
     "cell_type": "markdown",
     "metadata": {},
     "source": "Test if Apple Inc. is included, since it has the largest capital"
    },
    {
     "cell_type": "code",
     "collapsed": false,
     "input": "def test_appleIn():\n    if \"AAPL\" in ticker:\n        appleIn=True\n    assert appleIn==True",
     "language": "python",
     "metadata": {},
     "outputs": []
    },
    {
     "cell_type": "markdown",
     "metadata": {},
     "source": "Test if there is no missing values"
    },
    {
     "cell_type": "code",
     "collapsed": false,
     "input": "def test_na():\n    check_na=sp.count()==len(sp)\n    assert len(check_na)==sp.shape[1]",
     "language": "python",
     "metadata": {},
     "outputs": []
    },
    {
     "cell_type": "markdown",
     "metadata": {},
     "source": "Randomly select one of the stock and download its prices; test if it matches the ones in the dataframe"
    },
    {
     "cell_type": "code",
     "collapsed": false,
     "input": "def test_randomStockMatch():\n    random_stock=random.randint(0,s.shape[1]-1)\n    random_prices=DataReader(sp.columns.values[random_stock],\"yahoo\")[\"Adj Close\"]\n    check_prices=random_prices==sp.iloc[:,random_stock]\n    assert check_prices.sum()==len(sp)",
     "language": "python",
     "metadata": {},
     "outputs": []
    },
    {
     "cell_type": "markdown",
     "metadata": {},
     "source": "Test if the projected data frame has the same dimension as the original data frame"
    },
    {
     "cell_type": "code",
     "collapsed": false,
     "input": "def test_pcaProjected():\n    assert projected.shape==r.shape",
     "language": "python",
     "metadata": {},
     "outputs": []
    },
    {
     "cell_type": "markdown",
     "metadata": {},
     "source": "Test if the eigenvalues sum to 1"
    },
    {
     "cell_type": "code",
     "collapsed": false,
     "input": "def test_eigenvalueSum():\n    err=pca.explained_variance_ratio_.sum()-1\n    assert math.fabs(err)<0.01",
     "language": "python",
     "metadata": {},
     "outputs": []
    },
    {
     "cell_type": "markdown",
     "metadata": {},
     "source": "Test if the eigenvalues are in the order from the lasrgest to smallest, so that the first and second eigenvalues are actually right"
    },
    {
     "cell_type": "code",
     "collapsed": false,
     "input": "def test_eigenvalueOrder():\n    check_order=sorted(pca.explained_variance_ratio_,reverse=True)==pca.explained_variance_ratio_\n    assert sum(check_order)==len(pca.explained_variance_ratio_)",
     "language": "python",
     "metadata": {},
     "outputs": []
    },
    {
     "cell_type": "markdown",
     "metadata": {},
     "source": "Test if SP500 index has the same time range as the ones in the data frame"
    },
    {
     "cell_type": "code",
     "collapsed": false,
     "input": "def test_indexRange():\n    check_date=sp_index.index.values==sp.index.values\n    assert check_date.sum()==len(sp_index)",
     "language": "python",
     "metadata": {},
     "outputs": []
    },
    {
     "cell_type": "markdown",
     "metadata": {},
     "source": "Randomly select one of the 100 penalty term; test if its corresponding MSE is larger than the one from the penalty term selected (In other words, the penalty term with the smallest MSE was actually selected)"
    },
    {
     "cell_type": "code",
     "collapsed": false,
     "input": "def test_minMSE():\n    random_alpha=random.randint(0,len(mod_cv.alphas_)-1)\n    selected_alpha=np.where(mod_cv.alphas_==mod_cv.alpha_)\n    check_mse=mod_cv.mse_path_.mean(axis=-1)[random_alpha]>=mod_cv.mse_path_.mean(axis=-1)[selected_alpha]\n    assert check_mse[0]==True",
     "language": "python",
     "metadata": {},
     "outputs": []
    },
    {
     "cell_type": "markdown",
     "metadata": {},
     "source": "Test if the number of companies selected is not too large"
    },
    {
     "cell_type": "code",
     "collapsed": false,
     "input": "def test_numCompaniesRange():\n    assert len(laso)>=0 &len(laso)<=50",
     "language": "python",
     "metadata": {},
     "outputs": []
    },
    {
     "cell_type": "markdown",
     "metadata": {},
     "source": "Randomly select a penalty term that is larger than the one selected; test if it will give less companies"
    },
    {
     "cell_type": "code",
     "collapsed": false,
     "input": "def test_numCompaniesSelected():\n    selected_alpha=np.where(mod_cv.alphas_==mod_cv.alpha_)\n    random_alpha1=random.randint(0,selected_alpha[0]-1)\n    mod1=linear_model.Lasso(alpha=mod_cv.alphas_[random_alpha1])\n    mod1.fit(sp,sp_index)\n    ind1=np.where(mod1.coef_!=0)\n    assert len(ind1)",
     "language": "python",
     "metadata": {},
     "outputs": []
    },
    {
     "cell_type": "markdown",
     "metadata": {},
     "source": "Test if it is the right way to calculate daily return:"
    },
    {
     "cell_type": "code",
     "collapsed": false,
     "input": "def test_dailyreturn():\n    sp_index =pd.DataFrame(data=[1, 1.2, 1.56], index=['a', 'b', 'c']) \n    rtn500 = sp_index/sp_index.shift(1) -1\n    rtn500 =rtn500.drop(rtn500.index[[0]])\n    assert round(rtn500[0][0],1)==0.2 and round(rtn500[0][1],1)==0.3",
     "language": "python",
     "metadata": {},
     "outputs": []
    },
    {
     "cell_type": "markdown",
     "metadata": {},
     "source": "Test if the relative error of predictive adjusted close price for APPLE falls into [-0.05, 0.05]"
    },
    {
     "cell_type": "code",
     "collapsed": false,
     "input": "def test_appleEst():\n    start1 = datetime.datetime(2014, 3, 14)\n    end1 = datetime.datetime(2014, 3, 17)\n    appleTest=DataReader(\"AAPL\",\"yahoo\", start=start1, end=end1)[\"Adj Close\"]\n    appleEst = dayRtn['AAPL'].mean() * appleTest[0] + appleTest[0]\n    assert abs((appleEst-appleTest[1])/appleTest[1]) <= 0.05 ",
     "language": "python",
     "metadata": {},
     "outputs": []
    },
    {
     "cell_type": "markdown",
     "metadata": {},
     "source": "Test if S&P 500 index has been standardized"
    },
    {
     "cell_type": "code",
     "collapsed": false,
     "input": "def test_standard():\n    assert round(rtn500std.mean(),2) == 0.00 and round(rtn500std.std(), 2) == 1.00",
     "language": "python",
     "metadata": {},
     "outputs": [],
     "prompt_number": 1
    },
    {
     "cell_type": "markdown",
     "metadata": {},
     "source": "Test if standardized adjusted closed prices have mean 0 and variance 1 for all the 500 companies"
    },
    {
     "cell_type": "code",
     "collapsed": false,
     "input": "def test_standard500():\n    assert round(max(abs(dayRtnStd.mean())),2) == 0.00 and round(max(dayRtnStd.std()),2)==1.00",
     "language": "python",
     "metadata": {},
     "outputs": [],
     "prompt_number": 2
    },
    {
     "cell_type": "markdown",
     "metadata": {},
     "source": "Test autocorrelation and partial autocorrelation"
    },
    {
     "cell_type": "code",
     "collapsed": false,
     "input": "def test_acf():\n    tt = statsmodels.tsa.stattools.acf(rtn500)\n    n = len(tt)\n    assert ((tt[(n-10):n] <0.08) & (tt[(n-10):n] >-0.05)).sum()==10",
     "language": "python",
     "metadata": {},
     "outputs": []
    },
    {
     "cell_type": "code",
     "collapsed": false,
     "input": "def test_pacf():\n    tt = statsmodels.tsa.stattools.pacf(rtn500)\n    n = len(tt)\n    assert ((tt[(n-10):n] <0.06) & (tt[(n-10):n] >-0.04)).sum()==10",
     "language": "python",
     "metadata": {},
     "outputs": []
    },
    {
     "cell_type": "markdown",
     "metadata": {},
     "source": "Test: Unit-root testing"
    },
    {
     "cell_type": "code",
     "collapsed": false,
     "input": "def test_unitroot():\n    v = statsmodels.tsa.stattools.adfuller(rtn500,regression=\"ct\")[:2]\n    assert v[1] < 1",
     "language": "python",
     "metadata": {},
     "outputs": []
    },
    {
     "cell_type": "markdown",
     "metadata": {},
     "source": "Test whether ARIMA(3,3) is the best model compare with model with other parameters"
    },
    {
     "cell_type": "code",
     "collapsed": false,
     "input": "def test_arma20():\n    arma_mod20 = sm.tsa.ARMA(rtn500,(2,0)).fit()\n    assert (arma_mod20.aic>arma_mod33.aic) & (arma_mod20.hqic>arma_mod33.hqic)",
     "language": "python",
     "metadata": {},
     "outputs": []
    },
    {
     "cell_type": "code",
     "collapsed": false,
     "input": "def test_arma41():\n    arma_mod41 = sm.tsa.ARMA(rtn500,(4,1)).fit()\n    assert (arma_mod41.aic > arma_mod33.aic) & (arma_mod41.bic>arma_mod33.bic) & (arma_mod41.hqic>arma_mod33.hqic)",
     "language": "python",
     "metadata": {},
     "outputs": []
    },
    {
     "cell_type": "markdown",
     "metadata": {},
     "source": "Test whether the residuals of the model is normally distributed"
    },
    {
     "cell_type": "code",
     "collapsed": false,
     "input": "def test_resnormal():\n    assert stats.normaltest(arma_mod33.resid)[1] < 0.001",
     "language": "python",
     "metadata": {},
     "outputs": []
    },
    {
     "cell_type": "markdown",
     "metadata": {},
     "source": "Test how many predicted values"
    },
    {
     "cell_type": "code",
     "collapsed": false,
     "input": "def test_predictnum():\n    assert len(prd) == 10",
     "language": "python",
     "metadata": {},
     "outputs": []
    },
    {
     "cell_type": "markdown",
     "metadata": {},
     "source": "Test ARMA(5,1) is the best model for verifying model based on data from 2010 to 2013"
    },
    {
     "cell_type": "code",
     "collapsed": false,
     "input": "def test_arma53():\n    assert (arma_res2.aic>arma_res22.aic) & (arma_res2.hqic>arma_res22.hqic) & (arma_res2.bic>arma_res22.bic)",
     "language": "python",
     "metadata": {},
     "outputs": []
    }
   ],
   "metadata": {}
  }
 ]
}