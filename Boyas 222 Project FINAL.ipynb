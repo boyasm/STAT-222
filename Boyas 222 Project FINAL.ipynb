{
 "metadata": {
  "name": ""
 },
 "nbformat": 3,
 "nbformat_minor": 0,
 "worksheets": [
  {
   "cells": [
    {
     "cell_type": "markdown",
     "metadata": {},
     "source": [
      "#What Results in Death?  \n",
      "##*Analysis of Social Conflict in Africa, 1990&ndash;2011*\n",
      "\n",
      "###Matthew Boyas <br/> STAT 222, MA Capstone <br/> 9 May 2014"
     ]
    },
    {
     "cell_type": "code",
     "collapsed": false,
     "input": [
      "import numpy as np\n",
      "import pandas as pd\n",
      "import matplotlib as mpl\n",
      "import matplotlib.pyplot as plt\n",
      "import scipy as sp\n",
      "import collections as col\n",
      "import statsmodels.api as sm\n",
      "\n",
      "\n",
      "from statsmodels.formula.api import logit, probit, poisson\n",
      "from scipy import stats\n",
      "from scipy.stats import nbinom\n",
      "from sklearn.cross_validation import KFold, cross_val_score\n",
      "from sklearn.neighbors import KNeighborsClassifier\n",
      "from sklearn import tree\n",
      "from mpl_toolkits.basemap import Basemap\n",
      "from IPython.display import display\n",
      "from IPython.display import HTML\n",
      "\n",
      "# This code was written using Scipy 0.13.3, Numpy 1.6.1, Pandas 0.12.0, XLRD 0.9.2, Matplotlib Basemap 1.0.6, GEOS 3.3.3\n",
      "# It may not be compatibile with other module versions\n",
      "# Code version 3 March 2014\n",
      "# No known bugs\n",
      "space = '&nbsp;'\n",
      "pd.options.display.max_columns = 100\n",
      "import warnings\n",
      "warnings.filterwarnings(\"ignore\", category=DeprecationWarning, module=\"pandas\", lineno=570)\n",
      "#This ignores a bug that results when using pandas 0.12 alongside sklearn.  It will be fixed,\n",
      "#according to pandas developers, in pandas 0.13."
     ],
     "language": "python",
     "metadata": {},
     "outputs": [],
     "prompt_number": 12
    },
    {
     "cell_type": "code",
     "collapsed": false,
     "input": [
      "# Define color palette for graphing and plots\n",
      "# Print friendly as well as somewhat colorblind friendly\n",
      "# Palettes are ColorBrewer's Set2 and Dark2 palettes\n",
      "light = ['#66C2A5', '#FC8D62', '#8DA0CB', '#E78AC3', '#A6D654', '#FFD92F', '#E5C494', '#B3B3B3']\n",
      "dark = ['#003262', '#FDB515', '#1B9E77', '#D95F02', '#7570B3', '#E7298A', '#66A61E', '#E6AB02', '#A6761D', '#666666']"
     ],
     "language": "python",
     "metadata": {},
     "outputs": []
    },
    {
     "cell_type": "markdown",
     "metadata": {},
     "source": [
      "*Hundreds of people demonstrated on Thursday outside the Johannesburg High Court to protest the suspension of Zwelinzima Vavi, general secretary of the Congress of South African Trade Unions (COSATU).  \"We are here to give him our support. We shall protest until the court overturns his suspension,\" [protester Patrick Malume] said. *\n",
      " <br/> <br/>\n",
      "27 March 2014\n",
      " <br/>\n",
      "Johannesburg, South Africa\n"
     ]
    },
    {
     "cell_type": "markdown",
     "metadata": {},
     "source": [
      "*A teenager was shot dead during a violent protest in a region of South Africa which has been rocked by days of rioting\u2026 \"It was a protest action, there was a crowd or a mob, and somebody took out their firearm and shot at the young man and he died on the scene,\" North West police spokesperson Thulani Ngubane said. *\n",
      " <br/> <br/>\n",
      "10 April 2014 <br/>\n",
      "Christiana, South Africa"
     ]
    },
    {
     "cell_type": "markdown",
     "metadata": {},
     "source": [
      "Two protests in South Africa occurred within two weeks of each other in Spring 2014, both relating to trade worker factionalization spurred by dissatisfaction with the current ruling party.  The protest in Johannesburg was a peaceful demonstration outside the High Court, complete with flags and signs.  The protest in Christiana was a riot, complete with firebombs, looting\u2026and a death.  What happened in Christiana that did not happen in Johannesburg to result in a casualty?  I attempt to quantitatively approach this question by analyzing social conflict events throughout the African continent."
     ]
    },
    {
     "cell_type": "heading",
     "level": 2,
     "metadata": {},
     "source": [
      "1. Data & Research Questions"
     ]
    },
    {
     "cell_type": "markdown",
     "metadata": {},
     "source": [
      "Social conflicts\u2014defined to be conflict events including, but not limited to, protests, riots, strikes, inter-communal conflict, and government violence against civilians \u2014are differentiated from full scale intra-state war and mobilized conflict, but this differentiation does not make social conflict events less ubiquitous, disruptive, or dangerous.  First released in March 2011, the Social Conflict in Africa Database (SCAD) was prepared by Cullen Hendrix and Idean Salehyan for the program on Climate Change and African Political Stability (CCAPS) at the Robert S. Strauss Center for International Security and Law at the University of Texas at Austin.  The SCAD provides data on 7957 African social conflict events occurring in 48 countries between 1990 and 2011.  Figure 1 and Table 1, below, attempt to give an overarching overview of the conflicts included in the SCAD and some of the complexities therein."
     ]
    },
    {
     "cell_type": "code",
     "collapsed": false,
     "input": [
      "scad = pd.read_excel('/accounts/grad/mboyas/STAT-222/Raw Datasets/SCAD 3.0/SCAD 3.0 1990-2011.xls', 'SCAD 3.0(2).csv')\n",
      "# Remove all conflicts starting prior to 1990 (see documentation)\n",
      "scad = scad[scad.styr>=1990]\n",
      "\n",
      "# Remove all conflicts that exceed one calendar year to simplify analyses\n",
      "scad = scad[scad.styr == scad.eyr]\n",
      "\n",
      "# Remove all duplicated rows (see documentation re: GIS)\n",
      "scad = scad.drop_duplicates(cols='eventid')"
     ],
     "language": "python",
     "metadata": {},
     "outputs": [],
     "prompt_number": 3
    },
    {
     "cell_type": "code",
     "collapsed": false,
     "input": [
      "# Merge in Polity IV\n",
      "polity = pd.read_excel('/accounts/grad/mboyas/STAT-222/Raw Datasets/Polity IV/p4v2012.xls', 'p4v2012')\n",
      "polity = polity[[\"ccode\", \"country\", \"year\", \"fragment\", \"democ\", \"autoc\", \"polity\", \"polity2\"]]\n",
      "newcols = polity.columns.values\n",
      "newcols[2] = 'styr'\n",
      "polity.columns=newcols\n",
      "scad = pd.merge(scad, polity, on=['ccode', 'styr'], how='left')"
     ],
     "language": "python",
     "metadata": {},
     "outputs": [],
     "prompt_number": 4
    },
    {
     "cell_type": "code",
     "collapsed": false,
     "input": [
      "# Merge in NMC from COW\n",
      "nmc = pd.read_csv('/accounts/grad/mboyas/STAT-222/Raw Datasets/COW/NMC_v4_0.csv', na_values='-9')\n",
      "nmc = nmc[nmc.columns[1:10]]\n",
      "newcols = nmc.columns.values\n",
      "newcols[1] = 'styr'\n",
      "nmc.columns=newcols\n",
      "scad = pd.merge(scad, nmc, on=['ccode', 'styr'], how='left')"
     ],
     "language": "python",
     "metadata": {},
     "outputs": [],
     "prompt_number": 5
    },
    {
     "cell_type": "code",
     "collapsed": false,
     "input": [
      "# Merge in World Religions from COW\n",
      "wrp = pd.read_csv('/accounts/grad/mboyas/STAT-222/Raw Datasets/COW/WRP_national.csv')\n",
      "wrp = wrp[wrp.columns[np.concatenate([np.array([0,1,8,13,21]), np.arange(25,38,1)])]]\n",
      "yearState = wrp[['year', 'state']]\n",
      "wrp = wrp.ix[:,2:]\n",
      "wrp['domRel'] = wrp.idxmax(axis=1)\n",
      "wrp = pd.DataFrame(wrp.domRel)\n",
      "wrp = pd.merge(yearState, wrp, left_index=True, right_index=True)\n",
      "# determine the dominant religion\n",
      "newcols = wrp.columns.values\n",
      "newcols[0] = 'styr'\n",
      "newcols[1] = 'ccode'\n",
      "wrp.columns=newcols\n",
      "wrp = pd.merge(scad[scad.columns[[1,9]]].drop_duplicates(), wrp, on=['ccode', 'styr'], how='left')\n",
      "wrp = wrp.fillna(method='ffill')\n",
      "wrp.domRel = pd.Categorical(wrp.domRel)\n",
      "scad = pd.merge(scad, wrp, on=['ccode', 'styr'], how='left')"
     ],
     "language": "python",
     "metadata": {},
     "outputs": [],
     "prompt_number": 6
    },
    {
     "cell_type": "code",
     "collapsed": false,
     "input": [
      "# Set all INT variables as FLOAT to enable coding as np.nan\n",
      "for i in range(len(scad.columns)):\n",
      "    if scad[scad.columns[i]].dtype == int:\n",
      "        scad[scad.columns[i]] = scad[scad.columns[i]].astype(float)\n",
      "\n",
      "    "
     ],
     "language": "python",
     "metadata": {},
     "outputs": [],
     "prompt_number": 7
    },
    {
     "cell_type": "code",
     "collapsed": false,
     "input": [
      "#Code all dataset missing values as NaN\n",
      "scad.npart[scad.npart == -99] = np.nan\n",
      "scad.npart[scad.npart == -88] = np.nan\n",
      "scad.ndeath[scad.ndeath == -99] = np.nan\n",
      "scad.ndeath[scad.ndeath == -88] = np.nan\n",
      "scad.ndeath[scad.ndeath == -77] = np.nan\n",
      "scad.locnum[scad.locnum == -99] = np.nan\n",
      "scad.issue1[scad.issue1 == 14] = np.nan\n",
      "scad.issue1[scad.issue2 == 14] = np.nan\n",
      "scad.issue1[scad.issue3 == 14] = np.nan\n",
      "scad.fragment[scad.fragment == -66] = np.nan\n",
      "scad.fragment[scad.fragment == -77] = np.nan\n",
      "scad.fragment[scad.fragment == -88] = np.nan\n",
      "scad.democ[scad.democ == -66] = np.nan\n",
      "scad.democ[scad.democ == -77] = np.nan\n",
      "scad.democ[scad.democ == -88] = np.nan \n",
      "scad.autoc[scad.autoc == -66] = np.nan\n",
      "scad.autoc[scad.autoc == -77] = np.nan\n",
      "scad.autoc[scad.autoc == -88] = np.nan\n",
      "scad.polity[scad.polity == -66] = np.nan\n",
      "scad.polity[scad.polity == -77] = np.nan\n",
      "scad.polity[scad.polity == -88] = np.nan\n",
      "scad.polity2[scad.polity2 == -66] = np.nan\n",
      "scad.polity[scad.polity2 == -77] = np.nan\n",
      "scad.polity[scad.polity2 == -88] = np.nan\n",
      "scad.etype[scad.etype == -9] = np.nan"
     ],
     "language": "python",
     "metadata": {},
     "outputs": [],
     "prompt_number": 8
    },
    {
     "cell_type": "code",
     "collapsed": false,
     "input": [
      "#Recode dominant religion as a dummy numeric variable\n",
      "levels = dict([(val, i) for i, val in enumerate(set(scad.domRel))])\n",
      "scad['domRelNum'] = [levels[val] for val in scad.domRel]"
     ],
     "language": "python",
     "metadata": {},
     "outputs": [],
     "prompt_number": 9
    },
    {
     "cell_type": "code",
     "collapsed": false,
     "input": [
      "#Code indicator variable, 0 if no deaths, 1 if at least one death\n",
      "scad['death01']=scad.ndeath\n",
      "scad.death01[scad.death01>0] = 1\n",
      "scad.death01[scad.ndeath == np.nan] = np.nan"
     ],
     "language": "python",
     "metadata": {},
     "outputs": [],
     "prompt_number": 10
    },
    {
     "cell_type": "heading",
     "level": 2,
     "metadata": {},
     "source": [
      "Experimental Grouping Analyses & Correlations"
     ]
    },
    {
     "cell_type": "markdown",
     "metadata": {},
     "source": [
      "There are a lot of missing values in the dataset coded as NaN (in Numpy).  I did not want to delete the majority of my dataset by filtering out any row that has a missing observation; for example, the variable issue3 only has 86 non-missing values out of a total of 7838 rows in the dataset. Thus, I chose to remove the missing values for each level of analysis depending on the variabes that I choose to use.  Note that this decision could cause some plots to have slighly different ranges, but my hope is that these differences do not cause large interpretory issues of my results."
     ]
    },
    {
     "cell_type": "code",
     "collapsed": false,
     "input": [
      "grouped = scad.groupby('death01')\n",
      "grouped.aggregate(np.median)\n",
      "grouped.aggregate(np.mean)"
     ],
     "language": "python",
     "metadata": {},
     "outputs": [
      {
       "html": [
        "<div style=\"max-height:1000px;max-width:1500px;overflow:auto;\">\n",
        "<table border=\"1\" class=\"dataframe\">\n",
        "  <thead>\n",
        "    <tr style=\"text-align: right;\">\n",
        "      <th></th>\n",
        "      <th>eventid</th>\n",
        "      <th>ccode</th>\n",
        "      <th>id</th>\n",
        "      <th>duration</th>\n",
        "      <th>stday</th>\n",
        "      <th>stmo</th>\n",
        "      <th>styr</th>\n",
        "      <th>eday</th>\n",
        "      <th>emo</th>\n",
        "      <th>eyr</th>\n",
        "      <th>etype</th>\n",
        "      <th>escalation</th>\n",
        "      <th>cgovtarget</th>\n",
        "      <th>rgovtarget</th>\n",
        "      <th>npart</th>\n",
        "      <th>ndeath</th>\n",
        "      <th>repress</th>\n",
        "      <th>sublocal</th>\n",
        "      <th>locnum</th>\n",
        "      <th>gislocnum</th>\n",
        "      <th>issue1</th>\n",
        "      <th>issue2</th>\n",
        "      <th>issue3</th>\n",
        "      <th>nsource</th>\n",
        "      <th>ACD_questionable</th>\n",
        "      <th>latitude</th>\n",
        "      <th>longitude</th>\n",
        "      <th>fragment</th>\n",
        "      <th>democ</th>\n",
        "      <th>autoc</th>\n",
        "      <th>polity</th>\n",
        "      <th>polity2</th>\n",
        "      <th>irst</th>\n",
        "      <th>milex</th>\n",
        "      <th>milper</th>\n",
        "      <th>pec</th>\n",
        "      <th>tpop</th>\n",
        "      <th>upop</th>\n",
        "      <th>cinc</th>\n",
        "      <th>domRelNum</th>\n",
        "    </tr>\n",
        "    <tr>\n",
        "      <th>death01</th>\n",
        "      <th></th>\n",
        "      <th></th>\n",
        "      <th></th>\n",
        "      <th></th>\n",
        "      <th></th>\n",
        "      <th></th>\n",
        "      <th></th>\n",
        "      <th></th>\n",
        "      <th></th>\n",
        "      <th></th>\n",
        "      <th></th>\n",
        "      <th></th>\n",
        "      <th></th>\n",
        "      <th></th>\n",
        "      <th></th>\n",
        "      <th></th>\n",
        "      <th></th>\n",
        "      <th></th>\n",
        "      <th></th>\n",
        "      <th></th>\n",
        "      <th></th>\n",
        "      <th></th>\n",
        "      <th></th>\n",
        "      <th></th>\n",
        "      <th></th>\n",
        "      <th></th>\n",
        "      <th></th>\n",
        "      <th></th>\n",
        "      <th></th>\n",
        "      <th></th>\n",
        "      <th></th>\n",
        "      <th></th>\n",
        "      <th></th>\n",
        "      <th></th>\n",
        "      <th></th>\n",
        "      <th></th>\n",
        "      <th></th>\n",
        "      <th></th>\n",
        "      <th></th>\n",
        "      <th></th>\n",
        "    </tr>\n",
        "  </thead>\n",
        "  <tbody>\n",
        "    <tr>\n",
        "      <th>0</th>\n",
        "      <td> 5237366.559140</td>\n",
        "      <td> 523.717535</td>\n",
        "      <td> 191.207610</td>\n",
        "      <td> 4.871588</td>\n",
        "      <td> 15.221257</td>\n",
        "      <td> 6.305418</td>\n",
        "      <td> 2001.997932</td>\n",
        "      <td> 16.080852</td>\n",
        "      <td> 6.404467</td>\n",
        "      <td> 2001.997932</td>\n",
        "      <td> 3.804177</td>\n",
        "      <td> 0.330645</td>\n",
        "      <td> 0.577957</td>\n",
        "      <td> 0.051489</td>\n",
        "      <td> 3.415624</td>\n",
        "      <td>  0.000000</td>\n",
        "      <td> 0.246691</td>\n",
        "      <td> 1.033912</td>\n",
        "      <td> 2.725225</td>\n",
        "      <td>-0.929901</td>\n",
        "      <td> 6.656783</td>\n",
        "      <td> 6.383707</td>\n",
        "      <td> 8.844444</td>\n",
        "      <td> 0.436725</td>\n",
        "      <td> 0.007444</td>\n",
        "      <td> 2.850657</td>\n",
        "      <td> 17.049998</td>\n",
        "      <td> 0.266167</td>\n",
        "      <td> 3.113037</td>\n",
        "      <td> 2.73023</td>\n",
        "      <td> 0.382807</td>\n",
        "      <td> 0.440979</td>\n",
        "      <td> 1286.445935</td>\n",
        "      <td>  914651.891509</td>\n",
        "      <td> 69.761247</td>\n",
        "      <td> 69726.417113</td>\n",
        "      <td> 34607.410926</td>\n",
        "      <td> 7629.150699</td>\n",
        "      <td> 0.003086</td>\n",
        "      <td> 1.064516</td>\n",
        "    </tr>\n",
        "    <tr>\n",
        "      <th>1</th>\n",
        "      <td> 5162870.017782</td>\n",
        "      <td> 516.261158</td>\n",
        "      <td> 258.441771</td>\n",
        "      <td> 4.628661</td>\n",
        "      <td> 15.122385</td>\n",
        "      <td> 6.251743</td>\n",
        "      <td> 2001.798466</td>\n",
        "      <td> 15.564854</td>\n",
        "      <td> 6.356695</td>\n",
        "      <td> 2001.798466</td>\n",
        "      <td> 6.616109</td>\n",
        "      <td> 0.516039</td>\n",
        "      <td> 0.277545</td>\n",
        "      <td> 0.064854</td>\n",
        "      <td> 2.967298</td>\n",
        "      <td> 30.811715</td>\n",
        "      <td> 0.489191</td>\n",
        "      <td> 1.070084</td>\n",
        "      <td> 3.395292</td>\n",
        "      <td> 2.630056</td>\n",
        "      <td> 7.523339</td>\n",
        "      <td> 7.543524</td>\n",
        "      <td> 6.641026</td>\n",
        "      <td> 0.520572</td>\n",
        "      <td> 0.043584</td>\n",
        "      <td> 1.039060</td>\n",
        "      <td> 21.869196</td>\n",
        "      <td> 0.648680</td>\n",
        "      <td> 3.789972</td>\n",
        "      <td> 2.05298</td>\n",
        "      <td> 1.736991</td>\n",
        "      <td> 1.591363</td>\n",
        "      <td> 1744.512457</td>\n",
        "      <td> 1035289.580565</td>\n",
        "      <td> 67.626248</td>\n",
        "      <td> 78352.929633</td>\n",
        "      <td> 42194.788961</td>\n",
        "      <td> 8831.501391</td>\n",
        "      <td> 0.003646</td>\n",
        "      <td> 1.002789</td>\n",
        "    </tr>\n",
        "  </tbody>\n",
        "</table>\n",
        "</div>"
       ],
       "metadata": {},
       "output_type": "pyout",
       "prompt_number": 11,
       "text": [
        "                eventid       ccode          id  duration      stday  \\\n",
        "death01                                                                \n",
        "0        5237366.559140  523.717535  191.207610  4.871588  15.221257   \n",
        "1        5162870.017782  516.261158  258.441771  4.628661  15.122385   \n",
        "\n",
        "             stmo         styr       eday       emo          eyr     etype  \\\n",
        "death01                                                                      \n",
        "0        6.305418  2001.997932  16.080852  6.404467  2001.997932  3.804177   \n",
        "1        6.251743  2001.798466  15.564854  6.356695  2001.798466  6.616109   \n",
        "\n",
        "         escalation  cgovtarget  rgovtarget     npart     ndeath   repress  \\\n",
        "death01                                                                      \n",
        "0          0.330645    0.577957    0.051489  3.415624   0.000000  0.246691   \n",
        "1          0.516039    0.277545    0.064854  2.967298  30.811715  0.489191   \n",
        "\n",
        "         sublocal    locnum  gislocnum    issue1    issue2    issue3  \\\n",
        "death01                                                                \n",
        "0        1.033912  2.725225  -0.929901  6.656783  6.383707  8.844444   \n",
        "1        1.070084  3.395292   2.630056  7.523339  7.543524  6.641026   \n",
        "\n",
        "          nsource  ACD_questionable  latitude  longitude  fragment     democ  \\\n",
        "death01                                                                        \n",
        "0        0.436725          0.007444  2.850657  17.049998  0.266167  3.113037   \n",
        "1        0.520572          0.043584  1.039060  21.869196  0.648680  3.789972   \n",
        "\n",
        "           autoc    polity   polity2         irst           milex     milper  \\\n",
        "death01                                                                        \n",
        "0        2.73023  0.382807  0.440979  1286.445935   914651.891509  69.761247   \n",
        "1        2.05298  1.736991  1.591363  1744.512457  1035289.580565  67.626248   \n",
        "\n",
        "                  pec          tpop         upop      cinc  domRelNum  \n",
        "death01                                                                \n",
        "0        69726.417113  34607.410926  7629.150699  0.003086   1.064516  \n",
        "1        78352.929633  42194.788961  8831.501391  0.003646   1.002789  "
       ]
      }
     ],
     "prompt_number": 11
    },
    {
     "cell_type": "code",
     "collapsed": false,
     "input": [
      "#T Tests\n",
      "#Run a series of unequal variance, two-sample T-Tests across the binary death01 variable to get a feel for what might be significant\n",
      "#Note, though, that the sample size is large (7838), so many tests could be significant simply due to large n\n",
      "death = scad[scad.death01==1]\n",
      "noDeath = scad[scad.death01==0]\n",
      "\n",
      "tests = ['duration', 'etype', 'escalation', 'cgovtarget', 'rgovtarget', 'npart', 'issue1', 'issue2', 'issue3', 'nsource', 'polity', 'polity2', 'domRelNum']\n",
      "for val in tests:\n",
      "    print val\n",
      "    print sp.stats.ttest_ind(death[val][~np.isnan(death[val])], noDeath[val][~np.isnan(noDeath[val])], equal_var=False)\n",
      "    \n"
     ],
     "language": "python",
     "metadata": {},
     "outputs": [
      {
       "output_type": "stream",
       "stream": "stdout",
       "text": [
        "duration\n",
        "(array(-0.6191845920484388), 0.53582363662933341)\n",
        "etype\n",
        "(array(45.25647926762926), 0.0)\n",
        "escalation\n",
        "(array(5.501096413280938), 3.9758488353637421e-08)\n",
        "cgovtarget\n",
        "(array(-27.37948468667773), 2.7444336572226109e-156)\n",
        "rgovtarget\n",
        "(array(2.3905804113531386), 0.016855122166157831)\n",
        "npart\n",
        "(array(-7.712361475803531), 3.827789900366002e-14)\n",
        "issue1\n",
        "(array(8.987688769843748), 3.4456273733061221e-19)\n",
        "issue2\n",
        "(array(5.826617939496881), 7.590613069373708e-09)\n",
        "issue3\n",
        "(array(-3.4257606454584377), 0.0010949932512394106)\n",
        "nsource\n",
        "(array(7.139369574626679), 1.0488298097688245e-12)\n",
        "polity\n",
        "(array(9.756527174433069), 2.8855726574799853e-22)\n",
        "polity2\n",
        "(array(9.988017092316245), 2.5525560969023723e-23)\n",
        "domRelNum\n",
        "(array(-2.5464491709369006), 0.010906674426839512)\n"
       ]
      }
     ],
     "prompt_number": 12
    },
    {
     "cell_type": "code",
     "collapsed": false,
     "input": [
      "#Run some preliminary experimental correlations\n",
      "scad.ndeath.corr(scad.escalation)"
     ],
     "language": "python",
     "metadata": {},
     "outputs": [
      {
       "metadata": {},
       "output_type": "pyout",
       "prompt_number": 13,
       "text": [
        "0.023542145277172289"
       ]
      }
     ],
     "prompt_number": 13
    },
    {
     "cell_type": "code",
     "collapsed": false,
     "input": [
      "scad.ndeath.corr(scad.etype)"
     ],
     "language": "python",
     "metadata": {},
     "outputs": [
      {
       "metadata": {},
       "output_type": "pyout",
       "prompt_number": 14,
       "text": [
        "0.076513997138151713"
       ]
      }
     ],
     "prompt_number": 14
    },
    {
     "cell_type": "code",
     "collapsed": false,
     "input": [
      "scad.ndeath.corr(scad.duration)"
     ],
     "language": "python",
     "metadata": {},
     "outputs": [
      {
       "metadata": {},
       "output_type": "pyout",
       "prompt_number": 15,
       "text": [
        "0.21327331547766268"
       ]
      }
     ],
     "prompt_number": 15
    },
    {
     "cell_type": "code",
     "collapsed": false,
     "input": [
      "3tscad.ndeath.corr(scad.domRelNum)"
     ],
     "language": "python",
     "metadata": {},
     "outputs": [
      {
       "ename": "SyntaxError",
       "evalue": "invalid syntax (<ipython-input-16-16cc80a86271>, line 1)",
       "output_type": "pyerr",
       "traceback": [
        "\u001b[1;36m  File \u001b[1;32m\"<ipython-input-16-16cc80a86271>\"\u001b[1;36m, line \u001b[1;32m1\u001b[0m\n\u001b[1;33m    3tscad.ndeath.corr(scad.domRelNum)\u001b[0m\n\u001b[1;37m         ^\u001b[0m\n\u001b[1;31mSyntaxError\u001b[0m\u001b[1;31m:\u001b[0m invalid syntax\n"
       ]
      }
     ],
     "prompt_number": 16
    },
    {
     "cell_type": "code",
     "collapsed": false,
     "input": [
      "scad.ndeath.corr(scad.issue1)"
     ],
     "language": "python",
     "metadata": {},
     "outputs": [
      {
       "metadata": {},
       "output_type": "pyout",
       "prompt_number": 17,
       "text": [
        "-0.0012071784818209227"
       ]
      }
     ],
     "prompt_number": 17
    },
    {
     "cell_type": "heading",
     "level": 2,
     "metadata": {},
     "source": [
      "Descriptive Plots and Tables"
     ]
    },
    {
     "cell_type": "code",
     "collapsed": false,
     "input": [
      "grouped = scad.groupby('styr')\n",
      "totals = grouped.death01.aggregate(len)\n",
      "deaths = grouped.death01.aggregate(np.nansum)\n",
      "deaths[np.isnan(deaths)]=0\n",
      "nodeaths = totals - deaths\n",
      "years = np.arange(1990, 2012, 1)\n",
      "\n",
      "fig = figure(figsize=(12,6), dpi=300)\n",
      "ax = plt.subplot(111)\n",
      "width=0.5\n",
      "p1 = ax.bar(years, nodeaths, width, color='b', align='center')\n",
      "p2 = ax.bar(years, deaths, width, color='r', align='center')\n",
      "axesToLose = ['top', 'right']\n",
      "for axis in axesToLose:\n",
      "    ax.spines[axis].set_visible(False)\n",
      "    \n",
      "ax.xaxis.set_ticks_position('none')\n",
      "ax.yaxis.set_ticks_position('left')\n",
      "    \n",
      "legend = ax.legend( (p1[0], p2[0]), ('No Deaths', 'Deaths'), loc=2, prop={'size':12})\n",
      "legend.get_frame().set_linewidth(0.0)\n",
      "\n",
      "ax.set_ylabel('Total Number of Conflict Events', fontsize=12)\n",
      "ylabs = ['' for x in range(0, 9, 1) ]\n",
      "for i in range(0, 9, 1):\n",
      "    ylabs[i] = str(range(0, 450, 50)[i])\n",
      "    \n",
      "ax.set_yticklabels(ylabs, fontsize=8)\n",
      "\n",
      "ax.set_xlabel('Start Year of Conflict', fontsize=12)\n",
      "ax.set_xlim((1989, 2012))\n",
      "\n",
      "ax.set_xticks(years)\n",
      "ax.set_xticklabels(years, rotation=70, fontsize=8)\n",
      "plt.subplots_adjust(bottom=0.11, left=0.09, right=0.99, top=0.93)\n",
      "\n",
      "ax.set_title('Figure 1: Number of Death and No Death Conflicts by Year \\n', fontsize=15)\n",
      "\n",
      "plt.show()\n",
      "\n",
      "display(HTML(\"<left>\" + \"<font size=2>\" + 'Figure 1 is a split bar-chart, with one bar per year, visually showing the number of conflicts resulting in deaths relative to the total number of conflicts per year. Each bar represents all conflicts in the specified year and is split into two pieces, one piece for conflicts resulting in deaths and one piece for conflicts resulting in no deaths.  Note that with the exception of the spike in death conflicts in 2011 (most likely attributable to the Arab Spring), the number of conflicts result in deaths remain somewhat constant across the years of analysis.  Additionally, the number of conflicts resulting in no-deaths show a somewhat increasing trend as more governments democratize following the political revolutions of the 20th Century until the late 2000s.' + \"</font>\" + \"</left>\"))"
     ],
     "language": "python",
     "metadata": {},
     "outputs": [
      {
       "metadata": {},
       "output_type": "display_data",
       "png": "[encoded data removed]",
       "text": [
        "<matplotlib.figure.Figure at 0x51a3710>"
       ]
      },
      {
       "html": [
        "<left><font size=2>Figure 1 is a split bar-chart, with one bar per year, visually showing the number of conflicts resulting in deaths relative to the total number of conflicts per year. Each bar represents all conflicts in the specified year and is split into two pieces, one piece for conflicts resulting in deaths and one piece for conflicts resulting in no deaths.  Note that with the exception of the spike in death conflicts in 2011 (most likely attributable to the Arab Spring), the number of conflicts result in deaths remain somewhat constant across the years of analysis.  Additionally, the number of conflicts resulting in no-deaths show a somewhat increasing trend as more governments democratize following the political revolutions of the 20th Century until the late 2000s.</font></left>"
       ],
       "metadata": {},
       "output_type": "display_data",
       "text": [
        "<IPython.core.display.HTML at 0x51a3a90>"
       ]
      }
     ],
     "prompt_number": 18
    },
    {
     "cell_type": "code",
     "collapsed": false,
     "input": [
      "#top 10 most violent conflicts table\n",
      "noNan = scad[~np.isnan(scad.ndeath)]\n",
      "top10 = noNan.sort(column='ndeath', ascending=False)[0:10]\n",
      "top10 = top10[['ndeath', 'countryname', 'startdate', 'enddate', 'duration']]\n",
      "top10.index = range(1,11,1)\n",
      "top10.startdate = top10['startdate'].map(lambda x:str(x)[:10])\n",
      "top10.enddate = top10['enddate'].map(lambda x:str(x)[:10])\n",
      "top10.columns = ['Deaths', 'Country', 'Start', 'End', 'Duration (days)']\n",
      "space = '&nbsp;'\n",
      "display(HTML(\"<center>\" + \"<font size=3>\" + 'Table 1: Top 10 Most Violent Conflicts' + \"</font>\" + \"</center>\"))\n",
      "display(HTML(\"<center>\" + top10.to_html()+ \"</center>\" ))\n",
      "display(HTML(\"<left>\" + \"<font size=2>\" + 'Table 1 lists the top 10 most violent conflicts in terms of absolute deaths.  Note the variation even amongst these 10 records: 6 different countries, 10 different years, 7 different months, and durations ranging from one day to almost 8 months.  There does not seem to be a unique profile that identifies a high-mortality conflict, which could create issues during the modeling phase of this project.' + \"</font>\" + \"</left>\"))"
     ],
     "language": "python",
     "metadata": {},
     "outputs": [
      {
       "html": [
        "<center><font size=3>Table 1: Top 10 Most Violent Conflicts</font></center>"
       ],
       "metadata": {},
       "output_type": "display_data",
       "text": [
        "<IPython.core.display.HTML at 0x4127e90>"
       ]
      },
      {
       "html": [
        "<center><table border=\"1\" class=\"dataframe\">\n",
        "  <thead>\n",
        "    <tr style=\"text-align: right;\">\n",
        "      <th></th>\n",
        "      <th>Deaths</th>\n",
        "      <th>Country</th>\n",
        "      <th>Start</th>\n",
        "      <th>End</th>\n",
        "      <th>Duration (days)</th>\n",
        "    </tr>\n",
        "  </thead>\n",
        "  <tbody>\n",
        "    <tr>\n",
        "      <th>1 </th>\n",
        "      <td> 5000</td>\n",
        "      <td> Democratic Republic of the Congo</td>\n",
        "      <td> 1999-09-01</td>\n",
        "      <td> 1999-12-31</td>\n",
        "      <td> 122</td>\n",
        "    </tr>\n",
        "    <tr>\n",
        "      <th>2 </th>\n",
        "      <td> 3500</td>\n",
        "      <td> Democratic Republic of the Congo</td>\n",
        "      <td> 1993-03-20</td>\n",
        "      <td> 1993-08-31</td>\n",
        "      <td> 165</td>\n",
        "    </tr>\n",
        "    <tr>\n",
        "      <th>3 </th>\n",
        "      <td> 3000</td>\n",
        "      <td>                            Ghana</td>\n",
        "      <td> 1994-02-04</td>\n",
        "      <td> 1994-02-14</td>\n",
        "      <td>  11</td>\n",
        "    </tr>\n",
        "    <tr>\n",
        "      <th>4 </th>\n",
        "      <td> 3000</td>\n",
        "      <td>                          Nigeria</td>\n",
        "      <td> 1998-01-27</td>\n",
        "      <td> 1998-09-15</td>\n",
        "      <td> 232</td>\n",
        "    </tr>\n",
        "    <tr>\n",
        "      <th>5 </th>\n",
        "      <td> 2000</td>\n",
        "      <td>                           Rwanda</td>\n",
        "      <td> 1995-04-24</td>\n",
        "      <td> 1995-04-24</td>\n",
        "      <td>   1</td>\n",
        "    </tr>\n",
        "    <tr>\n",
        "      <th>6 </th>\n",
        "      <td> 1800</td>\n",
        "      <td>                          Nigeria</td>\n",
        "      <td> 1992-05-15</td>\n",
        "      <td> 1992-05-20</td>\n",
        "      <td>   6</td>\n",
        "    </tr>\n",
        "    <tr>\n",
        "      <th>7 </th>\n",
        "      <td> 1500</td>\n",
        "      <td> Democratic Republic of the Congo</td>\n",
        "      <td> 2009-03-30</td>\n",
        "      <td> 2009-06-30</td>\n",
        "      <td>  93</td>\n",
        "    </tr>\n",
        "    <tr>\n",
        "      <th>8 </th>\n",
        "      <td> 1500</td>\n",
        "      <td>                          Liberia</td>\n",
        "      <td> 1996-04-06</td>\n",
        "      <td> 1996-05-27</td>\n",
        "      <td>  52</td>\n",
        "    </tr>\n",
        "    <tr>\n",
        "      <th>9 </th>\n",
        "      <td> 1400</td>\n",
        "      <td> Democratic Republic of the Congo</td>\n",
        "      <td> 2002-04-30</td>\n",
        "      <td> 2002-06-11</td>\n",
        "      <td>  43</td>\n",
        "    </tr>\n",
        "    <tr>\n",
        "      <th>10</th>\n",
        "      <td> 1132</td>\n",
        "      <td>                     South Africa</td>\n",
        "      <td> 1990-08-12</td>\n",
        "      <td> 1990-10-01</td>\n",
        "      <td>  51</td>\n",
        "    </tr>\n",
        "  </tbody>\n",
        "</table></center>"
       ],
       "metadata": {},
       "output_type": "display_data",
       "text": [
        "<IPython.core.display.HTML at 0x4127dd0>"
       ]
      },
      {
       "html": [
        "<left><font size=2>Table 1 lists the top 10 most violent conflicts in terms of absolute deaths.  Note the variation even amongst these 10 records: 6 different countries, 10 different years, 7 different months, and durations ranging from one day to almost 8 months.  There does not seem to be a unique profile that identifies a high-mortality conflict, which could create issues during the modeling phase of this project.</font></left>"
       ],
       "metadata": {},
       "output_type": "display_data",
       "text": [
        "<IPython.core.display.HTML at 0x4127e90>"
       ]
      }
     ],
     "prompt_number": 42
    },
    {
     "cell_type": "markdown",
     "metadata": {},
     "source": [
      "Secondary datasets are merged into the SCAD to add more information about country demographics; these datasets include the World Religions (WRP) and National Material Capabilities (NMC) datasets from the Correlates of War Project and the national freedom scores from the Polity IV Project.  All datasets used in this project are available for direct download from the websites listed at the end of this paper and in local cached form from the project\u2019s GitHub account."
     ]
    },
    {
     "cell_type": "markdown",
     "metadata": {},
     "source": [
      "Secondary datasets are merged into the SCAD to add more information about country demographics; these datasets include the World Religions (WRP) and National Material Capabilities (NMC) datasets from the Correlates of War Project and the national freedom scores from the Polity IV Project.  All datasets used in this project are available for direct download from the websites listed at the end of this paper and in local cached form from the project\u2019s GitHub account.\n",
      "\n",
      "1. What differentiates an episode of social conflict that results in deaths from an episode of social conflict that does not result in deaths?\n",
      "\n",
      "2.\t Is there a way to predict the number of deaths that will result from an episode of social conflict?\n"
     ]
    },
    {
     "cell_type": "heading",
     "level": 2,
     "metadata": {},
     "source": [
      "2. Who Cares?  Possible Impacts Of This Study"
     ]
    },
    {
     "cell_type": "markdown",
     "metadata": {},
     "source": [
      "Burdened with colonization until the mid 20th Century followed by, in many cases, a transition to independence hijacked by dictatorial rule, African countries are still embroiled in a transition from colonial rule to true independent, democratic governance (SOURCE).  As such, there is a relatively wide body of literature discussing African social conflict in the context of an overall process of political regime change; however, the body of literature on African conflict as a unique entity is almost nonexistent (Scherrer 4). \n",
      "\n",
      "Nevertheless, there is a somewhat substantial theoretical and case study based literature about social conflict in general, not necessarily relating to the African continent.  Scholarship in this category does not agree on a concise set of factors resulting in the escalation of social conflict events.  Some researchers such as peace scholar Christian Scherrer and anthropologist Jay O\u2019Brian use ethnic and/or religious identity to explain differences in conflict severity, citing the claim, \u201cFew of the nation-states created by Europe in Africa bore any relationship to any [natural ethnic or religious divides]\u201d (O\u2019Brian 63).   On the contrary, geographer Adrian P. Wood argues, \u201cShortages of natural resources lead to competition which may result in conflict\u201d (83).  In yet another contrary argument, sociologist Ralf Dahrendorf identifies economic disparities across a country\u2019s social classes as a potentially major factor, and economist Massimo De Angelis expounds on this idea by giving an example from the United States: \u201cThe Great Depression, with its historically high levels of unemployment, did not make the American working class more docile.  On the contrary, it sparked open insurrection: \u2018Don\u2019t starve\u2014fight!\u2019 was one slogan\u201d (Dahrendorf 52; De Angelis 51).   As sociologist Nigel Fielding writes, conflicts can be attributed to any, some, or all of \u201cclass, ethnicity, gender and sexual politics, region, nation, employment status, age, and ideology\u201d (5).  There is no consensus on how to explain conflict.\n",
      "\n",
      "Since the release of the SCAD dataset in 2011, a handful of quantitative studies specifically focusing on African conflicts have been published using the SCAD as a primary source.  These quantitative studies, like the earlier-referenced literature, identify a variety of factors influencing conflict escalation ranging from climate change to food price spikes to the occurrence of elections (Devlin, Franck, & Hendrix; Smith; Salehyan & Linebarger).   However, data on external variables such as weather patterns, food prices, and election schedules are not part of the SCAD, and a unifying theme amongst these studies is a lack of reproducibility.  Most of the papers are published without code and, in many cases, without links to specific datasets used for analysis, making it impossible to further investigate their results in a study such as this.  Therefore, a reproducibly transparent quantitative exploration of the factors that precede the escalation of African social conflict events would most likely be a welcome addition to the academic debate.\n"
     ]
    },
    {
     "cell_type": "heading",
     "level": 2,
     "metadata": {},
     "source": [
      "3. Data Cleaning & Manipulation"
     ]
    },
    {
     "cell_type": "markdown",
     "metadata": {},
     "source": [
      "All conflicts in the SCAD dataset are included in this study, with the exception of 119 conflicts that do not start and end in the same calendar year.  Such conflicts were excluded from the analysis due to the complexities of merging secondary data sources delineated by calendar year onto multiyear conflicts; these multiyear conflicts represent under 1.5% of the entire dataset, so removing them from the study should have a relatively minor effect on the analyses.  The NMC and Polity IV datasets provide information on a country per year level of specification, and variables such as democracy scores, iron production, and total country population were directly merged into the SCAD with little manipulation.  The World Religion dataset measures the number of people who subscribe to a specific religion at five-year intervals for every country.  Consequently, I computed the dominant religion in every county per five years, forward filled the data to create country-year measurements, and merged onto SCAD.  The rest of the variables were used with little manipulation, except for the creation of a death/no death indicator."
     ]
    },
    {
     "cell_type": "heading",
     "level": 2,
     "metadata": {},
     "source": [
      "4. Methods & Results"
     ]
    },
    {
     "cell_type": "markdown",
     "metadata": {},
     "source": [
      "The work described here approaches the two research questions sequentially, first conducting a broad descriptive analysis of a variety of factors that could potentially influence a conflict\u2019s number of deaths.  Then I proceed to the modeling phase of the project, breaking the modeling task into two subtasks: first I will attempt to model the death/no death indicator variable, and then I will use the results of that previous modeling effort and attempt to model the actual number of deaths.\n",
      "\n",
      "Before investigating any of the research questions, let\u2019s first attempt to get a sense for the distribution of the Figure 2, below, shows that there are many more no death conflicts than conflicts resulting in at least one death, but the difference is not so large as to create a sample size too small to adequately model in later phases of the project.  The plot on the right, showing the actual number of deaths, reveals more potential issues: the distribution of deaths is extremely zero-inflated and overdispersed.  The distribution of the data is not, for lack of a better term, very \u2018nice,\u2019 which could pose some problems later in the process."
     ]
    },
    {
     "cell_type": "code",
     "collapsed": false,
     "input": [
      "noNan = scad.ndeath[~np.isnan(scad.ndeath)]\n",
      "counts = col.Counter(noNan)\n",
      "bins = np.arange(0, 10, 1)\n",
      "freqs = [0]*len(counts)\n",
      "j=0\n",
      "for i in np.unique(counts):\n",
      "    freqs[j] = counts[i]\n",
      "    j = j+1\n",
      " \n",
      "freqs = np.array(freqs)\n",
      "histFreqs = [0]*10\n",
      "c = unique(counts)\n",
      "histFreqs[0] = freqs[c==0]\n",
      "histFreqs[1] = freqs[c==1]\n",
      "histFreqs[2] = freqs[c==2]\n",
      "histFreqs[3] = freqs[c==3]\n",
      "histFreqs[4] = freqs[c==4]\n",
      "histFreqs[5] = np.sum(freqs[(c>=5) & (c<=10)])\n",
      "histFreqs[6] = np.sum(freqs[(c>=11) & (c<=50)])\n",
      "histFreqs[7] = np.sum(freqs[(c>=51) & (c<=100)])\n",
      "histFreqs[8] = np.sum(freqs[(c>=101) & (c<=200)])\n",
      "histFreqs[9] = np.sum(freqs[(c>=201) & (c<=5000)])\n",
      "\n",
      "fig = figure(figsize=(12,6), dpi=300)\n",
      "ax = plt.subplot2grid((1,7), (0,2), colspan=5)\n",
      "width=0.5\n",
      "p1 = ax.bar(bins[0], histFreqs[0], color='b', align='center')\n",
      "p2 = ax.bar(bins[1:], histFreqs[1:], color='r', align='center')\n",
      "\n",
      "axesToLose = ['top', 'right']\n",
      "for axis in axesToLose:\n",
      "    ax.spines[axis].set_visible(False)\n",
      "    \n",
      "ax.xaxis.set_ticks_position('none')\n",
      "ax.yaxis.set_ticks_position('left')\n",
      "    \n",
      "legend = ax.legend( (p1[0], p2[0]), ('No Deaths', 'Deaths'), loc=1, prop={'size':12})\n",
      "legend.get_frame().set_linewidth(0.0)\n",
      "\n",
      "ylabs = ['' for x in range(0, 6, 1) ]\n",
      "for i in range(0, 6, 1):\n",
      "    ylabs[i] = str(range(0, 6000, 1000)[i])\n",
      "    \n",
      "ax.set_yticklabels(ylabs, fontsize=8)\n",
      "    \n",
      "xlabs = ['' for x in range(0, 13, 1) ]\n",
      "\n",
      "ax.set_xticks(bins)\n",
      "xlabs = ['0',' 1',' 2',' 3', '4', ' 5-10',' 11-50',' 51-100',' 101-200',' 201-5000']\n",
      "ax.set_xticklabels(xlabs, fontsize=8, rotation=70)\n",
      "ax.set_xlim((-1, 10))\n",
      "\n",
      "ax2 = plt.subplot2grid((1,7), (0, 0))\n",
      "p3 = ax2.bar(1, histFreqs[0], color='b', align='center', width=0.5)\n",
      "p4 = ax2.bar(1.7, np.sum(histFreqs[1:]), color='r', align='center', width=0.5)\n",
      "\n",
      "axesToLose = ['top', 'right']\n",
      "for axis in axesToLose:\n",
      "    ax2.spines[axis].set_visible(False)\n",
      "    \n",
      "ax2.xaxis.set_ticks_position('none')\n",
      "ax2.yaxis.set_ticks_position('left')\n",
      "ax2.set_ylabel('Frequency', fontsize=12)\n",
      "\n",
      "ax2.set_yticklabels(ylabs, fontsize=8)\n",
      "ax2.set_xlim((0.5, 2.2))\n",
      "ax2.set_xticks((1, 1.7))\n",
      "ax2.set_xticklabels(['0', '1-5000'], fontsize=8, rotation=70)\n",
      "\n",
      "\n",
      "fig.suptitle('Figure 2: Distribution of the Number of Deaths \\n', fontsize=15)\n",
      "fig.text(0.35,-0.1,'Number of Deaths', fontsize=12)\n",
      "plt.show()\n",
      "display(HTML(\"<left>\" + \"<font size=2>\" + 'Figure 2 is a set of two bar charts intended to show the frequencies of the number of deaths in all of the African social conflicts from 1990&ndash;2011.  The left plot shows the number of conflicts that resulted in no deaths and at least one death. The right plot shows the same frequency bar for no death conflicts but bins the conflicts resulting in at least one death.  Note the extreme overdispersion and zero-inflation on this more detailed plot; while there are over 2000 conflicts resulting in at least one death, the actual number of deaths ranges from one death to 5000 deaths.  This zero-inflated, overdispersed distribution of the actual number of deaths could be a problem for the modeling effort.' + \"</font>\" + \"</left>\"))"
     ],
     "language": "python",
     "metadata": {},
     "outputs": [
      {
       "metadata": {},
       "output_type": "display_data",
       "png": "[encoded data removed]",
       "text": [
        "<matplotlib.figure.Figure at 0x6879790>"
       ]
      },
      {
       "html": [
        "<left><font size=2>Figure 2 is a set of two bar charts intended to show the frequencies of the number of deaths in all of the African social conflicts from 1990&ndash;2011.  The left plot shows the number of conflicts that resulted in no deaths and at least one death. The right plot shows the same frequency bar for no death conflicts but bins the conflicts resulting in at least one death.  Note the extreme overdispersion and zero-inflation on this more detailed plot; while there are over 2000 conflicts resulting in at least one death, the actual number of deaths ranges from one death to 5000 deaths.  This zero-inflated, overdispersed distribution of the actual number of deaths could be a problem for the modeling effort.</font></left>"
       ],
       "metadata": {},
       "output_type": "display_data",
       "text": [
        "<IPython.core.display.HTML at 0x5198a50>"
       ]
      }
     ],
     "prompt_number": 39
    },
    {
     "cell_type": "heading",
     "level": 3,
     "metadata": {},
     "source": [
      "4.1 Differences Between Death and No Death Conflicts"
     ]
    },
    {
     "cell_type": "markdown",
     "metadata": {},
     "source": [
      "Now that we have a good idea of the overall distribution of the data, let\u2019s do some exploratory analyses across some of the variables included in the literature to see if changes in a certain factor might show a difference in occurrence of a death.  First analyze magnitude variables such as duration of the conflict and the number of participants; one might hypothesize that the larger a conflict in duration or in participants, the more possibilities for a death.  Figures 3 and 4, below, show that this intuition is, in fact, not supported by the data.  "
     ]
    },
    {
     "cell_type": "code",
     "collapsed": false,
     "input": [
      "noNan = scad[['ndeath', 'npart']]\n",
      "noNan = noNan[~np.isnan(noNan).any(1)]\n",
      "noNan = noNan[noNan.npart!=0]\n",
      "\n",
      "jitter = 0.05\n",
      "jittered = [x + np.random.uniform(-jitter, jitter) for x in noNan.npart]\n",
      "\n",
      "fig = figure(figsize=(12,6), dpi=300)\n",
      "ax = plt.subplot(111)\n",
      "width=0.5\n",
      "p1 = ax.scatter(jittered, noNan.ndeath, color='black', alpha=0.2)\n",
      "\n",
      "axesToLose = ['top', 'right']\n",
      "for axis in axesToLose:\n",
      "    ax.spines[axis].set_visible(False)\n",
      "    \n",
      "ax.xaxis.set_ticks_position('none')\n",
      "ax.yaxis.set_ticks_position('left')\n",
      "\n",
      "ax.set_ylabel('Number of Deaths', fontsize=12)\n",
      "ylabs = ['' for x in range(-1, 9, 1) ]\n",
      "for i in range(0, 10, 1):\n",
      "    ylabs[i] = str(range(-100, 900, 100)[i])\n",
      "    \n",
      "ax.set_yticklabels(ylabs, fontsize=8)\n",
      "    \n",
      "ax.set_xlabel('Number of Participants', fontsize=12)\n",
      "xlabs = ['' for x in range(1, 8, 1) ]\n",
      "xlabs[0]='less than 10'\n",
      "xlabs[1]='10-100'\n",
      "xlabs[2]='101-1000'\n",
      "xlabs[3]='1001-10000'\n",
      "xlabs[4]='10001-100000'\n",
      "xlabs[5]='100001-1000000'\n",
      "xlabs[6]='over 1000000'\n",
      "\n",
      "ax.set_xticks(range(1, 8, 1))\n",
      "ax.set_xticklabels(xlabs, fontsize=8, rotation=70)\n",
      "ax.set_xlim((0, 8))\n",
      "\n",
      "ax.set_title('Figure 3: Deaths by Conflict Size \\n', fontsize=15)\n",
      "\n",
      "plt.show()\n",
      "\n",
      "display(HTML(\"<left>\" + \"<font size=2>\" + 'Figure 3 is a scatterplot showing the number of participants (binned by the original coders of the SCAD dataset) vs. the continuous variable number of deaths.  The points are translucent and jittered slightly to try to show the density.  It was expected that the plot should show an increasing relationship between participants and number of deaths, simply based on the idea that a conflict involving more people has higher odds to result in a death.  The plot does not necessarily show this relationship, though the normal-esque relationship is probably an artifact of the dataset having significantly more observations in the center than at the tails of the number of participants variable.' + \"</font>\" + \"</left>\"))"
     ],
     "language": "python",
     "metadata": {},
     "outputs": [
      {
       "metadata": {},
       "output_type": "display_data",
       "png": "[encoded data removed]",
       "text": [
        "<matplotlib.figure.Figure at 0x5184a90>"
       ]
      },
      {
       "html": [
        "<left><font size=2>Figure 3 is a scatterplot showing the number of participants (binned by the original coders of the SCAD dataset) vs. the continuous variable number of deaths.  The points are translucent and jittered slightly to try to show the density.  It was expected that the plot should show an increasing relationship between participants and number of deaths, simply based on the idea that a conflict involving more people has higher odds to result in a death.  The plot does not necessarily show this relationship, though the normal-esque relationship is probably an artifact of the dataset having significantly more observations in the center than at the tails of the number of participants variable.</font></left>"
       ],
       "metadata": {},
       "output_type": "display_data",
       "text": [
        "<IPython.core.display.HTML at 0x5dc4dd0>"
       ]
      }
     ],
     "prompt_number": 50
    },
    {
     "cell_type": "code",
     "collapsed": false,
     "input": [
      "noNan = scad[['ndeath', 'duration']]\n",
      "noNan = noNan[~np.isnan(noNan).any(1)]\n",
      "\n",
      "fig = figure(figsize=(12,6), dpi=300)\n",
      "ax = plt.subplot(111)\n",
      "width=0.5\n",
      "p1 = ax.scatter(noNan.duration, noNan.ndeath, color='black', alpha=0.2)\n",
      "\n",
      "axesToLose = ['top', 'right']\n",
      "for axis in axesToLose:\n",
      "    ax.spines[axis].set_visible(False)\n",
      "    \n",
      "ax.xaxis.set_ticks_position('bottom')\n",
      "ax.yaxis.set_ticks_position('left')\n",
      "\n",
      "ax.set_ylabel('Number of Deaths', fontsize=12)\n",
      "\n",
      "   \n",
      "ax.tick_params(axis='both', which='major', labelsize=8)\n",
      "ax.set_xlim((-25, 400))\n",
      "ax.set_ylim((-500, 5100))\n",
      "ax.set_xlabel('Duration (days)', fontsize=12)\n",
      "\n",
      "ax.set_title('Figure 4: Deaths by Conflict Duration \\n', fontsize=15)\n",
      "\n",
      "plt.show()\n",
      "display(HTML(\"<left>\" + \"<font size=2>\" + 'Motivated similarly as Figure 3, Figure 4 is a scatterplot of the duration of each conflict (in days) against the number of deaths.  It intuitively makes sense that there should be an increasing relationship between these variables, as the longer a conflict, the more chances for a death to result.  However, the plot does not support such a conclusion; taking into account the fact that we have many more shorter conflicts in the dataset, there does not seem to be that much of a relationship between duration and the number of deaths.' + \"</font>\" + \"</left>\"))"
     ],
     "language": "python",
     "metadata": {},
     "outputs": [
      {
       "metadata": {},
       "output_type": "display_data",
       "png": "[encoded data removed]",
       "text": [
        "<matplotlib.figure.Figure at 0x56c3390>"
       ]
      },
      {
       "html": [
        "<left><font size=2>Motivated similarly as Figure 3, Figure 4 is a scatterplot of the duration of each conflict (in days) against the number of deaths.  It intuitively makes sense that there should be an increasing relationship between these variables, as the longer a conflict, the more chances for a death to result.  However, the plot does not support such a conclusion; taking into account the fact that we have many more shorter conflicts in the dataset, there does not seem to be that much of a relationship between duration and the number of deaths.</font></left>"
       ],
       "metadata": {},
       "output_type": "display_data",
       "text": [
        "<IPython.core.display.HTML at 0x56e4e50>"
       ]
      }
     ],
     "prompt_number": 51
    },
    {
     "cell_type": "markdown",
     "metadata": {},
     "source": [
      "Now consider the dominant religion in a particular country; as recounted in the literature review portion of this paper, scholars such as Christian Scherrer suggest that conflicts can escalate along ethnic divides, so one could hypothesize that countries that have a particularly dominant religion might sustain more conflicts resulting in death.  Once again, Table 2 illustrates that this hypothesis is not supported by the dataset.  The distributions across the religions look essentially the same across death and no death conflicts"
     ]
    },
    {
     "cell_type": "code",
     "collapsed": false,
     "input": [
      "#deaths no deaths by regime and dominant religion\n",
      "agg = scad.groupby(['death01', 'domRel']).size()\n",
      "r1 = [agg[0][x] for x in range(0, 4, 1)]\n",
      "r2 = [agg[1][x] for x in range(0, 4, 1)]\n",
      "religion = np.vstack((r1,r2))\n",
      "sums = np.sum(religion, axis=1).tolist()\n",
      "religion = np.column_stack((religion, sums))\n",
      "percents = np.round(100*religion.astype(float)/np.vstack((sums, sums, sums, sums, sums)).T, decimals=2)\n",
      "relPer = [[0 for x in xrange(5)] for x in xrange(2)]\n",
      "\n",
      "for i in range(0, 2, 1):\n",
      "    for j in range (0, 5, 1):\n",
      "        relPer[i][j] = str(religion[i][j]) + \" (\" + str(percents[i][j]) + \"%)\"\n",
      "        \n",
      "religion=pd.DataFrame(relPer)\n",
      "\n",
      "religion.index=['No Deaths', 'Deaths']\n",
      "religion.columns = ['Animist', 'Christianity', 'Hinduism', 'Islam', 'Total']\n",
      "space = '&nbsp;'\n",
      "display(HTML(\"<center>\" + \"<font size=3>\" + 'Table 2: Number of Death/No Death Conflicts by Dominant Religion' + \"</font>\" + \"</center>\"))\n",
      "display(HTML(\"<center>\"+religion[['Islam', 'Christianity', 'Animist', 'Hinduism', 'Total']].to_html()+\"</center>\"))\n",
      "\n",
      "display(HTML(\"<left>\" + \"<font size=2>\" + 'Table 2 shows the number of conflicts resulting in deaths / no deaths broken out by the dominant religion of the country (with row percentages in parentheses).  There does not seem to be any pattern here.  Christianity and Islam are the two major religions in Africa, and they show very similar numbers in the table output.  The high percentages of No Death conflicts in both Animist and Hindu dominated countries can probably be explained by the relatively small number of observations in both columns.' + \"</font>\" + \"</left>\"))"
     ],
     "language": "python",
     "metadata": {},
     "outputs": [
      {
       "html": [
        "<center><font size=3>Table 2: Number of Death/No Death Conflicts by Dominant Religion</font></center>"
       ],
       "metadata": {},
       "output_type": "display_data",
       "text": [
        "<IPython.core.display.HTML at 0x689ff90>"
       ]
      },
      {
       "html": [
        "<center><table border=\"1\" class=\"dataframe\">\n",
        "  <thead>\n",
        "    <tr style=\"text-align: right;\">\n",
        "      <th></th>\n",
        "      <th>Islam</th>\n",
        "      <th>Christianity</th>\n",
        "      <th>Animist</th>\n",
        "      <th>Hinduism</th>\n",
        "      <th>Total</th>\n",
        "    </tr>\n",
        "  </thead>\n",
        "  <tbody>\n",
        "    <tr>\n",
        "      <th>No Deaths</th>\n",
        "      <td> 2339 (48.37%)</td>\n",
        "      <td> 2333 (48.24%)</td>\n",
        "      <td> 159 (3.29%)</td>\n",
        "      <td>  5 (0.1%)</td>\n",
        "      <td> 4836 (100.0%)</td>\n",
        "    </tr>\n",
        "    <tr>\n",
        "      <th>Deaths</th>\n",
        "      <td> 1447 (50.45%)</td>\n",
        "      <td> 1385 (48.29%)</td>\n",
        "      <td>  35 (1.22%)</td>\n",
        "      <td> 1 (0.03%)</td>\n",
        "      <td> 2868 (100.0%)</td>\n",
        "    </tr>\n",
        "  </tbody>\n",
        "</table></center>"
       ],
       "metadata": {},
       "output_type": "display_data",
       "text": [
        "<IPython.core.display.HTML at 0x566acd0>"
       ]
      },
      {
       "html": [
        "<left><font size=2>Table 2 shows the number of conflicts resulting in deaths / no deaths broken out by the dominant religion of the country (with row percentages in parentheses).  There does not seem to be any pattern here.  Christianity and Islam are the two major religions in Africa, and they show very similar numbers in the table output.  The high percentages of No Death conflicts in both Animist and Hindu dominated countries can probably be explained by the relatively small number of observations in both columns.</font></left>"
       ],
       "metadata": {},
       "output_type": "display_data",
       "text": [
        "<IPython.core.display.HTML at 0x689ff90>"
       ]
      }
     ],
     "prompt_number": 58
    },
    {
     "cell_type": "markdown",
     "metadata": {},
     "source": [
      "Potentially of more promise is geography within the African continent.  Certain countries constantly appear in the news related to headlines about tragically blood-filled conflicts\u2014genocides in Rwanda and Sudan come immediately to mind\u2014while other countries do not make the news nearly as often.  One could hypothesize, then, that geography or country lines could differentiate between a death and not.  The SCAD provides latitude and longitude data for each conflict, so assessing this proposition is relatively straightforward.  Figures 5, attempts to graphically show the conflicts superimposed on maps of the African continent.  There seems to possibly be some differentiation between the patterns of death and no death conflicts in Figure 5."
     ]
    },
    {
     "cell_type": "code",
     "collapsed": false,
     "input": [
      "fig = figure(figsize=(12,6), dpi=300)\n",
      "noNan = scad[['longitude', 'latitude', 'death01']]\n",
      "\n",
      "ax1 = plt.subplot2grid((1,4), (0,0), colspan=2)\n",
      "map1 = Basemap(projection='merc', resolution='i', llcrnrlon=-20, llcrnrlat=-38, urcrnrlon=55, urcrnrlat=40, area_thresh=1, ax=ax1)\n",
      "map1.drawcoastlines()\n",
      "map1.drawcountries()\n",
      "map1.drawmapboundary()\n",
      "map1.fillcontinents()\n",
      "ndx, ndy = map1(noNan.longitude[noNan.death01==0], noNan.latitude[noNan.death01==0])\n",
      "p1 = map1.plot(ndx, ndy, marker='.',  color='b', alpha=0.3, ls='', lw=0)\n",
      "ax1.set_title('No Deaths')\n",
      "\n",
      "ax2 = plt.subplot2grid((1,4), (0,2), colspan=2)\n",
      "map2 = Basemap(projection='merc', resolution='i', llcrnrlon=-20, llcrnrlat=-38, urcrnrlon=55, urcrnrlat=40, area_thresh=1, ax=ax2)\n",
      "map2.drawcoastlines()\n",
      "map2.drawcountries()\n",
      "map2.drawmapboundary()\n",
      "map2.fillcontinents()\n",
      "dx, dy = map2(noNan.longitude[noNan.death01==1], noNan.latitude[noNan.death01==1])\n",
      "p2 = map2.plot(dx, dy, marker='.', color='r', alpha=0.3, ls='', lw=0)\n",
      "ax2.set_title('Deaths')\n",
      "\n",
      "fig.suptitle('Figure 5: Map of Conflict Events', fontsize=15)\n",
      "plt.show()\n",
      "display(HTML(\"<left>\" + \"<font size=2>\" + \"Figure 5 above attempts to visualize an answer to the question, 'Are deaths more likely to happen in certain countries?'  In short, the answer seems to be, 'Not really.'  Each dot represents an individual unique conflict ID, and the dots are translucent to represent the density of conflicts.  At first glance, the two maps look effectively the same, with the bulk of all conflicts occurring in West and East Africa.  While certain countries are certainly more prone towards *conflicts* than other countries, deaths do not seem to follow a clear geographic pattern.\" + \"</font>\" + \"</left>\"))"
     ],
     "language": "python",
     "metadata": {},
     "outputs": []
    },
    {
     "cell_type": "markdown",
     "metadata": {},
     "source": [
      "However, superimposing the conflicts on top of each other and rounding coordinates to the nearest degree shows a different story where much of the continent contains both death and no death conflicts, shown by overlapping red and blue points in Figure 6.  There are two notable exceptions: a pocket of red in central Africa corresponds to the Sudan, and a pocket of blue in southern Africa corresponds to the successful, peaceful democracy Namibia.  Otherwise, however, geographic and country boundaries do not seem to provide much information as to what differentiates death from no death."
     ]
    },
    {
     "cell_type": "code",
     "collapsed": false,
     "input": [
      "fig = figure(figsize=(12,6), dpi=300)\n",
      "map = Basemap(projection='merc', resolution='i', llcrnrlon=-20, llcrnrlat=-38, urcrnrlon=55, urcrnrlat=40, area_thresh=1)\n",
      "map.drawcoastlines()\n",
      "map.drawcountries()\n",
      "map.drawmapboundary()\n",
      "map.fillcontinents()\n",
      "\n",
      "noNan = scad[['longitude', 'latitude', 'death01']]\n",
      "noNan.longitude = np.round(noNan.longitude, decimals=0)\n",
      "noNan.latitude = np.round(noNan.latitude, decimals=0)\n",
      "noNan = noNan.drop_duplicates()\n",
      "\n",
      "ndx, ndy = map(noNan.longitude[noNan.death01==0], noNan.latitude[noNan.death01==0])\n",
      "p1 = map.plot(ndx, ndy, marker='.', ls='', color='b', alpha=0.3, lw=0)\n",
      "dx, dy = map(noNan.longitude[noNan.death01==1], noNan.latitude[noNan.death01==1])\n",
      "p2 = map.plot(dx, dy, marker='.', ls='', color='r', alpha=0.3, lw=0)\n",
      "\n",
      "legend = plt.legend((p1[0], p2[0]), ('No Deaths', 'Deaths'), loc=3, prop={'size':8}, numpoints=1)\n",
      "legend.get_frame().set_linewidth(0.0)\n",
      "\n",
      "plt.title('Figure 6: Map of Superimposed Deaths and No Deaths', fontsize=15)\n",
      "\n",
      "plt.show()\n",
      "display(HTML(\"<left>\" + \"<font size=2>\" + 'Figure 6 above attempts to show the difference between the two maps included in Figure 5.  Because of the high density of points map obscuring what type of conflict occurs where, I rounded each set of latitude/longitude coordinates to the nearest degree and then removed duplicate sets of coordinates *after* subsetting by the death/no-death indicator variable.  Then plotting the points in red and blue with translucency reveals a very interesting picture.  Most of the African conflicts with deaths occur on top or nearby conflicts with no deaths with two exceptions: there is a large pocket of death-resulting conflicts in Eastern Africa, which roughly corresponds to the conflict-ridden South Sudan.  There is also a large pocket of no death conflicts in Southern Africa, corresponding to Namibia, a very successful democracy.  While this map illustrates more of a geographic pattern than does the previous figure, the patterns still do not seem to be wholly significant.' + \"</font>\" + \"</left>\"))"
     ],
     "language": "python",
     "metadata": {},
     "outputs": []
    },
    {
     "cell_type": "markdown",
     "metadata": {},
     "source": [
      "In a last effort to find a variable that shows some difference in the frequency of deaths, let\u2019s analyze the scholarly idea that countries of a different regime type could allow conflicts to escalate to different extents.  One might suppose that strong democracies would encourage free speech and therefore be more inclined to foster peaceful social conflict, while oppressive governments might violently stamp out conflicts when they first begin.  Table 3 shows the frequency of death and no death conflicts split out by regime type, and a pattern finally emerges in the data, though not exactly the original hypothesis."
     ]
    },
    {
     "cell_type": "code",
     "collapsed": false,
     "input": [
      "#deaths no deaths by regime and dominant religion\n",
      "v = scad[['death01', 'polity', 'countryname']]\n",
      "v['pind'] = v.polity\n",
      "v.pind[(v.polity>=-10) & (v.polity<=-6)] = 1\n",
      "v.pind[(v.polity>=-5) & (v.polity<=-1)] = 2\n",
      "v.pind[v.polity==0] = 3\n",
      "v.pind[(v.polity>=1) & (v.polity<=5)] = 4\n",
      "v.pind[(v.polity>=6) & (v.polity<=10)] = 5\n",
      "v.pind[v.polity<-10] = np.nan\n",
      "v.pind[v.polity>10] = np.nan\n",
      "v = v[['death01', 'pind']]\n",
      "agg = v.groupby(['death01', 'pind']).size()\n",
      "r1 = [agg[0][x] for x in range(1, 6, 1)]\n",
      "r2 = [agg[1][x] for x in range(1, 6, 1)]\n",
      "regime = np.vstack((r1,r2))\n",
      "sums = np.sum(regime, axis=1)\n",
      "regime = np.column_stack((regime, sums))\n",
      "\n",
      "percents = np.round(100*regime.astype(float)/np.vstack((sums, sums, sums, sums, sums, sums)).T, decimals=2)\n",
      "regPer = [[0 for x in xrange(6)] for x in xrange(2)]\n",
      "\n",
      "for i in range(0, 2, 1):\n",
      "    for j in range (0, 6, 1):\n",
      "        regPer[i][j] = str(regime[i][j]) + \" (\" + str(percents[i][j]) + \"%)\"\n",
      "        \n",
      "regime=pd.DataFrame(regPer)\n",
      "regime.index=['No Deaths', 'Deaths']\n",
      "regime.columns = ['Strong Autocracy', 'Weak Autocracy', 'Middle Ground', 'Weak Democracy', 'Strong Democracy', 'Total']\n",
      "space = '&nbsp;'\n",
      "display(HTML(\"<center>\" + \"<font size=3>\" + 'Table 3: Number of Death/No Death Conflicts by Regime Type' + \"</font>\" + \"</center>\"))\n",
      "display(HTML(\"<center>\" +regime.to_html() + \"</center>\"))\n",
      "display(HTML(\"<left>\" + \"<font size=2>\" + \"Table 3 shows the number of conflicts resulting in deaths / no deaths broken out by the regime type of the country (with row percentages in parentheses).  Regime type is measured on a continuum binned from the Freedom House Polity score which ranges as integers from -10 (full autocracy) to +10 (full democracy).  Countries in the 'Middle Ground' group have a Polity score of 0.  The above table seems to show that democracies, particularly weak democracies, have more death-resulting conflicts than do autocracies.  This counterintuitive observation could potentially be explained by the idea that democracy fosters a political environment where citizens can speak their minds, which can lead to more situations of death.  This table shows that perhaps there is a relationship between regime type as measured by Polity score and the occurrence of deaths in a conflict.\" + \"</font>\" + \"</left>\"))"
     ],
     "language": "python",
     "metadata": {},
     "outputs": [
      {
       "html": [
        "<center><font size=3>Table 3: Number of Death/No Death Conflicts by Regime Type</font></center>"
       ],
       "metadata": {},
       "output_type": "display_data",
       "text": [
        "<IPython.core.display.HTML at 0x5db5f90>"
       ]
      },
      {
       "html": [
        "<center><table border=\"1\" class=\"dataframe\">\n",
        "  <thead>\n",
        "    <tr style=\"text-align: right;\">\n",
        "      <th></th>\n",
        "      <th>Strong Autocracy</th>\n",
        "      <th>Weak Autocracy</th>\n",
        "      <th>Middle Ground</th>\n",
        "      <th>Weak Democracy</th>\n",
        "      <th>Strong Democracy</th>\n",
        "      <th>Total</th>\n",
        "    </tr>\n",
        "  </thead>\n",
        "  <tbody>\n",
        "    <tr>\n",
        "      <th>No Deaths</th>\n",
        "      <td> 798 (18.95%)</td>\n",
        "      <td> 1401 (33.27%)</td>\n",
        "      <td> 74 (1.76%)</td>\n",
        "      <td> 1010 (23.98%)</td>\n",
        "      <td> 928 (22.04%)</td>\n",
        "      <td> 4211 (100.0%)</td>\n",
        "    </tr>\n",
        "    <tr>\n",
        "      <th>Deaths</th>\n",
        "      <td> 247 (11.68%)</td>\n",
        "      <td>  605 (28.62%)</td>\n",
        "      <td> 22 (1.04%)</td>\n",
        "      <td>  753 (35.62%)</td>\n",
        "      <td> 487 (23.04%)</td>\n",
        "      <td> 2114 (100.0%)</td>\n",
        "    </tr>\n",
        "  </tbody>\n",
        "</table></center>"
       ],
       "metadata": {},
       "output_type": "display_data",
       "text": [
        "<IPython.core.display.HTML at 0x26e29d0>"
       ]
      },
      {
       "html": [
        "<left><font size=2>Table 3 shows the number of conflicts resulting in deaths / no deaths broken out by the regime type of the country (with row percentages in parentheses).  Regime type is measured on a continuum binned from the Freedom House Polity score which ranges as integers from -10 (full autocracy) to +10 (full democracy).  Countries in the 'Middle Ground' group have a Polity score of 0.  The above table seems to show that democracies, particularly weak democracies, have more death-resulting conflicts than do autocracies.  This counterintuitive observation could potentially be explained by the idea that democracy fosters a political environment where citizens can speak their minds, which can lead to more situations of death.  This table shows that perhaps there is a relationship between regime type as measured by Polity score and the occurrence of deaths in a conflict.</font></left>"
       ],
       "metadata": {},
       "output_type": "display_data",
       "text": [
        "<IPython.core.display.HTML at 0x5db5f90>"
       ]
      }
     ],
     "prompt_number": 57
    },
    {
     "cell_type": "markdown",
     "metadata": {},
     "source": [
      "In fact, as can be easily seen by the row percentages printed in the table cells, the data actually suggest that democracies are more likely to result in death conflicts and autocracies no death.  Why could this occur?  Perhaps, autocratic government are more likely to encourage low-level dissent because citizens of those countries know the government will retaliate if things get out of hand, and the opposite argument holds for democracies.  It is also certainly possible that this counterintuitive pattern is somewhat meaningless, either a false pattern in otherwise random data or a pattern that is a symptom of another, unanalyzed variable.  In any case, this is an interesting result that will be investigated further in the modeling efforts of this project.  All in all, individual variables do not seem to offer a lot of insight into what results in a conflict\u2019s death.\n"
     ]
    },
    {
     "cell_type": "heading",
     "level": 3,
     "metadata": {},
     "source": [
      "4.2 Modeling"
     ]
    },
    {
     "cell_type": "markdown",
     "metadata": {},
     "source": [
      "With limited success in exploring individual variables, let\u2019s move on to the modeling phase of this project and attempt to explore multiple factors in interaction with each other.  Randomly split the data into training and testing sets (70-30 percent, respectively), and first try to model the death/no death indicator variable before moving on to modeling the more complicated absolute number of deaths in a given conflict.  Both modeling efforts will employ similar modeling technique wherein we will first select a subset of variables through regression techniques to build a model and then we will use that selected subset of variables to train models using other methods in an effort to assess model robustness. \n",
      " "
     ]
    },
    {
     "cell_type": "heading",
     "level": 4,
     "metadata": {},
     "source": [
      "4.2.1 Death/No Death Indicator"
     ]
    },
    {
     "cell_type": "markdown",
     "metadata": {},
     "source": [
      "Using the training set, start by running logistic regression on the indicator death/no death variable.  Use a modified best subset selection technique to do model selection, selecting an initial set of variables based on the results from the previous analyses done in this paper as well as the literature.  Make adjustments to the variables included in the model, and choose the model with the smallest prediction residual sum of squares.   The author recognizes that this is a somewhat rough variable selection process, and potential limitations and improvements will be discussed later in the paper.  All categorical variables were transformed into dummy variables before beginning this process.  The following five variables were chosen to be included in the final model:\n",
      "\n",
      "- Location (categorical)\u2014where was the conflict located within a country\u2019s borders?\n",
      "- Event Type (categorical)\u2014organized/spontaneous, riot/strike/protest, etc.\n",
      "- Was the Central Government a Target?  (0/1)\n",
      "- Primary Issue Motivating the Conflict (categorical)\n",
      "- Composite Index of National Capability score (numeric)\u2014attempts to represent a country\u2019s hard power \n",
      "\n",
      "Now use these same variables on other methods.  Train a k-nearest neighbor model (KNN) using the same set of variables, setting k=10 through a similar rough trial-and-error process (again, limitations and improvements to this process will be discussed)."
     ]
    },
    {
     "cell_type": "code",
     "collapsed": false,
     "input": [
      "# Set aside 30% of the dataset as a testing set to use after fitting the model\n",
      "# These train/test sets will be used throughout the rest of the analysis.\n",
      "np.random.seed(13) #Set a seed if you would like to always pull the same train and test sets\n",
      "crossVal = [False] * (len(scad))\n",
      "numTest = int(0.3*len(scad))\n",
      "crossVal[0:numTest] = [True] * numTest\n",
      "crossVal = np.random.permutation(crossVal)\n",
      "train = scad[~crossVal]\n",
      "test = scad[crossVal]"
     ],
     "language": "python",
     "metadata": {},
     "outputs": [],
     "prompt_number": 62
    },
    {
     "cell_type": "code",
     "collapsed": false,
     "input": [
      "# Try a number of different variable combinations and choose the model that minimizes prediction error\n",
      "# Preliminary analyses don't suggest relationships between npart, duration, religion, or regime type (polity)\n",
      "# Try country as well as other potential variables from the dataset including event type and central govt target indicator\n",
      "# Also add energy and natural resource variables\n",
      "v = train[['death01', 'ccode', 'cgovtarget', 'etype', 'irst', 'pec', 'cinc']]\n",
      "v = v[~np.isnan(v).any(1)]\n",
      "dummies = pd.get_dummies(v.etype, prefix='etype')\n",
      "v = v.drop('etype', 1)\n",
      "v = v.join(dummies.ix[:, 1:])\n",
      "dummies = pd.get_dummies(v.ccode, prefix='ccode')\n",
      "v = v.drop('ccode', 1)\n",
      "v = v.join(dummies.ix[:, 1:])\n",
      "v['intercept'] = 1.0\n",
      "mod1 = sm.Logit(v.death01, v[v.columns[1:]], missing='drop').fit()\n",
      "#print mod1.summary()"
     ],
     "language": "python",
     "metadata": {},
     "outputs": [
      {
       "output_type": "stream",
       "stream": "stdout",
       "text": [
        "Warning: Maximum number of iterations has been exceeded.\n",
        "         Current function value: 0.404275\n",
        "         Iterations: 35\n"
       ]
      }
     ],
     "prompt_number": 63
    },
    {
     "cell_type": "code",
     "collapsed": false,
     "input": [
      "# Country, as expected from the maps, doesn't seem to be doing much.  Remove it and try adding in location category.\n",
      "# Also remove pec and irst, as their coefficients are extremely small\n",
      "v = train[['death01', 'locnum', 'cgovtarget', 'etype', 'cinc']]\n",
      "v = v[~np.isnan(v).any(1)]\n",
      "dummies = pd.get_dummies(v.etype, prefix='etype')\n",
      "v = v.drop('etype', 1)\n",
      "v = v.join(dummies.ix[:, 1:])\n",
      "dummies = pd.get_dummies(v.locnum, prefix='locnum')\n",
      "v = v.drop('locnum', 1)\n",
      "v = v.join(dummies.ix[:, 1:])\n",
      "v['intercept'] = 1.0\n",
      "mod2 = sm.Logit(v.death01, v[v.columns[1:]], missing='drop').fit()\n",
      "#print mod2.summary()"
     ],
     "language": "python",
     "metadata": {},
     "outputs": [
      {
       "output_type": "stream",
       "stream": "stdout",
       "text": [
        "Optimization terminated successfully.\n",
        "         Current function value: 0.437900\n",
        "         Iterations 7\n"
       ]
      }
     ],
     "prompt_number": 64
    },
    {
     "cell_type": "code",
     "collapsed": false,
     "input": [
      "# Add issue1 as dummies\n",
      "v = train[['death01', 'locnum', 'cgovtarget', 'etype', 'issue1', 'cinc']]\n",
      "v = v[~np.isnan(v).any(1)]\n",
      "dummies = pd.get_dummies(v.etype, prefix='etype')\n",
      "v = v.drop('etype', 1)\n",
      "v = v.join(dummies.ix[:, 1:])\n",
      "dummies = pd.get_dummies(v.locnum, prefix='locnum')\n",
      "v = v.drop('locnum', 1)\n",
      "v = v.join(dummies.ix[:, 1:])\n",
      "dummies = pd.get_dummies(v.issue1, prefix='issue1')\n",
      "v = v.drop('issue1', 1)\n",
      "v = v.join(dummies.ix[:, 1:])\n",
      "v['intercept'] = 1.0\n",
      "mod3 = sm.Logit(v.death01, v[v.columns[1:]], missing='drop').fit()\n",
      "#print mod3.summary()"
     ],
     "language": "python",
     "metadata": {},
     "outputs": [
      {
       "output_type": "stream",
       "stream": "stdout",
       "text": [
        "Optimization terminated successfully.\n",
        "         Current function value: 0.417663\n",
        "         Iterations 7\n"
       ]
      }
     ],
     "prompt_number": 65
    },
    {
     "cell_type": "code",
     "collapsed": false,
     "input": [
      "# Add escalation as dummies\n",
      "v = train[['death01', 'cgovtarget', 'etype', 'issue1', 'cinc', 'escalation']]\n",
      "v = v[~np.isnan(v).any(1)]\n",
      "dummies = pd.get_dummies(v.etype, prefix='etype')\n",
      "v = v.drop('etype', 1)\n",
      "v = v.join(dummies.ix[:, 1:])\n",
      "dummies = pd.get_dummies(v.issue1, prefix='issue1')\n",
      "v = v.drop('issue1', 1)\n",
      "v = v.join(dummies.ix[:, 1:])\n",
      "dummies = pd.get_dummies(v.escalation, prefix='escalation')\n",
      "v = v.drop('escalation', 1)\n",
      "v = v.join(dummies.ix[:, 1:])\n",
      "v['intercept'] = 1.0\n",
      "mod4 = sm.Logit(v.death01, v[v.columns[1:]], missing='drop').fit()\n",
      "#print mod4.summary()"
     ],
     "language": "python",
     "metadata": {},
     "outputs": [
      {
       "output_type": "stream",
       "stream": "stdout",
       "text": [
        "Warning: Maximum number of iterations has been exceeded.\n",
        "         Current function value: 0.378502\n",
        "         Iterations: 35\n"
       ]
      }
     ],
     "prompt_number": 66
    },
    {
     "cell_type": "code",
     "collapsed": false,
     "input": [
      "# Remove locnum - all coefficients are positive.  does that make intuitive sense?\n",
      "v = train[['death01', 'cgovtarget', 'etype', 'issue1', 'cinc', 'escalation']]\n",
      "v = v[~np.isnan(v).any(1)]\n",
      "dummies = pd.get_dummies(v.etype, prefix='etype')\n",
      "v = v.drop('etype', 1)\n",
      "v = v.join(dummies.ix[:, 1:])\n",
      "dummies = pd.get_dummies(v.issue1, prefix='issue1')\n",
      "v = v.drop('issue1', 1)\n",
      "v = v.join(dummies.ix[:, 1:])\n",
      "dummies = pd.get_dummies(v.escalation, prefix='escalation')\n",
      "v = v.drop('escalation', 1)\n",
      "v = v.join(dummies.ix[:, 1:])\n",
      "v['intercept'] = 1.0\n",
      "mod5 = sm.Logit(v.death01, v[v.columns[1:]], missing='drop').fit()\n",
      "#print mod5.summary()"
     ],
     "language": "python",
     "metadata": {},
     "outputs": [
      {
       "output_type": "stream",
       "stream": "stdout",
       "text": [
        "Warning: Maximum number of iterations has been exceeded.\n",
        "         Current function value: 0.378502\n",
        "         Iterations: 35\n"
       ]
      }
     ],
     "prompt_number": 67
    },
    {
     "cell_type": "code",
     "collapsed": false,
     "input": [
      "# Try without either escalation or locnum\n",
      "v = train[['death01', 'cgovtarget', 'etype', 'issue1', 'cinc']]\n",
      "v = v[~np.isnan(v).any(1)]\n",
      "dummies = pd.get_dummies(v.etype, prefix='etype')\n",
      "v = v.drop('etype', 1)\n",
      "v = v.join(dummies.ix[:, 1:])\n",
      "dummies = pd.get_dummies(v.issue1, prefix='issue1')\n",
      "v = v.drop('issue1', 1)\n",
      "v = v.join(dummies.ix[:, 1:])\n",
      "v['intercept'] = 1.0\n",
      "mod6 = sm.Logit(v.death01, v[v.columns[1:]], missing='drop').fit()\n",
      "#print mod6.summary()"
     ],
     "language": "python",
     "metadata": {},
     "outputs": [
      {
       "output_type": "stream",
       "stream": "stdout",
       "text": [
        "Optimization terminated successfully.\n",
        "         Current function value: 0.420977\n",
        "         Iterations 7\n"
       ]
      }
     ],
     "prompt_number": 68
    },
    {
     "cell_type": "code",
     "collapsed": false,
     "input": [
      "# Compute Mean Squared Prediction Errors for the various logit models to perform model selection\n",
      "#Model 1\n",
      "v = test[['death01', 'ccode', 'cgovtarget', 'etype', 'irst', 'pec', 'cinc']]\n",
      "v = v[~np.isnan(v).any(1)]\n",
      "dummies = pd.get_dummies(v.etype, prefix='etype')\n",
      "v = v.drop('etype', 1)\n",
      "v = v.join(dummies.ix[:, 1:])\n",
      "dummies = pd.get_dummies(v.ccode, prefix='ccode')\n",
      "v = v.drop('ccode', 1)\n",
      "v = v.join(dummies.ix[:, 1:])\n",
      "v['intercept'] = 1.0\n",
      "ests = np.round(mod1.predict(v[v.columns[1:]]))\n",
      "true = v[['death01']].values\n",
      "mspe1 = np.sum(np.square(true-ests))\n",
      "\n",
      "#Model 2\n",
      "v = test[['death01', 'locnum', 'cgovtarget', 'etype', 'cinc']]\n",
      "v = v[~np.isnan(v).any(1)]\n",
      "dummies = pd.get_dummies(v.etype, prefix='etype')\n",
      "v = v.drop('etype', 1)\n",
      "v = v.join(dummies.ix[:, 1:])\n",
      "dummies = pd.get_dummies(v.locnum, prefix='locnum')\n",
      "v = v.drop('locnum', 1)\n",
      "v = v.join(dummies.ix[:, 1:])\n",
      "v['intercept'] = 1.0\n",
      "ests = np.round(mod2.predict(v[v.columns[1:]]))\n",
      "true = v[['death01']].values\n",
      "mspe2 = np.sum(np.square(true-ests))\n",
      "\n",
      "#Model 3\n",
      "v = test[['death01', 'locnum', 'cgovtarget', 'etype', 'issue1', 'cinc']]\n",
      "v = v[~np.isnan(v).any(1)]\n",
      "dummies = pd.get_dummies(v.etype, prefix='etype')\n",
      "v = v.drop('etype', 1)\n",
      "v = v.join(dummies.ix[:, 1:])\n",
      "dummies = pd.get_dummies(v.locnum, prefix='locnum')\n",
      "v = v.drop('locnum', 1)\n",
      "v = v.join(dummies.ix[:, 1:])\n",
      "dummies = pd.get_dummies(v.issue1, prefix='issue1')\n",
      "v = v.drop('issue1', 1)\n",
      "v = v.join(dummies.ix[:, 1:])\n",
      "v['intercept'] = 1.0\n",
      "ests = np.round(mod3.predict(v[v.columns[1:]]))\n",
      "true = v[['death01']].values\n",
      "mspe3 = np.sum(np.square(true-ests))\n",
      "\n",
      "#Model 4\n",
      "v = test[['death01', 'cgovtarget', 'etype', 'issue1', 'cinc', 'escalation']]\n",
      "v = v[~np.isnan(v).any(1)]\n",
      "dummies = pd.get_dummies(v.etype, prefix='etype')\n",
      "v = v.drop('etype', 1)\n",
      "v = v.join(dummies.ix[:, 1:])\n",
      "dummies = pd.get_dummies(v.issue1, prefix='issue1')\n",
      "v = v.drop('issue1', 1)\n",
      "v = v.join(dummies.ix[:, 1:])\n",
      "dummies = pd.get_dummies(v.escalation, prefix='escalation')\n",
      "v = v.drop('escalation', 1)\n",
      "v = v.join(dummies.ix[:, 1:])\n",
      "v['intercept'] = 1.0\n",
      "ests = np.round(mod4.predict(v[v.columns[1:]]))\n",
      "true = v[['death01']].values\n",
      "mspe4 = np.sum(np.square(true-ests))\n",
      "\n",
      "#Model 5\n",
      "v = test[['death01', 'cgovtarget', 'etype', 'issue1', 'cinc', 'escalation']]\n",
      "v = v[~np.isnan(v).any(1)]\n",
      "dummies = pd.get_dummies(v.etype, prefix='etype')\n",
      "v = v.drop('etype', 1)\n",
      "v = v.join(dummies.ix[:, 1:])\n",
      "dummies = pd.get_dummies(v.issue1, prefix='issue1')\n",
      "v = v.drop('issue1', 1)\n",
      "v = v.join(dummies.ix[:, 1:])\n",
      "dummies = pd.get_dummies(v.escalation, prefix='escalation')\n",
      "v = v.drop('escalation', 1)\n",
      "v = v.join(dummies.ix[:, 1:])\n",
      "v['intercept'] = 1.0\n",
      "ests = np.round(mod5.predict(v[v.columns[1:]]))\n",
      "true = v[['death01']].values\n",
      "mspe5 = np.sum(np.square(true-ests))\n",
      "\n",
      "#Model 6\n",
      "v = test[['death01', 'cgovtarget', 'etype', 'issue1', 'cinc']]\n",
      "v = v[~np.isnan(v).any(1)]\n",
      "dummies = pd.get_dummies(v.etype, prefix='etype')\n",
      "v = v.drop('etype', 1)\n",
      "v = v.join(dummies.ix[:, 1:])\n",
      "dummies = pd.get_dummies(v.issue1, prefix='issue1')\n",
      "v = v.drop('issue1', 1)\n",
      "v = v.join(dummies.ix[:, 1:])\n",
      "v['intercept'] = 1.0\n",
      "ests = np.round(mod6.predict(v[v.columns[1:]]))\n",
      "true = v[['death01']].values\n",
      "mspe6 = np.sum(np.square(true-ests))\n",
      "\n",
      "#np.argmin([mspe1, mspe2, mspe3, mspe4, mspe5, mspe6])\n",
      "#output suppressed for print IPython Notebook view - tells which model has smallest prediction error"
     ],
     "language": "python",
     "metadata": {},
     "outputs": [],
     "prompt_number": 69
    },
    {
     "cell_type": "code",
     "collapsed": false,
     "input": [
      "# Check polity variable against this best logit\n",
      "# Earlier analyses were inconclusive about polity\n",
      "# Add issue1 as dummies\n",
      "v = train[['death01', 'locnum', 'cgovtarget', 'etype', 'issue1', 'cinc', 'polity']]\n",
      "v = v[~np.isnan(v).any(1)]\n",
      "dummies = pd.get_dummies(v.etype, prefix='etype')\n",
      "v = v.drop('etype', 1)\n",
      "v = v.join(dummies.ix[:, 1:])\n",
      "dummies = pd.get_dummies(v.locnum, prefix='locnum')\n",
      "v = v.drop('locnum', 1)\n",
      "v = v.join(dummies.ix[:, 1:])\n",
      "dummies = pd.get_dummies(v.issue1, prefix='issue1')\n",
      "v = v.drop('issue1', 1)\n",
      "v = v.join(dummies.ix[:, 1:])\n",
      "dummies = pd.get_dummies(v.polity, prefix='polity')\n",
      "v = v.drop('polity', 1)\n",
      "v = v.join(dummies.ix[:, 1:])\n",
      "v['intercept'] = 1.0\n",
      "mod3pol = sm.Logit(v.death01, v[v.columns[1:]], missing='drop').fit()\n",
      "#print mod3pol.summary()\n",
      "\n",
      "# As we had noticed with the earlier plot, polity seems to be inconclusive.  Every value of the variable\n",
      "# has roughly the same coefficient and an extremely small F statistic (very high p-value).  This further\n",
      "# supports the prior supposition that polity effects might not be as valid as they might seem.  In fact,\n",
      "# predicting using this variable yields very unreliable predictions such that every event is predicted as\n",
      "# a death.  Go with the model without polity."
     ],
     "language": "python",
     "metadata": {},
     "outputs": [
      {
       "output_type": "stream",
       "stream": "stdout",
       "text": [
        "Warning: Maximum number of iterations has been exceeded.\n",
        "         Current function value: 0.392790\n",
        "         Iterations: 35\n"
       ]
      }
     ],
     "prompt_number": 70
    },
    {
     "cell_type": "code",
     "collapsed": false,
     "input": [
      "#Create a prediction accuracy chart from the chosen logit model\n",
      "v = test[['death01', 'locnum', 'cgovtarget', 'etype', 'issue1', 'cinc']]\n",
      "v = v[~np.isnan(v).any(1)]\n",
      "dummies = pd.get_dummies(v.etype, prefix='etype')\n",
      "v = v.drop('etype', 1)\n",
      "v = v.join(dummies.ix[:, 1:])\n",
      "dummies = pd.get_dummies(v.locnum, prefix='locnum')\n",
      "v = v.drop('locnum', 1)\n",
      "v = v.join(dummies.ix[:, 1:])\n",
      "dummies = pd.get_dummies(v.issue1, prefix='issue1')\n",
      "v = v.drop('issue1', 1)\n",
      "v = v.join(dummies.ix[:, 1:])\n",
      "v['intercept'] = 1.0\n",
      "ests = np.round(mod3.predict(v[v.columns[1:]]))\n",
      "true = v[['death01']].values\n",
      "\n",
      "\n",
      "predAnalysis = [[0 for x in xrange(2)] for x in xrange(2)]\n",
      "for i in range(0,len(true),1):\n",
      "    if true[[i]]==0 and ests[[i]]==0:\n",
      "        predAnalysis[0][0] = predAnalysis[0][0] + 1\n",
      "    elif true[[i]]==0 and ests[[i]]==1:\n",
      "        predAnalysis[0][1] = predAnalysis[0][1] + 1\n",
      "    elif true[[i]]==1 and ests[[i]]==0:\n",
      "        predAnalysis[1][0] = predAnalysis[1][0] + 1\n",
      "    elif true[[i]]==1 and ests[[i]]==1:\n",
      "        predAnalysis[1][1] = predAnalysis[1][1] + 1\n",
      "        \n",
      "sums = np.sum(predAnalysis, axis=1)\n",
      "percents = np.round(100*np.array(predAnalysis).astype(float)/np.vstack((sums, sums)).T, decimals=2)\n",
      "\n",
      "for i in range(0, 2, 1):\n",
      "    for j in range (0, 2, 1):\n",
      "        predAnalysis[i][j] = str(predAnalysis[i][j]) + \" (\" + str(percents[i][j]) + \"%)\"\n",
      "        \n",
      "predAnalysis = pd.DataFrame(predAnalysis)\n",
      "predAnalysis.index=['No Deaths', 'Deaths']\n",
      "predAnalysis.columns = ['Predicted as No Deaths', 'Predicted as Deaths']\n",
      "predAnalysisLogit = predAnalysis"
     ],
     "language": "python",
     "metadata": {},
     "outputs": [],
     "prompt_number": 72
    },
    {
     "cell_type": "code",
     "collapsed": false,
     "input": [
      "# Use the same variables chosen through the regression model to fit and test a KNN\n",
      "# KNN (nonparametric) often does better classifying 0/1 in a binary\n",
      "v = train[['death01', 'locnum', 'cgovtarget', 'etype', 'issue1', 'cinc']]\n",
      "v = v[~np.isnan(v).any(1)]\n",
      "dummies = pd.get_dummies(v.etype, prefix='etype')\n",
      "v = v.drop('etype', 1)\n",
      "v = v.join(dummies.ix[:, 1:])\n",
      "dummies = pd.get_dummies(v.locnum, prefix='locnum')\n",
      "v = v.drop('locnum', 1)\n",
      "v = v.join(dummies.ix[:, 1:])\n",
      "dummies = pd.get_dummies(v.issue1, prefix='issue1')\n",
      "v = v.drop('issue1', 1)\n",
      "v = v.join(dummies.ix[:, 1:])\n",
      "v['intercept'] = 1.0\n",
      "\n",
      "\n",
      "KNN = KNeighborsClassifier(n_neighbors=10)\n",
      "KNN.fit(v[v.columns[1:]], v.death01)\n",
      "\n",
      "v = test[['death01', 'locnum', 'cgovtarget', 'etype', 'issue1', 'cinc']]\n",
      "v = v[~np.isnan(v).any(1)]\n",
      "dummies = pd.get_dummies(v.etype, prefix='etype')\n",
      "v = v.drop('etype', 1)\n",
      "v = v.join(dummies.ix[:, 1:])\n",
      "dummies = pd.get_dummies(v.locnum, prefix='locnum')\n",
      "v = v.drop('locnum', 1)\n",
      "v = v.join(dummies.ix[:, 1:])\n",
      "dummies = pd.get_dummies(v.issue1, prefix='issue1')\n",
      "v = v.drop('issue1', 1)\n",
      "v = v.join(dummies.ix[:, 1:])\n",
      "v['intercept'] = 1.0\n",
      "true = v[['death01']].values\n",
      "ests = KNeighborsClassifier.predict(KNN, v[v.columns[1:]])\n",
      "predAnalysis = [[0 for x in xrange(2)] for x in xrange(2)]\n",
      "for i in range(0,len(true),1):\n",
      "    if true[[i]]==0 and ests[[i]]==0:\n",
      "        predAnalysis[0][0] = predAnalysis[0][0] + 1\n",
      "    elif true[[i]]==0 and ests[[i]]==1:\n",
      "        predAnalysis[0][1] = predAnalysis[0][1] + 1\n",
      "    elif true[[i]]==1 and ests[[i]]==0:\n",
      "        predAnalysis[1][0] = predAnalysis[1][0] + 1\n",
      "    elif true[[i]]==1 and ests[[i]]==1:\n",
      "        predAnalysis[1][1] = predAnalysis[1][1] + 1\n",
      "\n",
      "sums = np.sum(predAnalysis, axis=1)\n",
      "percents = np.round(100*np.array(predAnalysis).astype(float)/np.vstack((sums, sums)).T, decimals=2)\n",
      "\n",
      "for i in range(0, 2, 1):\n",
      "    for j in range (0, 2, 1):\n",
      "        predAnalysis[i][j] = str(predAnalysis[i][j]) + \" (\" + str(percents[i][j]) + \"%)\"\n",
      "        \n",
      "predAnalysis = pd.DataFrame(predAnalysis)\n",
      "predAnalysis.index=['No Deaths', 'Deaths']\n",
      "predAnalysis.columns = ['Predicted as No Deaths', 'Predicted as Deaths']\n",
      "display(HTML(\"<center>\" + \"<font size=3>\" + 'Table 4: Logistic Regression Prediction Accuracy' + \"</font>\" + \"</center>\"))\n",
      "display(HTML(\"<center>\" + predAnalysisLogit.to_html() + \"</center>\"))\n",
      "display(HTML(\"<center>\" + \"<font size=3>\" + 'Table 5: KNN Prediction Accuracy (K=10)' + \"</font>\" + \"</center>\"))\n",
      "display(HTML(\"<center>\" + predAnalysis  .to_html() + \"</center>\"))\n",
      "display(HTML(\"<left>\" + \"<font size=2>\" + 'Tables 4 and 5 show prediction rates on the test set for the logistic and KNN models, in absolute numbers with row percentages in parentheses.  Both models have very similar accuracy rates at predicting the test set.  For this specific test set, the KNN model more accurately predicts the No Deaths (with a 92% success rate) and the Logit model more accurately predicts the Deaths (with a 69% success rate).  However, the differences in accuracy do not seem to be significant enough to prefer one model over another purely based on prediction power.  It is interesting that we get similar prediction results using different techniques on the same data, which leads me to believe that perhaps there is something particularly interesting about this combination of variables for modeling the death/no death indicator variable.' + \"</font>\" + \"</left>\"))"
     ],
     "language": "python",
     "metadata": {},
     "outputs": [
      {
       "html": [
        "<center><font size=3>Table 4: Logistic Regression Prediction Accuracy</font></center>"
       ],
       "metadata": {},
       "output_type": "display_data",
       "text": [
        "<IPython.core.display.HTML at 0xcee1a50>"
       ]
      },
      {
       "html": [
        "<center><table border=\"1\" class=\"dataframe\">\n",
        "  <thead>\n",
        "    <tr style=\"text-align: right;\">\n",
        "      <th></th>\n",
        "      <th>Predicted as No Deaths</th>\n",
        "      <th>Predicted as Deaths</th>\n",
        "    </tr>\n",
        "  </thead>\n",
        "  <tbody>\n",
        "    <tr>\n",
        "      <th>No Deaths</th>\n",
        "      <td> 957 (89.36%)</td>\n",
        "      <td> 114 (10.64%)</td>\n",
        "    </tr>\n",
        "    <tr>\n",
        "      <th>Deaths</th>\n",
        "      <td> 170 (30.41%)</td>\n",
        "      <td> 389 (69.59%)</td>\n",
        "    </tr>\n",
        "  </tbody>\n",
        "</table></center>"
       ],
       "metadata": {},
       "output_type": "display_data",
       "text": [
        "<IPython.core.display.HTML at 0xcf06cd0>"
       ]
      },
      {
       "html": [
        "<center><font size=3>Table 5: KNN Prediction Accuracy (K=10)</font></center>"
       ],
       "metadata": {},
       "output_type": "display_data",
       "text": [
        "<IPython.core.display.HTML at 0xcee1a50>"
       ]
      },
      {
       "html": [
        "<center><table border=\"1\" class=\"dataframe\">\n",
        "  <thead>\n",
        "    <tr style=\"text-align: right;\">\n",
        "      <th></th>\n",
        "      <th>Predicted as No Deaths</th>\n",
        "      <th>Predicted as Deaths</th>\n",
        "    </tr>\n",
        "  </thead>\n",
        "  <tbody>\n",
        "    <tr>\n",
        "      <th>No Deaths</th>\n",
        "      <td> 990 (92.44%)</td>\n",
        "      <td>   81 (7.56%)</td>\n",
        "    </tr>\n",
        "    <tr>\n",
        "      <th>Deaths</th>\n",
        "      <td> 225 (40.25%)</td>\n",
        "      <td> 334 (59.75%)</td>\n",
        "    </tr>\n",
        "  </tbody>\n",
        "</table></center>"
       ],
       "metadata": {},
       "output_type": "display_data",
       "text": [
        "<IPython.core.display.HTML at 0xcf06cd0>"
       ]
      },
      {
       "html": [
        "<left><font size=2>Tables 4 and 5 show prediction rates on the test set for the logistic and KNN models, in absolute numbers with row percentages in parentheses.  Both models have very similar accuracy rates at predicting the test set.  For this specific test set, the KNN model more accurately predicts the No Deaths (with a 92% success rate) and the Logit model more accurately predicts the Deaths (with a 69% success rate).  However, the differences in accuracy do not seem to be significant enough to prefer one model over another purely based on prediction power.  It is interesting that we get similar prediction results using different techniques on the same data, which leads me to believe that perhaps there is something particularly interesting about this combination of variables for modeling the death/no death indicator variable.</font></left>"
       ],
       "metadata": {},
       "output_type": "display_data",
       "text": [
        "<IPython.core.display.HTML at 0xcee1a50>"
       ]
      }
     ],
     "prompt_number": 74
    },
    {
     "cell_type": "markdown",
     "metadata": {},
     "source": [
      "Tables 4 and 5, above, are contingency tables showing the prediction accuracy of the two modeling methods attempted in this section of analysis.  Overall, both methods to extremely well at predicting the outcomes of conflicts in the test set.  The KNN model does slightly better at predicting the no death conflicts whereas the logistic regression does better at predicting the death conflicts; however, prediction is almost at or above 60% for all categories in all methods.  Given that we are working with complex real-world data, such accuracy can be considered relatively successful, and the comparative success across two methods suggests that there might be some important information conveyed in the five selected variables."
     ]
    },
    {
     "cell_type": "heading",
     "level": 4,
     "metadata": {},
     "source": [
      "4.2.2 Absolute Number of Deaths"
     ]
    },
    {
     "cell_type": "markdown",
     "metadata": {},
     "source": [
      "With some success in modeling the death/no death indicator variable, move on to attempt to model the absolute number of deaths in a given conflict.  Use the same training and testing sets as before, and apply a similar variable selection process using Poisson regression.  Interestingly, the exact same set of five variables minimized prediction error for in this modeling effort as did for modeling the death/no death indicator, perhaps lending more support for the importance of those variables.  Again, train other models with the same variables using different techniques to test robustness, this time a classification/regression tree (CART) in addition to a KNN (k=10)."
     ]
    },
    {
     "cell_type": "code",
     "collapsed": false,
     "input": [
      "# Try a number of different variable combinations and choose the model that minimizes prediction error\n",
      "# Preliminary analyses don't suggest relationships between npart, duration, religion, or regime type (polity)\n",
      "# Try country as well as other potential variables from the dataset including event type and central govt target indicator\n",
      "# Also add energy and natural resource variables\n",
      "v = train[['ndeath', 'ccode', 'cgovtarget', 'etype', 'irst', 'pec', 'cinc']]\n",
      "v = v[~np.isnan(v).any(1)]\n",
      "dummies = pd.get_dummies(v.etype, prefix='etype')\n",
      "v = v.drop('etype', 1)\n",
      "v = v.join(dummies.ix[:, 1:])\n",
      "dummies = pd.get_dummies(v.ccode, prefix='ccode')\n",
      "v = v.drop('ccode', 1)\n",
      "v = v.join(dummies.ix[:, 1:])\n",
      "v['intercept'] = 1.0\n",
      "modp1 = sm.Poisson(v.ndeath, v[v.columns[1:]], missing='drop').fit(method='powell')\n",
      "#print modp1.summary()"
     ],
     "language": "python",
     "metadata": {},
     "outputs": [
      {
       "output_type": "stream",
       "stream": "stdout",
       "text": [
        "Optimization terminated successfully.\n",
        "         Current function value: 26.906774\n",
        "         Iterations: 14\n",
        "         Function evaluations: 9657\n"
       ]
      }
     ],
     "prompt_number": 12
    },
    {
     "cell_type": "code",
     "collapsed": false,
     "input": [
      "v = train[['ndeath', 'locnum', 'cgovtarget', 'etype', 'cinc']]\n",
      "v = v[~np.isnan(v).any(1)]\n",
      "dummies = pd.get_dummies(v.etype, prefix='etype')\n",
      "v = v.drop('etype', 1)\n",
      "v = v.join(dummies.ix[:, 1:])\n",
      "dummies = pd.get_dummies(v.locnum, prefix='locnum')\n",
      "v = v.drop('locnum', 1)\n",
      "v = v.join(dummies.ix[:, 1:])\n",
      "v['intercept'] = 1.0\n",
      "modp2 = sm.Poisson(v.ndeath, v[v.columns[1:]], missing='drop').fit(method='bfgs')\n",
      "#print modp2.summary()"
     ],
     "language": "python",
     "metadata": {},
     "outputs": [
      {
       "output_type": "stream",
       "stream": "stdout",
       "text": [
        "Warning: Maximum number of iterations has been exceeded.\n",
        "         Current function value: 30.692446\n",
        "         Iterations: 35\n",
        "         Function evaluations: 40\n",
        "         Gradient evaluations: 40\n"
       ]
      }
     ],
     "prompt_number": 13
    },
    {
     "cell_type": "code",
     "collapsed": false,
     "input": [
      "# Add issue1 as dummies\n",
      "v = train[['ndeath', 'locnum', 'cgovtarget', 'etype', 'issue1', 'cinc']]\n",
      "v = v[~np.isnan(v).any(1)]\n",
      "dummies = pd.get_dummies(v.etype, prefix='etype')\n",
      "v = v.drop('etype', 1)\n",
      "v = v.join(dummies.ix[:, 1:])\n",
      "dummies = pd.get_dummies(v.locnum, prefix='locnum')\n",
      "v = v.drop('locnum', 1)\n",
      "v = v.join(dummies.ix[:, 1:])\n",
      "dummies = pd.get_dummies(v.issue1, prefix='issue1')\n",
      "v = v.drop('issue1', 1)\n",
      "v = v.join(dummies.ix[:, 1:])\n",
      "v['intercept'] = 1.0\n",
      "modp3 = sm.Poisson(v.ndeath, v[v.columns[1:]], missing='drop').fit(method='bfgs')\n",
      "#print modp3.summary()"
     ],
     "language": "python",
     "metadata": {},
     "outputs": [
      {
       "output_type": "stream",
       "stream": "stdout",
       "text": [
        "Warning: Maximum number of iterations has been exceeded.\n",
        "         Current function value: 28.207165\n",
        "         Iterations: 35\n",
        "         Function evaluations: 41\n",
        "         Gradient evaluations: 41\n"
       ]
      }
     ],
     "prompt_number": 14
    },
    {
     "cell_type": "code",
     "collapsed": false,
     "input": [
      "# Add escalation as dummies\n",
      "v = train[['ndeath', 'cgovtarget', 'etype', 'issue1', 'cinc', 'escalation']]\n",
      "v = v[~np.isnan(v).any(1)]\n",
      "dummies = pd.get_dummies(v.etype, prefix='etype')\n",
      "v = v.drop('etype', 1)\n",
      "v = v.join(dummies.ix[:, 1:])\n",
      "dummies = pd.get_dummies(v.issue1, prefix='issue1')\n",
      "v = v.drop('issue1', 1)\n",
      "v = v.join(dummies.ix[:, 1:])\n",
      "dummies = pd.get_dummies(v.escalation, prefix='escalation')\n",
      "v = v.drop('escalation', 1)\n",
      "v = v.join(dummies.ix[:, 1:])\n",
      "v['intercept'] = 1.0\n",
      "modp4 = sm.Poisson(v.ndeath, v[v.columns[1:]], missing='drop').fit(method='bfgs')\n",
      "#print modp4.summary()"
     ],
     "language": "python",
     "metadata": {},
     "outputs": [
      {
       "output_type": "stream",
       "stream": "stdout",
       "text": [
        "Warning: Maximum number of iterations has been exceeded.\n",
        "         Current function value: 29.249953\n",
        "         Iterations: 35\n",
        "         Function evaluations: 40\n",
        "         Gradient evaluations: 40\n"
       ]
      }
     ],
     "prompt_number": 15
    },
    {
     "cell_type": "code",
     "collapsed": false,
     "input": [
      "# Remove locnum - all coefficients are positive.  does that make intuitive sense?\n",
      "v = train[['ndeath', 'cgovtarget', 'etype', 'issue1', 'cinc', 'escalation']]\n",
      "v = v[~np.isnan(v).any(1)]\n",
      "dummies = pd.get_dummies(v.etype, prefix='etype')\n",
      "v = v.drop('etype', 1)\n",
      "v = v.join(dummies.ix[:, 1:])\n",
      "dummies = pd.get_dummies(v.issue1, prefix='issue1')\n",
      "v = v.drop('issue1', 1)\n",
      "v = v.join(dummies.ix[:, 1:])\n",
      "dummies = pd.get_dummies(v.escalation, prefix='escalation')\n",
      "v = v.drop('escalation', 1)\n",
      "v = v.join(dummies.ix[:, 1:])\n",
      "v['intercept'] = 1.0\n",
      "modp5 = sm.Poisson(v.ndeath, v[v.columns[1:]], missing='drop').fit(method='bfgs')\n",
      "#print modp5.summary()"
     ],
     "language": "python",
     "metadata": {},
     "outputs": [
      {
       "output_type": "stream",
       "stream": "stdout",
       "text": [
        "Warning: Maximum number of iterations has been exceeded.\n",
        "         Current function value: 29.249953\n",
        "         Iterations: 35\n",
        "         Function evaluations: 40\n",
        "         Gradient evaluations: 40\n"
       ]
      }
     ],
     "prompt_number": 16
    },
    {
     "cell_type": "code",
     "collapsed": false,
     "input": [
      "# Try without either escalation or locnum\n",
      "v = train[['ndeath', 'cgovtarget', 'etype', 'issue1', 'cinc']]\n",
      "v = v[~np.isnan(v).any(1)]\n",
      "dummies = pd.get_dummies(v.etype, prefix='etype')\n",
      "v = v.drop('etype', 1)\n",
      "v = v.join(dummies.ix[:, 1:])\n",
      "dummies = pd.get_dummies(v.issue1, prefix='issue1')\n",
      "v = v.drop('issue1', 1)\n",
      "v = v.join(dummies.ix[:, 1:])\n",
      "v['intercept'] = 1.0\n",
      "modp6 = sm.Poisson(v.ndeath, v[v.columns[1:]], missing='drop').fit(method='bfgs')\n",
      "#print modp6.summary()"
     ],
     "language": "python",
     "metadata": {},
     "outputs": [
      {
       "output_type": "stream",
       "stream": "stdout",
       "text": [
        "Warning: Maximum number of iterations has been exceeded.\n",
        "         Current function value: 30.846363\n",
        "         Iterations: 35\n",
        "         Function evaluations: 40\n",
        "         Gradient evaluations: 40\n"
       ]
      }
     ],
     "prompt_number": 17
    },
    {
     "cell_type": "code",
     "collapsed": false,
     "input": [
      "# Compute Mean Squared Prediction Errors for the various logit models to perform model selection\n",
      "#Model 1\n",
      "v = test[['ndeath', 'ccode', 'cgovtarget', 'etype', 'irst', 'pec', 'cinc']]\n",
      "v = v[~np.isnan(v).any(1)]\n",
      "dummies = pd.get_dummies(v.etype, prefix='etype')\n",
      "v = v.drop('etype', 1)\n",
      "v = v.join(dummies.ix[:, 1:])\n",
      "dummies = pd.get_dummies(v.ccode, prefix='ccode')\n",
      "v = v.drop('ccode', 1)\n",
      "v = v.join(dummies.ix[:, 1:])\n",
      "v['intercept'] = 1.0\n",
      "ests = modp1.predict(v[v.columns[1:]])\n",
      "true = v[['ndeath']].values\n",
      "mspe1 = np.sum(np.square(true-ests))\n",
      "\n",
      "#Model 2\n",
      "v = test[['ndeath', 'locnum', 'cgovtarget', 'etype', 'cinc']]\n",
      "v = v[~np.isnan(v).any(1)]\n",
      "dummies = pd.get_dummies(v.etype, prefix='etype')\n",
      "v = v.drop('etype', 1)\n",
      "v = v.join(dummies.ix[:, 1:])\n",
      "dummies = pd.get_dummies(v.locnum, prefix='locnum')\n",
      "v = v.drop('locnum', 1)\n",
      "v = v.join(dummies.ix[:, 1:])\n",
      "v['intercept'] = 1.0\n",
      "ests = modp2.predict(v[v.columns[1:]])\n",
      "true = v[['ndeath']].values\n",
      "mspe2 = np.sum(np.square(true-ests))\n",
      "\n",
      "#Model 3\n",
      "v = test[['ndeath', 'locnum', 'cgovtarget', 'etype', 'issue1', 'cinc']]\n",
      "v = v[~np.isnan(v).any(1)]\n",
      "dummies = pd.get_dummies(v.etype, prefix='etype')\n",
      "v = v.drop('etype', 1)\n",
      "v = v.join(dummies.ix[:, 1:])\n",
      "dummies = pd.get_dummies(v.locnum, prefix='locnum')\n",
      "v = v.drop('locnum', 1)\n",
      "v = v.join(dummies.ix[:, 1:])\n",
      "dummies = pd.get_dummies(v.issue1, prefix='issue1')\n",
      "v = v.drop('issue1', 1)\n",
      "v = v.join(dummies.ix[:, 1:])\n",
      "v['intercept'] = 1.0\n",
      "ests = modp3.predict(v[v.columns[1:]])\n",
      "true = v[['ndeath']].values\n",
      "mspe3 = np.sum(np.square(true-ests))\n",
      "\n",
      "#Model 4\n",
      "v = test[['ndeath', 'cgovtarget', 'etype', 'issue1', 'cinc', 'escalation']]\n",
      "v = v[~np.isnan(v).any(1)]\n",
      "dummies = pd.get_dummies(v.etype, prefix='etype')\n",
      "v = v.drop('etype', 1)\n",
      "v = v.join(dummies.ix[:, 1:])\n",
      "dummies = pd.get_dummies(v.issue1, prefix='issue1')\n",
      "v = v.drop('issue1', 1)\n",
      "v = v.join(dummies.ix[:, 1:])\n",
      "dummies = pd.get_dummies(v.escalation, prefix='escalation')\n",
      "v = v.drop('escalation', 1)\n",
      "v = v.join(dummies.ix[:, 1:])\n",
      "v['intercept'] = 1.0\n",
      "ests = modp4.predict(v[v.columns[1:]])\n",
      "true = v[['ndeath']].values\n",
      "mspe4 = np.sum(np.square(true-ests))\n",
      "\n",
      "#Model 5\n",
      "v = test[['ndeath', 'cgovtarget', 'etype', 'issue1', 'cinc', 'escalation']]\n",
      "v = v[~np.isnan(v).any(1)]\n",
      "dummies = pd.get_dummies(v.etype, prefix='etype')\n",
      "v = v.drop('etype', 1)\n",
      "v = v.join(dummies.ix[:, 1:])\n",
      "dummies = pd.get_dummies(v.issue1, prefix='issue1')\n",
      "v = v.drop('issue1', 1)\n",
      "v = v.join(dummies.ix[:, 1:])\n",
      "dummies = pd.get_dummies(v.escalation, prefix='escalation')\n",
      "v = v.drop('escalation', 1)\n",
      "v = v.join(dummies.ix[:, 1:])\n",
      "v['intercept'] = 1.0\n",
      "ests = modp5.predict(v[v.columns[1:]])\n",
      "true = v[['ndeath']].values\n",
      "mspe5 = np.sum(np.square(true-ests))\n",
      "\n",
      "#Model 6\n",
      "v = test[['ndeath', 'cgovtarget', 'etype', 'issue1', 'cinc']]\n",
      "v = v[~np.isnan(v).any(1)]\n",
      "dummies = pd.get_dummies(v.etype, prefix='etype')\n",
      "v = v.drop('etype', 1)\n",
      "v = v.join(dummies.ix[:, 1:])\n",
      "dummies = pd.get_dummies(v.issue1, prefix='issue1')\n",
      "v = v.drop('issue1', 1)\n",
      "v = v.join(dummies.ix[:, 1:])\n",
      "v['intercept'] = 1.0\n",
      "ests = modp6.predict(v[v.columns[1:]])\n",
      "true = v[['ndeath']].values\n",
      "mspe6 = np.sum(np.square(true-ests))\n",
      "\n",
      "#np.argmin([mspe1, mspe2, mspe3, mspe4, mspe5, mspe6])\n",
      "# Output suppressed for printable IPython notebook.  This tells which model has minimum prediction error."
     ],
     "language": "python",
     "metadata": {},
     "outputs": [
      {
       "metadata": {},
       "output_type": "pyout",
       "prompt_number": 18,
       "text": [
        "5"
       ]
      }
     ],
     "prompt_number": 18
    },
    {
     "cell_type": "code",
     "collapsed": false,
     "input": [
      "# try one more model to add back in country\n",
      "v = train[['ndeath', 'locnum', 'cgovtarget', 'etype', 'issue1', 'cinc', 'ccode']]\n",
      "v = v[~np.isnan(v).any(1)]\n",
      "dummies = pd.get_dummies(v.etype, prefix='etype')\n",
      "v = v.drop('etype', 1)\n",
      "v = v.join(dummies.ix[:, 1:])\n",
      "dummies = pd.get_dummies(v.locnum, prefix='locnum')\n",
      "v = v.drop('locnum', 1)\n",
      "v = v.join(dummies.ix[:, 1:])\n",
      "dummies = pd.get_dummies(v.issue1, prefix='issue1')\n",
      "v = v.drop('issue1', 1)\n",
      "v = v.join(dummies.ix[:, 1:])\n",
      "dummies = pd.get_dummies(v.ccode, prefix='ccode')\n",
      "v = v.drop('ccode', 1)\n",
      "v = v.join(dummies.ix[:, 1:])\n",
      "v['intercept'] = 1.0\n",
      "modp3_2 = sm.Poisson(v.ndeath, v[v.columns[1:]], missing='drop').fit(method='bfgs')\n",
      "#print modp3_2.summary()"
     ],
     "language": "python",
     "metadata": {},
     "outputs": [
      {
       "output_type": "stream",
       "stream": "stdout",
       "text": [
        "Warning: Maximum number of iterations has been exceeded.\n",
        "         Current function value: 22.167518\n",
        "         Iterations: 35\n",
        "         Function evaluations: 40\n",
        "         Gradient evaluations: 40\n"
       ]
      }
     ],
     "prompt_number": 19
    },
    {
     "cell_type": "code",
     "collapsed": false,
     "input": [
      "# try one more model to add back in country\n",
      "v = train[['ndeath', 'locnum', 'cgovtarget', 'etype', 'issue1', 'cinc', 'escalation']]\n",
      "v = v[~np.isnan(v).any(1)]\n",
      "dummies = pd.get_dummies(v.etype, prefix='etype')\n",
      "v = v.drop('etype', 1)\n",
      "v = v.join(dummies.ix[:, 1:])\n",
      "dummies = pd.get_dummies(v.locnum, prefix='locnum')\n",
      "v = v.drop('locnum', 1)\n",
      "v = v.join(dummies.ix[:, 1:])\n",
      "dummies = pd.get_dummies(v.issue1, prefix='issue1')\n",
      "v = v.drop('issue1', 1)\n",
      "v = v.join(dummies.ix[:, 1:])\n",
      "dummies = pd.get_dummies(v.escalation, prefix='escalation')\n",
      "v = v.drop('escalation', 1)\n",
      "v = v.join(dummies.ix[:, 1:])\n",
      "v['intercept'] = 1.0\n",
      "modp3_3 = sm.Poisson(v.ndeath, v[v.columns[1:]], missing='drop').fit(method='bfgs')\n",
      "#print modp3_3.summary()"
     ],
     "language": "python",
     "metadata": {},
     "outputs": [
      {
       "output_type": "stream",
       "stream": "stdout",
       "text": [
        "Warning: Maximum number of iterations has been exceeded.\n",
        "         Current function value: 26.463825\n",
        "         Iterations: 35\n",
        "         Function evaluations: 40\n",
        "         Gradient evaluations: 40\n"
       ]
      }
     ],
     "prompt_number": 20
    },
    {
     "cell_type": "code",
     "collapsed": false,
     "input": [
      "# Compute Mean Squared Prediction Errors for the various logit models to perform model selection\n",
      "#Model 3v2\n",
      "v = test[['ndeath', 'locnum', 'cgovtarget', 'etype', 'issue1', 'cinc', 'ccode']]\n",
      "v = v[~np.isnan(v).any(1)]\n",
      "dummies = pd.get_dummies(v.etype, prefix='etype')\n",
      "v = v.drop('etype', 1)\n",
      "v = v.join(dummies.ix[:, 1:])\n",
      "dummies = pd.get_dummies(v.locnum, prefix='locnum')\n",
      "v = v.drop('locnum', 1)\n",
      "v = v.join(dummies.ix[:, 1:])\n",
      "dummies = pd.get_dummies(v.issue1, prefix='issue1')\n",
      "v = v.drop('issue1', 1)\n",
      "v = v.join(dummies.ix[:, 1:])\n",
      "dummies = pd.get_dummies(v.ccode, prefix='ccode')\n",
      "v = v.drop('ccode', 1)\n",
      "v = v.join(dummies.ix[:, 1:])\n",
      "v['intercept'] = 1.0\n",
      "ests = modp3_2.predict(v[v.columns[1:]])\n",
      "true = v[['ndeath']].values\n",
      "mspe3_2 = np.sum(np.square(true-ests))\n",
      "\n",
      "#Model 3v3\n",
      "v = test[['ndeath', 'locnum', 'cgovtarget', 'etype', 'issue1', 'cinc', 'escalation']]\n",
      "v = v[~np.isnan(v).any(1)]\n",
      "dummies = pd.get_dummies(v.etype, prefix='etype')\n",
      "v = v.drop('etype', 1)\n",
      "v = v.join(dummies.ix[:, 1:])\n",
      "dummies = pd.get_dummies(v.locnum, prefix='locnum')\n",
      "v = v.drop('locnum', 1)\n",
      "v = v.join(dummies.ix[:, 1:])\n",
      "dummies = pd.get_dummies(v.issue1, prefix='issue1')\n",
      "v = v.drop('issue1', 1)\n",
      "v = v.join(dummies.ix[:, 1:])\n",
      "dummies = pd.get_dummies(v.escalation, prefix='escalation')\n",
      "v = v.drop('escalation', 1)\n",
      "v = v.join(dummies.ix[:, 1:])\n",
      "v['intercept'] = 1.0\n",
      "ests = modp3_3.predict(v[v.columns[1:]])\n",
      "true = v[['ndeath']].values\n",
      "mspe3_3 = np.sum(np.square(true-ests))\n",
      "\n",
      "\n",
      "#np.argmin([mspe3, mspe3_2, mspe3_3])\n",
      "#suppressed for printable notebook"
     ],
     "language": "python",
     "metadata": {},
     "outputs": [
      {
       "metadata": {},
       "output_type": "pyout",
       "prompt_number": 21,
       "text": [
        "0"
       ]
      }
     ],
     "prompt_number": 21
    },
    {
     "cell_type": "code",
     "collapsed": false,
     "input": [
      "# Residual vs. Fitted Value Plot for Best Poisson Model (on test set)\n",
      "v = test[['ndeath', 'locnum', 'cgovtarget', 'etype', 'issue1', 'cinc']]\n",
      "v = v[~np.isnan(v).any(1)]\n",
      "dummies = pd.get_dummies(v.etype, prefix='etype')\n",
      "v = v.drop('etype', 1)\n",
      "v = v.join(dummies.ix[:, 1:])\n",
      "dummies = pd.get_dummies(v.locnum, prefix='locnum')\n",
      "v = v.drop('locnum', 1)\n",
      "v = v.join(dummies.ix[:, 1:])\n",
      "dummies = pd.get_dummies(v.issue1, prefix='issue1')\n",
      "v = v.drop('issue1', 1)\n",
      "v = v.join(dummies.ix[:, 1:])\n",
      "v['intercept'] = 1.0\n",
      "estsP = modp3.predict(v[v.columns[1:]])\n",
      "true = v[['ndeath']].values\n",
      "trueP = true.T\n",
      "\n",
      "#separate 3 outliers into individual objects\n",
      "estsP_out = estsP[[258, 291, 815]]\n",
      "trueP_out = trueP.T[[258, 291, 815]].T\n",
      "estsP_del = np.delete(estsP, [258, 291, 815])\n",
      "trueP_del = np.delete(trueP, [258, 291, 815])"
     ],
     "language": "python",
     "metadata": {},
     "outputs": [],
     "prompt_number": 22
    },
    {
     "cell_type": "code",
     "collapsed": false,
     "input": [
      "# Try a decision tree with the same variables\n",
      "v = train[['ndeath', 'locnum', 'cgovtarget', 'etype', 'issue1', 'cinc']]\n",
      "v = v[~np.isnan(v).any(1)]\n",
      "Y = v.ndeath\n",
      "X = v[['ndeath', 'locnum', 'cgovtarget', 'etype', 'issue1', 'cinc']]\n",
      "from sklearn import tree\n",
      "clf = tree.DecisionTreeClassifier()\n",
      "clf = clf.fit(X, Y)\n",
      "v = test[['ndeath', 'locnum', 'cgovtarget', 'etype', 'issue1', 'cinc']]\n",
      "v = v[~np.isnan(v).any(1)]\n",
      "Y = v.ndeath\n",
      "X = v[['ndeath', 'locnum', 'cgovtarget', 'etype', 'issue1', 'cinc']]\n",
      "estsCART = clf.predict(X)\n",
      "trueCART = np.array(Y)\n",
      "\n",
      "#separate 3 outliers into individual objects\n",
      "estsCART_out = estsCART[[258, 291, 815]]\n",
      "trueCART_out = trueCART.T[[258, 291, 815]].T\n",
      "estsCART_del = np.delete(estsCART, [258, 291, 815])\n",
      "trueCART_del = np.delete(trueCART, [258, 291, 815])"
     ],
     "language": "python",
     "metadata": {},
     "outputs": [],
     "prompt_number": 23
    },
    {
     "cell_type": "code",
     "collapsed": false,
     "input": [
      "# Use the same variablesto fit and test a KNN\n",
      "v = train[['ndeath', 'locnum', 'cgovtarget', 'etype', 'issue1', 'cinc']]\n",
      "v = v[~np.isnan(v).any(1)]\n",
      "dummies = pd.get_dummies(v.etype, prefix='etype')\n",
      "v = v.drop('etype', 1)\n",
      "v = v.join(dummies.ix[:, 1:])\n",
      "dummies = pd.get_dummies(v.locnum, prefix='locnum')\n",
      "v = v.drop('locnum', 1)\n",
      "v = v.join(dummies.ix[:, 1:])\n",
      "dummies = pd.get_dummies(v.issue1, prefix='issue1')\n",
      "v = v.drop('issue1', 1)\n",
      "v = v.join(dummies.ix[:, 1:])\n",
      "v['intercept'] = 1.0\n",
      "\n",
      "\n",
      "KNN = KNeighborsClassifier(n_neighbors=3)\n",
      "KNN.fit(v[v.columns[1:]], v.ndeath)\n",
      "\n",
      "v = test[['ndeath', 'locnum', 'cgovtarget', 'etype', 'issue1', 'cinc']]\n",
      "v = v[~np.isnan(v).any(1)]\n",
      "dummies = pd.get_dummies(v.etype, prefix='etype')\n",
      "v = v.drop('etype', 1)\n",
      "v = v.join(dummies.ix[:, 1:])\n",
      "dummies = pd.get_dummies(v.locnum, prefix='locnum')\n",
      "v = v.drop('locnum', 1)\n",
      "v = v.join(dummies.ix[:, 1:])\n",
      "dummies = pd.get_dummies(v.issue1, prefix='issue1')\n",
      "v = v.drop('issue1', 1)\n",
      "v = v.join(dummies.ix[:, 1:])\n",
      "v['intercept'] = 1.0\n",
      "true = v[['ndeath']].values\n",
      "estsKNN = KNeighborsClassifier.predict(KNN, v[v.columns[1:]])\n",
      "trueKNN = true.T\n",
      "\n",
      "#separate 3 outliers into individual objects\n",
      "estsKNN_out = estsKNN[[258, 291, 815]]\n",
      "trueKNN_out = trueKNN.T[[258, 291, 815]].T\n",
      "estsKNN_del = np.delete(estsKNN, (258, 291, 815))\n",
      "trueKNN_del = np.delete(trueKNN, (258, 291, 815))"
     ],
     "language": "python",
     "metadata": {},
     "outputs": [],
     "prompt_number": 24
    },
    {
     "cell_type": "code",
     "collapsed": false,
     "input": [
      "# Make residual plots for the models\n",
      "fig = figure(figsize=(12,6), dpi=300)\n",
      "\n",
      "#PLOT THE POISSON\n",
      "ax1 = plt.subplot(131)\n",
      "width = 0.5\n",
      "p1 = ax1.scatter(np.log(estsP_del+1), trueP_del-estsP_del, color='black', alpha=0.2)\n",
      "ax1.scatter(np.log(estsP_out+1), trueP_out-estsP_out, color=[dark[1], dark[2], dark[3]])\n",
      "ax1.set_xlim((-0.5,7.5))\n",
      "ax11 = ax1.twiny()\n",
      "oldAx = (0, 1, 3, 5, 7)\n",
      "ax11.set_xlim((-0.5, 7.5))\n",
      "ax11.set_xticks(oldAx)\n",
      "ax11.set_xticklabels(np.round(exp(oldAx)-1, decimals=2))\n",
      "\n",
      "axesToLose = ['top', 'right']\n",
      "for axis in axesToLose:\n",
      "    ax1.spines[axis].set_visible(False)\n",
      "    \n",
      "ax1.xaxis.set_ticks_position('bottom')\n",
      "ax1.yaxis.set_ticks_position('left')\n",
      "\n",
      "ax1.set_ylabel('Residuals', fontsize=12)\n",
      "ax1.set_ylim((-1000, 2000))\n",
      "ax1.axhline(0, color='#D8BFD8', ls='dashed', alpha=1)\n",
      "ax1.text(3.5,-900, 'Poisson Regression', style='italic', horizontalalignment='center')\n",
      "\n",
      "#PLOT THE KNN\n",
      "ax2 = plt.subplot(132)\n",
      "width = 0.5\n",
      "p2 = ax2.scatter(np.log(estsKNN_del+1), trueKNN_del-estsKNN_del, color='black', alpha=0.2)\n",
      "ax2.scatter(np.log(estsKNN_out+1), trueKNN_out-estsKNN_out, color=[dark[1], dark[2], dark[3]])\n",
      "ax2.set_xlim((-0.5,7.5))\n",
      "ax21 = ax2.twiny()\n",
      "ax21.set_xlim((-0.5, 7.5))\n",
      "ax21.set_xticks(oldAx)\n",
      "ax21.set_xticklabels(np.round(exp(oldAx)-1, decimals=2))\n",
      "\n",
      "axesToLose = ['top', 'right']\n",
      "for axis in axesToLose:\n",
      "    ax2.spines[axis].set_visible(False)\n",
      "    \n",
      "ax2.xaxis.set_ticks_position('bottom')\n",
      "ax2.yaxis.set_ticks_position('left')\n",
      "ax2.set_yticklabels([])\n",
      "ax2.set_xlabel('log(Predicted Number of Deaths + 1)', fontsize=12)\n",
      "ax21.set_xlabel('Predicted Number of Deaths', fontsize=12)\n",
      "ax2.set_ylim((-1000, 2000))\n",
      "ax2.axhline(0, color='#D8BFD8', ls='dashed', alpha=1)\n",
      "ax2.text(3.5,-900, 'KNN (K=3)', style='italic', horizontalalignment='center')\n",
      "\n",
      "#PLOT THE CART\n",
      "ax3 = plt.subplot(133)\n",
      "width = 0.5\n",
      "p3 = ax3.scatter(np.log(estsCART_del +1), trueCART_del-estsCART_del, color='black', alpha=0.2)\n",
      "ax3.scatter(np.log(estsCART_out+1), trueCART_out-estsCART_out, color=[dark[1], dark[2], dark[3]])\n",
      "ax3.set_xlim((-0.5,7.5))\n",
      "ax31 = ax3.twiny()\n",
      "oldAx = (0, 1, 3, 5, 7)\n",
      "ax31.set_xlim((-0.5, 7.5))\n",
      "ax31.set_xticks(oldAx)\n",
      "ax31.set_xticklabels(np.round(exp(oldAx)-1, decimals=2))\n",
      "\n",
      "axesToLose = ['top', 'right']\n",
      "for axis in axesToLose:\n",
      "    ax3.spines[axis].set_visible(False)\n",
      "    \n",
      "ax3.xaxis.set_ticks_position('bottom')\n",
      "ax3.yaxis.set_ticks_position('left')\n",
      "ax3.set_yticklabels([])\n",
      "ax3.set_ylim((-1000, 2000))\n",
      "ax3.axhline(0, color='#D8BFD8', ls='dashed', alpha=1)\n",
      "ax3.text(3.5,-900, 'CART', style='italic', horizontalalignment='center')\n",
      "\n",
      "#add a legend and a main title\n",
      "leg1 = Line2D([0], [0], linestyle=\"none\", marker=\"o\", markersize=5, markerfacecolor=dark[1])\n",
      "leg2 = Line2D([0], [0], linestyle=\"none\", marker=\"o\", markersize=5, markerfacecolor=dark[2])\n",
      "leg3 = Line2D([0], [0], linestyle=\"none\", marker=\"o\", markersize=5, markerfacecolor=dark[3])\n",
      "labels = ['DR Congo, 1/28/93-2/3/93', 'DR Congo, 4/30/02-6/11/02', 'Nigeria, 5/15/92-5/20/92']\n",
      "\n",
      "ax3.legend((leg1, leg2, leg3), labels, numpoints=1, loc=9, prop={'size': 10})\n",
      "\n",
      "\n",
      "fig.suptitle('Figure 7: Prediction Accuracy (Fitted Values vs. Residuals) \\n', fontsize=15)\n",
      "plt.subplots_adjust(top=.86)\n",
      "plt.show()\n",
      "\n",
      "mspeP = np.sum(np.square(trueP - estsP))\n",
      "mspeK = np.sum(np.square(trueKNN - estsKNN))\n",
      "mspeC = np.sum(np.square(trueCART - estsCART))\n",
      "\n",
      "display(HTML(\"<left>\" + \"<font size=2>\" + \"Figure 7 shows the Fitted Value vs. Residual plots for predicting the number of deaths using the same set of variables from the same test dataset and three different modeling techniques: Poisson Regression, KNN (K=3), and CART Decision Tree.  It is interesting that the three models have very different prediction accuracies, generally unlike what we saw earlier with the binary models.  The CART tree encompasses about half the mean squared prediction error as the KNN model, which, in turn, has less than half of the prediction error of the Poisson Regression.  This analysis lends more support for the information encoded in these variables but also suggests that more work should be done with both parametric and nonparametric methods to fit the optimal model &mdash; all of these models seem to have problems predicting in some way or another.  The decision tree, the best model here, seems to have very good prediction accuracy for values up to around 500; however, values higher than that can result in large residuals, something that could be a problem depending on the model's intended application.\" + \"</font>\" + \"</left>\"))"
     ],
     "language": "python",
     "metadata": {},
     "outputs": [
      {
       "metadata": {},
       "output_type": "pyout",
       "prompt_number": 36,
       "text": [
        "(array([291, 815]),)"
       ]
      },
      {
       "metadata": {},
       "output_type": "display_data",
       "png": "[encoded data removed]",
       "text": [
        "<matplotlib.figure.Figure at 0x6833ad0>"
       ]
      }
     ],
     "prompt_number": 36
    },
    {
     "cell_type": "markdown",
     "metadata": {},
     "source": [
      "Figure 7, above, shows the results of these three models by plotting the natural log of fitted values (with an unlogged reference axis on top) against the size of the residual.  All three methods do a decent job at predicting.  The Poisson Regression and KNN models appear to be similar, with a decent amount of spread in the residuals and a tendency to overpredict as the fitted values get large.  The KNN has a large spike of residuals for conflicts that have a fitted value of 0 deaths; this could be an argument for the KNN model being the least successful of the three, as it isn\u2019t very comforting to know that the model is inaccurate at predicting conflicts with no deaths.  The decision tree, by contrast to the other two methods, seems to have residuals closely centered around zero with very little overarching pattern, suggesting that the tree could be a very successful model.\n",
      "\n",
      "However, all three methods have some very large residuals in the thousands, and exploration of those residuals shows that they are, in fact, the same set of conflicts across all three models (denoted in color by the legend in Figure 7).  Investigation into these particular conflicts does not yield any revelations into why they might be consistently poorly predicted.  The data for the conflicts does not seem unreasonable, so I am unwilling to completely throw them out as outliers.  While the decision tree seems to do an exceptional job at predicting on the test set, the presence of these outliers without a clear explanation as to why raises some concerns that something could be missing from the model.\n"
     ]
    },
    {
     "cell_type": "heading",
     "level": 2,
     "metadata": {},
     "source": [
      "5. Discussion"
     ]
    },
    {
     "cell_type": "markdown",
     "metadata": {},
     "source": [
      "Overall, the analyses up until this point seem to be somewhat successful.  We have built a set of models that rely on the same five variables\u2014location, event type, central government target, primary issue, & CINC score\u2014and seem relatively robust across methods at predicting on the test set.  Notably, the variable that seemed to have an impact during the first portion of this study, the Polity IV score for regime type, was not included in the variable selection process.  We had previously noted that the patterns highlighted in the analysis of regime type were counterintuitive to preconceived expectations and had wondered if the variable was truly a good predictor of deaths in a conflict.  The fact that the variable was not selected in either modeling effort suggests that perhaps the skepticism in exploratory analyses was warranted.\n",
      "\n",
      "Of more note than what was omitted is what variables were selected into the model.  The five selected variables do not come from any single school of scholarship.  The CINC score focuses on factors strictly related to the country\u2019s government, both related to natural resources and government policy.  The other four variables focus on the conflict itself, but they focus on different subareas of interest: geography, social concerns spurring the conflict, and conflict logistics.  In short, our analysis here does not support any one particular scholar\u2019s argument but rather supports the continued argument.  Conflict escalation seems to be as complex as the scholarship might suggest, a product of multiple factors that measure different aspects of the sociopolitical environment surrounding a conflict."
     ]
    },
    {
     "cell_type": "heading",
     "level": 2,
     "metadata": {},
     "source": [
      "6. Future Extensions and Final Conclusions"
     ]
    },
    {
     "cell_type": "markdown",
     "metadata": {},
     "source": [
      "While the conclusions in this study show promise, more work needs to be done before I can confidently add these results to the academic literature surrounding social conflict in Africa.  On one hand, future analyses should try to merge or generate more variables to better assess some of the existing hypotheses surrounding social conflict escalation: representations of ethnic groups within a country, weather patterns, election data, and historical food prices are some that come to mind.  On the other hand, the actual statistical analyses conducted here\u2014particularly concerning variable selection and model testing\u2014are rough at best.  I conducted analyses on this project before covering more advanced modeling techniques such as stepwise variable selection and an in-depth discussion of cross validation techniques.  While the original project proposal was approved without the implementation of these techniques, it would be much better to re-run these analyses using a more organized variable selection process such as stepwise selection and a more accurate model assessment process such as cross-validation.  Making such changes would allow us to have much more confidence in the usefulness and robustness of the results presented here.\n",
      "\n",
      "Limitations withstanding, this analysis represents a useful reproducible quantitative analysis of African social conflict.  In many ways, these conclusions support the variety of theoretical hypotheses surrounding conflict escalation: a combination of varied factors seems to impact the number of deaths that will result from an episode of social conflict.  These specific conclusions can be verified and refined through the study modifications suggested earlier.  Perhaps more important than the specific conclusions about the conflicts is the research process itself.  In stark contrast to previous studies using the SCAD, this study has its entire research workflow\u2014code, plots, datasets, documentation, etc.\u2014available on GitHub for other students and researchers to explore and build upon.   Such a transparent and reproducible workflow lays the groundwork for future work and is an important first step towards regularly using quantitative analyses to analyze sociopolitical issues such as social conflict in Africa. \n"
     ]
    },
    {
     "cell_type": "heading",
     "level": 2,
     "metadata": {},
     "source": [
      "7. References"
     ]
    },
    {
     "cell_type": "heading",
     "level": 3,
     "metadata": {},
     "source": [
      "7.1 Project Github"
     ]
    },
    {
     "cell_type": "markdown",
     "metadata": {},
     "source": [
      "http://www.github.com/boyasm/STAT-222"
     ]
    },
    {
     "cell_type": "heading",
     "level": 2,
     "metadata": {},
     "source": [
      "7.2 Datasets"
     ]
    },
    {
     "cell_type": "markdown",
     "metadata": {},
     "source": [
      "Grieg, J. Michael, et. al. *National Material Capabilities Dataset*. Version 4.0. 30 June 2010. Web. Accessed 25 February 2014.  http://www.correlatesofwar.org/COW2%20Data/Capabilities/nmc4.htm\n",
      "\n",
      "Hendrix, Cullen S., and Idean Saehyan.  *Social Conflict in Africa Database (SCAD)*. Version 3.0. 29 March 2012. Web. Accessed 5 February 2014.  www.scaddata.org\n",
      "\n",
      "Maoz, Zeev, and Errol A. Henderson. *World Religion Project*. Version 1.1. 17 August 2013. Web. Accessed 25 February 2014. http://www.correlatesofwar.org/COW2%20Data/Religion/Religion.htm\n",
      "\n",
      "Marshall, Monty G., Ted Robert Gurr, and Keith Jaggers. *Polity IV Project: Political Regime Characteristics and Transitions, 1800\u20132012*. Version 2012. 21 April 2013. Web. Accessed 25 February 2014. www.systemicpeace.org"
     ]
    },
    {
     "cell_type": "heading",
     "level": 2,
     "metadata": {},
     "source": [
      "7.3 Citations"
     ]
    },
    {
     "cell_type": "markdown",
     "metadata": {},
     "source": [
      "need to add epigraphs and social conflict definition from scad website\n",
      "\n",
      "Dahrendorf, Ralf. *The Modern Social Conflict: The Politics of Liberty*. 2nd ed. New Brunswick, NJ, USA: Transaction, 2008. Print.\n",
      "\n",
      "De Angelis, Massimo. Keynesianism, Social Conflict and Political Economy. London: Macmillan, 2000. Print.\n",
      "Devlin, Colleen, Brittany Franck, and Cullen S. Hendrix. \u201cTrends and Triggers: Climate Change and Interstate Conflict.\u201d *Climate Change and African Political Stability*. December 2013: Research Brief No. 21. Web.\n",
      "\n",
      "Fielding, Nigel G. *The Police and Social Conflict*. 2nd ed. London: Glasshouse, 2005. Print.\n",
      "\n",
      "Maoz, Zeev, and Errol A. Henderson. \u201cThe World Religion Dataset, 1945-2010: Logic, Estimates, and Trends.\u201d *International Interactions*. 39.3 (2013): 265-291.\n",
      "\n",
      "O\u2019Brian, Jay. \u201cEthnicity, National Identity and Social Conflict.\u201d *Social Science and Conflict Analysis: Proceedings of the International Conference* The Role of Social Science in Conflict Resolution *Held in Helsinki 9\u201313.1.1993*. 3. Ed. A. Hurskainen and M. Salih. Helsinki: Helsinki UP, 1993. 60\u201382. Print.  \n",
      "\n",
      "Salehyan, Idean, and Christopher Linebarger. \u201cElections and Social Conflict in Africa.\u201d *Climate Change and African Political Stability*. February 2013: Research Brief No. 6. Web.\n",
      "\n",
      "Salehyan, Idean, Cullen S. Hendrix, Jesse Hamner, Christina Case, Christopher Linebarger, Emily Stull, and \n",
      "Jennifer Williams. \"Social Conflict in Africa: A New Database.\u201d *International Interactions*3/cfiprz. 38.4 (2012): 503-511. \n",
      "\n",
      "Scherrer, Christian P. *Genocide and Crisis in Central Africa: Conflict Roots, Mass Violence, and Regional War*. Westport, CT, USA: Praeger, 2002. Print.\n",
      "\n",
      "Singer, J. David, Stuart Bremer, and John Stuckey. \"Capability Distribution, Uncertainty, and Major Power War, 1820-1965.\" *Peace, War, and Numbers*. Ed. Bruce Russett. Beverly Hills: Sage, 1972. 19-48.\n",
      "\n",
      "Smith, Todd G. \u201cFood Price Spikes and Social Unrest in Africa.\u201d *Climate Change and African Political Stability*. April 2013: Research Brief No. 11. Web.\n",
      "\n",
      "Wood, Adrian P. \u201cNatural Resource Conflicts in South-West Ethiopia: State, Communities, and the Role of the National Conservation Strategy in the search for Sustainable Development.\u201d *Social Science and Conflict Analysis: Proceedings of the International Conference* The Role of Social Science in Conflict Resolution *Held in Helsinki 9\u201313.1.1993*. Ed. A. Hurskainen and M. Salih. Helsinki: Helsinki UP, 1993. 83\u2013102. Print. "
     ]
    },
    {
     "cell_type": "code",
     "collapsed": false,
     "input": [],
     "language": "python",
     "metadata": {},
     "outputs": []
    }
   ],
   "metadata": {}
  }
 ]
}