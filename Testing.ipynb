{
 "metadata": {
  "name": ""
 },
 "nbformat": 3,
 "nbformat_minor": 0,
 "worksheets": [
  {
   "cells": [
    {
     "cell_type": "code",
     "collapsed": false,
     "input": [
      "import numpy as np\n",
      "import pandas as pd\n",
      "import matplotlib as mpl\n",
      "import matplotlib.pyplot as plt\n",
      "import scipy as sp\n",
      "import collections as col\n",
      "import statsmodels.api as sm\n",
      "\n",
      "\n",
      "from statsmodels.formula.api import logit, probit, poisson\n",
      "from scipy import stats\n",
      "from scipy.stats import nbinom\n",
      "from sklearn.cross_validation import KFold, cross_val_score\n",
      "from sklearn.neighbors import KNeighborsClassifier\n",
      "from sklearn import tree\n",
      "from mpl_toolkits.basemap import Basemap\n",
      "from IPython.display import display\n",
      "from IPython.display import HTML"
     ],
     "language": "python",
     "metadata": {},
     "outputs": [],
     "prompt_number": 3
    },
    {
     "cell_type": "code",
     "collapsed": false,
     "input": [
      "%%file boyas_test.py\n",
      "\n",
      "import numpy as np\n",
      "import pandas as pd\n",
      "import matplotlib as mpl\n",
      "import matplotlib.pyplot as plt\n",
      "import scipy as sp\n",
      "import collections as col\n",
      "import statsmodels.api as sm\n",
      "\n",
      "\n",
      "from statsmodels.formula.api import logit, probit, poisson\n",
      "from scipy import stats\n",
      "from scipy.stats import nbinom\n",
      "from sklearn.cross_validation import KFold, cross_val_score\n",
      "from sklearn.neighbors import KNeighborsClassifier\n",
      "from sklearn import tree\n",
      "from mpl_toolkits.basemap import Basemap\n",
      "from IPython.display import display\n",
      "from IPython.display import HTML\n",
      "\n",
      "# This code was written using Scipy 0.13.3, Numpy 1.6.1, Pandas 0.12.0, XLRD 0.9.2, Matplotlib Basemap 1.0.6, GEOS 3.3.3\n",
      "# It may not be compatibile with other module versions\n",
      "# Code version 14 April 2014\n",
      "# No known bugs\n",
      "\n",
      "# Lines of code (underneath code comment and before assert statement) are taken from this project's main iPython Notebook\n",
      "\n",
      "# Test that all conflicts starting prior to 1990 were removed\n",
      "def test_1():\n",
      "    #create sample dataset: start with all zeros and make 15 years pre-1990\n",
      "    scad = pd.DataFrame(data=np.zeros((8000, 42)), columns=['eventid','ccode','id','countryname','startdate','enddate','duration','stday','stmo','styr','eday','emo','eyr','etype','escalation','actor1','actor2','actor3','target1','target2','cgovtarget','rgovtarget','npart','ndeath','repress','elocal','ilocal','sublocal','locnum','gislocnum','issue1','issue2','issue3','issuenote','nsource','notes','coder','ACD_questionable','latitude','longitude','geo_comments','location_precision'])\n",
      "    scad.styr = 1995\n",
      "    scad.styr[0:15] = 1987\n",
      "    \n",
      "    #code\n",
      "    scad = scad[scad.styr>=1990]\n",
      "    assert len(scad) == 7985\n",
      "\n",
      "# Test that all conflicts that exceed one calendar year were removed\n",
      "def test_2():\n",
      "    #create sample dataset: start with all zeroes amd make 15 conflicts exceed one year\n",
      "    scad = pd.DataFrame(data=np.zeros((8000, 42)), columns=['eventid','ccode','id','countryname','startdate','enddate','duration','stday','stmo','styr','eday','emo','eyr','etype','escalation','actor1','actor2','actor3','target1','target2','cgovtarget','rgovtarget','npart','ndeath','repress','elocal','ilocal','sublocal','locnum','gislocnum','issue1','issue2','issue3','issuenote','nsource','notes','coder','ACD_questionable','latitude','longitude','geo_comments','location_precision'])\n",
      "    scad.styr = 1995\n",
      "    scad.eyr = 1995\n",
      "    scad.styr[0:15] = 1987\n",
      "    \n",
      "    #code\n",
      "    scad = scad[scad.styr == scad.eyr]\n",
      "    assert len(scad) == 7985  \n",
      "\n",
      "# Test all duplicated rows were removed    \n",
      "def test_3():\n",
      "    #create sample dataset: start with zeroes and then remove all duplicates (all but first row are the same)\n",
      "    scad = pd.DataFrame(data=np.zeros((8000, 42)), columns=['eventid','ccode','id','countryname','startdate','enddate','duration','stday','stmo','styr','eday','emo','eyr','etype','escalation','actor1','actor2','actor3','target1','target2','cgovtarget','rgovtarget','npart','ndeath','repress','elocal','ilocal','sublocal','locnum','gislocnum','issue1','issue2','issue3','issuenote','nsource','notes','coder','ACD_questionable','latitude','longitude','geo_comments','location_precision'])\n",
      "    \n",
      "    #code\n",
      "    scad = scad.drop_duplicates(cols='eventid')\n",
      "    assert len(scad) == 1\n",
      "\n",
      "def test_4():\n",
      "    # Merge in World Religions from COW\n",
      "    wrp = pd.read_csv('/accounts/grad/mboyas/STAT-222/Raw Datasets/COW/WRP_national.csv')\n",
      "    wrp = wrp[wrp.columns[np.concatenate([np.array([0,1,8,13,21]), np.arange(25,38,1)])]]\n",
      "    wrp['domRel'] = wrp.idxmax(axis=1)\n",
      "    # determine the dominant religion\n",
      "    wrp = wrp[wrp.columns[[0,1,18]]]\n",
      "    newcols = wrp.columns.values\n",
      "    newcols[0] = 'styr'\n",
      "    newcols[1] = 'ccode'\n",
      "    wrp.columns=newcols\n",
      "    wrp = pd.merge(scad[scad.columns[[1,9]]].drop_duplicates(), wrp, on=['ccode', 'styr'], how='left')\n",
      "    wrp = wrp.fillna(method='ffill')\n",
      "    wrp.domRel = pd.Categorical(wrp.domRel)\n",
      "    scad = pd.merge(scad, wrp, on=['ccode', 'styr'], how='left') \n",
      "\n",
      "# Test setting values as NaN    \n",
      "def test_5():\n",
      "    #create sample dataset: start with zeroes, set 15 events as -99 (the code for missing)\n",
      "    scad = pd.DataFrame(data=np.zeros((8000, 42)), columns=['eventid','ccode','id','countryname','startdate','enddate','duration','stday','stmo','styr','eday','emo','eyr','etype','escalation','actor1','actor2','actor3','target1','target2','cgovtarget','rgovtarget','npart','ndeath','repress','elocal','ilocal','sublocal','locnum','gislocnum','issue1','issue2','issue3','issuenote','nsource','notes','coder','ACD_questionable','latitude','longitude','geo_comments','location_precision'])\n",
      "    scad.npart[0:15] = -99\n",
      "    \n",
      "    #code\n",
      "    scad.npart = scad['npart'].astype(float)\n",
      "    scad.npart[scad.npart == -99] = np.nan\n",
      "    assert np.isnan(scad.npart).sum() == 15\n",
      "    \n",
      "    \n",
      "# Test recoding of a string level variable as numeric codes (used for dominant religion)\n",
      "def test_6():\n",
      "    #create sample dataset: \n",
      "    scad = pd.DataFrame(data=np.repeat(('a','b','c','d'), 2000), columns=['domRel'])\n",
      "    \n",
      "    #code\n",
      "    levels = dict([(val, i) for i, val in enumerate(set(scad.domRel))])\n",
      "    scad['domRelNum'] = [levels[val] for val in scad.domRel]\n",
      "    np.testing.assert_array_equal( scad['domRelNum'], np.repeat((0,2,1,3), 2000)) \n",
      "    \n",
      "# Test coding of death/nodeath indicator variable\n",
      "def test_7():\n",
      "    #create sample dataset: start with zeroes, set 4752 events as 1 death\n",
      "    scad = pd.DataFrame(data=np.zeros((8000, 42)), columns=['eventid','ccode','id','countryname','startdate','enddate','duration','stday','stmo','styr','eday','emo','eyr','etype','escalation','actor1','actor2','actor3','target1','target2','cgovtarget','rgovtarget','npart','ndeath','repress','elocal','ilocal','sublocal','locnum','gislocnum','issue1','issue2','issue3','issuenote','nsource','notes','coder','ACD_questionable','latitude','longitude','geo_comments','location_precision'])\n",
      "    scad.ndeath[1:4752] = 1\n",
      "    \n",
      "    #code\n",
      "    scad['death01']=scad.ndeath\n",
      "    scad.death01[scad.death01>0] = 1\n",
      "    scad.death01[scad.ndeath == np.nan] = np.nan\n",
      "    np.testing.assert_array_equal(scad.ndeath, scad.death01)"
     ],
     "language": "python",
     "metadata": {},
     "outputs": [
      {
       "output_type": "stream",
       "stream": "stdout",
       "text": [
        "Overwriting boyas_test.py\n"
       ]
      }
     ],
     "prompt_number": 61
    },
    {
     "cell_type": "code",
     "collapsed": false,
     "input": [
      "np.testing.assert_array_equal( array(scad['domRelNum'].values), np.repeat((0,2,1,3), 2000)) \n",
      "    "
     ],
     "language": "python",
     "metadata": {},
     "outputs": [],
     "prompt_number": 56
    },
    {
     "cell_type": "code",
     "collapsed": false,
     "input": [
      "scad = pd.DataFrame(data=np.repeat(('a','b','c','d'), 2000), columns=['domRel'])\n",
      "#code\n",
      "levels = dict([(val, i) for i, val in enumerate(set(scad.domRel))])\n",
      "scad['domRelNum'] = [levels[val] for val in scad.domRel]\n"
     ],
     "language": "python",
     "metadata": {},
     "outputs": [],
     "prompt_number": 54
    },
    {
     "cell_type": "code",
     "collapsed": false,
     "input": [
      "list(enumerate(set(scad.domRel)))"
     ],
     "language": "python",
     "metadata": {},
     "outputs": [
      {
       "metadata": {},
       "output_type": "pyout",
       "prompt_number": 45,
       "text": [
        "[(0, 'a'), (1, 'c'), (2, 'b'), (3, 'd')]"
       ]
      }
     ],
     "prompt_number": 45
    },
    {
     "cell_type": "code",
     "collapsed": false,
     "input": [
      "np.repeat((0,2,1,3), 2000)"
     ],
     "language": "python",
     "metadata": {},
     "outputs": [
      {
       "metadata": {},
       "output_type": "pyout",
       "prompt_number": 46,
       "text": [
        "array([0, 0, 0, ..., 3, 3, 3])"
       ]
      }
     ],
     "prompt_number": 46
    },
    {
     "cell_type": "code",
     "collapsed": false,
     "input": [],
     "language": "python",
     "metadata": {},
     "outputs": []
    }
   ],
   "metadata": {}
  }
 ]
}