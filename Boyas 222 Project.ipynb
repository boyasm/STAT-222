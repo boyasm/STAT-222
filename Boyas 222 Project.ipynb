{
 "metadata": {
  "name": ""
 },
 "nbformat": 3,
 "nbformat_minor": 0,
 "worksheets": [
  {
   "cells": [
    {
     "cell_type": "markdown",
     "metadata": {},
     "source": [
      "#What Results in Death?  \n",
      "##*Analysis of Social Conflict in Africa, 1990&ndash;2011*\n",
      "\n",
      "###Matthew Boyas <br/> STAT 222, MA Capstone <br/> 9 May 2014"
     ]
    },
    {
     "cell_type": "code",
     "collapsed": false,
     "input": [
      "import numpy as np\n",
      "import pandas as pd\n",
      "import matplotlib as mpl\n",
      "import matplotlib.pyplot as plt\n",
      "import scipy as sp\n",
      "import collections as col\n",
      "import statsmodels.api as sm\n",
      "\n",
      "\n",
      "from statsmodels.formula.api import logit, probit, poisson\n",
      "from scipy import stats\n",
      "from scipy.stats import nbinom\n",
      "from sklearn.cross_validation import KFold, cross_val_score\n",
      "from sklearn.neighbors import KNeighborsClassifier\n",
      "from sklearn import tree\n",
      "from mpl_toolkits.basemap import Basemap\n",
      "from IPython.display import display\n",
      "from IPython.display import HTML\n",
      "\n",
      "# This code was written using Scipy 0.13.3, Numpy 1.6.1, Pandas 0.12.0, XLRD 0.9.2, Matplotlib Basemap 1.0.6, GEOS 3.3.3\n",
      "# It may not be compatibile with other module versions\n",
      "# Code version 3 March 2014\n",
      "# No known bugs\n",
      "\n",
      "pd.options.display.max_columns = 100\n",
      "import warnings\n",
      "warnings.filterwarnings(\"ignore\", category=DeprecationWarning, module=\"pandas\", lineno=570)\n",
      "#This ignores a bug that results when using pandas 0.12 alongside sklearn.  It will be fixed,\n",
      "#according to pandas developers, in pandas 0.13."
     ],
     "language": "python",
     "metadata": {},
     "outputs": [],
     "prompt_number": 1
    },
    {
     "cell_type": "code",
     "collapsed": false,
     "input": [
      "# Define color palette for graphing and plots\n",
      "# Print friendly as well as somewhat colorblind friendly\n",
      "# Palettes are ColorBrewer's Set2 and Dark2 palettes\n",
      "light = ['#66C2A5', '#FC8D62', '#8DA0CB', '#E78AC3', '#A6D654', '#FFD92F', '#E5C494', '#B3B3B3']\n",
      "dark = ['#003262', '#FDB515', '#1B9E77', '#D95F02', '#7570B3', '#E7298A', '#66A61E', '#E6AB02', '#A6761D', '#666666']"
     ],
     "language": "python",
     "metadata": {},
     "outputs": [],
     "prompt_number": 2
    },
    {
     "cell_type": "heading",
     "level": 2,
     "metadata": {},
     "source": [
      "Data Import, Merging, Cleaning, & Manipulation"
     ]
    },
    {
     "cell_type": "markdown",
     "metadata": {},
     "source": [
      "All datasets used in this project are made freely available through various academic sources on the Internet.  For ease of replicability, I have made local snapshots of the datasets available on the GitHub repository:\n",
      "\n",
      "https://github.com/boyasm/STAT-222"
     ]
    },
    {
     "cell_type": "code",
     "collapsed": false,
     "input": [
      "scad = pd.read_excel('/accounts/grad/mboyas/STAT-222/Raw Datasets/SCAD 3.0/SCAD 3.0 1990-2011.xls', 'SCAD 3.0(2).csv')\n",
      "# Remove all conflicts starting prior to 1990 (see documentation)\n",
      "scad = scad[scad.styr>=1990]\n",
      "\n",
      "# Remove all conflicts that exceed one calendar year to simplify analyses\n",
      "scad = scad[scad.styr == scad.eyr]\n",
      "\n",
      "# Remove all duplicated rows (see documentation re: GIS)\n",
      "scad = scad.drop_duplicates(cols='eventid')"
     ],
     "language": "python",
     "metadata": {},
     "outputs": [],
     "prompt_number": 3
    },
    {
     "cell_type": "code",
     "collapsed": false,
     "input": [
      "# Merge in Polity IV\n",
      "polity = pd.read_excel('/accounts/grad/mboyas/STAT-222/Raw Datasets/Polity IV/p4v2012.xls', 'p4v2012')\n",
      "polity = polity[[\"ccode\", \"country\", \"year\", \"fragment\", \"democ\", \"autoc\", \"polity\", \"polity2\"]]\n",
      "newcols = polity.columns.values\n",
      "newcols[2] = 'styr'\n",
      "polity.columns=newcols\n",
      "scad = pd.merge(scad, polity, on=['ccode', 'styr'], how='left')"
     ],
     "language": "python",
     "metadata": {},
     "outputs": [],
     "prompt_number": 4
    },
    {
     "cell_type": "code",
     "collapsed": false,
     "input": [
      "# Merge in NMC from COW\n",
      "nmc = pd.read_csv('/accounts/grad/mboyas/STAT-222/Raw Datasets/COW/NMC_v4_0.csv', na_values='-9')\n",
      "nmc = nmc[nmc.columns[1:10]]\n",
      "newcols = nmc.columns.values\n",
      "newcols[1] = 'styr'\n",
      "nmc.columns=newcols\n",
      "scad = pd.merge(scad, nmc, on=['ccode', 'styr'], how='left')"
     ],
     "language": "python",
     "metadata": {},
     "outputs": [],
     "prompt_number": 5
    },
    {
     "cell_type": "code",
     "collapsed": false,
     "input": [
      "# Merge in World Religions from COW\n",
      "wrp = pd.read_csv('/accounts/grad/mboyas/STAT-222/Raw Datasets/COW/WRP_national.csv')\n",
      "wrp = wrp[wrp.columns[np.concatenate([np.array([0,1,8,13,21]), np.arange(25,38,1)])]]\n",
      "yearState = wrp[['year', 'state']]\n",
      "wrp = wrp.ix[:,2:]\n",
      "wrp['domRel'] = wrp.idxmax(axis=1)\n",
      "wrp = pd.DataFrame(wrp.domRel)\n",
      "wrp = pd.merge(yearState, wrp, left_index=True, right_index=True)\n",
      "# determine the dominant religion\n",
      "newcols = wrp.columns.values\n",
      "newcols[0] = 'styr'\n",
      "newcols[1] = 'ccode'\n",
      "wrp.columns=newcols\n",
      "wrp = pd.merge(scad[scad.columns[[1,9]]].drop_duplicates(), wrp, on=['ccode', 'styr'], how='left')\n",
      "wrp = wrp.fillna(method='ffill')\n",
      "wrp.domRel = pd.Categorical(wrp.domRel)\n",
      "scad = pd.merge(scad, wrp, on=['ccode', 'styr'], how='left')"
     ],
     "language": "python",
     "metadata": {},
     "outputs": [],
     "prompt_number": 6
    },
    {
     "cell_type": "code",
     "collapsed": false,
     "input": [
      "# Set all INT variables as FLOAT to enable coding as np.nan\n",
      "for i in range(len(scad.columns)):\n",
      "    if scad[scad.columns[i]].dtype == int:\n",
      "        scad[scad.columns[i]] = scad[scad.columns[i]].astype(float)\n",
      "\n",
      "    "
     ],
     "language": "python",
     "metadata": {},
     "outputs": [],
     "prompt_number": 7
    },
    {
     "cell_type": "code",
     "collapsed": false,
     "input": [
      "#Code all dataset missing values as NaN\n",
      "scad.npart[scad.npart == -99] = np.nan\n",
      "scad.npart[scad.npart == -88] = np.nan\n",
      "scad.ndeath[scad.ndeath == -99] = np.nan\n",
      "scad.ndeath[scad.ndeath == -88] = np.nan\n",
      "scad.ndeath[scad.ndeath == -77] = np.nan\n",
      "scad.locnum[scad.locnum == -99] = np.nan\n",
      "scad.issue1[scad.issue1 == 14] = np.nan\n",
      "scad.issue1[scad.issue2 == 14] = np.nan\n",
      "scad.issue1[scad.issue3 == 14] = np.nan\n",
      "scad.fragment[scad.fragment == -66] = np.nan\n",
      "scad.fragment[scad.fragment == -77] = np.nan\n",
      "scad.fragment[scad.fragment == -88] = np.nan\n",
      "scad.democ[scad.democ == -66] = np.nan\n",
      "scad.democ[scad.democ == -77] = np.nan\n",
      "scad.democ[scad.democ == -88] = np.nan \n",
      "scad.autoc[scad.autoc == -66] = np.nan\n",
      "scad.autoc[scad.autoc == -77] = np.nan\n",
      "scad.autoc[scad.autoc == -88] = np.nan\n",
      "scad.polity[scad.polity == -66] = np.nan\n",
      "scad.polity[scad.polity == -77] = np.nan\n",
      "scad.polity[scad.polity == -88] = np.nan\n",
      "scad.polity2[scad.polity2 == -66] = np.nan\n",
      "scad.polity[scad.polity2 == -77] = np.nan\n",
      "scad.polity[scad.polity2 == -88] = np.nan\n",
      "scad.etype[scad.etype == -9] = np.nan"
     ],
     "language": "python",
     "metadata": {},
     "outputs": [],
     "prompt_number": 8
    },
    {
     "cell_type": "code",
     "collapsed": false,
     "input": [
      "#Recode dominant religion as a dummy numeric variable\n",
      "levels = dict([(val, i) for i, val in enumerate(set(scad.domRel))])\n",
      "scad['domRelNum'] = [levels[val] for val in scad.domRel]"
     ],
     "language": "python",
     "metadata": {},
     "outputs": [],
     "prompt_number": 9
    },
    {
     "cell_type": "code",
     "collapsed": false,
     "input": [
      "#Code indicator variable, 0 if no deaths, 1 if at least one death\n",
      "scad['death01']=scad.ndeath\n",
      "scad.death01[scad.death01>0] = 1\n",
      "scad.death01[scad.ndeath == np.nan] = np.nan"
     ],
     "language": "python",
     "metadata": {},
     "outputs": [],
     "prompt_number": 10
    },
    {
     "cell_type": "heading",
     "level": 2,
     "metadata": {},
     "source": [
      "Experimental Grouping Analyses & Correlations"
     ]
    },
    {
     "cell_type": "markdown",
     "metadata": {},
     "source": [
      "There are a lot of missing values in the dataset coded as NaN (in Numpy).  I did not want to delete the majority of my dataset by filtering out any row that has a missing observation; for example, the variable issue3 only has 86 non-missing values out of a total of 7838 rows in the dataset. Thus, I chose to remove the missing values for each level of analysis depending on the variabes that I choose to use.  Note that this decision could cause some plots to have slighly different ranges, but my hope is that these differences do not cause large interpretory issues of my results."
     ]
    },
    {
     "cell_type": "code",
     "collapsed": false,
     "input": [
      "grouped = scad.groupby('death01')\n",
      "grouped.aggregate(np.median)\n",
      "grouped.aggregate(np.mean)"
     ],
     "language": "python",
     "metadata": {},
     "outputs": [
      {
       "html": [
        "<div style=\"max-height:1000px;max-width:1500px;overflow:auto;\">\n",
        "<table border=\"1\" class=\"dataframe\">\n",
        "  <thead>\n",
        "    <tr style=\"text-align: right;\">\n",
        "      <th></th>\n",
        "      <th>eventid</th>\n",
        "      <th>ccode</th>\n",
        "      <th>id</th>\n",
        "      <th>duration</th>\n",
        "      <th>stday</th>\n",
        "      <th>stmo</th>\n",
        "      <th>styr</th>\n",
        "      <th>eday</th>\n",
        "      <th>emo</th>\n",
        "      <th>eyr</th>\n",
        "      <th>etype</th>\n",
        "      <th>escalation</th>\n",
        "      <th>cgovtarget</th>\n",
        "      <th>rgovtarget</th>\n",
        "      <th>npart</th>\n",
        "      <th>ndeath</th>\n",
        "      <th>repress</th>\n",
        "      <th>sublocal</th>\n",
        "      <th>locnum</th>\n",
        "      <th>gislocnum</th>\n",
        "      <th>issue1</th>\n",
        "      <th>issue2</th>\n",
        "      <th>issue3</th>\n",
        "      <th>nsource</th>\n",
        "      <th>ACD_questionable</th>\n",
        "      <th>latitude</th>\n",
        "      <th>longitude</th>\n",
        "      <th>fragment</th>\n",
        "      <th>democ</th>\n",
        "      <th>autoc</th>\n",
        "      <th>polity</th>\n",
        "      <th>polity2</th>\n",
        "      <th>irst</th>\n",
        "      <th>milex</th>\n",
        "      <th>milper</th>\n",
        "      <th>pec</th>\n",
        "      <th>tpop</th>\n",
        "      <th>upop</th>\n",
        "      <th>cinc</th>\n",
        "      <th>domRelNum</th>\n",
        "    </tr>\n",
        "    <tr>\n",
        "      <th>death01</th>\n",
        "      <th></th>\n",
        "      <th></th>\n",
        "      <th></th>\n",
        "      <th></th>\n",
        "      <th></th>\n",
        "      <th></th>\n",
        "      <th></th>\n",
        "      <th></th>\n",
        "      <th></th>\n",
        "      <th></th>\n",
        "      <th></th>\n",
        "      <th></th>\n",
        "      <th></th>\n",
        "      <th></th>\n",
        "      <th></th>\n",
        "      <th></th>\n",
        "      <th></th>\n",
        "      <th></th>\n",
        "      <th></th>\n",
        "      <th></th>\n",
        "      <th></th>\n",
        "      <th></th>\n",
        "      <th></th>\n",
        "      <th></th>\n",
        "      <th></th>\n",
        "      <th></th>\n",
        "      <th></th>\n",
        "      <th></th>\n",
        "      <th></th>\n",
        "      <th></th>\n",
        "      <th></th>\n",
        "      <th></th>\n",
        "      <th></th>\n",
        "      <th></th>\n",
        "      <th></th>\n",
        "      <th></th>\n",
        "      <th></th>\n",
        "      <th></th>\n",
        "      <th></th>\n",
        "      <th></th>\n",
        "    </tr>\n",
        "  </thead>\n",
        "  <tbody>\n",
        "    <tr>\n",
        "      <th>0</th>\n",
        "      <td> 5237366.559140</td>\n",
        "      <td> 523.717535</td>\n",
        "      <td> 191.207610</td>\n",
        "      <td> 4.871588</td>\n",
        "      <td> 15.221257</td>\n",
        "      <td> 6.305418</td>\n",
        "      <td> 2001.997932</td>\n",
        "      <td> 16.080852</td>\n",
        "      <td> 6.404467</td>\n",
        "      <td> 2001.997932</td>\n",
        "      <td> 3.804177</td>\n",
        "      <td> 0.330645</td>\n",
        "      <td> 0.577957</td>\n",
        "      <td> 0.051489</td>\n",
        "      <td> 3.415624</td>\n",
        "      <td>  0.000000</td>\n",
        "      <td> 0.246691</td>\n",
        "      <td> 1.033912</td>\n",
        "      <td> 2.725225</td>\n",
        "      <td>-0.929901</td>\n",
        "      <td> 6.656783</td>\n",
        "      <td> 6.383707</td>\n",
        "      <td> 8.844444</td>\n",
        "      <td> 0.436725</td>\n",
        "      <td> 0.007444</td>\n",
        "      <td> 2.850657</td>\n",
        "      <td> 17.049998</td>\n",
        "      <td> 0.266167</td>\n",
        "      <td> 3.113037</td>\n",
        "      <td> 2.73023</td>\n",
        "      <td> 0.382807</td>\n",
        "      <td> 0.440979</td>\n",
        "      <td> 1286.445935</td>\n",
        "      <td>  914651.891509</td>\n",
        "      <td> 69.761247</td>\n",
        "      <td> 69726.417113</td>\n",
        "      <td> 34607.410926</td>\n",
        "      <td> 7629.150699</td>\n",
        "      <td> 0.003086</td>\n",
        "      <td> 1.064516</td>\n",
        "    </tr>\n",
        "    <tr>\n",
        "      <th>1</th>\n",
        "      <td> 5162870.017782</td>\n",
        "      <td> 516.261158</td>\n",
        "      <td> 258.441771</td>\n",
        "      <td> 4.628661</td>\n",
        "      <td> 15.122385</td>\n",
        "      <td> 6.251743</td>\n",
        "      <td> 2001.798466</td>\n",
        "      <td> 15.564854</td>\n",
        "      <td> 6.356695</td>\n",
        "      <td> 2001.798466</td>\n",
        "      <td> 6.616109</td>\n",
        "      <td> 0.516039</td>\n",
        "      <td> 0.277545</td>\n",
        "      <td> 0.064854</td>\n",
        "      <td> 2.967298</td>\n",
        "      <td> 30.811715</td>\n",
        "      <td> 0.489191</td>\n",
        "      <td> 1.070084</td>\n",
        "      <td> 3.395292</td>\n",
        "      <td> 2.630056</td>\n",
        "      <td> 7.523339</td>\n",
        "      <td> 7.543524</td>\n",
        "      <td> 6.641026</td>\n",
        "      <td> 0.520572</td>\n",
        "      <td> 0.043584</td>\n",
        "      <td> 1.039060</td>\n",
        "      <td> 21.869196</td>\n",
        "      <td> 0.648680</td>\n",
        "      <td> 3.789972</td>\n",
        "      <td> 2.05298</td>\n",
        "      <td> 1.736991</td>\n",
        "      <td> 1.591363</td>\n",
        "      <td> 1744.512457</td>\n",
        "      <td> 1035289.580565</td>\n",
        "      <td> 67.626248</td>\n",
        "      <td> 78352.929633</td>\n",
        "      <td> 42194.788961</td>\n",
        "      <td> 8831.501391</td>\n",
        "      <td> 0.003646</td>\n",
        "      <td> 1.002789</td>\n",
        "    </tr>\n",
        "  </tbody>\n",
        "</table>\n",
        "</div>"
       ],
       "metadata": {},
       "output_type": "pyout",
       "prompt_number": 11,
       "text": [
        "                eventid       ccode          id  duration      stday  \\\n",
        "death01                                                                \n",
        "0        5237366.559140  523.717535  191.207610  4.871588  15.221257   \n",
        "1        5162870.017782  516.261158  258.441771  4.628661  15.122385   \n",
        "\n",
        "             stmo         styr       eday       emo          eyr     etype  \\\n",
        "death01                                                                      \n",
        "0        6.305418  2001.997932  16.080852  6.404467  2001.997932  3.804177   \n",
        "1        6.251743  2001.798466  15.564854  6.356695  2001.798466  6.616109   \n",
        "\n",
        "         escalation  cgovtarget  rgovtarget     npart     ndeath   repress  \\\n",
        "death01                                                                      \n",
        "0          0.330645    0.577957    0.051489  3.415624   0.000000  0.246691   \n",
        "1          0.516039    0.277545    0.064854  2.967298  30.811715  0.489191   \n",
        "\n",
        "         sublocal    locnum  gislocnum    issue1    issue2    issue3  \\\n",
        "death01                                                                \n",
        "0        1.033912  2.725225  -0.929901  6.656783  6.383707  8.844444   \n",
        "1        1.070084  3.395292   2.630056  7.523339  7.543524  6.641026   \n",
        "\n",
        "          nsource  ACD_questionable  latitude  longitude  fragment     democ  \\\n",
        "death01                                                                        \n",
        "0        0.436725          0.007444  2.850657  17.049998  0.266167  3.113037   \n",
        "1        0.520572          0.043584  1.039060  21.869196  0.648680  3.789972   \n",
        "\n",
        "           autoc    polity   polity2         irst           milex     milper  \\\n",
        "death01                                                                        \n",
        "0        2.73023  0.382807  0.440979  1286.445935   914651.891509  69.761247   \n",
        "1        2.05298  1.736991  1.591363  1744.512457  1035289.580565  67.626248   \n",
        "\n",
        "                  pec          tpop         upop      cinc  domRelNum  \n",
        "death01                                                                \n",
        "0        69726.417113  34607.410926  7629.150699  0.003086   1.064516  \n",
        "1        78352.929633  42194.788961  8831.501391  0.003646   1.002789  "
       ]
      }
     ],
     "prompt_number": 11
    },
    {
     "cell_type": "code",
     "collapsed": false,
     "input": [
      "#T Tests\n",
      "#Run a series of unequal variance, two-sample T-Tests across the binary death01 variable to get a feel for what might be significant\n",
      "#Note, though, that the sample size is large (7838), so many tests could be significant simply due to large n\n",
      "death = scad[scad.death01==1]\n",
      "noDeath = scad[scad.death01==0]\n",
      "\n",
      "tests = ['duration', 'etype', 'escalation', 'cgovtarget', 'rgovtarget', 'npart', 'issue1', 'issue2', 'issue3', 'nsource', 'polity', 'polity2', 'domRelNum']\n",
      "for val in tests:\n",
      "    print val\n",
      "    print sp.stats.ttest_ind(death[val][~np.isnan(death[val])], noDeath[val][~np.isnan(noDeath[val])], equal_var=False)\n",
      "    \n"
     ],
     "language": "python",
     "metadata": {},
     "outputs": [
      {
       "output_type": "stream",
       "stream": "stdout",
       "text": [
        "duration\n",
        "(array(-0.6191845920484388), 0.53582363662933341)\n",
        "etype\n",
        "(array(45.25647926762926), 0.0)\n",
        "escalation\n",
        "(array(5.501096413280938), 3.9758488353637421e-08)\n",
        "cgovtarget\n",
        "(array(-27.37948468667773), 2.7444336572226109e-156)\n",
        "rgovtarget\n",
        "(array(2.3905804113531386), 0.016855122166157831)\n",
        "npart\n",
        "(array(-7.712361475803531), 3.827789900366002e-14)\n",
        "issue1\n",
        "(array(8.987688769843748), 3.4456273733061221e-19)\n",
        "issue2\n",
        "(array(5.826617939496881), 7.590613069373708e-09)\n",
        "issue3\n",
        "(array(-3.4257606454584377), 0.0010949932512394106)\n",
        "nsource\n",
        "(array(7.139369574626679), 1.0488298097688245e-12)\n",
        "polity\n",
        "(array(9.756527174433069), 2.8855726574799853e-22)\n",
        "polity2\n",
        "(array(9.988017092316245), 2.5525560969023723e-23)\n",
        "domRelNum\n",
        "(array(-2.5464491709369006), 0.010906674426839512)\n"
       ]
      }
     ],
     "prompt_number": 12
    },
    {
     "cell_type": "code",
     "collapsed": false,
     "input": [
      "#Run some preliminary experimental correlations\n",
      "scad.ndeath.corr(scad.escalation)"
     ],
     "language": "python",
     "metadata": {},
     "outputs": [
      {
       "metadata": {},
       "output_type": "pyout",
       "prompt_number": 13,
       "text": [
        "0.023542145277172289"
       ]
      }
     ],
     "prompt_number": 13
    },
    {
     "cell_type": "code",
     "collapsed": false,
     "input": [
      "scad.ndeath.corr(scad.etype)"
     ],
     "language": "python",
     "metadata": {},
     "outputs": [
      {
       "metadata": {},
       "output_type": "pyout",
       "prompt_number": 14,
       "text": [
        "0.076513997138151713"
       ]
      }
     ],
     "prompt_number": 14
    },
    {
     "cell_type": "code",
     "collapsed": false,
     "input": [
      "scad.ndeath.corr(scad.duration)"
     ],
     "language": "python",
     "metadata": {},
     "outputs": [
      {
       "metadata": {},
       "output_type": "pyout",
       "prompt_number": 15,
       "text": [
        "0.21327331547766268"
       ]
      }
     ],
     "prompt_number": 15
    },
    {
     "cell_type": "code",
     "collapsed": false,
     "input": [
      "3tscad.ndeath.corr(scad.domRelNum)"
     ],
     "language": "python",
     "metadata": {},
     "outputs": [
      {
       "ename": "SyntaxError",
       "evalue": "invalid syntax (<ipython-input-16-16cc80a86271>, line 1)",
       "output_type": "pyerr",
       "traceback": [
        "\u001b[1;36m  File \u001b[1;32m\"<ipython-input-16-16cc80a86271>\"\u001b[1;36m, line \u001b[1;32m1\u001b[0m\n\u001b[1;33m    3tscad.ndeath.corr(scad.domRelNum)\u001b[0m\n\u001b[1;37m         ^\u001b[0m\n\u001b[1;31mSyntaxError\u001b[0m\u001b[1;31m:\u001b[0m invalid syntax\n"
       ]
      }
     ],
     "prompt_number": 16
    },
    {
     "cell_type": "code",
     "collapsed": false,
     "input": [
      "scad.ndeath.corr(scad.issue1)"
     ],
     "language": "python",
     "metadata": {},
     "outputs": [
      {
       "metadata": {},
       "output_type": "pyout",
       "prompt_number": 17,
       "text": [
        "-0.0012071784818209227"
       ]
      }
     ],
     "prompt_number": 17
    },
    {
     "cell_type": "heading",
     "level": 2,
     "metadata": {},
     "source": [
      "Descriptive Plots and Tables"
     ]
    },
    {
     "cell_type": "code",
     "collapsed": false,
     "input": [
      "grouped = scad.groupby('styr')\n",
      "totals = grouped.death01.aggregate(len)\n",
      "deaths = grouped.death01.aggregate(np.nansum)\n",
      "deaths[np.isnan(deaths)]=0\n",
      "nodeaths = totals - deaths\n",
      "years = np.arange(1990, 2012, 1)\n",
      "\n",
      "ax = plt.subplot(111)\n",
      "width=0.5\n",
      "p1 = ax.bar(years, nodeaths, width, color='b', align='center')\n",
      "p2 = ax.bar(years, deaths, width, color='r', align='center')\n",
      "axesToLose = ['top', 'right']\n",
      "for axis in axesToLose:\n",
      "    ax.spines[axis].set_visible(False)\n",
      "    \n",
      "ax.xaxis.set_ticks_position('none')\n",
      "ax.yaxis.set_ticks_position('left')\n",
      "    \n",
      "legend = ax.legend( (p1[0], p2[0]), ('No Deaths', 'Deaths'), loc=2, prop={'size':12})\n",
      "legend.get_frame().set_linewidth(0.0)\n",
      "\n",
      "ax.set_ylabel('Total Number of Conflict Events', fontsize=12)\n",
      "ylabs = ['' for x in range(0, 9, 1) ]\n",
      "for i in range(0, 9, 1):\n",
      "    ylabs[i] = str(range(0, 450, 50)[i])\n",
      "    \n",
      "ax.set_yticklabels(ylabs, fontsize=8)\n",
      "\n",
      "ax.set_xlabel('Start Year of Conflict', fontsize=12)\n",
      "ax.set_xlim((1989, 2012))\n",
      "\n",
      "ax.set_xticks(years)\n",
      "ax.set_xticklabels(years, rotation=70, fontsize=8)\n",
      "plt.subplots_adjust(bottom=0.11, left=0.09, right=0.99, top=0.93)\n",
      "\n",
      "ax.set_title('Figure 1: Number of Death and No Death Conflicts by Year \\n', fontsize=15)\n",
      "\n",
      "plt.savefig('fig1.pdf', format='pdf', bbox_inches='tight')"
     ],
     "language": "python",
     "metadata": {},
     "outputs": [
      {
       "metadata": {},
       "output_type": "display_data",
       "png": "[encoded data removed]",
       "text": [
        "<matplotlib.figure.Figure at 0x7310950>"
       ]
      }
     ],
     "prompt_number": 18
    },
    {
     "cell_type": "markdown",
     "metadata": {},
     "source": [
      "Figure 1, above, is a split bar-chart, with one bar per year, visually showing the number of conflicts resulting in deaths relative to the total number of conflicts per year. Each bar represents all conflicts in the specified year and is split into two pieces, one piece for conflicts resulting in deaths and one piece for conflicts resulting in no deaths.  Note that with the exception of the spike in death conflicts in 2011 (most likely attributable to the Arab Spring), the number of conflicts result in deaths remain somewhat constant across the years of analysis.  Additionally, the number of conflicts resulting in no-deaths show a somewhat increasing trend as more governments democratize following the political revolutions of the 20th Century until the late 2000s, when dissatisfaction with incomplete democratization begins to set in&mdash;which, in turn, led to the Arab Spring."
     ]
    },
    {
     "cell_type": "code",
     "collapsed": false,
     "input": [
      "noNan = scad.ndeath[~np.isnan(scad.ndeath)]\n",
      "counts = col.Counter(noNan)\n",
      "bins = np.arange(0, 10, 1)\n",
      "freqs = [0]*len(counts)\n",
      "j=0\n",
      "for i in np.unique(counts):\n",
      "    freqs[j] = counts[i]\n",
      "    j = j+1\n",
      " \n",
      "freqs = np.array(freqs)\n",
      "histFreqs = [0]*10\n",
      "c = unique(counts)\n",
      "histFreqs[0] = freqs[c==0]\n",
      "histFreqs[1] = freqs[c==1]\n",
      "histFreqs[2] = freqs[c==2]\n",
      "histFreqs[3] = freqs[c==3]\n",
      "histFreqs[4] = freqs[c==4]\n",
      "histFreqs[5] = np.sum(freqs[(c>=5) & (c<=10)])\n",
      "histFreqs[6] = np.sum(freqs[(c>=11) & (c<=50)])\n",
      "histFreqs[7] = np.sum(freqs[(c>=51) & (c<=100)])\n",
      "histFreqs[8] = np.sum(freqs[(c>=101) & (c<=200)])\n",
      "histFreqs[9] = np.sum(freqs[(c>=201) & (c<=5000)])\n",
      "\n",
      "fig = plt.figure(dpi=300)\n",
      "ax = plt.subplot2grid((1,7), (0,2), colspan=5)\n",
      "width=0.5\n",
      "p1 = ax.bar(bins[0], histFreqs[0], color='b', align='center')\n",
      "p2 = ax.bar(bins[1:], histFreqs[1:], color='r', align='center')\n",
      "\n",
      "axesToLose = ['top', 'right']\n",
      "for axis in axesToLose:\n",
      "    ax.spines[axis].set_visible(False)\n",
      "    \n",
      "ax.xaxis.set_ticks_position('none')\n",
      "ax.yaxis.set_ticks_position('left')\n",
      "    \n",
      "legend = ax.legend( (p1[0], p2[0]), ('No Deaths', 'Deaths'), loc=1, prop={'size':12})\n",
      "legend.get_frame().set_linewidth(0.0)\n",
      "\n",
      "ylabs = ['' for x in range(0, 6, 1) ]\n",
      "for i in range(0, 6, 1):\n",
      "    ylabs[i] = str(range(0, 6000, 1000)[i])\n",
      "    \n",
      "ax.set_yticklabels(ylabs, fontsize=8)\n",
      "    \n",
      "xlabs = ['' for x in range(0, 13, 1) ]\n",
      "\n",
      "ax.set_xticks(bins)\n",
      "xlabs = ['0',' 1',' 2',' 3', '4', ' 5-10',' 11-50',' 51-100',' 101-200',' 201-5000']\n",
      "ax.set_xticklabels(xlabs, fontsize=8, rotation=70)\n",
      "ax.set_xlim((-1, 10))\n",
      "\n",
      "ax2 = plt.subplot2grid((1,7), (0, 0))\n",
      "p3 = ax2.bar(1, histFreqs[0], color='b', align='center', width=0.5)\n",
      "p4 = ax2.bar(1.7, np.sum(histFreqs[1:]), color='r', align='center', width=0.5)\n",
      "\n",
      "axesToLose = ['top', 'right']\n",
      "for axis in axesToLose:\n",
      "    ax2.spines[axis].set_visible(False)\n",
      "    \n",
      "ax2.xaxis.set_ticks_position('none')\n",
      "ax2.yaxis.set_ticks_position('left')\n",
      "ax2.set_ylabel('Frequency', fontsize=12)\n",
      "\n",
      "ax2.set_yticklabels(ylabs, fontsize=8)\n",
      "ax2.set_xlim((0.5, 2.2))\n",
      "ax2.set_xticks((1, 1.7))\n",
      "ax2.set_xticklabels(['0', '1-5000'], fontsize=8, rotation=70)\n",
      "\n",
      "\n",
      "fig.suptitle('Figure 2: Distribution of the Number of Deaths \\n', fontsize=15)\n",
      "fig.text(0.35,-0.1,'Number of Deaths', fontsize=12)\n",
      "plt.savefig('fig2.pdf', format='pdf', bbox_inches='tight')"
     ],
     "language": "python",
     "metadata": {},
     "outputs": [
      {
       "metadata": {},
       "output_type": "display_data",
       "png": "[encoded data removed]",
       "text": [
        "<matplotlib.figure.Figure at 0x843c610>"
       ]
      }
     ],
     "prompt_number": 19
    },
    {
     "cell_type": "markdown",
     "metadata": {},
     "source": [
      "Figure 2 is a set of two bar charts intended to show the frequencies of the number of deaths in all of the African social conflicts from 1990&ndash;2011.  The left plot shows the number of conflicts that resulted in no deaths and at least one death. The right plot shows the same frequency bar for no death conflicts but bins the conflicts resulting in at least one death.  Note the extreme overdispersion and zero-inflation on this more detailed plot; while there are over 2000 conflicts resulting in at least one death, the actual number of deaths ranges from one death to 5000 deaths.  This zero-inflated, overdispersed distribution of the actual number of deaths could be a problem for the modeling effort."
     ]
    },
    {
     "cell_type": "code",
     "collapsed": false,
     "input": [
      "noNan = scad[['ndeath', 'npart']]\n",
      "noNan = noNan[~np.isnan(noNan).any(1)]\n",
      "noNan = noNan[noNan.npart!=0]\n",
      "\n",
      "jitter = 0.05\n",
      "jittered = [x + np.random.uniform(-jitter, jitter) for x in noNan.npart]\n",
      "\n",
      "ax = plt.subplot(111)\n",
      "width=0.5\n",
      "p1 = ax.scatter(jittered, noNan.ndeath, color='black', alpha=0.2)\n",
      "\n",
      "axesToLose = ['top', 'right']\n",
      "for axis in axesToLose:\n",
      "    ax.spines[axis].set_visible(False)\n",
      "    \n",
      "ax.xaxis.set_ticks_position('none')\n",
      "ax.yaxis.set_ticks_position('left')\n",
      "\n",
      "ax.set_ylabel('Number of Deaths', fontsize=12)\n",
      "ylabs = ['' for x in range(-1, 9, 1) ]\n",
      "for i in range(0, 10, 1):\n",
      "    ylabs[i] = str(range(-100, 900, 100)[i])\n",
      "    \n",
      "ax.set_yticklabels(ylabs, fontsize=8)\n",
      "    \n",
      "ax.set_xlabel('Number of Participants', fontsize=12)\n",
      "xlabs = ['' for x in range(1, 8, 1) ]\n",
      "xlabs[0]='less than 10'\n",
      "xlabs[1]='10-100'\n",
      "xlabs[2]='101-1000'\n",
      "xlabs[3]='1001-10000'\n",
      "xlabs[4]='10001-100000'\n",
      "xlabs[5]='100001-1000000'\n",
      "xlabs[6]='over 1000000'\n",
      "\n",
      "ax.set_xticks(range(1, 8, 1))\n",
      "ax.set_xticklabels(xlabs, fontsize=8, rotation=70)\n",
      "ax.set_xlim((0, 8))\n",
      "\n",
      "ax.set_title('Figure 3: Deaths by Conflict Size \\n', fontsize=15)\n",
      "\n",
      "plt.savefig('fig3.pdf', format='pdf', bbox_inches='tight')"
     ],
     "language": "python",
     "metadata": {},
     "outputs": [
      {
       "metadata": {},
       "output_type": "display_data",
       "png": "[encoded data removed]",
       "text": [
        "<matplotlib.figure.Figure at 0x6e1b650>"
       ]
      }
     ],
     "prompt_number": 20
    },
    {
     "cell_type": "markdown",
     "metadata": {},
     "source": [
      "Figure 3, above, is a scatterplot showing the number of participants (binned by the original coders of the SCAD dataset) vs. the continuous variable number of deaths.  The points are translucent and jittered slightly to try to show the density.  It was expected that the plot should show an increasing relationship between participants and number of deaths, simply based on the idea that a conflict involving more people has higher odds to result in a death.  The plot does not necessarily show this relationship, though the normal-esque relationship is probably an artifact of the dataset having significantly more observations in the center than at the tails of the number of participants variable."
     ]
    },
    {
     "cell_type": "code",
     "collapsed": false,
     "input": [
      "noNan = scad[['ndeath', 'duration']]\n",
      "noNan = noNan[~np.isnan(noNan).any(1)]\n",
      "\n",
      "ax = plt.subplot(111)\n",
      "width=0.5\n",
      "p1 = ax.scatter(noNan.duration, noNan.ndeath, color='black', alpha=0.2)\n",
      "\n",
      "axesToLose = ['top', 'right']\n",
      "for axis in axesToLose:\n",
      "    ax.spines[axis].set_visible(False)\n",
      "    \n",
      "ax.xaxis.set_ticks_position('bottom')\n",
      "ax.yaxis.set_ticks_position('left')\n",
      "\n",
      "ax.set_ylabel('Number of Deaths', fontsize=12)\n",
      "\n",
      "   \n",
      "ax.tick_params(axis='both', which='major', labelsize=8)\n",
      "ax.set_xlim((-25, 400))\n",
      "ax.set_ylim((-500, 5100))\n",
      "ax.set_xlabel('Duration (days)', fontsize=12)\n",
      "\n",
      "ax.set_title('Figure 4: Deaths by Conflict Duration \\n', fontsize=15)\n",
      "\n",
      "plt.savefig('fig4.pdf', format='pdf', bbox_inches='tight')"
     ],
     "language": "python",
     "metadata": {},
     "outputs": [
      {
       "metadata": {},
       "output_type": "display_data",
       "png": "[encoded data removed]",
       "text": [
        "<matplotlib.figure.Figure at 0x3bc8890>"
       ]
      }
     ],
     "prompt_number": 21
    },
    {
     "cell_type": "markdown",
     "metadata": {},
     "source": [
      "Motivated similarly as Figure 3, Figure 4 is a scatterplot of the duration of each conflict (in days) against the number of deaths.  It intuitively makes sense that there should be an increasing relationship between these variables, as the longer a conflict, the more chances for a death to result.  However, the plot does not support such a conclusion; taking into account the fact that we have many more shorter conflicts in the dataset, there does not seem to be that much of a relationship between duration and the number of deaths."
     ]
    },
    {
     "cell_type": "code",
     "collapsed": false,
     "input": [
      "#top 10 most violent conflicts table\n",
      "noNan = scad[~np.isnan(scad.ndeath)]\n",
      "top10 = noNan.sort(column='ndeath', ascending=False)[0:10]\n",
      "top10 = top10[['ndeath', 'countryname', 'startdate', 'enddate', 'duration']]\n",
      "top10.index = range(1,11,1)\n",
      "top10.startdate = top10['startdate'].map(lambda x:str(x)[:10])\n",
      "top10.enddate = top10['enddate'].map(lambda x:str(x)[:10])\n",
      "top10.columns = ['Deaths', 'Country', 'Start', 'End', 'Duration (days)']\n",
      "space = '&nbsp;'\n",
      "display(HTML(\"<left>\" + \"<font size=3>\" + space*50 + 'Table 1: Top 10 Most Violent Conflicts' + \"</font>\" + \"</left>\"))\n",
      "top10"
     ],
     "language": "python",
     "metadata": {},
     "outputs": [
      {
       "output_type": "stream",
       "stream": "stderr",
       "text": [
        "/usr/lib/python2.7/dist-packages/pandas/core/frame.py:3202: FutureWarning: column is deprecated, use columns\n",
        "  warnings.warn(\"column is deprecated, use columns\", FutureWarning)\n"
       ]
      },
      {
       "html": [
        "<left><font size=3>&nbsp;&nbsp;&nbsp;&nbsp;&nbsp;&nbsp;&nbsp;&nbsp;&nbsp;&nbsp;&nbsp;&nbsp;&nbsp;&nbsp;&nbsp;&nbsp;&nbsp;&nbsp;&nbsp;&nbsp;&nbsp;&nbsp;&nbsp;&nbsp;&nbsp;&nbsp;&nbsp;&nbsp;&nbsp;&nbsp;&nbsp;&nbsp;&nbsp;&nbsp;&nbsp;&nbsp;&nbsp;&nbsp;&nbsp;&nbsp;&nbsp;&nbsp;&nbsp;&nbsp;&nbsp;&nbsp;&nbsp;&nbsp;&nbsp;&nbsp;Table 1: Top 10 Most Violent Conflicts</font></left>"
       ],
       "metadata": {},
       "output_type": "display_data",
       "text": [
        "<IPython.core.display.HTML at 0x840bbd0>"
       ]
      },
      {
       "html": [
        "<div style=\"max-height:1000px;max-width:1500px;overflow:auto;\">\n",
        "<table border=\"1\" class=\"dataframe\">\n",
        "  <thead>\n",
        "    <tr style=\"text-align: right;\">\n",
        "      <th></th>\n",
        "      <th>Deaths</th>\n",
        "      <th>Country</th>\n",
        "      <th>Start</th>\n",
        "      <th>End</th>\n",
        "      <th>Duration (days)</th>\n",
        "    </tr>\n",
        "  </thead>\n",
        "  <tbody>\n",
        "    <tr>\n",
        "      <th>1 </th>\n",
        "      <td> 5000</td>\n",
        "      <td> Democratic Republic of the Congo</td>\n",
        "      <td> 1999-09-01</td>\n",
        "      <td> 1999-12-31</td>\n",
        "      <td> 122</td>\n",
        "    </tr>\n",
        "    <tr>\n",
        "      <th>2 </th>\n",
        "      <td> 3500</td>\n",
        "      <td> Democratic Republic of the Congo</td>\n",
        "      <td> 1993-03-20</td>\n",
        "      <td> 1993-08-31</td>\n",
        "      <td> 165</td>\n",
        "    </tr>\n",
        "    <tr>\n",
        "      <th>3 </th>\n",
        "      <td> 3000</td>\n",
        "      <td>                            Ghana</td>\n",
        "      <td> 1994-02-04</td>\n",
        "      <td> 1994-02-14</td>\n",
        "      <td>  11</td>\n",
        "    </tr>\n",
        "    <tr>\n",
        "      <th>4 </th>\n",
        "      <td> 3000</td>\n",
        "      <td>                          Nigeria</td>\n",
        "      <td> 1998-01-27</td>\n",
        "      <td> 1998-09-15</td>\n",
        "      <td> 232</td>\n",
        "    </tr>\n",
        "    <tr>\n",
        "      <th>5 </th>\n",
        "      <td> 2000</td>\n",
        "      <td>                           Rwanda</td>\n",
        "      <td> 1995-04-24</td>\n",
        "      <td> 1995-04-24</td>\n",
        "      <td>   1</td>\n",
        "    </tr>\n",
        "    <tr>\n",
        "      <th>6 </th>\n",
        "      <td> 1800</td>\n",
        "      <td>                          Nigeria</td>\n",
        "      <td> 1992-05-15</td>\n",
        "      <td> 1992-05-20</td>\n",
        "      <td>   6</td>\n",
        "    </tr>\n",
        "    <tr>\n",
        "      <th>7 </th>\n",
        "      <td> 1500</td>\n",
        "      <td> Democratic Republic of the Congo</td>\n",
        "      <td> 2009-03-30</td>\n",
        "      <td> 2009-06-30</td>\n",
        "      <td>  93</td>\n",
        "    </tr>\n",
        "    <tr>\n",
        "      <th>8 </th>\n",
        "      <td> 1500</td>\n",
        "      <td>                          Liberia</td>\n",
        "      <td> 1996-04-06</td>\n",
        "      <td> 1996-05-27</td>\n",
        "      <td>  52</td>\n",
        "    </tr>\n",
        "    <tr>\n",
        "      <th>9 </th>\n",
        "      <td> 1400</td>\n",
        "      <td> Democratic Republic of the Congo</td>\n",
        "      <td> 2002-04-30</td>\n",
        "      <td> 2002-06-11</td>\n",
        "      <td>  43</td>\n",
        "    </tr>\n",
        "    <tr>\n",
        "      <th>10</th>\n",
        "      <td> 1132</td>\n",
        "      <td>                     South Africa</td>\n",
        "      <td> 1990-08-12</td>\n",
        "      <td> 1990-10-01</td>\n",
        "      <td>  51</td>\n",
        "    </tr>\n",
        "  </tbody>\n",
        "</table>\n",
        "</div>"
       ],
       "metadata": {},
       "output_type": "pyout",
       "prompt_number": 22,
       "text": [
        "    Deaths                           Country       Start         End  \\\n",
        "1     5000  Democratic Republic of the Congo  1999-09-01  1999-12-31   \n",
        "2     3500  Democratic Republic of the Congo  1993-03-20  1993-08-31   \n",
        "3     3000                             Ghana  1994-02-04  1994-02-14   \n",
        "4     3000                           Nigeria  1998-01-27  1998-09-15   \n",
        "5     2000                            Rwanda  1995-04-24  1995-04-24   \n",
        "6     1800                           Nigeria  1992-05-15  1992-05-20   \n",
        "7     1500  Democratic Republic of the Congo  2009-03-30  2009-06-30   \n",
        "8     1500                           Liberia  1996-04-06  1996-05-27   \n",
        "9     1400  Democratic Republic of the Congo  2002-04-30  2002-06-11   \n",
        "10    1132                      South Africa  1990-08-12  1990-10-01   \n",
        "\n",
        "    Duration (days)  \n",
        "1               122  \n",
        "2               165  \n",
        "3                11  \n",
        "4               232  \n",
        "5                 1  \n",
        "6                 6  \n",
        "7                93  \n",
        "8                52  \n",
        "9                43  \n",
        "10               51  "
       ]
      }
     ],
     "prompt_number": 22
    },
    {
     "cell_type": "markdown",
     "metadata": {},
     "source": [
      "Table 1 lists the top 10 most violent conflicts in terms of absolute deaths.  Note the variation even amongst these 10 records: 6 different countries, 10 different years, 7 different months, and durations ranging from one day to almost 8 months.  There does not seem to be a unique profile that identifies a high-mortality conflict, which could create issues during the modeling phase of this project."
     ]
    },
    {
     "cell_type": "code",
     "collapsed": false,
     "input": [
      "#deaths no deaths by regime and dominant religion\n",
      "agg = scad.groupby(['death01', 'domRel']).size()\n",
      "r1 = [agg[0][x] for x in range(0, 4, 1)]\n",
      "r2 = [agg[1][x] for x in range(0, 4, 1)]\n",
      "religion = np.vstack((r1,r2))\n",
      "sums = np.sum(religion, axis=1).tolist()\n",
      "religion = np.column_stack((religion, sums))\n",
      "percents = np.round(100*religion.astype(float)/np.vstack((sums, sums, sums, sums, sums)).T, decimals=2)\n",
      "relPer = [[0 for x in xrange(5)] for x in xrange(2)]\n",
      "\n",
      "for i in range(0, 2, 1):\n",
      "    for j in range (0, 5, 1):\n",
      "        relPer[i][j] = str(religion[i][j]) + \" (\" + str(percents[i][j]) + \"%)\"\n",
      "        \n",
      "religion2=pd.DataFrame(relPer)\n",
      "\n",
      "religion2.index=['No Deaths', 'Deaths']\n",
      "religion2.columns = ['Animist', 'Christianity', 'Hinduism', 'Islam', 'Total']\n",
      "space = '&nbsp;'\n",
      "display(HTML(\"<left>\" + \"<font size=3>\" + space*17 + 'Table 2: Number of Death/No Death Conflicts by Dominant Religion' + \"</font>\" + \"</left>\"))\n",
      "religion2[['Islam', 'Christianity', 'Animist', 'Hinduism', 'Total']]"
     ],
     "language": "python",
     "metadata": {},
     "outputs": [
      {
       "html": [
        "<left><font size=3>&nbsp;&nbsp;&nbsp;&nbsp;&nbsp;&nbsp;&nbsp;&nbsp;&nbsp;&nbsp;&nbsp;&nbsp;&nbsp;&nbsp;&nbsp;&nbsp;&nbsp;Table 2: Number of Death/No Death Conflicts by Dominant Religion</font></left>"
       ],
       "metadata": {},
       "output_type": "display_data",
       "text": [
        "<IPython.core.display.HTML at 0x5c9f6d0>"
       ]
      },
      {
       "html": [
        "<div style=\"max-height:1000px;max-width:1500px;overflow:auto;\">\n",
        "<table border=\"1\" class=\"dataframe\">\n",
        "  <thead>\n",
        "    <tr style=\"text-align: right;\">\n",
        "      <th></th>\n",
        "      <th>Islam</th>\n",
        "      <th>Christianity</th>\n",
        "      <th>Animist</th>\n",
        "      <th>Hinduism</th>\n",
        "      <th>Total</th>\n",
        "    </tr>\n",
        "  </thead>\n",
        "  <tbody>\n",
        "    <tr>\n",
        "      <th>No Deaths</th>\n",
        "      <td> 2339 (48.37%)</td>\n",
        "      <td> 2333 (48.24%)</td>\n",
        "      <td> 159 (3.29%)</td>\n",
        "      <td>  5 (0.1%)</td>\n",
        "      <td> 4836 (100.0%)</td>\n",
        "    </tr>\n",
        "    <tr>\n",
        "      <th>Deaths</th>\n",
        "      <td> 1447 (50.45%)</td>\n",
        "      <td> 1385 (48.29%)</td>\n",
        "      <td>  35 (1.22%)</td>\n",
        "      <td> 1 (0.03%)</td>\n",
        "      <td> 2868 (100.0%)</td>\n",
        "    </tr>\n",
        "  </tbody>\n",
        "</table>\n",
        "</div>"
       ],
       "metadata": {},
       "output_type": "pyout",
       "prompt_number": 26,
       "text": [
        "                   Islam   Christianity      Animist   Hinduism          Total\n",
        "No Deaths  2339 (48.37%)  2333 (48.24%)  159 (3.29%)   5 (0.1%)  4836 (100.0%)\n",
        "Deaths     1447 (50.45%)  1385 (48.29%)   35 (1.22%)  1 (0.03%)  2868 (100.0%)"
       ]
      }
     ],
     "prompt_number": 26
    },
    {
     "cell_type": "code",
     "collapsed": false,
     "input": [
      "test=np.array(religion)\n",
      "test=test[:,0:4]\n",
      "sp.stats.chi2_contingency(test)"
     ],
     "language": "python",
     "metadata": {},
     "outputs": [
      {
       "metadata": {},
       "output_type": "pyout",
       "prompt_number": 29,
       "text": [
        "(33.241186826500432,\n",
        " 2.8646200551100694e-07,\n",
        " 3,\n",
        " array([[  1.21778816e+02,   2.33388474e+03,   3.76635514e+00,\n",
        "          2.37657009e+03],\n",
        "       [  7.22211838e+01,   1.38411526e+03,   2.23364486e+00,\n",
        "          1.40942991e+03]]))"
       ]
      }
     ],
     "prompt_number": 29
    },
    {
     "cell_type": "markdown",
     "metadata": {},
     "source": [
      "Table 2 shows the number of conflicts resulting in deaths / no deaths broken out by the dominant religion of the country (with row percentages in parentheses).  There does not seem to be any pattern here.  Christianity and Islam are the two major religions in Africa, and they show very similar numbers in the table output.  The high percentages of No Death conflicts in both Animist and Hindu dominated countries can probably be explained by the relatively small number of observations in both columns."
     ]
    },
    {
     "cell_type": "code",
     "collapsed": false,
     "input": [
      "#deaths no deaths by regime and dominant religion\n",
      "v = scad[['death01', 'polity', 'countryname']]\n",
      "v['pind'] = v.polity\n",
      "v.pind[(v.polity>=-10) & (v.polity<=-6)] = 1\n",
      "v.pind[(v.polity>=-5) & (v.polity<=-1)] = 2\n",
      "v.pind[v.polity==0] = 3\n",
      "v.pind[(v.polity>=1) & (v.polity<=5)] = 4\n",
      "v.pind[(v.polity>=6) & (v.polity<=10)] = 5\n",
      "v.pind[v.polity<-10] = np.nan\n",
      "v.pind[v.polity>10] = np.nan\n",
      "v = v[['death01', 'pind']]\n",
      "agg = v.groupby(['death01', 'pind']).size()\n",
      "r1 = [agg[0][x] for x in range(1, 6, 1)]\n",
      "r2 = [agg[1][x] for x in range(1, 6, 1)]\n",
      "regime = np.vstack((r1,r2))\n",
      "sums = np.sum(regime, axis=1)\n",
      "regime = np.column_stack((regime, sums))\n",
      "\n",
      "percents = np.round(100*regime.astype(float)/np.vstack((sums, sums, sums, sums, sums, sums)).T, decimals=2)\n",
      "regPer = [[0 for x in xrange(6)] for x in xrange(2)]\n",
      "\n",
      "for i in range(0, 2, 1):\n",
      "    for j in range (0, 6, 1):\n",
      "        regPer[i][j] = str(regime[i][j]) + \" (\" + str(percents[i][j]) + \"%)\"\n",
      "        \n",
      "regime2=pd.DataFrame(regPer)\n",
      "regime2.index=['No Deaths', 'Deaths']\n",
      "regime2.columns = ['Strong Autocracy', 'Weak Autocracy', 'Middle Ground', 'Weak Democracy', 'Strong Democracy', 'Total']\n",
      "space = '&nbsp;'\n",
      "display(HTML(\"<left>\" + \"<font size=3>\" + space*40 + 'Table 3: Number of Death/No Death Conflicts by Regime Type' + \"</font>\" + \"</left>\"))\n",
      "regime2"
     ],
     "language": "python",
     "metadata": {},
     "outputs": [
      {
       "html": [
        "<left><font size=3>&nbsp;&nbsp;&nbsp;&nbsp;&nbsp;&nbsp;&nbsp;&nbsp;&nbsp;&nbsp;&nbsp;&nbsp;&nbsp;&nbsp;&nbsp;&nbsp;&nbsp;&nbsp;&nbsp;&nbsp;&nbsp;&nbsp;&nbsp;&nbsp;&nbsp;&nbsp;&nbsp;&nbsp;&nbsp;&nbsp;&nbsp;&nbsp;&nbsp;&nbsp;&nbsp;&nbsp;&nbsp;&nbsp;&nbsp;&nbsp;Table 3: Number of Death/No Death Conflicts by Regime Type</font></left>"
       ],
       "metadata": {},
       "output_type": "display_data",
       "text": [
        "<IPython.core.display.HTML at 0x6962d50>"
       ]
      },
      {
       "html": [
        "<div style=\"max-height:1000px;max-width:1500px;overflow:auto;\">\n",
        "<table border=\"1\" class=\"dataframe\">\n",
        "  <thead>\n",
        "    <tr style=\"text-align: right;\">\n",
        "      <th></th>\n",
        "      <th>Strong Autocracy</th>\n",
        "      <th>Weak Autocracy</th>\n",
        "      <th>Middle Ground</th>\n",
        "      <th>Weak Democracy</th>\n",
        "      <th>Strong Democracy</th>\n",
        "      <th>Total</th>\n",
        "    </tr>\n",
        "  </thead>\n",
        "  <tbody>\n",
        "    <tr>\n",
        "      <th>No Deaths</th>\n",
        "      <td> 798 (18.95%)</td>\n",
        "      <td> 1401 (33.27%)</td>\n",
        "      <td> 74 (1.76%)</td>\n",
        "      <td> 1010 (23.98%)</td>\n",
        "      <td> 928 (22.04%)</td>\n",
        "      <td> 4211 (100.0%)</td>\n",
        "    </tr>\n",
        "    <tr>\n",
        "      <th>Deaths</th>\n",
        "      <td> 247 (11.68%)</td>\n",
        "      <td>  605 (28.62%)</td>\n",
        "      <td> 22 (1.04%)</td>\n",
        "      <td>  753 (35.62%)</td>\n",
        "      <td> 487 (23.04%)</td>\n",
        "      <td> 2114 (100.0%)</td>\n",
        "    </tr>\n",
        "  </tbody>\n",
        "</table>\n",
        "</div>"
       ],
       "metadata": {},
       "output_type": "pyout",
       "prompt_number": 22,
       "text": [
        "          Strong Autocracy Weak Autocracy Middle Ground Weak Democracy  \\\n",
        "No Deaths     798 (18.95%)  1401 (33.27%)    74 (1.76%)  1010 (23.98%)   \n",
        "Deaths        247 (11.68%)   605 (28.62%)    22 (1.04%)   753 (35.62%)   \n",
        "\n",
        "          Strong Democracy          Total  \n",
        "No Deaths     928 (22.04%)  4211 (100.0%)  \n",
        "Deaths        487 (23.04%)  2114 (100.0%)  "
       ]
      }
     ],
     "prompt_number": 22
    },
    {
     "cell_type": "code",
     "collapsed": false,
     "input": [
      "test=np.array(regime)\n",
      "test=test[:,0:5]\n",
      "sp.stats.chi2_contingency(test)"
     ],
     "language": "python",
     "metadata": {},
     "outputs": [
      {
       "metadata": {},
       "output_type": "pyout",
       "prompt_number": 25,
       "text": [
        "(128.32350276199426,\n",
        " 8.8899265853525761e-27,\n",
        " 4,\n",
        " array([[  695.73043478,  1335.53612648,    63.91399209,  1173.75383399,\n",
        "          942.06561265],\n",
        "       [  349.26956522,   670.46387352,    32.08600791,   589.24616601,\n",
        "          472.93438735]]))"
       ]
      }
     ],
     "prompt_number": 25
    },
    {
     "cell_type": "markdown",
     "metadata": {},
     "source": [
      "Table 3 shows the number of conflicts resulting in deaths / no deaths broken out by the regime type of the country (with row percentages in parentheses).  Regime type is measured on a continuum binned from the Freedom House Polity score which ranges as integers from -10 (full autocracy) to +10 (full democracy).  Countries in the 'Middle Ground' group have a Polity score of 0, dead center between autocracy and democracy.  The above table seems to show that democracies, particularly weak democracies, have more death-resulting conflicts than do autocracies.  This counterintuitive observation could potentially be explained by the idea that democracy fosters a political environment where citizens can speak their minds, which can lead to more situations of death.  This table shows that perhaps there is a relationship between regime type as measured by Polity score and the occurrence of deaths in a conflict, something that will be investigated further in the modeling phase of this project."
     ]
    },
    {
     "cell_type": "code",
     "collapsed": false,
     "input": [
      "fig = plt.figure(dpi=300)\n",
      "noNan = scad[['longitude', 'latitude', 'death01']]\n",
      "\n",
      "ax1 = plt.subplot2grid((1,4), (0,0), colspan=2)\n",
      "map1 = Basemap(projection='merc', resolution='i', llcrnrlon=-20, llcrnrlat=-38, urcrnrlon=55, urcrnrlat=40, area_thresh=1, ax=ax1)\n",
      "map1.drawcoastlines()\n",
      "map1.drawcountries()\n",
      "map1.drawmapboundary()\n",
      "map1.fillcontinents()\n",
      "ndx, ndy = map1(noNan.longitude[noNan.death01==0], noNan.latitude[noNan.death01==0])\n",
      "p1 = map1.plot(ndx, ndy, marker='.',  color='b', alpha=0.3, ls='', lw=0)\n",
      "ax1.set_title('No Deaths')\n",
      "\n",
      "ax2 = plt.subplot2grid((1,4), (0,2), colspan=2)\n",
      "map2 = Basemap(projection='merc', resolution='i', llcrnrlon=-20, llcrnrlat=-38, urcrnrlon=55, urcrnrlat=40, area_thresh=1, ax=ax2)\n",
      "map2.drawcoastlines()\n",
      "map2.drawcountries()\n",
      "map2.drawmapboundary()\n",
      "map2.fillcontinents()\n",
      "dx, dy = map2(noNan.longitude[noNan.death01==1], noNan.latitude[noNan.death01==1])\n",
      "p2 = map2.plot(dx, dy, marker='.', color='r', alpha=0.3, ls='', lw=0)\n",
      "ax2.set_title('Deaths')\n",
      "\n",
      "fig.suptitle('Figure 5: Map of Conflict Events', fontsize=15)\n",
      "plt.savefig('fig5.pdf', format='pdf', bbox_inches='tight')"
     ],
     "language": "python",
     "metadata": {},
     "outputs": []
    },
    {
     "cell_type": "markdown",
     "metadata": {},
     "source": [
      "Figure 5 above attempts to visualize an answer to the question, \"Are deaths more likely to happen in certain countries?\"  In short, the answer seems to be, \"Not really.\"  Each dot represents an individual unique conflict ID, and the dots are translucent to represent the density of conflicts.  At first glance, the two maps look effectively the same, with the bulk of all conflicts occurring in West and East Africa.  While certain countries are certainly more prone towards *conflicts* than other countries, deaths do not seem to follow a clear geographic pattern."
     ]
    },
    {
     "cell_type": "code",
     "collapsed": false,
     "input": [
      "map = Basemap(projection='merc', resolution='i', llcrnrlon=-20, llcrnrlat=-38, urcrnrlon=55, urcrnrlat=40, area_thresh=1)\n",
      "map.drawcoastlines()\n",
      "map.drawcountries()\n",
      "map.drawmapboundary()\n",
      "map.fillcontinents()\n",
      "\n",
      "noNan = scad[['longitude', 'latitude', 'death01']]\n",
      "noNan.longitude = np.round(noNan.longitude, decimals=0)\n",
      "noNan.latitude = np.round(noNan.latitude, decimals=0)\n",
      "noNan = noNan.drop_duplicates()\n",
      "\n",
      "ndx, ndy = map(noNan.longitude[noNan.death01==0], noNan.latitude[noNan.death01==0])\n",
      "p1 = map.plot(ndx, ndy, marker='.', ls='', color='b', alpha=0.3, lw=0)\n",
      "dx, dy = map(noNan.longitude[noNan.death01==1], noNan.latitude[noNan.death01==1])\n",
      "p2 = map.plot(dx, dy, marker='.', ls='', color='r', alpha=0.3, lw=0)\n",
      "\n",
      "legend = plt.legend((p1[0], p2[0]), ('No Deaths', 'Deaths'), loc=3, prop={'size':8}, numpoints=1)\n",
      "legend.get_frame().set_linewidth(0.0)\n",
      "\n",
      "plt.title('Figure 6: Map of Superimposed Deaths and No Deaths', fontsize=15)\n",
      "\n",
      "plt.savefig('fig6.pdf', format='pdf', bbox_inches='tight')"
     ],
     "language": "python",
     "metadata": {},
     "outputs": []
    },
    {
     "cell_type": "markdown",
     "metadata": {},
     "source": [
      "Figure 6 above attempts to show the difference between the two maps included in Figure 5.  Because of the high density of points map obscuring what type of conflict occurs where, I rounded each set of latitude/longitude coordinates to the nearest degree and then removed duplicate sets of coordinates *after* subsetting by the death/no-death indicator variable.  Then plotting the points in red and blue with translucency reveals a very interesting picture.  Most of the African conflicts with deaths occur on top or nearby conflicts with no deaths with two exceptions: there is a large pocket of death-resulting conflicts in Eastern Africa, which roughly corresponds to the conflict-ridden South Sudan.  There is also a large pocket of no death conflicts in Southern Africa, corresponding to Namibia, a very successful democracy.  While this map illustrates more of a geographic pattern than does the previous figure, the patterns still do not seem to be wholly significant."
     ]
    },
    {
     "cell_type": "heading",
     "level": 2,
     "metadata": {},
     "source": [
      "Modeling: Death/No Death Indicator"
     ]
    },
    {
     "cell_type": "markdown",
     "metadata": {},
     "source": [
      "###Logistic Regression"
     ]
    },
    {
     "cell_type": "code",
     "collapsed": false,
     "input": [
      "# Set aside 30% of the dataset as a testing set to use after fitting the model\n",
      "# These train/test sets will be used throughout the rest of the analysis.\n",
      "np.random.seed(13) #Set a seed if you would like to always pull the same train and test sets\n",
      "crossVal = [False] * (len(scad))\n",
      "numTest = int(0.3*len(scad))\n",
      "crossVal[0:numTest] = [True] * numTest\n",
      "crossVal = np.random.permutation(crossVal)\n",
      "train = scad[~crossVal]\n",
      "test = scad[crossVal]"
     ],
     "language": "python",
     "metadata": {},
     "outputs": [],
     "prompt_number": 11
    },
    {
     "cell_type": "code",
     "collapsed": false,
     "input": [
      "# Try a number of different variable combinations and choose the model that minimizes prediction error\n",
      "# Preliminary analyses don't suggest relationships between npart, duration, religion, or regime type (polity)\n",
      "# Try country as well as other potential variables from the dataset including event type and central govt target indicator\n",
      "# Also add energy and natural resource variables\n",
      "v = train[['death01', 'ccode', 'cgovtarget', 'etype', 'irst', 'pec', 'cinc']]\n",
      "v = v[~np.isnan(v).any(1)]\n",
      "dummies = pd.get_dummies(v.etype, prefix='etype')\n",
      "v = v.drop('etype', 1)\n",
      "v = v.join(dummies.ix[:, 1:])\n",
      "dummies = pd.get_dummies(v.ccode, prefix='ccode')\n",
      "v = v.drop('ccode', 1)\n",
      "v = v.join(dummies.ix[:, 1:])\n",
      "v['intercept'] = 1.0\n",
      "mod1 = sm.Logit(v.death01, v[v.columns[1:]], missing='drop').fit()\n",
      "#print mod1.summary()"
     ],
     "language": "python",
     "metadata": {},
     "outputs": []
    },
    {
     "cell_type": "code",
     "collapsed": false,
     "input": [
      "# Country, as expected from the maps, doesn't seem to be doing much.  Remove it and try adding in location category.\n",
      "# Also remove pec and irst, as their coefficients are extremely small\n",
      "v = train[['death01', 'locnum', 'cgovtarget', 'etype', 'cinc']]\n",
      "v = v[~np.isnan(v).any(1)]\n",
      "dummies = pd.get_dummies(v.etype, prefix='etype')\n",
      "v = v.drop('etype', 1)\n",
      "v = v.join(dummies.ix[:, 1:])\n",
      "dummies = pd.get_dummies(v.locnum, prefix='locnum')\n",
      "v = v.drop('locnum', 1)\n",
      "v = v.join(dummies.ix[:, 1:])\n",
      "v['intercept'] = 1.0\n",
      "mod2 = sm.Logit(v.death01, v[v.columns[1:]], missing='drop').fit()\n",
      "#print mod2.summary()"
     ],
     "language": "python",
     "metadata": {},
     "outputs": []
    },
    {
     "cell_type": "code",
     "collapsed": false,
     "input": [
      "# Add issue1 as dummies\n",
      "v = train[['death01', 'locnum', 'cgovtarget', 'etype', 'issue1', 'cinc']]\n",
      "v = v[~np.isnan(v).any(1)]\n",
      "dummies = pd.get_dummies(v.etype, prefix='etype')\n",
      "v = v.drop('etype', 1)\n",
      "v = v.join(dummies.ix[:, 1:])\n",
      "dummies = pd.get_dummies(v.locnum, prefix='locnum')\n",
      "v = v.drop('locnum', 1)\n",
      "v = v.join(dummies.ix[:, 1:])\n",
      "dummies = pd.get_dummies(v.issue1, prefix='issue1')\n",
      "v = v.drop('issue1', 1)\n",
      "v = v.join(dummies.ix[:, 1:])\n",
      "v['intercept'] = 1.0\n",
      "mod3 = sm.Logit(v.death01, v[v.columns[1:]], missing='drop').fit()\n",
      "#print mod3.summary()"
     ],
     "language": "python",
     "metadata": {},
     "outputs": []
    },
    {
     "cell_type": "code",
     "collapsed": false,
     "input": [
      "# Add escalation as dummies\n",
      "v = train[['death01', 'cgovtarget', 'etype', 'issue1', 'cinc', 'escalation']]\n",
      "v = v[~np.isnan(v).any(1)]\n",
      "dummies = pd.get_dummies(v.etype, prefix='etype')\n",
      "v = v.drop('etype', 1)\n",
      "v = v.join(dummies.ix[:, 1:])\n",
      "dummies = pd.get_dummies(v.issue1, prefix='issue1')\n",
      "v = v.drop('issue1', 1)\n",
      "v = v.join(dummies.ix[:, 1:])\n",
      "dummies = pd.get_dummies(v.escalation, prefix='escalation')\n",
      "v = v.drop('escalation', 1)\n",
      "v = v.join(dummies.ix[:, 1:])\n",
      "v['intercept'] = 1.0\n",
      "mod4 = sm.Logit(v.death01, v[v.columns[1:]], missing='drop').fit()\n",
      "#print mod4.summary()"
     ],
     "language": "python",
     "metadata": {},
     "outputs": [
      {
       "output_type": "stream",
       "stream": "stdout",
       "text": [
        "Warning: Maximum number of iterations has been exceeded.\n",
        "         Current function value: 0.378502\n",
        "         Iterations: 35\n"
       ]
      }
     ],
     "prompt_number": 28
    },
    {
     "cell_type": "code",
     "collapsed": false,
     "input": [
      "# Remove locnum - all coefficients are positive.  does that make intuitive sense?\n",
      "v = train[['death01', 'cgovtarget', 'etype', 'issue1', 'cinc', 'escalation']]\n",
      "v = v[~np.isnan(v).any(1)]\n",
      "dummies = pd.get_dummies(v.etype, prefix='etype')\n",
      "v = v.drop('etype', 1)\n",
      "v = v.join(dummies.ix[:, 1:])\n",
      "dummies = pd.get_dummies(v.issue1, prefix='issue1')\n",
      "v = v.drop('issue1', 1)\n",
      "v = v.join(dummies.ix[:, 1:])\n",
      "dummies = pd.get_dummies(v.escalation, prefix='escalation')\n",
      "v = v.drop('escalation', 1)\n",
      "v = v.join(dummies.ix[:, 1:])\n",
      "v['intercept'] = 1.0\n",
      "mod5 = sm.Logit(v.death01, v[v.columns[1:]], missing='drop').fit()\n",
      "#print mod5.summary()"
     ],
     "language": "python",
     "metadata": {},
     "outputs": [
      {
       "output_type": "stream",
       "stream": "stdout",
       "text": [
        "Warning: Maximum number of iterations has been exceeded.\n",
        "         Current function value: 0.378502\n",
        "         Iterations: 35\n"
       ]
      }
     ],
     "prompt_number": 29
    },
    {
     "cell_type": "code",
     "collapsed": false,
     "input": [
      "# Try without either escalation or locnum\n",
      "v = train[['death01', 'cgovtarget', 'etype', 'issue1', 'cinc']]\n",
      "v = v[~np.isnan(v).any(1)]\n",
      "dummies = pd.get_dummies(v.etype, prefix='etype')\n",
      "v = v.drop('etype', 1)\n",
      "v = v.join(dummies.ix[:, 1:])\n",
      "dummies = pd.get_dummies(v.issue1, prefix='issue1')\n",
      "v = v.drop('issue1', 1)\n",
      "v = v.join(dummies.ix[:, 1:])\n",
      "v['intercept'] = 1.0\n",
      "mod6 = sm.Logit(v.death01, v[v.columns[1:]], missing='drop').fit()\n",
      "#print mod6.summary()"
     ],
     "language": "python",
     "metadata": {},
     "outputs": [
      {
       "output_type": "stream",
       "stream": "stdout",
       "text": [
        "Optimization terminated successfully.\n",
        "         Current function value: 0.420977\n",
        "         Iterations 7\n"
       ]
      }
     ],
     "prompt_number": 30
    },
    {
     "cell_type": "code",
     "collapsed": false,
     "input": [
      "# Compute Mean Squared Prediction Errors for the various logit models to perform model selection\n",
      "#Model 1\n",
      "v = test[['death01', 'ccode', 'cgovtarget', 'etype', 'irst', 'pec', 'cinc']]\n",
      "v = v[~np.isnan(v).any(1)]\n",
      "dummies = pd.get_dummies(v.etype, prefix='etype')\n",
      "v = v.drop('etype', 1)\n",
      "v = v.join(dummies.ix[:, 1:])\n",
      "dummies = pd.get_dummies(v.ccode, prefix='ccode')\n",
      "v = v.drop('ccode', 1)\n",
      "v = v.join(dummies.ix[:, 1:])\n",
      "v['intercept'] = 1.0\n",
      "ests = np.round(mod1.predict(v[v.columns[1:]]))\n",
      "true = v[['death01']].values\n",
      "mspe1 = np.sum(np.square(true-ests))\n",
      "\n",
      "#Model 2\n",
      "v = test[['death01', 'locnum', 'cgovtarget', 'etype', 'cinc']]\n",
      "v = v[~np.isnan(v).any(1)]\n",
      "dummies = pd.get_dummies(v.etype, prefix='etype')\n",
      "v = v.drop('etype', 1)\n",
      "v = v.join(dummies.ix[:, 1:])\n",
      "dummies = pd.get_dummies(v.locnum, prefix='locnum')\n",
      "v = v.drop('locnum', 1)\n",
      "v = v.join(dummies.ix[:, 1:])\n",
      "v['intercept'] = 1.0\n",
      "ests = np.round(mod2.predict(v[v.columns[1:]]))\n",
      "true = v[['death01']].values\n",
      "mspe2 = np.sum(np.square(true-ests))\n",
      "\n",
      "#Model 3\n",
      "v = test[['death01', 'locnum', 'cgovtarget', 'etype', 'issue1', 'cinc']]\n",
      "v = v[~np.isnan(v).any(1)]\n",
      "dummies = pd.get_dummies(v.etype, prefix='etype')\n",
      "v = v.drop('etype', 1)\n",
      "v = v.join(dummies.ix[:, 1:])\n",
      "dummies = pd.get_dummies(v.locnum, prefix='locnum')\n",
      "v = v.drop('locnum', 1)\n",
      "v = v.join(dummies.ix[:, 1:])\n",
      "dummies = pd.get_dummies(v.issue1, prefix='issue1')\n",
      "v = v.drop('issue1', 1)\n",
      "v = v.join(dummies.ix[:, 1:])\n",
      "v['intercept'] = 1.0\n",
      "ests = np.round(mod3.predict(v[v.columns[1:]]))\n",
      "true = v[['death01']].values\n",
      "mspe3 = np.sum(np.square(true-ests))\n",
      "\n",
      "#Model 4\n",
      "v = test[['death01', 'cgovtarget', 'etype', 'issue1', 'cinc', 'escalation']]\n",
      "v = v[~np.isnan(v).any(1)]\n",
      "dummies = pd.get_dummies(v.etype, prefix='etype')\n",
      "v = v.drop('etype', 1)\n",
      "v = v.join(dummies.ix[:, 1:])\n",
      "dummies = pd.get_dummies(v.issue1, prefix='issue1')\n",
      "v = v.drop('issue1', 1)\n",
      "v = v.join(dummies.ix[:, 1:])\n",
      "dummies = pd.get_dummies(v.escalation, prefix='escalation')\n",
      "v = v.drop('escalation', 1)\n",
      "v = v.join(dummies.ix[:, 1:])\n",
      "v['intercept'] = 1.0\n",
      "ests = np.round(mod4.predict(v[v.columns[1:]]))\n",
      "true = v[['death01']].values\n",
      "mspe4 = np.sum(np.square(true-ests))\n",
      "\n",
      "#Model 5\n",
      "v = test[['death01', 'cgovtarget', 'etype', 'issue1', 'cinc', 'escalation']]\n",
      "v = v[~np.isnan(v).any(1)]\n",
      "dummies = pd.get_dummies(v.etype, prefix='etype')\n",
      "v = v.drop('etype', 1)\n",
      "v = v.join(dummies.ix[:, 1:])\n",
      "dummies = pd.get_dummies(v.issue1, prefix='issue1')\n",
      "v = v.drop('issue1', 1)\n",
      "v = v.join(dummies.ix[:, 1:])\n",
      "dummies = pd.get_dummies(v.escalation, prefix='escalation')\n",
      "v = v.drop('escalation', 1)\n",
      "v = v.join(dummies.ix[:, 1:])\n",
      "v['intercept'] = 1.0\n",
      "ests = np.round(mod5.predict(v[v.columns[1:]]))\n",
      "true = v[['death01']].values\n",
      "mspe5 = np.sum(np.square(true-ests))\n",
      "\n",
      "#Model 6\n",
      "v = test[['death01', 'cgovtarget', 'etype', 'issue1', 'cinc']]\n",
      "v = v[~np.isnan(v).any(1)]\n",
      "dummies = pd.get_dummies(v.etype, prefix='etype')\n",
      "v = v.drop('etype', 1)\n",
      "v = v.join(dummies.ix[:, 1:])\n",
      "dummies = pd.get_dummies(v.issue1, prefix='issue1')\n",
      "v = v.drop('issue1', 1)\n",
      "v = v.join(dummies.ix[:, 1:])\n",
      "v['intercept'] = 1.0\n",
      "ests = np.round(mod6.predict(v[v.columns[1:]]))\n",
      "true = v[['death01']].values\n",
      "mspe6 = np.sum(np.square(true-ests))\n",
      "\n",
      "np.argmin([mspe1, mspe2, mspe3, mspe4, mspe5, mspe6])"
     ],
     "language": "python",
     "metadata": {},
     "outputs": [
      {
       "metadata": {},
       "output_type": "pyout",
       "prompt_number": 31,
       "text": [
        "2"
       ]
      }
     ],
     "prompt_number": 31
    },
    {
     "cell_type": "code",
     "collapsed": false,
     "input": [
      "# Check polity variable against this best logit\n",
      "# Earlier analyses were inconclusive about polity\n",
      "# Add issue1 as dummies\n",
      "v = train[['death01', 'locnum', 'cgovtarget', 'etype', 'issue1', 'cinc', 'polity']]\n",
      "v = v[~np.isnan(v).any(1)]\n",
      "dummies = pd.get_dummies(v.etype, prefix='etype')\n",
      "v = v.drop('etype', 1)\n",
      "v = v.join(dummies.ix[:, 1:])\n",
      "dummies = pd.get_dummies(v.locnum, prefix='locnum')\n",
      "v = v.drop('locnum', 1)\n",
      "v = v.join(dummies.ix[:, 1:])\n",
      "dummies = pd.get_dummies(v.issue1, prefix='issue1')\n",
      "v = v.drop('issue1', 1)\n",
      "v = v.join(dummies.ix[:, 1:])\n",
      "dummies = pd.get_dummies(v.polity, prefix='polity')\n",
      "v = v.drop('polity', 1)\n",
      "v = v.join(dummies.ix[:, 1:])\n",
      "v['intercept'] = 1.0\n",
      "mod3pol = sm.Logit(v.death01, v[v.columns[1:]], missing='drop').fit()\n",
      "print mod3pol.summary()\n",
      "# As we had noticed with the earlier plot, polity seems to be inconclusive.  Every value of the variable\n",
      "# has roughly the same coefficient and an extremely small F statistic (very high p-value).  This further\n",
      "# supports the prior supposition that polity effects might not be as valid as they might seem.  In fact,\n",
      "# predicting using this variable yields very unreliable predictions such that every event is predicted as\n",
      "# a death.  Go with the model without polity."
     ],
     "language": "python",
     "metadata": {},
     "outputs": [
      {
       "output_type": "stream",
       "stream": "stdout",
       "text": [
        "Warning: Maximum number of iterations has been exceeded.\n",
        "         Current function value: 0.392790\n",
        "         Iterations: 35\n",
        "                           Logit Regression Results                           \n",
        "==============================================================================\n",
        "Dep. Variable:                death01   No. Observations:                 3051\n",
        "Model:                          Logit   Df Residuals:                     3002\n",
        "Method:                           MLE   Df Model:                           48\n",
        "Date:                Fri, 21 Mar 2014   Pseudo R-squ.:                  0.3604\n",
        "Time:                        19:01:02   Log-Likelihood:                -1198.4\n",
        "converged:                      False   LL-Null:                       -1873.6\n",
        "                                        LLR p-value:                2.909e-251\n",
        "===============================================================================\n",
        "                  coef    std err          z      P>|z|      [95.0% Conf. Int.]\n",
        "-------------------------------------------------------------------------------\n",
        "cgovtarget     -0.1999      0.139     -1.434      0.152        -0.473     0.073\n",
        "cinc           36.4053     25.362      1.435      0.151       -13.304    86.114\n",
        "etype_2.0       0.7387      0.241      3.066      0.002         0.267     1.211\n",
        "etype_3.0       1.9967      0.308      6.481      0.000         1.393     2.601\n",
        "etype_4.0       2.0289      0.240      8.464      0.000         1.559     2.499\n",
        "etype_5.0       0.6954      0.413      1.686      0.092        -0.113     1.504\n",
        "etype_6.0      -0.6647      0.347     -1.914      0.056        -1.345     0.016\n",
        "etype_7.0       2.0947      0.333      6.293      0.000         1.442     2.747\n",
        "etype_8.0       3.4400      0.319     10.775      0.000         2.814     4.066\n",
        "etype_9.0       3.0811      0.274     11.261      0.000         2.545     3.617\n",
        "etype_10.0      3.0213      0.481      6.283      0.000         2.079     3.964\n",
        "locnum_2.0      0.3355      0.163      2.053      0.040         0.015     0.656\n",
        "locnum_3.0      1.1285      0.166      6.800      0.000         0.803     1.454\n",
        "locnum_4.0      0.7471      0.324      2.302      0.021         0.111     1.383\n",
        "locnum_5.0      1.1602      0.411      2.825      0.005         0.355     1.965\n",
        "locnum_6.0      0.8370      0.191      4.382      0.000         0.463     1.211\n",
        "locnum_7.0      1.2931      0.212      6.106      0.000         0.878     1.708\n",
        "issue1_2.0     -0.5284      0.243     -2.170      0.030        -1.006    -0.051\n",
        "issue1_3.0     -0.0207      0.257     -0.081      0.936        -0.525     0.483\n",
        "issue1_4.0     -2.1466      1.129     -1.901      0.057        -4.360     0.067\n",
        "issue1_5.0      0.9722      0.248      3.917      0.000         0.486     1.459\n",
        "issue1_6.0      0.4489      0.256      1.751      0.080        -0.054     0.951\n",
        "issue1_7.0     -0.4457      0.383     -1.162      0.245        -1.197     0.306\n",
        "issue1_8.0     -0.5940      0.297     -1.999      0.046        -1.176    -0.012\n",
        "issue1_9.0      0.4410      0.252      1.748      0.081        -0.054     0.936\n",
        "issue1_10.0     0.0491      0.203      0.242      0.809        -0.349     0.447\n",
        "issue1_11.0    -0.4032      0.343     -1.177      0.239        -1.075     0.268\n",
        "issue1_12.0     0.7786      0.240      3.250      0.001         0.309     1.248\n",
        "issue1_13.0     0.4199      0.222      1.895      0.058        -0.014     0.854\n",
        "polity_-9.0    28.9546   8.44e+05   3.43e-05      1.000     -1.65e+06  1.66e+06\n",
        "polity_-8.0    31.1029   8.44e+05   3.68e-05      1.000     -1.65e+06  1.66e+06\n",
        "polity_-7.0    29.5836   8.44e+05    3.5e-05      1.000     -1.65e+06  1.66e+06\n",
        "polity_-6.0    29.0327   8.44e+05   3.44e-05      1.000     -1.65e+06  1.66e+06\n",
        "polity_-5.0    29.5118   8.44e+05   3.49e-05      1.000     -1.65e+06  1.66e+06\n",
        "polity_-4.0    29.4802   8.44e+05   3.49e-05      1.000     -1.65e+06  1.66e+06\n",
        "polity_-3.0    28.3863   8.44e+05   3.36e-05      1.000     -1.65e+06  1.66e+06\n",
        "polity_-2.0    29.6495   8.44e+05   3.51e-05      1.000     -1.65e+06  1.66e+06\n",
        "polity_-1.0    29.7884   8.44e+05   3.53e-05      1.000     -1.65e+06  1.66e+06\n",
        "polity_0.0     28.1530   8.44e+05   3.33e-05      1.000     -1.65e+06  1.66e+06\n",
        "polity_1.0     28.7548   8.44e+05   3.41e-05      1.000     -1.65e+06  1.66e+06\n",
        "polity_2.0     28.8116   8.44e+05   3.41e-05      1.000     -1.65e+06  1.66e+06\n",
        "polity_4.0     29.7348   8.44e+05   3.52e-05      1.000     -1.65e+06  1.66e+06\n",
        "polity_5.0     29.7693   8.44e+05   3.53e-05      1.000     -1.65e+06  1.66e+06\n",
        "polity_6.0     28.7246   8.44e+05    3.4e-05      1.000     -1.65e+06  1.66e+06\n",
        "polity_7.0     29.6945   8.44e+05   3.52e-05      1.000     -1.65e+06  1.66e+06\n",
        "polity_8.0     30.0756   8.44e+05   3.56e-05      1.000     -1.65e+06  1.66e+06\n",
        "polity_9.0     29.0154   8.44e+05   3.44e-05      1.000     -1.65e+06  1.66e+06\n",
        "polity_10.0    29.9964   8.44e+05   3.55e-05      1.000     -1.65e+06  1.66e+06\n",
        "intercept     -32.5355   8.44e+05  -3.85e-05      1.000     -1.66e+06  1.65e+06\n",
        "==============================================================================="
       ]
      },
      {
       "output_type": "stream",
       "stream": "stdout",
       "text": [
        "\n"
       ]
      }
     ],
     "prompt_number": 32
    },
    {
     "cell_type": "code",
     "collapsed": false,
     "input": [
      "#Create a prediction accuracy chart from the chosen logit model\n",
      "v = test[['death01', 'locnum', 'cgovtarget', 'etype', 'issue1', 'cinc']]\n",
      "v = v[~np.isnan(v).any(1)]\n",
      "dummies = pd.get_dummies(v.etype, prefix='etype')\n",
      "v = v.drop('etype', 1)\n",
      "v = v.join(dummies.ix[:, 1:])\n",
      "dummies = pd.get_dummies(v.locnum, prefix='locnum')\n",
      "v = v.drop('locnum', 1)\n",
      "v = v.join(dummies.ix[:, 1:])\n",
      "dummies = pd.get_dummies(v.issue1, prefix='issue1')\n",
      "v = v.drop('issue1', 1)\n",
      "v = v.join(dummies.ix[:, 1:])\n",
      "v['intercept'] = 1.0\n",
      "ests = np.round(mod3.predict(v[v.columns[1:]]))\n",
      "true = v[['death01']].values\n",
      "\n",
      "predAnalysis = [[0 for x in xrange(2)] for x in xrange(2)]\n",
      "for i in range(0,len(true),1):\n",
      "    if true[[i]]==0 and ests[[i]]==0:\n",
      "        predAnalysis[0][0] = predAnalysis[0][0] + 1\n",
      "    elif true[[i]]==0 and ests[[i]]==1:\n",
      "        predAnalysis[0][1] = predAnalysis[0][1] + 1\n",
      "    elif true[[i]]==1 and ests[[i]]==0:\n",
      "        predAnalysis[1][0] = predAnalysis[1][0] + 1\n",
      "    elif true[[i]]==1 and ests[[i]]==1:\n",
      "        predAnalysis[1][1] = predAnalysis[1][1] + 1\n",
      "        \n",
      "sums = np.sum(predAnalysis, axis=1)\n",
      "percents = np.round(100*np.array(predAnalysis).astype(float)/np.vstack((sums, sums)).T, decimals=2)\n",
      "\n",
      "for i in range(0, 2, 1):\n",
      "    for j in range (0, 2, 1):\n",
      "        predAnalysis[i][j] = str(predAnalysis[i][j]) + \" (\" + str(percents[i][j]) + \"%)\"\n",
      "        \n",
      "predAnalysis = pd.DataFrame(predAnalysis)\n",
      "predAnalysis.index=['No Deaths', 'Deaths']\n",
      "predAnalysis.columns = ['Predicted as No Deaths', 'Predicted as Deaths']\n",
      "space = '&nbsp;'\n",
      "display(HTML(\"<left>\" + \"<font size=3>\" + space*12 + 'Table 4: Logistic Regression Prediction Accuracy' + \"</font>\" + \"</left>\"))\n",
      "predAnalysis  "
     ],
     "language": "python",
     "metadata": {},
     "outputs": [
      {
       "html": [
        "<left><font size=3>&nbsp;&nbsp;&nbsp;&nbsp;&nbsp;&nbsp;&nbsp;&nbsp;&nbsp;&nbsp;&nbsp;&nbsp;Table 4: Logistic Regression Prediction Accuracy</font></left>"
       ],
       "metadata": {},
       "output_type": "display_data",
       "text": [
        "<IPython.core.display.HTML at 0x6053310>"
       ]
      },
      {
       "html": [
        "<div style=\"max-height:1000px;max-width:1500px;overflow:auto;\">\n",
        "<table border=\"1\" class=\"dataframe\">\n",
        "  <thead>\n",
        "    <tr style=\"text-align: right;\">\n",
        "      <th></th>\n",
        "      <th>Predicted as No Deaths</th>\n",
        "      <th>Predicted as Deaths</th>\n",
        "    </tr>\n",
        "  </thead>\n",
        "  <tbody>\n",
        "    <tr>\n",
        "      <th>No Deaths</th>\n",
        "      <td> 957 (89.36%)</td>\n",
        "      <td> 114 (10.64%)</td>\n",
        "    </tr>\n",
        "    <tr>\n",
        "      <th>Deaths</th>\n",
        "      <td> 170 (30.41%)</td>\n",
        "      <td> 389 (69.59%)</td>\n",
        "    </tr>\n",
        "  </tbody>\n",
        "</table>\n",
        "</div>"
       ],
       "metadata": {},
       "output_type": "pyout",
       "prompt_number": 46,
       "text": [
        "          Predicted as No Deaths Predicted as Deaths\n",
        "No Deaths           957 (89.36%)        114 (10.64%)\n",
        "Deaths              170 (30.41%)        389 (69.59%)"
       ]
      }
     ],
     "prompt_number": 46
    },
    {
     "cell_type": "heading",
     "level": 3,
     "metadata": {},
     "source": [
      "K Nearest Neighbors"
     ]
    },
    {
     "cell_type": "code",
     "collapsed": false,
     "input": [
      "# Use the same variables chosen through the regression model to fit and test a KNN\n",
      "# KNN (nonparametric) often does better classifying 0/1 in a binary\n",
      "v = train[['death01', 'locnum', 'cgovtarget', 'etype', 'issue1', 'cinc']]\n",
      "v = v[~np.isnan(v).any(1)]\n",
      "dummies = pd.get_dummies(v.etype, prefix='etype')\n",
      "v = v.drop('etype', 1)\n",
      "v = v.join(dummies.ix[:, 1:])\n",
      "dummies = pd.get_dummies(v.locnum, prefix='locnum')\n",
      "v = v.drop('locnum', 1)\n",
      "v = v.join(dummies.ix[:, 1:])\n",
      "dummies = pd.get_dummies(v.issue1, prefix='issue1')\n",
      "v = v.drop('issue1', 1)\n",
      "v = v.join(dummies.ix[:, 1:])\n",
      "v['intercept'] = 1.0\n",
      "\n",
      "\n",
      "KNN = KNeighborsClassifier(n_neighbors=10)\n",
      "KNN.fit(v[v.columns[1:]], v.death01)\n",
      "\n",
      "v = test[['death01', 'locnum', 'cgovtarget', 'etype', 'issue1', 'cinc']]\n",
      "v = v[~np.isnan(v).any(1)]\n",
      "dummies = pd.get_dummies(v.etype, prefix='etype')\n",
      "v = v.drop('etype', 1)\n",
      "v = v.join(dummies.ix[:, 1:])\n",
      "dummies = pd.get_dummies(v.locnum, prefix='locnum')\n",
      "v = v.drop('locnum', 1)\n",
      "v = v.join(dummies.ix[:, 1:])\n",
      "dummies = pd.get_dummies(v.issue1, prefix='issue1')\n",
      "v = v.drop('issue1', 1)\n",
      "v = v.join(dummies.ix[:, 1:])\n",
      "v['intercept'] = 1.0\n",
      "true = v[['death01']].values\n",
      "ests = KNeighborsClassifier.predict(KNN, v[v.columns[1:]])\n",
      "predAnalysis = [[0 for x in xrange(2)] for x in xrange(2)]\n",
      "for i in range(0,len(true),1):\n",
      "    if true[[i]]==0 and ests[[i]]==0:\n",
      "        predAnalysis[0][0] = predAnalysis[0][0] + 1\n",
      "    elif true[[i]]==0 and ests[[i]]==1:\n",
      "        predAnalysis[0][1] = predAnalysis[0][1] + 1\n",
      "    elif true[[i]]==1 and ests[[i]]==0:\n",
      "        predAnalysis[1][0] = predAnalysis[1][0] + 1\n",
      "    elif true[[i]]==1 and ests[[i]]==1:\n",
      "        predAnalysis[1][1] = predAnalysis[1][1] + 1\n",
      "\n",
      "sums = np.sum(predAnalysis, axis=1)\n",
      "percents = np.round(100*np.array(predAnalysis).astype(float)/np.vstack((sums, sums)).T, decimals=2)\n",
      "\n",
      "for i in range(0, 2, 1):\n",
      "    for j in range (0, 2, 1):\n",
      "        predAnalysis[i][j] = str(predAnalysis[i][j]) + \" (\" + str(percents[i][j]) + \"%)\"\n",
      "        \n",
      "predAnalysis = pd.DataFrame(predAnalysis)\n",
      "predAnalysis.index=['No Deaths', 'Deaths']\n",
      "predAnalysis.columns = ['Predicted as No Deaths', 'Predicted as Deaths']\n",
      "space = '&nbsp;'\n",
      "display(HTML(\"<left>\" + \"<font size=3>\" + space*21 + 'Table 5: KNN Prediction Accuracy (K=10)' + \"</font>\" + \"</left>\"))\n",
      "predAnalysis      "
     ],
     "language": "python",
     "metadata": {},
     "outputs": [
      {
       "html": [
        "<left><font size=3>&nbsp;&nbsp;&nbsp;&nbsp;&nbsp;&nbsp;&nbsp;&nbsp;&nbsp;&nbsp;&nbsp;&nbsp;&nbsp;&nbsp;&nbsp;&nbsp;&nbsp;&nbsp;&nbsp;&nbsp;&nbsp;Table 5: KNN Prediction Accuracy (K=10)</font></left>"
       ],
       "metadata": {},
       "output_type": "display_data",
       "text": [
        "<IPython.core.display.HTML at 0x858a990>"
       ]
      },
      {
       "html": [
        "<div style=\"max-height:1000px;max-width:1500px;overflow:auto;\">\n",
        "<table border=\"1\" class=\"dataframe\">\n",
        "  <thead>\n",
        "    <tr style=\"text-align: right;\">\n",
        "      <th></th>\n",
        "      <th>Predicted as No Deaths</th>\n",
        "      <th>Predicted as Deaths</th>\n",
        "    </tr>\n",
        "  </thead>\n",
        "  <tbody>\n",
        "    <tr>\n",
        "      <th>No Deaths</th>\n",
        "      <td> 990 (92.44%)</td>\n",
        "      <td>   81 (7.56%)</td>\n",
        "    </tr>\n",
        "    <tr>\n",
        "      <th>Deaths</th>\n",
        "      <td> 225 (40.25%)</td>\n",
        "      <td> 334 (59.75%)</td>\n",
        "    </tr>\n",
        "  </tbody>\n",
        "</table>\n",
        "</div>"
       ],
       "metadata": {},
       "output_type": "pyout",
       "prompt_number": 49,
       "text": [
        "          Predicted as No Deaths Predicted as Deaths\n",
        "No Deaths           990 (92.44%)          81 (7.56%)\n",
        "Deaths              225 (40.25%)        334 (59.75%)"
       ]
      }
     ],
     "prompt_number": 49
    },
    {
     "cell_type": "markdown",
     "metadata": {},
     "source": [
      "Tables 4 and 5 show prediction rates on the test set for the logistic and KNN models, in absolute numbers with row percentages in parentheses.  Both models have very similar accuracy rates at predicting the test set.  For this specific test set, the KNN model more accurately predicts the No Deaths (with a 92% success rate) and the Logit model more accurately predicts the Deaths (with a 69% success rate).  However, the differences in accuracy do not seem to be significant enough to prefer one model over another purely based on prediction power.  It is interesting that we get similar prediction results using different techniques on the same data, which leads me to believe that perhaps there is something particularly interesting about this combination of variables for modeling the death/no death indicator variable."
     ]
    },
    {
     "cell_type": "markdown",
     "metadata": {},
     "source": [
      "##Modeling: Absolute Number of Deaths"
     ]
    },
    {
     "cell_type": "markdown",
     "metadata": {},
     "source": [
      "Go through a similar process as before using Poisson regression to try to model the absolute number of deaths."
     ]
    },
    {
     "cell_type": "code",
     "collapsed": false,
     "input": [
      "# Try a number of different variable combinations and choose the model that minimizes prediction error\n",
      "# Preliminary analyses don't suggest relationships between npart, duration, religion, or regime type (polity)\n",
      "# Try country as well as other potential variables from the dataset including event type and central govt target indicator\n",
      "# Also add energy and natural resource variables\n",
      "v = train[['ndeath', 'ccode', 'cgovtarget', 'etype', 'irst', 'pec', 'cinc']]\n",
      "v = v[~np.isnan(v).any(1)]\n",
      "dummies = pd.get_dummies(v.etype, prefix='etype')\n",
      "v = v.drop('etype', 1)\n",
      "v = v.join(dummies.ix[:, 1:])\n",
      "dummies = pd.get_dummies(v.ccode, prefix='ccode')\n",
      "v = v.drop('ccode', 1)\n",
      "v = v.join(dummies.ix[:, 1:])\n",
      "v['intercept'] = 1.0\n",
      "modp1 = sm.Poisson(v.ndeath, v[v.columns[1:]], missing='drop').fit(method='powell')\n",
      "#print modp1.summary()"
     ],
     "language": "python",
     "metadata": {},
     "outputs": [
      {
       "output_type": "stream",
       "stream": "stdout",
       "text": [
        "Optimization terminated successfully.\n",
        "         Current function value: 26.906774\n",
        "         Iterations: 14\n",
        "         Function evaluations: 9657\n"
       ]
      }
     ],
     "prompt_number": 12
    },
    {
     "cell_type": "code",
     "collapsed": false,
     "input": [
      "v = train[['ndeath', 'locnum', 'cgovtarget', 'etype', 'cinc']]\n",
      "v = v[~np.isnan(v).any(1)]\n",
      "dummies = pd.get_dummies(v.etype, prefix='etype')\n",
      "v = v.drop('etype', 1)\n",
      "v = v.join(dummies.ix[:, 1:])\n",
      "dummies = pd.get_dummies(v.locnum, prefix='locnum')\n",
      "v = v.drop('locnum', 1)\n",
      "v = v.join(dummies.ix[:, 1:])\n",
      "v['intercept'] = 1.0\n",
      "modp2 = sm.Poisson(v.ndeath, v[v.columns[1:]], missing='drop').fit(method='bfgs')\n",
      "#print modp2.summary()"
     ],
     "language": "python",
     "metadata": {},
     "outputs": [
      {
       "output_type": "stream",
       "stream": "stdout",
       "text": [
        "Warning: Maximum number of iterations has been exceeded.\n",
        "         Current function value: 30.692446\n",
        "         Iterations: 35\n",
        "         Function evaluations: 40\n",
        "         Gradient evaluations: 40\n"
       ]
      }
     ],
     "prompt_number": 13
    },
    {
     "cell_type": "code",
     "collapsed": false,
     "input": [
      "# Add issue1 as dummies\n",
      "v = train[['ndeath', 'locnum', 'cgovtarget', 'etype', 'issue1', 'cinc']]\n",
      "v = v[~np.isnan(v).any(1)]\n",
      "dummies = pd.get_dummies(v.etype, prefix='etype')\n",
      "v = v.drop('etype', 1)\n",
      "v = v.join(dummies.ix[:, 1:])\n",
      "dummies = pd.get_dummies(v.locnum, prefix='locnum')\n",
      "v = v.drop('locnum', 1)\n",
      "v = v.join(dummies.ix[:, 1:])\n",
      "dummies = pd.get_dummies(v.issue1, prefix='issue1')\n",
      "v = v.drop('issue1', 1)\n",
      "v = v.join(dummies.ix[:, 1:])\n",
      "v['intercept'] = 1.0\n",
      "modp3 = sm.Poisson(v.ndeath, v[v.columns[1:]], missing='drop').fit(method='bfgs')\n",
      "#print modp3.summary()"
     ],
     "language": "python",
     "metadata": {},
     "outputs": [
      {
       "output_type": "stream",
       "stream": "stdout",
       "text": [
        "Warning: Maximum number of iterations has been exceeded.\n",
        "         Current function value: 28.207165\n",
        "         Iterations: 35\n",
        "         Function evaluations: 41\n",
        "         Gradient evaluations: 41\n"
       ]
      }
     ],
     "prompt_number": 14
    },
    {
     "cell_type": "code",
     "collapsed": false,
     "input": [
      "# Add escalation as dummies\n",
      "v = train[['ndeath', 'cgovtarget', 'etype', 'issue1', 'cinc', 'escalation']]\n",
      "v = v[~np.isnan(v).any(1)]\n",
      "dummies = pd.get_dummies(v.etype, prefix='etype')\n",
      "v = v.drop('etype', 1)\n",
      "v = v.join(dummies.ix[:, 1:])\n",
      "dummies = pd.get_dummies(v.issue1, prefix='issue1')\n",
      "v = v.drop('issue1', 1)\n",
      "v = v.join(dummies.ix[:, 1:])\n",
      "dummies = pd.get_dummies(v.escalation, prefix='escalation')\n",
      "v = v.drop('escalation', 1)\n",
      "v = v.join(dummies.ix[:, 1:])\n",
      "v['intercept'] = 1.0\n",
      "modp4 = sm.Poisson(v.ndeath, v[v.columns[1:]], missing='drop').fit(method='bfgs')\n",
      "#print modp4.summary()"
     ],
     "language": "python",
     "metadata": {},
     "outputs": [
      {
       "output_type": "stream",
       "stream": "stdout",
       "text": [
        "Warning: Maximum number of iterations has been exceeded.\n",
        "         Current function value: 29.249953\n",
        "         Iterations: 35\n",
        "         Function evaluations: 40\n",
        "         Gradient evaluations: 40\n"
       ]
      }
     ],
     "prompt_number": 15
    },
    {
     "cell_type": "code",
     "collapsed": false,
     "input": [
      "# Remove locnum - all coefficients are positive.  does that make intuitive sense?\n",
      "v = train[['ndeath', 'cgovtarget', 'etype', 'issue1', 'cinc', 'escalation']]\n",
      "v = v[~np.isnan(v).any(1)]\n",
      "dummies = pd.get_dummies(v.etype, prefix='etype')\n",
      "v = v.drop('etype', 1)\n",
      "v = v.join(dummies.ix[:, 1:])\n",
      "dummies = pd.get_dummies(v.issue1, prefix='issue1')\n",
      "v = v.drop('issue1', 1)\n",
      "v = v.join(dummies.ix[:, 1:])\n",
      "dummies = pd.get_dummies(v.escalation, prefix='escalation')\n",
      "v = v.drop('escalation', 1)\n",
      "v = v.join(dummies.ix[:, 1:])\n",
      "v['intercept'] = 1.0\n",
      "modp5 = sm.Poisson(v.ndeath, v[v.columns[1:]], missing='drop').fit(method='bfgs')\n",
      "#print modp5.summary()"
     ],
     "language": "python",
     "metadata": {},
     "outputs": [
      {
       "output_type": "stream",
       "stream": "stdout",
       "text": [
        "Warning: Maximum number of iterations has been exceeded.\n",
        "         Current function value: 29.249953\n",
        "         Iterations: 35\n",
        "         Function evaluations: 40\n",
        "         Gradient evaluations: 40\n"
       ]
      }
     ],
     "prompt_number": 16
    },
    {
     "cell_type": "code",
     "collapsed": false,
     "input": [
      "# Try without either escalation or locnum\n",
      "v = train[['ndeath', 'cgovtarget', 'etype', 'issue1', 'cinc']]\n",
      "v = v[~np.isnan(v).any(1)]\n",
      "dummies = pd.get_dummies(v.etype, prefix='etype')\n",
      "v = v.drop('etype', 1)\n",
      "v = v.join(dummies.ix[:, 1:])\n",
      "dummies = pd.get_dummies(v.issue1, prefix='issue1')\n",
      "v = v.drop('issue1', 1)\n",
      "v = v.join(dummies.ix[:, 1:])\n",
      "v['intercept'] = 1.0\n",
      "modp6 = sm.Poisson(v.ndeath, v[v.columns[1:]], missing='drop').fit(method='bfgs')\n",
      "#print modp6.summary()"
     ],
     "language": "python",
     "metadata": {},
     "outputs": [
      {
       "output_type": "stream",
       "stream": "stdout",
       "text": [
        "Warning: Maximum number of iterations has been exceeded.\n",
        "         Current function value: 30.846363\n",
        "         Iterations: 35\n",
        "         Function evaluations: 40\n",
        "         Gradient evaluations: 40\n"
       ]
      }
     ],
     "prompt_number": 17
    },
    {
     "cell_type": "code",
     "collapsed": false,
     "input": [
      "# Compute Mean Squared Prediction Errors for the various logit models to perform model selection\n",
      "#Model 1\n",
      "v = test[['ndeath', 'ccode', 'cgovtarget', 'etype', 'irst', 'pec', 'cinc']]\n",
      "v = v[~np.isnan(v).any(1)]\n",
      "dummies = pd.get_dummies(v.etype, prefix='etype')\n",
      "v = v.drop('etype', 1)\n",
      "v = v.join(dummies.ix[:, 1:])\n",
      "dummies = pd.get_dummies(v.ccode, prefix='ccode')\n",
      "v = v.drop('ccode', 1)\n",
      "v = v.join(dummies.ix[:, 1:])\n",
      "v['intercept'] = 1.0\n",
      "ests = modp1.predict(v[v.columns[1:]])\n",
      "true = v[['ndeath']].values\n",
      "mspe1 = np.sum(np.square(true-ests))\n",
      "\n",
      "#Model 2\n",
      "v = test[['ndeath', 'locnum', 'cgovtarget', 'etype', 'cinc']]\n",
      "v = v[~np.isnan(v).any(1)]\n",
      "dummies = pd.get_dummies(v.etype, prefix='etype')\n",
      "v = v.drop('etype', 1)\n",
      "v = v.join(dummies.ix[:, 1:])\n",
      "dummies = pd.get_dummies(v.locnum, prefix='locnum')\n",
      "v = v.drop('locnum', 1)\n",
      "v = v.join(dummies.ix[:, 1:])\n",
      "v['intercept'] = 1.0\n",
      "ests = modp2.predict(v[v.columns[1:]])\n",
      "true = v[['ndeath']].values\n",
      "mspe2 = np.sum(np.square(true-ests))\n",
      "\n",
      "#Model 3\n",
      "v = test[['ndeath', 'locnum', 'cgovtarget', 'etype', 'issue1', 'cinc']]\n",
      "v = v[~np.isnan(v).any(1)]\n",
      "dummies = pd.get_dummies(v.etype, prefix='etype')\n",
      "v = v.drop('etype', 1)\n",
      "v = v.join(dummies.ix[:, 1:])\n",
      "dummies = pd.get_dummies(v.locnum, prefix='locnum')\n",
      "v = v.drop('locnum', 1)\n",
      "v = v.join(dummies.ix[:, 1:])\n",
      "dummies = pd.get_dummies(v.issue1, prefix='issue1')\n",
      "v = v.drop('issue1', 1)\n",
      "v = v.join(dummies.ix[:, 1:])\n",
      "v['intercept'] = 1.0\n",
      "ests = modp3.predict(v[v.columns[1:]])\n",
      "true = v[['ndeath']].values\n",
      "mspe3 = np.sum(np.square(true-ests))\n",
      "\n",
      "#Model 4\n",
      "v = test[['ndeath', 'cgovtarget', 'etype', 'issue1', 'cinc', 'escalation']]\n",
      "v = v[~np.isnan(v).any(1)]\n",
      "dummies = pd.get_dummies(v.etype, prefix='etype')\n",
      "v = v.drop('etype', 1)\n",
      "v = v.join(dummies.ix[:, 1:])\n",
      "dummies = pd.get_dummies(v.issue1, prefix='issue1')\n",
      "v = v.drop('issue1', 1)\n",
      "v = v.join(dummies.ix[:, 1:])\n",
      "dummies = pd.get_dummies(v.escalation, prefix='escalation')\n",
      "v = v.drop('escalation', 1)\n",
      "v = v.join(dummies.ix[:, 1:])\n",
      "v['intercept'] = 1.0\n",
      "ests = modp4.predict(v[v.columns[1:]])\n",
      "true = v[['ndeath']].values\n",
      "mspe4 = np.sum(np.square(true-ests))\n",
      "\n",
      "#Model 5\n",
      "v = test[['ndeath', 'cgovtarget', 'etype', 'issue1', 'cinc', 'escalation']]\n",
      "v = v[~np.isnan(v).any(1)]\n",
      "dummies = pd.get_dummies(v.etype, prefix='etype')\n",
      "v = v.drop('etype', 1)\n",
      "v = v.join(dummies.ix[:, 1:])\n",
      "dummies = pd.get_dummies(v.issue1, prefix='issue1')\n",
      "v = v.drop('issue1', 1)\n",
      "v = v.join(dummies.ix[:, 1:])\n",
      "dummies = pd.get_dummies(v.escalation, prefix='escalation')\n",
      "v = v.drop('escalation', 1)\n",
      "v = v.join(dummies.ix[:, 1:])\n",
      "v['intercept'] = 1.0\n",
      "ests = modp5.predict(v[v.columns[1:]])\n",
      "true = v[['ndeath']].values\n",
      "mspe5 = np.sum(np.square(true-ests))\n",
      "\n",
      "#Model 6\n",
      "v = test[['ndeath', 'cgovtarget', 'etype', 'issue1', 'cinc']]\n",
      "v = v[~np.isnan(v).any(1)]\n",
      "dummies = pd.get_dummies(v.etype, prefix='etype')\n",
      "v = v.drop('etype', 1)\n",
      "v = v.join(dummies.ix[:, 1:])\n",
      "dummies = pd.get_dummies(v.issue1, prefix='issue1')\n",
      "v = v.drop('issue1', 1)\n",
      "v = v.join(dummies.ix[:, 1:])\n",
      "v['intercept'] = 1.0\n",
      "ests = modp6.predict(v[v.columns[1:]])\n",
      "true = v[['ndeath']].values\n",
      "mspe6 = np.sum(np.square(true-ests))\n",
      "\n",
      "np.argmin([mspe1, mspe2, mspe3, mspe4, mspe5, mspe6])\n"
     ],
     "language": "python",
     "metadata": {},
     "outputs": [
      {
       "metadata": {},
       "output_type": "pyout",
       "prompt_number": 18,
       "text": [
        "5"
       ]
      }
     ],
     "prompt_number": 18
    },
    {
     "cell_type": "markdown",
     "metadata": {},
     "source": [
      "This is the same model selected by the logistic regression process, an interesting result."
     ]
    },
    {
     "cell_type": "code",
     "collapsed": false,
     "input": [
      "# try one more model to add back in country\n",
      "v = train[['ndeath', 'locnum', 'cgovtarget', 'etype', 'issue1', 'cinc', 'ccode']]\n",
      "v = v[~np.isnan(v).any(1)]\n",
      "dummies = pd.get_dummies(v.etype, prefix='etype')\n",
      "v = v.drop('etype', 1)\n",
      "v = v.join(dummies.ix[:, 1:])\n",
      "dummies = pd.get_dummies(v.locnum, prefix='locnum')\n",
      "v = v.drop('locnum', 1)\n",
      "v = v.join(dummies.ix[:, 1:])\n",
      "dummies = pd.get_dummies(v.issue1, prefix='issue1')\n",
      "v = v.drop('issue1', 1)\n",
      "v = v.join(dummies.ix[:, 1:])\n",
      "dummies = pd.get_dummies(v.ccode, prefix='ccode')\n",
      "v = v.drop('ccode', 1)\n",
      "v = v.join(dummies.ix[:, 1:])\n",
      "v['intercept'] = 1.0\n",
      "modp3_2 = sm.Poisson(v.ndeath, v[v.columns[1:]], missing='drop').fit(method='bfgs')\n",
      "#print modp3_2.summary()"
     ],
     "language": "python",
     "metadata": {},
     "outputs": [
      {
       "output_type": "stream",
       "stream": "stdout",
       "text": [
        "Warning: Maximum number of iterations has been exceeded.\n",
        "         Current function value: 22.167518\n",
        "         Iterations: 35\n",
        "         Function evaluations: 40\n",
        "         Gradient evaluations: 40\n"
       ]
      }
     ],
     "prompt_number": 19
    },
    {
     "cell_type": "code",
     "collapsed": false,
     "input": [
      "# try one more model to add back in country\n",
      "v = train[['ndeath', 'locnum', 'cgovtarget', 'etype', 'issue1', 'cinc', 'escalation']]\n",
      "v = v[~np.isnan(v).any(1)]\n",
      "dummies = pd.get_dummies(v.etype, prefix='etype')\n",
      "v = v.drop('etype', 1)\n",
      "v = v.join(dummies.ix[:, 1:])\n",
      "dummies = pd.get_dummies(v.locnum, prefix='locnum')\n",
      "v = v.drop('locnum', 1)\n",
      "v = v.join(dummies.ix[:, 1:])\n",
      "dummies = pd.get_dummies(v.issue1, prefix='issue1')\n",
      "v = v.drop('issue1', 1)\n",
      "v = v.join(dummies.ix[:, 1:])\n",
      "dummies = pd.get_dummies(v.escalation, prefix='escalation')\n",
      "v = v.drop('escalation', 1)\n",
      "v = v.join(dummies.ix[:, 1:])\n",
      "v['intercept'] = 1.0\n",
      "modp3_3 = sm.Poisson(v.ndeath, v[v.columns[1:]], missing='drop').fit(method='bfgs')\n",
      "#print modp3_3.summary()"
     ],
     "language": "python",
     "metadata": {},
     "outputs": [
      {
       "output_type": "stream",
       "stream": "stdout",
       "text": [
        "Warning: Maximum number of iterations has been exceeded.\n",
        "         Current function value: 26.463825\n",
        "         Iterations: 35\n",
        "         Function evaluations: 40\n",
        "         Gradient evaluations: 40\n"
       ]
      }
     ],
     "prompt_number": 20
    },
    {
     "cell_type": "code",
     "collapsed": false,
     "input": [
      "# Compute Mean Squared Prediction Errors for the various logit models to perform model selection\n",
      "#Model 3v2\n",
      "v = test[['ndeath', 'locnum', 'cgovtarget', 'etype', 'issue1', 'cinc', 'ccode']]\n",
      "v = v[~np.isnan(v).any(1)]\n",
      "dummies = pd.get_dummies(v.etype, prefix='etype')\n",
      "v = v.drop('etype', 1)\n",
      "v = v.join(dummies.ix[:, 1:])\n",
      "dummies = pd.get_dummies(v.locnum, prefix='locnum')\n",
      "v = v.drop('locnum', 1)\n",
      "v = v.join(dummies.ix[:, 1:])\n",
      "dummies = pd.get_dummies(v.issue1, prefix='issue1')\n",
      "v = v.drop('issue1', 1)\n",
      "v = v.join(dummies.ix[:, 1:])\n",
      "dummies = pd.get_dummies(v.ccode, prefix='ccode')\n",
      "v = v.drop('ccode', 1)\n",
      "v = v.join(dummies.ix[:, 1:])\n",
      "v['intercept'] = 1.0\n",
      "ests = modp3_2.predict(v[v.columns[1:]])\n",
      "true = v[['ndeath']].values\n",
      "mspe3_2 = np.sum(np.square(true-ests))\n",
      "\n",
      "#Model 3v3\n",
      "v = test[['ndeath', 'locnum', 'cgovtarget', 'etype', 'issue1', 'cinc', 'escalation']]\n",
      "v = v[~np.isnan(v).any(1)]\n",
      "dummies = pd.get_dummies(v.etype, prefix='etype')\n",
      "v = v.drop('etype', 1)\n",
      "v = v.join(dummies.ix[:, 1:])\n",
      "dummies = pd.get_dummies(v.locnum, prefix='locnum')\n",
      "v = v.drop('locnum', 1)\n",
      "v = v.join(dummies.ix[:, 1:])\n",
      "dummies = pd.get_dummies(v.issue1, prefix='issue1')\n",
      "v = v.drop('issue1', 1)\n",
      "v = v.join(dummies.ix[:, 1:])\n",
      "dummies = pd.get_dummies(v.escalation, prefix='escalation')\n",
      "v = v.drop('escalation', 1)\n",
      "v = v.join(dummies.ix[:, 1:])\n",
      "v['intercept'] = 1.0\n",
      "ests = modp3_3.predict(v[v.columns[1:]])\n",
      "true = v[['ndeath']].values\n",
      "mspe3_3 = np.sum(np.square(true-ests))\n",
      "\n",
      "\n",
      "np.argmin([mspe3, mspe3_2, mspe3_3])"
     ],
     "language": "python",
     "metadata": {},
     "outputs": [
      {
       "metadata": {},
       "output_type": "pyout",
       "prompt_number": 21,
       "text": [
        "0"
       ]
      }
     ],
     "prompt_number": 21
    },
    {
     "cell_type": "code",
     "collapsed": false,
     "input": [
      "# Residual vs. Fitted Value Plot for Best Poisson Model (on test set)\n",
      "v = test[['ndeath', 'locnum', 'cgovtarget', 'etype', 'issue1', 'cinc']]\n",
      "v = v[~np.isnan(v).any(1)]\n",
      "dummies = pd.get_dummies(v.etype, prefix='etype')\n",
      "v = v.drop('etype', 1)\n",
      "v = v.join(dummies.ix[:, 1:])\n",
      "dummies = pd.get_dummies(v.locnum, prefix='locnum')\n",
      "v = v.drop('locnum', 1)\n",
      "v = v.join(dummies.ix[:, 1:])\n",
      "dummies = pd.get_dummies(v.issue1, prefix='issue1')\n",
      "v = v.drop('issue1', 1)\n",
      "v = v.join(dummies.ix[:, 1:])\n",
      "v['intercept'] = 1.0\n",
      "estsP = modp3.predict(v[v.columns[1:]])\n",
      "true = v[['ndeath']].values\n",
      "trueP = true.T\n",
      "\n",
      "#separate 3 outliers into individual objects\n",
      "estsP_out = estsP[[258, 291, 815]]\n",
      "trueP_out = trueP.T[[258, 291, 815]].T\n",
      "estsP_del = np.delete(estsP, [258, 291, 815])\n",
      "trueP_del = np.delete(trueP, [258, 291, 815])"
     ],
     "language": "python",
     "metadata": {},
     "outputs": [],
     "prompt_number": 22
    },
    {
     "cell_type": "code",
     "collapsed": false,
     "input": [
      "# Try a decision tree with the same variables\n",
      "v = train[['ndeath', 'locnum', 'cgovtarget', 'etype', 'issue1', 'cinc']]\n",
      "v = v[~np.isnan(v).any(1)]\n",
      "Y = v.ndeath\n",
      "X = v[['ndeath', 'locnum', 'cgovtarget', 'etype', 'issue1', 'cinc']]\n",
      "from sklearn import tree\n",
      "clf = tree.DecisionTreeClassifier()\n",
      "clf = clf.fit(X, Y)\n",
      "v = test[['ndeath', 'locnum', 'cgovtarget', 'etype', 'issue1', 'cinc']]\n",
      "v = v[~np.isnan(v).any(1)]\n",
      "Y = v.ndeath\n",
      "X = v[['ndeath', 'locnum', 'cgovtarget', 'etype', 'issue1', 'cinc']]\n",
      "estsCART = clf.predict(X)\n",
      "trueCART = np.array(Y)\n",
      "\n",
      "#separate 3 outliers into individual objects\n",
      "estsCART_out = estsCART[[258, 291, 815]]\n",
      "trueCART_out = trueCART.T[[258, 291, 815]].T\n",
      "estsCART_del = np.delete(estsCART, [258, 291, 815])\n",
      "trueCART_del = np.delete(trueCART, [258, 291, 815])"
     ],
     "language": "python",
     "metadata": {},
     "outputs": [],
     "prompt_number": 23
    },
    {
     "cell_type": "code",
     "collapsed": false,
     "input": [
      "# Use the same variablesto fit and test a KNN\n",
      "v = train[['ndeath', 'locnum', 'cgovtarget', 'etype', 'issue1', 'cinc']]\n",
      "v = v[~np.isnan(v).any(1)]\n",
      "dummies = pd.get_dummies(v.etype, prefix='etype')\n",
      "v = v.drop('etype', 1)\n",
      "v = v.join(dummies.ix[:, 1:])\n",
      "dummies = pd.get_dummies(v.locnum, prefix='locnum')\n",
      "v = v.drop('locnum', 1)\n",
      "v = v.join(dummies.ix[:, 1:])\n",
      "dummies = pd.get_dummies(v.issue1, prefix='issue1')\n",
      "v = v.drop('issue1', 1)\n",
      "v = v.join(dummies.ix[:, 1:])\n",
      "v['intercept'] = 1.0\n",
      "\n",
      "\n",
      "KNN = KNeighborsClassifier(n_neighbors=3)\n",
      "KNN.fit(v[v.columns[1:]], v.ndeath)\n",
      "\n",
      "v = test[['ndeath', 'locnum', 'cgovtarget', 'etype', 'issue1', 'cinc']]\n",
      "v = v[~np.isnan(v).any(1)]\n",
      "dummies = pd.get_dummies(v.etype, prefix='etype')\n",
      "v = v.drop('etype', 1)\n",
      "v = v.join(dummies.ix[:, 1:])\n",
      "dummies = pd.get_dummies(v.locnum, prefix='locnum')\n",
      "v = v.drop('locnum', 1)\n",
      "v = v.join(dummies.ix[:, 1:])\n",
      "dummies = pd.get_dummies(v.issue1, prefix='issue1')\n",
      "v = v.drop('issue1', 1)\n",
      "v = v.join(dummies.ix[:, 1:])\n",
      "v['intercept'] = 1.0\n",
      "true = v[['ndeath']].values\n",
      "estsKNN = KNeighborsClassifier.predict(KNN, v[v.columns[1:]])\n",
      "trueKNN = true.T\n",
      "\n",
      "#separate 3 outliers into individual objects\n",
      "estsKNN_out = estsKNN[[258, 291, 815]]\n",
      "trueKNN_out = trueKNN.T[[258, 291, 815]].T\n",
      "estsKNN_del = np.delete(estsKNN, (258, 291, 815))\n",
      "trueKNN_del = np.delete(trueKNN, (258, 291, 815))"
     ],
     "language": "python",
     "metadata": {},
     "outputs": [],
     "prompt_number": 24
    },
    {
     "cell_type": "code",
     "collapsed": false,
     "input": [
      "# Make residual plots for the models - no outlier legend\n",
      "fig = figure(figsize=(12,6), dpi=300)\n",
      "\n",
      "#PLOT THE POISSON\n",
      "ax1 = plt.subplot(131)\n",
      "width = 0.5\n",
      "p1 = ax1.scatter(np.log(estsP+1), trueP-estsP, color='black', alpha=0.2)\n",
      "ax1.set_xlim((-0.5,7.5))\n",
      "ax11 = ax1.twiny()\n",
      "oldAx = ax1.get_xticks()\n",
      "ax11.set_xlim((np.min(oldAx), np.max(oldAx)))\n",
      "ax11.set_xticks(oldAx[::2])\n",
      "ax11.set_xticklabels(np.round(exp(oldAx[::2]), decimals=2))\n",
      "\n",
      "axesToLose = ['top', 'right']\n",
      "for axis in axesToLose:\n",
      "    ax1.spines[axis].set_visible(False)\n",
      "    \n",
      "ax1.xaxis.set_ticks_position('bottom')\n",
      "ax1.yaxis.set_ticks_position('left')\n",
      "\n",
      "ax1.set_ylabel('Residuals', fontsize=12)\n",
      "ax1.set_ylim((-1000, 2000))\n",
      "ax1.axhline(0, color=light[5], ls='dashed', alpha=0.75)\n",
      "ax1.text(3.5,-900, 'Poisson Regression', style='italic', horizontalalignment='center')\n",
      "\n",
      "#PLOT THE KNN\n",
      "ax2 = plt.subplot(132)\n",
      "width = 0.5\n",
      "p2 = ax2.scatter(np.log(estsKNN+1), trueKNN-estsKNN, color='black', alpha=0.2)\n",
      "ax2.set_xlim((-0.5,7.5))\n",
      "ax21 = ax2.twiny()\n",
      "oldAx = ax2.get_xticks()\n",
      "ax21.set_xlim((np.min(oldAx), np.max(oldAx)))\n",
      "ax21.set_xticks(oldAx[::2])\n",
      "ax21.set_xticklabels(np.round(exp(oldAx[::2]), decimals=2))\n",
      "\n",
      "axesToLose = ['top', 'right']\n",
      "for axis in axesToLose:\n",
      "    ax2.spines[axis].set_visible(False)\n",
      "    \n",
      "ax2.xaxis.set_ticks_position('bottom')\n",
      "ax2.yaxis.set_ticks_position('left')\n",
      "ax2.set_yticklabels([])\n",
      "ax2.set_xlabel('log(Predicted Number of Deaths + 1)', fontsize=12)\n",
      "ax21.set_xlabel('Predicted Number of Deaths', fontsize=12)\n",
      "ax2.set_xlim((-0.5, 7.5))\n",
      "ax2.set_ylim((-1000, 2000))\n",
      "ax2.axhline(0, color=light[5], ls='dashed', alpha=0.75)\n",
      "ax2.text(3.5,-900, 'KNN (K=3)', style='italic', horizontalalignment='center')\n",
      "\n",
      "#PLOT THE CART\n",
      "ax3 = plt.subplot(133)\n",
      "width = 0.5\n",
      "p3 = ax3.scatter(np.log(estsCART +1), trueCART-estsCART, color='black', alpha=0.2)\n",
      "ax3.set_xlim((-0.5,7.5))\n",
      "ax31 = ax3.twiny()\n",
      "oldAx = ax3.get_xticks()\n",
      "ax31.set_xlim((np.min(oldAx), np.max(oldAx)))\n",
      "ax31.set_xticks(oldAx[::2])\n",
      "ax31.set_xticklabels(np.round(exp(oldAx[::2]), decimals=2))\n",
      "\n",
      "axesToLose = ['top', 'right']\n",
      "for axis in axesToLose:\n",
      "    ax3.spines[axis].set_visible(False)\n",
      "    \n",
      "ax3.xaxis.set_ticks_position('bottom')\n",
      "ax3.yaxis.set_ticks_position('left')\n",
      "ax3.set_yticklabels([])\n",
      "ax3.set_xlim((-0.5, 7.5))\n",
      "ax3.set_ylim((-1000, 2000))\n",
      "ax3.axhline(0, color=light[5], ls='dashed', alpha=0.85)\n",
      "ax3.text(3.5,-900, 'CART', style='italic', horizontalalignment='center')\n",
      "\n",
      "\n",
      "fig.suptitle('Figure 7: Prediction Accuracy (Fitted Values vs. Residuals) \\n', fontsize=15)\n",
      "plt.subplots_adjust(top=.86)\n",
      "#plt.savefig('fig7.pdf', format='pdf', bbox_inches='tight')\n",
      "plt.show()\n",
      "\n",
      "mspeP = np.sum(np.square(trueP - estsP))\n",
      "mspeK = np.sum(np.square(trueKNN - estsKNN))\n",
      "mspeC = np.sum(np.square(trueCART - estsCART))\n",
      "np.argmin([mspeP, mspeK, mspeC])\n",
      "np.where(trueCART-estsCART > 450)"
     ],
     "language": "python",
     "metadata": {},
     "outputs": [
      {
       "metadata": {},
       "output_type": "display_data",
       "png": "[encoded data removed]",
       "text": [
        "<matplotlib.figure.Figure at 0x88b8550>"
       ]
      },
      {
       "metadata": {},
       "output_type": "pyout",
       "prompt_number": 214,
       "text": [
        "(array([291, 815]),)"
       ]
      }
     ],
     "prompt_number": 214
    },
    {
     "cell_type": "code",
     "collapsed": false,
     "input": [
      "# Make residual plots for the models\n",
      "fig = figure(figsize=(12,6), dpi=300)\n",
      "\n",
      "#PLOT THE POISSON\n",
      "ax1 = plt.subplot(131)\n",
      "width = 0.5\n",
      "p1 = ax1.scatter(np.log(estsP_del+1), trueP_del-estsP_del, color='black', alpha=0.2)\n",
      "ax1.scatter(np.log(estsP_out+1), trueP_out-estsP_out, color=[dark[1], dark[2], dark[3]])\n",
      "ax1.set_xlim((-0.5,7.5))\n",
      "ax11 = ax1.twiny()\n",
      "oldAx = (0, 1, 3, 5, 7)\n",
      "ax11.set_xlim((-0.5, 7.5))\n",
      "ax11.set_xticks(oldAx)\n",
      "ax11.set_xticklabels(np.round(exp(oldAx)-1, decimals=2))\n",
      "\n",
      "axesToLose = ['top', 'right']\n",
      "for axis in axesToLose:\n",
      "    ax1.spines[axis].set_visible(False)\n",
      "    \n",
      "ax1.xaxis.set_ticks_position('bottom')\n",
      "ax1.yaxis.set_ticks_position('left')\n",
      "\n",
      "ax1.set_ylabel('Residuals', fontsize=12)\n",
      "ax1.set_ylim((-1000, 2000))\n",
      "ax1.axhline(0, color='#D8BFD8', ls='dashed', alpha=1)\n",
      "ax1.text(3.5,-900, 'Poisson Regression', style='italic', horizontalalignment='center')\n",
      "\n",
      "#PLOT THE KNN\n",
      "ax2 = plt.subplot(132)\n",
      "width = 0.5\n",
      "p2 = ax2.scatter(np.log(estsKNN_del+1), trueKNN_del-estsKNN_del, color='black', alpha=0.2)\n",
      "ax2.scatter(np.log(estsKNN_out+1), trueKNN_out-estsKNN_out, color=[dark[1], dark[2], dark[3]])\n",
      "ax2.set_xlim((-0.5,7.5))\n",
      "ax21 = ax2.twiny()\n",
      "ax21.set_xlim((-0.5, 7.5))\n",
      "ax21.set_xticks(oldAx)\n",
      "ax21.set_xticklabels(np.round(exp(oldAx)-1, decimals=2))\n",
      "\n",
      "axesToLose = ['top', 'right']\n",
      "for axis in axesToLose:\n",
      "    ax2.spines[axis].set_visible(False)\n",
      "    \n",
      "ax2.xaxis.set_ticks_position('bottom')\n",
      "ax2.yaxis.set_ticks_position('left')\n",
      "ax2.set_yticklabels([])\n",
      "ax2.set_xlabel('log(Predicted Number of Deaths + 1)', fontsize=12)\n",
      "ax21.set_xlabel('Predicted Number of Deaths', fontsize=12)\n",
      "ax2.set_ylim((-1000, 2000))\n",
      "ax2.axhline(0, color='#D8BFD8', ls='dashed', alpha=1)\n",
      "ax2.text(3.5,-900, 'KNN (K=3)', style='italic', horizontalalignment='center')\n",
      "\n",
      "#PLOT THE CART\n",
      "ax3 = plt.subplot(133)\n",
      "width = 0.5\n",
      "p3 = ax3.scatter(np.log(estsCART_del +1), trueCART_del-estsCART_del, color='black', alpha=0.2)\n",
      "ax3.scatter(np.log(estsCART_out+1), trueCART_out-estsCART_out, color=[dark[1], dark[2], dark[3]])\n",
      "ax3.set_xlim((-0.5,7.5))\n",
      "ax31 = ax3.twiny()\n",
      "oldAx = (0, 1, 3, 5, 7)\n",
      "ax31.set_xlim((-0.5, 7.5))\n",
      "ax31.set_xticks(oldAx)\n",
      "ax31.set_xticklabels(np.round(exp(oldAx)-1, decimals=2))\n",
      "\n",
      "axesToLose = ['top', 'right']\n",
      "for axis in axesToLose:\n",
      "    ax3.spines[axis].set_visible(False)\n",
      "    \n",
      "ax3.xaxis.set_ticks_position('bottom')\n",
      "ax3.yaxis.set_ticks_position('left')\n",
      "ax3.set_yticklabels([])\n",
      "ax3.set_ylim((-1000, 2000))\n",
      "ax3.axhline(0, color='#D8BFD8', ls='dashed', alpha=1)\n",
      "ax3.text(3.5,-900, 'CART', style='italic', horizontalalignment='center')\n",
      "\n",
      "#add a legend and a main title\n",
      "leg1 = Line2D([0], [0], linestyle=\"none\", marker=\"o\", markersize=5, markerfacecolor=dark[1])\n",
      "leg2 = Line2D([0], [0], linestyle=\"none\", marker=\"o\", markersize=5, markerfacecolor=dark[2])\n",
      "leg3 = Line2D([0], [0], linestyle=\"none\", marker=\"o\", markersize=5, markerfacecolor=dark[3])\n",
      "labels = ['DR Congo, 1/28/93-2/3/93', 'DR Congo, 4/30/02-6/11/02', 'Nigeria, 5/15/92-5/20/92']\n",
      "\n",
      "ax3.legend((leg1, leg2, leg3), labels, numpoints=1, loc=9, prop={'size': 10})\n",
      "\n",
      "\n",
      "fig.suptitle('Figure 7: Prediction Accuracy (Fitted Values vs. Residuals) \\n', fontsize=15)\n",
      "plt.subplots_adjust(top=.86)\n",
      "plt.savefig('fig7.pdf', format='pdf', bbox_inches='tight')\n",
      "#plt.show()\n",
      "\n",
      "mspeP = np.sum(np.square(trueP - estsP))\n",
      "mspeK = np.sum(np.square(trueKNN - estsKNN))\n",
      "mspeC = np.sum(np.square(trueCART - estsCART))\n",
      "np.argmin([mspeP, mspeK, mspeC])\n",
      "np.where(trueCART-estsCART > 450)"
     ],
     "language": "python",
     "metadata": {},
     "outputs": [
      {
       "metadata": {},
       "output_type": "pyout",
       "prompt_number": 36,
       "text": [
        "(array([291, 815]),)"
       ]
      },
      {
       "metadata": {},
       "output_type": "display_data",
       "png": "[encoded data removed]",
       "text": [
        "<matplotlib.figure.Figure at 0x6833ad0>"
       ]
      }
     ],
     "prompt_number": 36
    },
    {
     "cell_type": "markdown",
     "metadata": {},
     "source": [
      "Figure 7 shows the Fitted Value vs. Residual plots for predicting the number of deaths using the same set of variables from the same test dataset and three different modeling techniques: Poisson Regression, KNN (K=3), and CART Decision Tree.  It is interesting that the three models have very different prediction accuracies, generally unlike what we saw earlier with the binary models.  The CART tree encompasses about half the mean squared prediction error as the KNN model, which, in turn, has less than half of the prediction error of the Poisson Regression.  This analysis lends more support for the information encoded in these variables but also suggests that more work should be done with both parametric and nonparametric methods to fit the optimal model &mdash; all of these models seem to have problems predicting in some way or another.  The decision tree, the best model here, seems to have very good prediction accuracy for values up to around 500; however, values higher than that can result in large residuals, something that could be a problem depending on the model's intended application."
     ]
    },
    {
     "cell_type": "code",
     "collapsed": false,
     "input": [
      "v = test[['eventid','ndeath', 'locnum', 'cgovtarget', 'etype', 'issue1', 'cinc']]\n",
      "v = v[~np.isnan(v).any(1)]\n",
      "v.iloc[815]"
     ],
     "language": "python",
     "metadata": {},
     "outputs": [
      {
       "metadata": {},
       "output_type": "pyout",
       "prompt_number": 66,
       "text": [
        "eventid       4750017.000000\n",
        "ndeath           1800.000000\n",
        "locnum              6.000000\n",
        "cgovtarget          0.000000\n",
        "etype               4.000000\n",
        "issue1              5.000000\n",
        "cinc                0.006495\n",
        "Name: 3996, dtype: float64"
       ]
      }
     ],
     "prompt_number": 66
    },
    {
     "cell_type": "code",
     "collapsed": false,
     "input": [
      "from matplotlib.lines import Line2D"
     ],
     "language": "python",
     "metadata": {},
     "outputs": [],
     "prompt_number": 134
    },
    {
     "cell_type": "code",
     "collapsed": false,
     "input": [
      "p1 = plt.scatter(estsP_out, trueP_out-estsP_out, color=(dark[0:3]))\n",
      "leg1 = Line2D([0], [0], linestyle=\"none\", marker=\"o\", markersize=5, markerfacecolor=dark[0])\n",
      "leg2 = Line2D([0], [0], linestyle=\"none\", marker=\"o\", markersize=5, markerfacecolor=dark[1])\n",
      "leg3 = Line2D([0], [0], linestyle=\"none\", marker=\"o\", markersize=5, markerfacecolor=dark[2])\n",
      "\n",
      "plt.legend((leg1, leg2, leg3), (\"Cat 1\", \"Cat 2\", \"Cat 3\"), numpoints=1, loc=2)\n",
      "plt.show()"
     ],
     "language": "python",
     "metadata": {},
     "outputs": [
      {
       "metadata": {},
       "output_type": "display_data",
       "png": "[encoded data removed]",
       "text": [
        "<matplotlib.figure.Figure at 0x5baab10>"
       ]
      }
     ],
     "prompt_number": 141
    },
    {
     "cell_type": "code",
     "collapsed": false,
     "input": [
      "trueP_out - estsP_out"
     ],
     "language": "python",
     "metadata": {},
     "outputs": [
      {
       "metadata": {},
       "output_type": "pyout",
       "prompt_number": 115,
       "text": [
        "array([[  998.30581477,  1230.6124751 ,  1637.24660185]])"
       ]
      }
     ],
     "prompt_number": 115
    },
    {
     "cell_type": "code",
     "collapsed": false,
     "input": [
      "np.array(trueP_out)"
     ],
     "language": "python",
     "metadata": {},
     "outputs": [
      {
       "metadata": {},
       "output_type": "pyout",
       "prompt_number": 118,
       "text": [
        "array([[ 1000.,  1400.,  1800.]])"
       ]
      }
     ],
     "prompt_number": 118
    },
    {
     "cell_type": "code",
     "collapsed": false,
     "input": [],
     "language": "python",
     "metadata": {},
     "outputs": []
    }
   ],
   "metadata": {}
  }
 ]
}