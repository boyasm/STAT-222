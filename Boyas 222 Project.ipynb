{
 "metadata": {
  "name": "Boyas 222 Project"
 },
 "nbformat": 3,
 "nbformat_minor": 0,
 "worksheets": [
  {
   "cells": [
    {
     "cell_type": "markdown",
     "metadata": {},
     "source": [
      "#What Results in Death?  \n",
      "##*Analysis of Social Conflict in Africa, 1990&ndash;2011*\n",
      "\n",
      "###Matthew Boyas <br/> STAT 222, MA Capstone <br/> 19 March 2014"
     ]
    },
    {
     "cell_type": "code",
     "collapsed": false,
     "input": [
      "import numpy as np\n",
      "import pandas as pd\n",
      "import matplotlib.pyplot as plt\n",
      "import scipy as sp\n",
      "import collections as col\n",
      "import statsmodels.api as sm\n",
      "\n",
      "from statsmodels.formula.api import logit, probit, poisson, ols\n",
      "from scipy import stats\n",
      "from sklearn.cross_validation import KFold, cross_val_score\n",
      "from sklearn.neighbors import KNeighborsClassifier\n",
      "\n",
      "# This code was written using Scipy 0.13.3, Numpy 1.6.1, Pandas 0.12.0, XLRD 0.9.2\n",
      "# It may not be compatibile with other module versions\n",
      "# Code version 3 March 2014\n",
      "# No known bugs\n",
      "\n",
      "pd.options.display.max_columns = 100\n",
      "import warnings\n",
      "warnings.filterwarnings(\"ignore\", category=DeprecationWarning, module=\"pandas\", lineno=570)\n",
      "#This ignores a bug that results when using pandas 0.12 alongside sklearn.  It will be fixed,\n",
      "#according to pandas developers, in pandas 0.13."
     ],
     "language": "python",
     "metadata": {},
     "outputs": [],
     "prompt_number": 54
    },
    {
     "cell_type": "code",
     "collapsed": false,
     "input": [
      "# Define color palette for graphing and plots\n",
      "# Print friendly as well as somewhat colorblind friendly\n",
      "# Palettes are ColorBrewer's Set2 and Dark2 palettes\n",
      "light = ['#66C2A5', '#FC8D62', '#8DA0CB', '#E78AC3', '#A6D654', '#FFD92F', '#E5C494', '#B3B3B3']\n",
      "dark = ['#1B9E77', '#D95F02', '#7570B3', '#E7298A', '#66A61E', '#E6AB02', '#A6761D', '#666666'"
     ],
     "language": "python",
     "metadata": {},
     "outputs": [],
     "prompt_number": 4
    },
    {
     "cell_type": "heading",
     "level": 2,
     "metadata": {},
     "source": [
      "Data Import, Merging, Cleaning, & Manipulation"
     ]
    },
    {
     "cell_type": "code",
     "collapsed": false,
     "input": [
      "scad = pd.read_table('/accounts/grad/mboyas/STAT-222/Raw Datasets/SCAD 3.0/SCAD 3.0 1990-2011.txt')\n",
      "# Remove all conflicts starting prior to 1990 (see documentation)\n",
      "scad = scad[scad.styr>=1990]\n",
      "\n",
      "# Remove all conflicts that exceed one calendar year to simplify analyses\n",
      "scad = scad[scad.styr == scad.eyr]\n",
      "\n",
      "# Remove all duplicated rows (see documentation re: GIS)\n",
      "scad = scad.drop_duplicates(cols='eventid')"
     ],
     "language": "python",
     "metadata": {},
     "outputs": [],
     "prompt_number": 5
    },
    {
     "cell_type": "code",
     "collapsed": false,
     "input": [
      "# Merge in Polity IV\n",
      "polity = pd.read_excel('/accounts/grad/mboyas/STAT-222/Raw Datasets/Polity IV/p4v2012.xls', 'p4v2012')\n",
      "polity = polity[[\"ccode\", \"country\", \"year\", \"fragment\", \"democ\", \"autoc\", \"polity\", \"polity2\"]]\n",
      "newcols = polity.columns.values\n",
      "newcols[2] = 'styr'\n",
      "polity.columns=newcols\n",
      "scad = pd.merge(scad, polity, on=['ccode', 'styr'], how='left')\n",
      "#NEED TO CODE MISSINGS"
     ],
     "language": "python",
     "metadata": {},
     "outputs": [],
     "prompt_number": 6
    },
    {
     "cell_type": "code",
     "collapsed": false,
     "input": [
      "# Merge in NMC from COW\n",
      "nmc = pd.read_csv('/accounts/grad/mboyas/STAT-222/Raw Datasets/COW/NMC_v4_0.csv', na_values='-9')\n",
      "nmc = nmc[nmc.columns[1:10]]\n",
      "newcols = nmc.columns.values\n",
      "newcols[1] = 'styr'\n",
      "nmc.columns=newcols\n",
      "nmc[1:5]\n",
      "scad = pd.merge(scad, nmc, on=['ccode', 'styr'], how='left')"
     ],
     "language": "python",
     "metadata": {},
     "outputs": [],
     "prompt_number": 7
    },
    {
     "cell_type": "code",
     "collapsed": false,
     "input": [
      "# Merge in World Religions from COW\n",
      "wrp = pd.read_csv('/accounts/grad/mboyas/STAT-222/Raw Datasets/COW/WRP_national.csv')\n",
      "wrp = wrp[wrp.columns[np.concatenate([np.array([0,1,8,13,21]), np.arange(25,38,1)])]]\n",
      "wrp['domRel'] = wrp.idxmax(axis=1)\n",
      "# determine the dominant religion\n",
      "wrp = wrp[wrp.columns[[0,1,18]]]\n",
      "newcols = wrp.columns.values\n",
      "newcols[0] = 'styr'\n",
      "newcols[1] = 'ccode'\n",
      "wrp.columns=newcols\n",
      "wrp = pd.merge(scad[scad.columns[[1,9]]].drop_duplicates(), wrp, on=['ccode', 'styr'], how='left')\n",
      "wrp = wrp.fillna(method='ffill')\n",
      "wrp.domRel = pd.Categorical(wrp.domRel)\n",
      "scad = pd.merge(scad, wrp, on=['ccode', 'styr'], how='left')\n",
      "    \n",
      "        #NEED TO CODE MISSINGS\n"
     ],
     "language": "python",
     "metadata": {},
     "outputs": [],
     "prompt_number": 8
    },
    {
     "cell_type": "code",
     "collapsed": false,
     "input": [
      "# Set all INT variables as FLOAT to enable coding as np.nan\n",
      "for i in range(len(scad.columns)):\n",
      "    if scad[scad.columns[i]].dtype == int:\n",
      "        scad[scad.columns[i]] = scad[scad.columns[i]].astype(float)\n",
      "\n",
      "    "
     ],
     "language": "python",
     "metadata": {},
     "outputs": [],
     "prompt_number": 9
    },
    {
     "cell_type": "code",
     "collapsed": false,
     "input": [
      "#Code all dataset missing values as NaN\n",
      "scad.npart[scad.npart == -99] = np.nan\n",
      "scad.npart[scad.npart == -88] = np.nan\n",
      "#the above isn't in documentation, but it has to mean missing of some sort\n",
      "scad.ndeath[scad.ndeath == -99] = np.nan\n",
      "scad.ndeath[scad.ndeath == -88] = np.nan\n",
      "scad.ndeath[scad.ndeath == -77] = np.nan\n",
      "scad.locnum[scad.locnum == -99] = np.nan\n",
      "scad.issue1[scad.issue1 == 14] = np.nan\n",
      "scad.issue1[scad.issue2 == 14] = np.nan\n",
      "scad.issue1[scad.issue3 == 14] = np.nan"
     ],
     "language": "python",
     "metadata": {},
     "outputs": [],
     "prompt_number": 10
    },
    {
     "cell_type": "code",
     "collapsed": false,
     "input": [
      "#Recode dominant religion as a dummy numeric variable\n",
      "levels = dict([(val, i) for i, val in enumerate(set(scad.domRel))])\n",
      "scad['domRelNum'] = [levels[val] for val in scad.domRel]"
     ],
     "language": "python",
     "metadata": {},
     "outputs": [],
     "prompt_number": 11
    },
    {
     "cell_type": "code",
     "collapsed": false,
     "input": [
      "#Code indicator variable, 0 if no deaths, 1 if at least one death\n",
      "scad['death01']=scad.ndeath\n",
      "scad.death01[scad.death01>0] = 1\n",
      "scad.death01[scad.ndeath == np.nan] = np.nan"
     ],
     "language": "python",
     "metadata": {},
     "outputs": [],
     "prompt_number": 12
    },
    {
     "cell_type": "heading",
     "level": 2,
     "metadata": {},
     "source": [
      "Experimental Grouping Analyses & Correlations"
     ]
    },
    {
     "cell_type": "markdown",
     "metadata": {},
     "source": [
      "There are a lot of missing values in the dataset coded as NaN (in Numpy).  I did not want to delete the majority of my dataset by filtering out any row that has a missing observation; for example, the variable issue3 only has 86 non-missing values out of a total of 7838 rows in the dataset. Thus, I chose to remove the missing values for each level of analysis depending on the variabes that I choose to use.  Note that this decision could cause some plots to have slighly different ranges, but my hope is that these differences do not cause large interpretory issues of my results."
     ]
    },
    {
     "cell_type": "code",
     "collapsed": false,
     "input": [
      "grouped = scad.groupby('death01')\n",
      "grouped.aggregate(np.median)\n",
      "grouped.aggregate(np.mean)"
     ],
     "language": "python",
     "metadata": {},
     "outputs": [
      {
       "output_type": "stream",
       "stream": "stderr",
       "text": [
        "/usr/lib/python2.7/dist-packages/pandas/core/config.py:570: DeprecationWarning: height has been deprecated.\n",
        "\n",
        "  warnings.warn(d.msg, DeprecationWarning)\n",
        "/usr/lib/python2.7/dist-packages/pandas/core/config.py:570: DeprecationWarning: height has been deprecated.\n",
        "\n",
        "  warnings.warn(d.msg, DeprecationWarning)\n",
        "/usr/lib/python2.7/dist-packages/pandas/core/config.py:570: DeprecationWarning: height has been deprecated.\n",
        "\n",
        "  warnings.warn(d.msg, DeprecationWarning)\n"
       ]
      },
      {
       "html": [
        "<div style=\"max-height:1000px;max-width:1500px;overflow:auto;\">\n",
        "<table border=\"1\" class=\"dataframe\">\n",
        "  <thead>\n",
        "    <tr style=\"text-align: right;\">\n",
        "      <th></th>\n",
        "      <th>eventid</th>\n",
        "      <th>ccode</th>\n",
        "      <th>id</th>\n",
        "      <th>duration</th>\n",
        "      <th>stday</th>\n",
        "      <th>stmo</th>\n",
        "      <th>styr</th>\n",
        "      <th>eday</th>\n",
        "      <th>emo</th>\n",
        "      <th>eyr</th>\n",
        "      <th>etype</th>\n",
        "      <th>escalation</th>\n",
        "      <th>cgovtarget</th>\n",
        "      <th>rgovtarget</th>\n",
        "      <th>npart</th>\n",
        "      <th>ndeath</th>\n",
        "      <th>repress</th>\n",
        "      <th>sublocal</th>\n",
        "      <th>locnum</th>\n",
        "      <th>gislocnum</th>\n",
        "      <th>issue1</th>\n",
        "      <th>issue2</th>\n",
        "      <th>issue3</th>\n",
        "      <th>nsource</th>\n",
        "      <th>ACD_questionable</th>\n",
        "      <th>latitude</th>\n",
        "      <th>longitude</th>\n",
        "      <th>fragment</th>\n",
        "      <th>democ</th>\n",
        "      <th>autoc</th>\n",
        "      <th>polity</th>\n",
        "      <th>polity2</th>\n",
        "      <th>irst</th>\n",
        "      <th>milex</th>\n",
        "      <th>milper</th>\n",
        "      <th>pec</th>\n",
        "      <th>tpop</th>\n",
        "      <th>upop</th>\n",
        "      <th>cinc</th>\n",
        "      <th>domRelNum</th>\n",
        "    </tr>\n",
        "    <tr>\n",
        "      <th>death01</th>\n",
        "      <th></th>\n",
        "      <th></th>\n",
        "      <th></th>\n",
        "      <th></th>\n",
        "      <th></th>\n",
        "      <th></th>\n",
        "      <th></th>\n",
        "      <th></th>\n",
        "      <th></th>\n",
        "      <th></th>\n",
        "      <th></th>\n",
        "      <th></th>\n",
        "      <th></th>\n",
        "      <th></th>\n",
        "      <th></th>\n",
        "      <th></th>\n",
        "      <th></th>\n",
        "      <th></th>\n",
        "      <th></th>\n",
        "      <th></th>\n",
        "      <th></th>\n",
        "      <th></th>\n",
        "      <th></th>\n",
        "      <th></th>\n",
        "      <th></th>\n",
        "      <th></th>\n",
        "      <th></th>\n",
        "      <th></th>\n",
        "      <th></th>\n",
        "      <th></th>\n",
        "      <th></th>\n",
        "      <th></th>\n",
        "      <th></th>\n",
        "      <th></th>\n",
        "      <th></th>\n",
        "      <th></th>\n",
        "      <th></th>\n",
        "      <th></th>\n",
        "      <th></th>\n",
        "      <th></th>\n",
        "    </tr>\n",
        "  </thead>\n",
        "  <tbody>\n",
        "    <tr>\n",
        "      <th>0</th>\n",
        "      <td> 5237366.559140</td>\n",
        "      <td> 523.717535</td>\n",
        "      <td> 191.207610</td>\n",
        "      <td> 4.871588</td>\n",
        "      <td> 15.221257</td>\n",
        "      <td> 6.305418</td>\n",
        "      <td> 2001.997932</td>\n",
        "      <td> 16.080852</td>\n",
        "      <td> 6.404467</td>\n",
        "      <td> 2001.997932</td>\n",
        "      <td> 3.804177</td>\n",
        "      <td> 0.330645</td>\n",
        "      <td> 0.577957</td>\n",
        "      <td> 0.051489</td>\n",
        "      <td> 3.415624</td>\n",
        "      <td>  0.000000</td>\n",
        "      <td> 0.246691</td>\n",
        "      <td> 1.033912</td>\n",
        "      <td> 2.725225</td>\n",
        "      <td>-0.929901</td>\n",
        "      <td> 6.656783</td>\n",
        "      <td> 6.383707</td>\n",
        "      <td> 8.844444</td>\n",
        "      <td> 0.436725</td>\n",
        "      <td> 0.007444</td>\n",
        "      <td> 2.850657</td>\n",
        "      <td> 17.049998</td>\n",
        "      <td> 0.266167</td>\n",
        "      <td> -7.411728</td>\n",
        "      <td> -7.746933</td>\n",
        "      <td> -9.802454</td>\n",
        "      <td> 0.440979</td>\n",
        "      <td> 1286.445935</td>\n",
        "      <td>  914651.891509</td>\n",
        "      <td> 69.761247</td>\n",
        "      <td> 69726.417113</td>\n",
        "      <td> 34607.410926</td>\n",
        "      <td> 7629.150699</td>\n",
        "      <td> 0.003086</td>\n",
        "      <td> 1.064516</td>\n",
        "    </tr>\n",
        "    <tr>\n",
        "      <th>1</th>\n",
        "      <td> 5162870.017782</td>\n",
        "      <td> 516.261158</td>\n",
        "      <td> 258.441771</td>\n",
        "      <td> 4.628661</td>\n",
        "      <td> 15.122385</td>\n",
        "      <td> 6.251743</td>\n",
        "      <td> 2001.798466</td>\n",
        "      <td> 15.564854</td>\n",
        "      <td> 6.356695</td>\n",
        "      <td> 2001.798466</td>\n",
        "      <td> 6.616109</td>\n",
        "      <td> 0.516039</td>\n",
        "      <td> 0.277545</td>\n",
        "      <td> 0.064854</td>\n",
        "      <td> 2.967298</td>\n",
        "      <td> 30.811715</td>\n",
        "      <td> 0.489191</td>\n",
        "      <td> 1.070084</td>\n",
        "      <td> 3.395292</td>\n",
        "      <td> 2.630056</td>\n",
        "      <td> 7.523339</td>\n",
        "      <td> 7.543524</td>\n",
        "      <td> 6.641026</td>\n",
        "      <td> 0.520572</td>\n",
        "      <td> 0.043584</td>\n",
        "      <td> 1.039060</td>\n",
        "      <td> 21.869196</td>\n",
        "      <td> 0.648680</td>\n",
        "      <td>-17.391212</td>\n",
        "      <td>-18.692417</td>\n",
        "      <td>-18.929128</td>\n",
        "      <td> 1.591363</td>\n",
        "      <td> 1744.512457</td>\n",
        "      <td> 1035289.580565</td>\n",
        "      <td> 67.626248</td>\n",
        "      <td> 78352.929633</td>\n",
        "      <td> 42194.788961</td>\n",
        "      <td> 8831.501391</td>\n",
        "      <td> 0.003646</td>\n",
        "      <td> 1.002789</td>\n",
        "    </tr>\n",
        "  </tbody>\n",
        "</table>\n",
        "</div>"
       ],
       "output_type": "pyout",
       "prompt_number": 12,
       "text": [
        "                eventid       ccode          id  duration      stday  \\\n",
        "death01                                                                \n",
        "0        5237366.559140  523.717535  191.207610  4.871588  15.221257   \n",
        "1        5162870.017782  516.261158  258.441771  4.628661  15.122385   \n",
        "\n",
        "             stmo         styr       eday       emo          eyr     etype  \\\n",
        "death01                                                                      \n",
        "0        6.305418  2001.997932  16.080852  6.404467  2001.997932  3.804177   \n",
        "1        6.251743  2001.798466  15.564854  6.356695  2001.798466  6.616109   \n",
        "\n",
        "         escalation  cgovtarget  rgovtarget     npart     ndeath   repress  \\\n",
        "death01                                                                      \n",
        "0          0.330645    0.577957    0.051489  3.415624   0.000000  0.246691   \n",
        "1          0.516039    0.277545    0.064854  2.967298  30.811715  0.489191   \n",
        "\n",
        "         sublocal    locnum  gislocnum    issue1    issue2    issue3  \\\n",
        "death01                                                                \n",
        "0        1.033912  2.725225  -0.929901  6.656783  6.383707  8.844444   \n",
        "1        1.070084  3.395292   2.630056  7.523339  7.543524  6.641026   \n",
        "\n",
        "          nsource  ACD_questionable  latitude  longitude  fragment      democ  \\\n",
        "death01                                                                         \n",
        "0        0.436725          0.007444  2.850657  17.049998  0.266167  -7.411728   \n",
        "1        0.520572          0.043584  1.039060  21.869196  0.648680 -17.391212   \n",
        "\n",
        "             autoc     polity   polity2         irst           milex  \\\n",
        "death01                                                                \n",
        "0        -7.746933  -9.802454  0.440979  1286.445935   914651.891509   \n",
        "1       -18.692417 -18.929128  1.591363  1744.512457  1035289.580565   \n",
        "\n",
        "            milper           pec          tpop         upop      cinc  \\\n",
        "death01                                                                 \n",
        "0        69.761247  69726.417113  34607.410926  7629.150699  0.003086   \n",
        "1        67.626248  78352.929633  42194.788961  8831.501391  0.003646   \n",
        "\n",
        "         domRelNum  \n",
        "death01             \n",
        "0         1.064516  \n",
        "1         1.002789  "
       ]
      }
     ],
     "prompt_number": 12
    },
    {
     "cell_type": "code",
     "collapsed": false,
     "input": [
      "#T Tests\n",
      "#Run a series of unequal variance, two-sample T-Tests across the binary death01 variable to get a feel for what might be significant\n",
      "#Note, though, that the sample size is3rt large (7838), so many tests could be significant simply due to large n\n",
      "death = scad[scad.death01==1]\n",
      "noDeath = scad[scad.death01==0]\n",
      "\n",
      "tests = ['duration', 'etype', 'escalation', 'cgovtarget', 'rgovtarget', 'npart', 'issue1', 'issue2', 'issue3', 'nsource', 'polity', 'polity2', 'domRelNum']\n",
      "for val in tests:\n",
      "    print val\n",
      "    print sp.stats.ttest_ind(death[val][~np.isnan(death[val])], noDeath[val][~np.isnan(noDeath[val])], equal_var=False)\n",
      "    \n"
     ],
     "language": "python",
     "metadata": {},
     "outputs": [
      {
       "output_type": "stream",
       "stream": "stdout",
       "text": [
        "duration\n",
        "(array(-0.6191845920484388), 0.53582363662933385)\n",
        "etype\n",
        "(array(45.25647926762927), 0.0)\n",
        "escalation\n",
        "(array(5.501096413280938), 3.9758488353637421e-08)\n",
        "cgovtarget\n",
        "(array(-27.37948468667773), 2.7444336572226109e-156)\n",
        "rgovtarget\n",
        "(array(2.3905804113531386), 0.016855122166157855)\n",
        "npart\n",
        "(array(-7.712361475803531), 3.827789900366002e-14)\n",
        "issue1\n",
        "(array(8.987688769843748), 3.4456273733061221e-19)\n",
        "issue2\n",
        "(array(5.826617939496881), 7.590613069373708e-09)\n",
        "issue3\n",
        "(array(-3.4257606454584377), 0.0010949932512394106)\n",
        "nsource\n",
        "(array(7.139369574626679), 1.0488298097688168e-12)\n",
        "polity\n",
        "(array(-11.593798129678166), 1.1410965510656015e-30)\n",
        "polity2\n",
        "(array(9.988017092316245), 2.5525560969023723e-23)\n",
        "domRelNum\n",
        "(array(-2.546449170936901), 0.010906674426839503)\n"
       ]
      }
     ],
     "prompt_number": 13
    },
    {
     "cell_type": "code",
     "collapsed": false,
     "input": [
      "scad.ndeath.corr(scad.escalation)"
     ],
     "language": "python",
     "metadata": {},
     "outputs": [
      {
       "output_type": "pyout",
       "prompt_number": 14,
       "text": [
        "0.023542145277172289"
       ]
      }
     ],
     "prompt_number": 14
    },
    {
     "cell_type": "code",
     "collapsed": false,
     "input": [
      "scad.ndeath.corr(scad.etype)"
     ],
     "language": "python",
     "metadata": {},
     "outputs": [
      {
       "output_type": "pyout",
       "prompt_number": 15,
       "text": [
        "0.076513997138151713"
       ]
      }
     ],
     "prompt_number": 15
    },
    {
     "cell_type": "code",
     "collapsed": false,
     "input": [
      "scad.ndeath.corr(scad.duration)"
     ],
     "language": "python",
     "metadata": {},
     "outputs": [
      {
       "output_type": "pyout",
       "prompt_number": 16,
       "text": [
        "0.21327331547766268"
       ]
      }
     ],
     "prompt_number": 16
    },
    {
     "cell_type": "code",
     "collapsed": false,
     "input": [
      "scad.ndeath.corr(scad.domRelNum)"
     ],
     "language": "python",
     "metadata": {},
     "outputs": [
      {
       "output_type": "pyout",
       "prompt_number": 17,
       "text": [
        "0.0094617254397450015"
       ]
      }
     ],
     "prompt_number": 17
    },
    {
     "cell_type": "code",
     "collapsed": false,
     "input": [
      "scad.ndeath.corr(scad.issue1)"
     ],
     "language": "python",
     "metadata": {},
     "outputs": [
      {
       "output_type": "pyout",
       "prompt_number": 18,
       "text": [
        "-0.0012071784818209227"
       ]
      }
     ],
     "prompt_number": 18
    },
    {
     "cell_type": "heading",
     "level": 2,
     "metadata": {},
     "source": [
      "Descriptive Plots and Tables"
     ]
    },
    {
     "cell_type": "code",
     "collapsed": false,
     "input": [
      "grouped = scad.groupby('styr')\n",
      "totals = grouped.death01.aggregate(len)\n",
      "deaths = grouped.death01.aggregate(np.nansum)\n",
      "deaths[np.isnan(deaths)]=0\n",
      "nodeaths = totals - deaths\n",
      "years = np.arange(1990, 2012, 1)\n",
      "\n",
      "ax = plt.subplot(111)\n",
      "width=0.5\n",
      "p1 = ax.bar(years, nodeaths, width, color=light[0], align='center')\n",
      "p2 = ax.bar(years, deaths, width, color=light[1], align='center')\n",
      "axesToLose = ['top', 'right']\n",
      "for axis in axesToLose:\n",
      "    ax.spines[axis].set_visible(False)\n",
      "    \n",
      "ax.xaxis.set_ticks_position('none')\n",
      "ax.yaxis.set_ticks_position('left')\n",
      "    \n",
      "ax.title.set_color(almostBlack)\n",
      "legend = ax.legend( (p1[0], p2[0]), ('No Deaths', 'Deaths'), loc=2, prop={'size':12})\n",
      "legend.get_frame().set_linewidth(0.0)\n",
      "\n",
      "ax.set_ylabel('Total Number of Conflict Events', fontsize=12)\n",
      "ylabs = ['' for x in range(0, 9, 1) ]\n",
      "for i in range(0, 9, 1):\n",
      "    ylabs[i] = str(range(0, 450, 50)[i])\n",
      "    \n",
      "ax.set_yticklabels(ylabs, fontsize=8)\n",
      "\n",
      "ax.set_xlabel('Start Year of Conflict', fontsize=12)\n",
      "ax.set_xlim((1989, 2012))\n",
      "\n",
      "ax.set_xticks(years)\n",
      "ax.set_xticklabels(years, rotation=70, fontsize=8)\n",
      "plt.subplots_adjust(bottom=0.11, left=0.09, right=0.99, top=0.93)\n",
      "\n",
      "ax.set_title('Figure 1: Yearly Conflict Numbers \\n', fontsize=15)\n",
      "\n",
      "plt.show()\n",
      "#plt.savefig('tst.png', bbox_inches='tight')"
     ],
     "language": "python",
     "metadata": {},
     "outputs": [
      {
       "output_type": "display_data",
       "png": "[encoded data removed]"
      }
     ],
     "prompt_number": 24
    },
    {
     "cell_type": "markdown",
     "metadata": {},
     "source": [
      "Figure 1, above, is a split bar-chart, with one bar per year, visually showing the number of conflicts resulting in deaths relative to the total number of conflicts per year. Each bar represents all conflicts in the specified year and is split into two pieces, one piece for conflicts resulting in deaths and one piece for conflicts resulting in no deaths.  Note that with the exception of the spike in death conflicts in 2011 (most likely attributable to the Arab Spring), the number of conflicts result in deaths remain somewhat constant across the years of analysis.  Additionally, the number of conflicts resulting in no-deaths show a somewhat increasing trend as more governments democratize following the political revolutions of the 20th Century until the late 2000s, when dissatisfaction with incomplete democratization begins to set in&mdash;which, in turn, led to the Arab Spring."
     ]
    },
    {
     "cell_type": "code",
     "collapsed": false,
     "input": [
      "noNan = scad.ndeath[~np.isnan(scad.ndeath)]\n",
      "counts = col.Counter(noNan)\n",
      "bins = np.arange(0, 10, 1)\n",
      "freqs = [0]*len(counts)\n",
      "j=0\n",
      "for i in unique(counts):\n",
      "    freqs[j] = counts[i]\n",
      "    j = j+1\n",
      " \n",
      "freqs = np.array(freqs)\n",
      "histFreqs = [0]*10\n",
      "c = unique(counts)\n",
      "histFreqs[0] = freqs[c==0]\n",
      "histFreqs[1] = freqs[c==1]\n",
      "histFreqs[2] = freqs[c==2]\n",
      "histFreqs[3] = freqs[c==3]\n",
      "histFreqs[4] = freqs[c==4]\n",
      "histFreqs[5] = np.sum(freqs[(c>=5) & (c<=10)])\n",
      "histFreqs[6] = np.sum(freqs[(c>=11) & (c<=50)])\n",
      "histFreqs[7] = np.sum(freqs[(c>=51) & (c<=100)])\n",
      "histFreqs[8] = np.sum(freqs[(c>=101) & (c<=200)])\n",
      "histFreqs[9] = np.sum(freqs[(c>=201) & (c<=5000)])\n",
      "\n",
      "fig = plt.figure(dpi=300)\n",
      "ax = plt.subplot2grid((1,7), (0,0), colspan=5)\n",
      "width=0.5\n",
      "p1 = ax.bar(bins[0], histFreqs[0], color=light[0], align='center')\n",
      "p2 = ax.bar(bins[1:], histFreqs[1:], color=light[1], align='center')\n",
      "\n",
      "axesToLose = ['top', 'right']\n",
      "for axis in axesToLose:\n",
      "    ax.spines[axis].set_visible(False)\n",
      "    \n",
      "ax.xaxis.set_ticks_position('none')\n",
      "ax.yaxis.set_ticks_position('left')\n",
      "    \n",
      "legend = ax.legend( (p1[0], p2[0]), ('No Deaths', 'Deaths'), loc=1, prop={'size':12})\n",
      "legend.get_frame().set_linewidth(0.0)\n",
      "\n",
      "ax.set_ylabel('Frequency', fontsize=12)\n",
      "ylabs = ['' for x in range(0, 6, 1) ]\n",
      "for i in range(0, 6, 1):\n",
      "    ylabs[i] = str(range(0, 6000, 1000)[i])\n",
      "    \n",
      "ax.set_yticklabels(ylabs, fontsize=8)\n",
      "    \n",
      "xlabs = ['' for x in range(0, 13, 1) ]\n",
      "\n",
      "ax.set_xticks(bins)\n",
      "xlabs = ['0',' 1',' 2',' 3', '4', ' 5-10',' 11-50',' 51-100',' 101-200',' 201-5000']\n",
      "ax.set_xticklabels(xlabs, fontsize=8, rotation=70)\n",
      "ax.set_xlim((-1, 10))\n",
      "\n",
      "ax2 = plt.subplot2grid((1,7), (0, 6))\n",
      "p3 = ax2.bar(1, histFreqs[0], color=light[0], align='center', width=0.5)\n",
      "p4 = ax2.bar(1.7, np.sum(histFreqs[1:]), color=light[1], align='center', width=0.5)\n",
      "\n",
      "axesToLose = ['top', 'right']\n",
      "for axis in axesToLose:\n",
      "    ax2.spines[axis].set_visible(False)\n",
      "    \n",
      "ax2.xaxis.set_ticks_position('none')\n",
      "ax2.yaxis.set_ticks_position('left')\n",
      "\n",
      "ax2.set_yticklabels(ylabs, fontsize=8)\n",
      "ax2.set_xlim((0.5, 2.2))\n",
      "ax2.set_xticks((1, 1.7))\n",
      "ax2.set_xticklabels(['0', '1-5000'], fontsize=8, rotation=70)\n",
      "\n",
      "\n",
      "fig.suptitle('Figure 2: Frequency of Death and No Death Conflicts \\n', fontsize=15)\n",
      "fig.text(0.45,-0.1,'Number of Deaths', fontsize=12)\n",
      "plt.show()"
     ],
     "language": "python",
     "metadata": {},
     "outputs": [
      {
       "output_type": "display_data",
       "png": "[encoded data removed]"
      }
     ],
     "prompt_number": 13
    },
    {
     "cell_type": "markdown",
     "metadata": {},
     "source": [
      "Figure 2 is a set of two bar charts intended to show the frequencies of the number of deaths in all of the African social conflicts from 1990&ndash;2011.  The right plot shows the number of conflicts that resulted in no deaths and at least one death; the left plot shows the same frequency bar for no death conflicts but bins the conflicts resulting in at least one death.  Note the extreme right skew on this more detailed plot; while there are over 2000 conflicts resulting in at least one death, the actual numbers range from one death to 5000 deaths.  The largest frequency of deaths is one death (frequency 552). There are only 104 conflicts ranging from 51 to 5000 deaths and only 37 conflicts ranging from 201 to 5000 deaths."
     ]
    },
    {
     "cell_type": "code",
     "collapsed": false,
     "input": [
      "noNan = scad[['ndeath', 'npart']]\n",
      "noNan = noNan[~np.isnan(noNan).any(1)]\n",
      "noNan = noNan[noNan.npart!=0]\n",
      "\n",
      "jitter = 0.05\n",
      "jittered = [x + random.uniform(-jitter, jitter) for x in noNan.npart]\n",
      "\n",
      "ax = plt.subplot(111)\n",
      "width=0.5\n",
      "p1 = ax.scatter(jittered, noNan.ndeath, color='black', alpha=0.2)\n",
      "\n",
      "axesToLose = ['top', 'right']\n",
      "for axis in axesToLose:\n",
      "    ax.spines[axis].set_visible(False)\n",
      "    \n",
      "ax.xaxis.set_ticks_position('none')\n",
      "ax.yaxis.set_ticks_position('left')\n",
      "\n",
      "ax.set_ylabel('Number of Deaths', fontsize=12)\n",
      "ylabs = ['' for x in range(-1, 9, 1) ]\n",
      "for i in range(0, 10, 1):\n",
      "    ylabs[i] = str(range(-100, 900, 100)[i])\n",
      "    \n",
      "ax.set_yticklabels(ylabs, fontsize=8)\n",
      "    \n",
      "ax.set_xlabel('Number of Participants', fontsize=12)\n",
      "xlabs = ['' for x in range(1, 8, 1) ]\n",
      "xlabs[0]='less than 10'\n",
      "xlabs[1]='10-100'\n",
      "xlabs[2]='101-1000'\n",
      "xlabs[3]='1001-10000'\n",
      "xlabs[4]='10001-100000'\n",
      "xlabs[5]='100001-1000000'\n",
      "xlabs[6]='over 1000000'\n",
      "\n",
      "ax.set_xticks(range(1, 8, 1))\n",
      "ax.set_xticklabels(xlabs, fontsize=8, rotation=70)\n",
      "ax.set_xlim((0, 8))\n",
      "\n",
      "ax.set_title('Figure 3: Deaths by Conflict Size \\n', fontsize=15)\n",
      "\n",
      "plt.show()"
     ],
     "language": "python",
     "metadata": {},
     "outputs": [
      {
       "output_type": "display_data",
       "png": "[encoded data removed]"
      }
     ],
     "prompt_number": 14
    },
    {
     "cell_type": "markdown",
     "metadata": {},
     "source": [
      "Figure 3, above, is a scatterplot showing the number of participants (binned by the original coders of the SCAD dataset) vs. the continuous variabe number of deaths.  The points are transluscent and jittered slightly to try to show the density.  It was expected that the plot should show an increasing relationship between participants and number of deaths, simply based on the idea that a conflict involving more people has higher odds to result in a death.  The plot does not necessarily show this relationship, though the normal-esque relationship is probably an artifact of the dataset having significantly more observations in the center than at the tails of the number of participants variable."
     ]
    },
    {
     "cell_type": "code",
     "collapsed": false,
     "input": [
      "noNan = scad[['ndeath', 'duration']]\n",
      "noNan = noNan[~np.isnan(noNan).any(1)]\n",
      "\n",
      "ax = plt.subplot(111)\n",
      "width=0.5\n",
      "p1 = ax.scatter(noNan.duration, noNan.ndeath, color='black', alpha=0.2)\n",
      "\n",
      "axesToLose = ['top', 'right']\n",
      "for axis in axesToLose:\n",
      "    ax.spines[axis].set_visible(False)\n",
      "    \n",
      "ax.xaxis.set_ticks_position('bottom')\n",
      "ax.yaxis.set_ticks_position('left')\n",
      "\n",
      "ax.set_ylabel('Number of Deaths', fontsize=12)\n",
      "\n",
      "   \n",
      "ax.tick_params(axis='both', which='major', labelsize=8)\n",
      "ax.set_xlim((-25, 400))\n",
      "ax.set_ylim((-500, 5100))\n",
      "ax.set_xlabel('Duration (days)', fontsize=12)\n",
      "\n",
      "ax.set_title('Figure 4: Deaths by Conflict Duration \\n', fontsize=15)\n",
      "\n",
      "plt.show()"
     ],
     "language": "python",
     "metadata": {},
     "outputs": [
      {
       "output_type": "display_data",
       "png": "[encoded data removed]"
      }
     ],
     "prompt_number": 15
    },
    {
     "cell_type": "markdown",
     "metadata": {},
     "source": [
      "Motivatived similarly as Figure 3, Figure 4 is a scatterplot of the duration of each conflict (in days) against the number of deaths.  It intuitively makes sense that there should be an increasing relationship between these variables, as the longer a conflict, the more chances for a death to result.  However, the plot does not support such a conclusion; taking into account the fact that we have many more shorter conflicts in the dataset, there does not seem to be that much of a relationship between duration and the number of deaths."
     ]
    },
    {
     "cell_type": "code",
     "collapsed": false,
     "input": [
      "#top 10 most violent conflicts table\n",
      "noNan = scad[~np.isnan(scad.ndeath)]\n",
      "top10 = noNan.sort(column='ndeath', ascending=False)[0:10]\n",
      "top10 = top10[['ndeath', 'countryname', 'startdate', 'enddate', 'duration']]\n",
      "top10.index = range(1,11,1)\n",
      "top10.columns = ['Deaths', 'Country', 'Start', 'End', 'Duration (days)']\n",
      "display(HTML(\"<center>\" + \"<font size=3>\" + 'Table 1: Top 10 Most Violent Conflicts' + \"</font>\" + \"</center>\"))\n",
      "top10"
     ],
     "language": "python",
     "metadata": {},
     "outputs": [
      {
       "html": [
        "<center><font size=3>Table 1: Top 10 Most Violent Conflicts</font></center>"
       ],
       "output_type": "display_data",
       "text": [
        "<IPython.core.display.HTML at 0x7efeb90>"
       ]
      },
      {
       "html": [
        "<div style=\"max-height:1000px;max-width:1500px;overflow:auto;\">\n",
        "<table border=\"1\" class=\"dataframe\">\n",
        "  <thead>\n",
        "    <tr style=\"text-align: right;\">\n",
        "      <th></th>\n",
        "      <th>Deaths</th>\n",
        "      <th>Country</th>\n",
        "      <th>Start</th>\n",
        "      <th>End</th>\n",
        "      <th>Duration (days)</th>\n",
        "    </tr>\n",
        "  </thead>\n",
        "  <tbody>\n",
        "    <tr>\n",
        "      <th>1 </th>\n",
        "      <td> 5000</td>\n",
        "      <td> Democratic Republic of the Congo</td>\n",
        "      <td>  1-Sep-99</td>\n",
        "      <td> 31-Dec-99</td>\n",
        "      <td> 122</td>\n",
        "    </tr>\n",
        "    <tr>\n",
        "      <th>2 </th>\n",
        "      <td> 3500</td>\n",
        "      <td> Democratic Republic of the Congo</td>\n",
        "      <td> 20-Mar-93</td>\n",
        "      <td> 31-Aug-93</td>\n",
        "      <td> 165</td>\n",
        "    </tr>\n",
        "    <tr>\n",
        "      <th>3 </th>\n",
        "      <td> 3000</td>\n",
        "      <td>                            Ghana</td>\n",
        "      <td>  4-Feb-94</td>\n",
        "      <td> 14-Feb-94</td>\n",
        "      <td>  11</td>\n",
        "    </tr>\n",
        "    <tr>\n",
        "      <th>4 </th>\n",
        "      <td> 3000</td>\n",
        "      <td>                          Nigeria</td>\n",
        "      <td> 27-Jan-98</td>\n",
        "      <td> 15-Sep-98</td>\n",
        "      <td> 232</td>\n",
        "    </tr>\n",
        "    <tr>\n",
        "      <th>5 </th>\n",
        "      <td> 2000</td>\n",
        "      <td>                           Rwanda</td>\n",
        "      <td> 24-Apr-95</td>\n",
        "      <td> 24-Apr-95</td>\n",
        "      <td>   1</td>\n",
        "    </tr>\n",
        "    <tr>\n",
        "      <th>6 </th>\n",
        "      <td> 1800</td>\n",
        "      <td>                          Nigeria</td>\n",
        "      <td> 15-May-92</td>\n",
        "      <td> 20-May-92</td>\n",
        "      <td>   6</td>\n",
        "    </tr>\n",
        "    <tr>\n",
        "      <th>7 </th>\n",
        "      <td> 1500</td>\n",
        "      <td> Democratic Republic of the Congo</td>\n",
        "      <td> 30-Mar-09</td>\n",
        "      <td> 30-Jun-09</td>\n",
        "      <td>  93</td>\n",
        "    </tr>\n",
        "    <tr>\n",
        "      <th>8 </th>\n",
        "      <td> 1500</td>\n",
        "      <td>                          Liberia</td>\n",
        "      <td>  6-Apr-96</td>\n",
        "      <td> 27-May-96</td>\n",
        "      <td>  52</td>\n",
        "    </tr>\n",
        "    <tr>\n",
        "      <th>9 </th>\n",
        "      <td> 1400</td>\n",
        "      <td> Democratic Republic of the Congo</td>\n",
        "      <td> 30-Apr-02</td>\n",
        "      <td> 11-Jun-02</td>\n",
        "      <td>  43</td>\n",
        "    </tr>\n",
        "    <tr>\n",
        "      <th>10</th>\n",
        "      <td> 1132</td>\n",
        "      <td>                     South Africa</td>\n",
        "      <td> 12-Aug-90</td>\n",
        "      <td>  1-Oct-90</td>\n",
        "      <td>  51</td>\n",
        "    </tr>\n",
        "  </tbody>\n",
        "</table>\n",
        "</div>"
       ],
       "output_type": "pyout",
       "prompt_number": 180,
       "text": [
        "    Deaths                           Country      Start        End  \\\n",
        "1     5000  Democratic Republic of the Congo   1-Sep-99  31-Dec-99   \n",
        "2     3500  Democratic Republic of the Congo  20-Mar-93  31-Aug-93   \n",
        "3     3000                             Ghana   4-Feb-94  14-Feb-94   \n",
        "4     3000                           Nigeria  27-Jan-98  15-Sep-98   \n",
        "5     2000                            Rwanda  24-Apr-95  24-Apr-95   \n",
        "6     1800                           Nigeria  15-May-92  20-May-92   \n",
        "7     1500  Democratic Republic of the Congo  30-Mar-09  30-Jun-09   \n",
        "8     1500                           Liberia   6-Apr-96  27-May-96   \n",
        "9     1400  Democratic Republic of the Congo  30-Apr-02  11-Jun-02   \n",
        "10    1132                      South Africa  12-Aug-90   1-Oct-90   \n",
        "\n",
        "    Duration (days)  \n",
        "1               122  \n",
        "2               165  \n",
        "3                11  \n",
        "4               232  \n",
        "5                 1  \n",
        "6                 6  \n",
        "7                93  \n",
        "8                52  \n",
        "9                43  \n",
        "10               51  "
       ]
      }
     ],
     "prompt_number": 180
    },
    {
     "cell_type": "markdown",
     "metadata": {},
     "source": [
      "Table 1 lists the top 10 most violent conflicts in terms of absolute deaths.  Note the variation even amongst these 10 records: 6 different countries, 10 different years, 7 different months, and durations ranging from one day to almost 8 months.  There does not seem to be a unique profile that identifies a high-mortality conflict, which could create issues during the modeling phase of this project."
     ]
    },
    {
     "cell_type": "code",
     "collapsed": false,
     "input": [
      "#deaths no deaths by regime and dominant religion\n",
      "agg = scad.groupby(['death01', 'domRel']).size()\n",
      "r1 = [agg[0][x] for x in range(0, 4, 1)]\n",
      "r2 = [agg[1][x] for x in range(0, 4, 1)]\n",
      "religion = pd.DataFrame(np.vstack((r1,r2)))\n",
      "religion.index=['No Deaths', 'Deaths']\n",
      "religion.columns = ['Animist', 'Christianity', 'Hinduism', 'Islam']\n",
      "display(HTML(\"<center>\" + \"<font size=3>\" + 'Table 2: Number of Conflicts by Death/No Death and Dominant Religion' + \"</font>\" + \"</center>\"))\n",
      "religion[['Islam', 'Christianity', 'Animist', 'Hinduism']]"
     ],
     "language": "python",
     "metadata": {},
     "outputs": [
      {
       "html": [
        "<center><font size=3>Table 2: Number of Conflicts by Death/No Death and Dominant Religion</font></center>"
       ],
       "output_type": "display_data",
       "text": [
        "<IPython.core.display.HTML at 0x7c2e110>"
       ]
      },
      {
       "html": [
        "<div style=\"max-height:1000px;max-width:1500px;overflow:auto;\">\n",
        "<table border=\"1\" class=\"dataframe\">\n",
        "  <thead>\n",
        "    <tr style=\"text-align: right;\">\n",
        "      <th></th>\n",
        "      <th>Islam</th>\n",
        "      <th>Christianity</th>\n",
        "      <th>Animist</th>\n",
        "      <th>Hinduism</th>\n",
        "    </tr>\n",
        "  </thead>\n",
        "  <tbody>\n",
        "    <tr>\n",
        "      <th>No Deaths</th>\n",
        "      <td> 2339</td>\n",
        "      <td> 2333</td>\n",
        "      <td> 159</td>\n",
        "      <td> 5</td>\n",
        "    </tr>\n",
        "    <tr>\n",
        "      <th>Deaths</th>\n",
        "      <td> 1447</td>\n",
        "      <td> 1385</td>\n",
        "      <td>  35</td>\n",
        "      <td> 1</td>\n",
        "    </tr>\n",
        "  </tbody>\n",
        "</table>\n",
        "</div>"
       ],
       "output_type": "pyout",
       "prompt_number": 139,
       "text": [
        "           Islam  Christianity  Animist  Hinduism\n",
        "No Deaths   2339          2333      159         5\n",
        "Deaths      1447          1385       35         1"
       ]
      }
     ],
     "prompt_number": 139
    },
    {
     "cell_type": "markdown",
     "metadata": {},
     "source": [
      "Table 2 lists shows the number of conflicts resulting in deaths / no deaths broken out by the dominant religion of the country.  There does not seem to be any pattern here.  Christianity and Islam are the two major religions in Africa, and they show very similar numbers in the table output."
     ]
    },
    {
     "cell_type": "code",
     "collapsed": false,
     "input": [
      "#deaths no deaths by regime and dominant religion\n",
      "v = scad[['death01', 'polity', 'countryname']]\n",
      "v['pind'] = v.polity\n",
      "v.pind[(v.polity>=-10) & (v.polity<=-6)] = 1\n",
      "v.pind[(v.polity>=-5) & (v.polity<=-1)] = 2\n",
      "v.pind[v.polity==0] = 3\n",
      "v.pind[(v.polity>=1) & (v.polity<=5)] = 4\n",
      "v.pind[(v.polity>=6) & (v.polity<=10)] = 5\n",
      "v.pind[v.polity<-10] = np.nan\n",
      "v = v[['death01', 'pind']]\n",
      "agg = v.groupby(['death01', 'pind']).size()\n",
      "r1 = [agg[0][x] for x in range(1, 6, 1)]\n",
      "r2 = [agg[1][x] for x in range(1, 6, 1)]\n",
      "regime = pd.DataFrame(np.vstack((r1,r2)))\n",
      "regime.index=['No Deaths', 'Deaths']\n",
      "regime.columns = ['Strong Autocracy', 'Weak Autocracy', 'Middle Ground', 'Weak Democracy', 'Strong Democracy']\n",
      "display(HTML(\"<center>\" + \"<font size=3>\" + 'Table 3: Number of Conflicts by Death/No Death and Regime Type' + \"</font>\" + \"</center>\"))\n",
      "regime"
     ],
     "language": "python",
     "metadata": {},
     "outputs": [
      {
       "html": [
        "<center><font size=3>Table 3: Number of Conflicts by Death/No Death and Regime Type</font></center>"
       ],
       "output_type": "display_data",
       "text": [
        "<IPython.core.display.HTML at 0x7c0cf90>"
       ]
      },
      {
       "html": [
        "<div style=\"max-height:1000px;max-width:1500px;overflow:auto;\">\n",
        "<table border=\"1\" class=\"dataframe\">\n",
        "  <thead>\n",
        "    <tr style=\"text-align: right;\">\n",
        "      <th></th>\n",
        "      <th>Strong Autocracy</th>\n",
        "      <th>Weak Autocracy</th>\n",
        "      <th>Middle Ground</th>\n",
        "      <th>Weak Democracy</th>\n",
        "      <th>Strong Democracy</th>\n",
        "    </tr>\n",
        "  </thead>\n",
        "  <tbody>\n",
        "    <tr>\n",
        "      <th>No Deaths</th>\n",
        "      <td> 798</td>\n",
        "      <td> 1401</td>\n",
        "      <td> 74</td>\n",
        "      <td> 1010</td>\n",
        "      <td> 928</td>\n",
        "    </tr>\n",
        "    <tr>\n",
        "      <th>Deaths</th>\n",
        "      <td> 247</td>\n",
        "      <td>  605</td>\n",
        "      <td> 22</td>\n",
        "      <td>  753</td>\n",
        "      <td> 487</td>\n",
        "    </tr>\n",
        "  </tbody>\n",
        "</table>\n",
        "</div>"
       ],
       "output_type": "pyout",
       "prompt_number": 175,
       "text": [
        "           Strong Autocracy  Weak Autocracy  Middle Ground  Weak Democracy  \\\n",
        "No Deaths               798            1401             74            1010   \n",
        "Deaths                  247             605             22             753   \n",
        "\n",
        "           Strong Democracy  \n",
        "No Deaths               928  \n",
        "Deaths                  487  "
       ]
      }
     ],
     "prompt_number": 175
    },
    {
     "cell_type": "markdown",
     "metadata": {},
     "source": [
      "In Table 3, above, regime type is measured on a continuum binned from the Freedom House Polity Variable which ranges from -10 (full autocracy) to +10 (full democracy).  The above table seems to show that democracies have more death-resulting conflicts than do autocracies.  The total number of conflicts is roughly the same across the two regime types, but this pattern does not necessarily suggest that democracy results in death.  More than likely, democracy fosters a political environment where citizens can speak their minds, which inevitably will lead to more situations of death. The 'Middle Ground' group have a Polity score of 0, dead center between autocracy and democracy; the low numbers there can be explained by a relatively small number of countries that fall into that category. "
     ]
    },
    {
     "cell_type": "heading",
     "level": 2,
     "metadata": {},
     "source": [
      "Modeling: Death/No Death Indicator"
     ]
    },
    {
     "cell_type": "markdown",
     "metadata": {},
     "source": [
      "###Logistic Regression"
     ]
    },
    {
     "cell_type": "code",
     "collapsed": false,
     "input": [
      "crossVal = [False] * (len(scad))\n",
      "numTest = int(0.2*len(scad))\n",
      "crossVal[0:numTest] = [True] * numTest\n",
      "crossVal = np.random.permutation(crossVal)\n",
      "train = scad[~crossVal]\n",
      "test = scad[crossVal]"
     ],
     "language": "python",
     "metadata": {},
     "outputs": [],
     "prompt_number": 138
    },
    {
     "cell_type": "code",
     "collapsed": false,
     "input": [
      "v = train[['death01', 'npart', 'duration', 'ccode', 'escalation', 'fragment', 'polity2', 'tpop', 'irst', 'etype', 'repress', 'cgovtarget']]\n",
      "v = v[~np.isnan(v).any(1)]\n",
      "mod = logit(\"death01 ~ npart + duration + ccode + escalation + fragment+polity2 + tpop + irst+etype+repress+cgovtarget\", v).fit()\n",
      "print mod.summary()"
     ],
     "language": "python",
     "metadata": {},
     "outputs": [
      {
       "output_type": "stream",
       "stream": "stdout",
       "text": [
        "Optimization terminated successfully.\n",
        "         Current function value: 0.215741\n",
        "         Iterations 8\n",
        "                           Logit Regression Results                           \n",
        "==============================================================================\n",
        "Dep. Variable:                death01   No. Observations:                 1090\n",
        "Model:                          Logit   Df Residuals:                     1078\n",
        "Method:                           MLE   Df Model:                           11\n",
        "Date:                Thu, 06 Mar 2014   Pseudo R-squ.:                  0.4766\n",
        "Time:                        00:20:49   Log-Likelihood:                -235.16\n",
        "converged:                       True   LL-Null:                       -449.32\n",
        "                                        LLR p-value:                 5.855e-85\n",
        "==============================================================================\n",
        "                 coef    std err          z      P>|z|      [95.0% Conf. Int.]\n",
        "------------------------------------------------------------------------------\n",
        "Intercept     -1.8279      1.360     -1.344      0.179        -4.493     0.837\n",
        "npart         -0.5304      0.128     -4.148      0.000        -0.781    -0.280\n",
        "duration       0.0021      0.008      0.272      0.786        -0.013     0.017\n",
        "ccode         -0.0058      0.002     -2.368      0.018        -0.011    -0.001\n",
        "escalation     0.3615      0.079      4.575      0.000         0.207     0.516\n",
        "fragment       0.2645      0.136      1.951      0.051        -0.001     0.530\n",
        "polity2       -0.0377      0.032     -1.184      0.236        -0.100     0.025\n",
        "tpop        7.275e-06   3.22e-06      2.261      0.024       9.7e-07  1.36e-05\n",
        "irst        2.051e-06   6.03e-05      0.034      0.973        -0.000     0.000\n",
        "etype          0.6723      0.063     10.617      0.000         0.548     0.796\n",
        "repress        2.6555      0.226     11.737      0.000         2.212     3.099\n",
        "cgovtarget    -0.3750      0.253     -1.480      0.139        -0.872     0.122\n",
        "=============================================================================="
       ]
      },
      {
       "output_type": "stream",
       "stream": "stdout",
       "text": [
        "\n"
       ]
      }
     ],
     "prompt_number": 139
    },
    {
     "cell_type": "code",
     "collapsed": false,
     "input": [
      "scad[0:1]"
     ],
     "language": "python",
     "metadata": {},
     "outputs": [
      {
       "html": [
        "<div style=\"max-height:1000px;max-width:1500px;overflow:auto;\">\n",
        "<table border=\"1\" class=\"dataframe\">\n",
        "  <thead>\n",
        "    <tr style=\"text-align: right;\">\n",
        "      <th></th>\n",
        "      <th>eventid</th>\n",
        "      <th>ccode</th>\n",
        "      <th>id</th>\n",
        "      <th>countryname</th>\n",
        "      <th>startdate</th>\n",
        "      <th>enddate</th>\n",
        "      <th>duration</th>\n",
        "      <th>stday</th>\n",
        "      <th>stmo</th>\n",
        "      <th>styr</th>\n",
        "      <th>eday</th>\n",
        "      <th>emo</th>\n",
        "      <th>eyr</th>\n",
        "      <th>etype</th>\n",
        "      <th>escalation</th>\n",
        "      <th>actor1</th>\n",
        "      <th>actor2</th>\n",
        "      <th>actor3</th>\n",
        "      <th>target1</th>\n",
        "      <th>target2</th>\n",
        "      <th>cgovtarget</th>\n",
        "      <th>rgovtarget</th>\n",
        "      <th>npart</th>\n",
        "      <th>ndeath</th>\n",
        "      <th>repress</th>\n",
        "      <th>elocal</th>\n",
        "      <th>ilocal</th>\n",
        "      <th>sublocal</th>\n",
        "      <th>locnum</th>\n",
        "      <th>gislocnum</th>\n",
        "      <th>issue1</th>\n",
        "      <th>issue2</th>\n",
        "      <th>issue3</th>\n",
        "      <th>issuenote</th>\n",
        "      <th>nsource</th>\n",
        "      <th>notes</th>\n",
        "      <th>coder</th>\n",
        "      <th>ACD_questionable</th>\n",
        "      <th>latitude</th>\n",
        "      <th>longitude</th>\n",
        "      <th>geo_comments</th>\n",
        "      <th>location_precision</th>\n",
        "      <th>country</th>\n",
        "      <th>fragment</th>\n",
        "      <th>democ</th>\n",
        "      <th>autoc</th>\n",
        "      <th>polity</th>\n",
        "      <th>polity2</th>\n",
        "      <th>irst</th>\n",
        "      <th>milex</th>\n",
        "      <th>milper</th>\n",
        "      <th>pec</th>\n",
        "      <th>tpop</th>\n",
        "      <th>upop</th>\n",
        "      <th>cinc</th>\n",
        "      <th>domRel</th>\n",
        "      <th>domRelNum</th>\n",
        "      <th>death01</th>\n",
        "    </tr>\n",
        "  </thead>\n",
        "  <tbody>\n",
        "    <tr>\n",
        "      <th>0</th>\n",
        "      <td> 6150001</td>\n",
        "      <td> 615</td>\n",
        "      <td> 1</td>\n",
        "      <td> Algeria</td>\n",
        "      <td> 31-May-90</td>\n",
        "      <td> 31-May-90</td>\n",
        "      <td> 1</td>\n",
        "      <td> 31</td>\n",
        "      <td> 5</td>\n",
        "      <td> 1990</td>\n",
        "      <td> 31</td>\n",
        "      <td> 5</td>\n",
        "      <td> 1990</td>\n",
        "      <td> 1</td>\n",
        "      <td> 0</td>\n",
        "      <td> Socialist Forces Front</td>\n",
        "      <td> NaN</td>\n",
        "      <td> NaN</td>\n",
        "      <td> Government</td>\n",
        "      <td> NaN</td>\n",
        "      <td> 1</td>\n",
        "      <td> 0</td>\n",
        "      <td> 5</td>\n",
        "      <td> 0</td>\n",
        "      <td> 0</td>\n",
        "      <td> Algiers</td>\n",
        "      <td> Algiers</td>\n",
        "      <td> 1</td>\n",
        "      <td> 1</td>\n",
        "      <td> 1</td>\n",
        "      <td> 10</td>\n",
        "      <td>NaN</td>\n",
        "      <td>NaN</td>\n",
        "      <td> Political party calls for march demanding true...</td>\n",
        "      <td> 0</td>\n",
        "      <td> NaN</td>\n",
        "      <td> ES</td>\n",
        "      <td> 0</td>\n",
        "      <td> 36.75289</td>\n",
        "      <td> 3.042048</td>\n",
        "      <td> NaN</td>\n",
        "      <td> NaN</td>\n",
        "      <td> Algeria</td>\n",
        "      <td>NaN</td>\n",
        "      <td> 1</td>\n",
        "      <td> 3</td>\n",
        "      <td>-2</td>\n",
        "      <td>-2</td>\n",
        "      <td> 836</td>\n",
        "      <td> 904000</td>\n",
        "      <td> 126</td>\n",
        "      <td> 198340</td>\n",
        "      <td> 25022</td>\n",
        "      <td> 6578</td>\n",
        "      <td> 0.004463</td>\n",
        "      <td> islmgen</td>\n",
        "      <td> 0</td>\n",
        "      <td> 0</td>\n",
        "    </tr>\n",
        "  </tbody>\n",
        "</table>\n",
        "</div>"
       ],
       "output_type": "pyout",
       "prompt_number": 140,
       "text": [
        "   eventid  ccode  id countryname  startdate    enddate  duration  stday  \\\n",
        "0  6150001    615   1     Algeria  31-May-90  31-May-90         1     31   \n",
        "\n",
        "   stmo  styr  eday  emo   eyr  etype  escalation                  actor1  \\\n",
        "0     5  1990    31    5  1990      1           0  Socialist Forces Front   \n",
        "\n",
        "  actor2 actor3     target1 target2  cgovtarget  rgovtarget  npart  ndeath  \\\n",
        "0    NaN    NaN  Government     NaN           1           0      5       0   \n",
        "\n",
        "   repress   elocal   ilocal  sublocal  locnum  gislocnum  issue1  issue2  \\\n",
        "0        0  Algiers  Algiers         1       1          1      10     NaN   \n",
        "\n",
        "   issue3                                          issuenote  nsource notes  \\\n",
        "0     NaN  Political party calls for march demanding true...        0   NaN   \n",
        "\n",
        "  coder  ACD_questionable  latitude  longitude geo_comments  \\\n",
        "0    ES                 0  36.75289   3.042048          NaN   \n",
        "\n",
        "  location_precision  country  fragment  democ  autoc  polity  polity2  irst  \\\n",
        "0                NaN  Algeria       NaN      1      3      -2       -2   836   \n",
        "\n",
        "    milex  milper     pec   tpop  upop      cinc   domRel  domRelNum  death01  \n",
        "0  904000     126  198340  25022  6578  0.004463  islmgen          0        0  "
       ]
      }
     ],
     "prompt_number": 140
    },
    {
     "cell_type": "code",
     "collapsed": false,
     "input": [
      "#KNN\n",
      "noNan = scad[['death01', 'npart', 'escalation', 'polity2', 'etype', 'cgovtarget']]\n",
      "noNan = noNan[~np.isnan(noNan).any(1)]\n",
      "X = noNan.ix[:, 1:]\n",
      "Y = noNan.death01\n",
      "\n",
      "#K-fold cross validation\n",
      "k = 10\n",
      "kf = KFold(len(Y), n_folds=k, indices=False)\n",
      "            \n",
      "deathC = []\n",
      "noDeathC = []\n",
      "deathI = []\n",
      "noDeathI = []\n",
      "\n",
      "for train, test in kf:\n",
      "    trainX = X.iloc[train,:]\n",
      "    trainY = Y.iloc[train]\n",
      "    testX = X.iloc[test,:]\n",
      "    testY = Y.iloc[test]\n",
      "    KNN = KNeighborsClassifier(n_neighbors=10)\n",
      "    KNN.fit(trainX, trainY)\n",
      "    fitted = KNeighborsClassifier.predict(KNN, testX)\n",
      "    noDeathC.extend([ sum((fitted[testY==0] - testY[testY==0])==0)])\n",
      "    noDeathI.extend([ sum((fitted - testY)==1)])\n",
      "    deathC.extend([ sum((fitted[testY==1] - testY[testY==1])==0)])\n",
      "    deathI.extend([ sum((fitted - testY)==-1)])\n",
      "    \n",
      "predAnalysis = np.vstack((noDeathC, noDeathI, deathI, deathC))\n",
      "predAnalysis.dtype = float\n",
      "predAnalysis = predAnalysis.sum(axis=1)\n",
      "predAnalysis = predAnalysis.reshape((2,2)) \n",
      "rowSums = predAnalysis.sum(axis=1)\n",
      "for i in range(0, 2, 1):\n",
      "    for j in range(0, 2, 1):\n",
      "        predAnalysis[i][j] = 100*predAnalysis[i][j] / rowSums[i]\n",
      "        \n",
      "predAnalysis        "
     ],
     "language": "python",
     "metadata": {},
     "outputs": [
      {
       "output_type": "pyout",
       "prompt_number": 13,
       "text": [
        "array([[ 95.311299 ,   4.688701 ],\n",
        "       [ 63.9084507,  36.0915493]])"
       ]
      }
     ],
     "prompt_number": 13
    },
    {
     "cell_type": "code",
     "collapsed": false,
     "input": [
      "# Best Logistic Regression Model\n",
      "v = train[['death01', 'npart', 'escalation', 'polity2', 'etype', 'cgovtarget']]\n",
      "v = v[~np.isnan(v).any(1)]\n",
      "mod = logit(\"death01 ~ npart + escalation + polity2 + etype + cgovtarget\", v).fit()\n",
      "print mod.summary()"
     ],
     "language": "python",
     "metadata": {},
     "outputs": [
      {
       "output_type": "stream",
       "stream": "stdout",
       "text": [
        "Optimization terminated successfully.\n",
        "         Current function value: 0.379743\n",
        "         Iterations 6\n",
        "                           Logit Regression Results                           \n",
        "==============================================================================\n",
        "Dep. Variable:                death01   No. Observations:                 2542\n",
        "Model:                          Logit   Df Residuals:                     2536\n",
        "Method:                           MLE   Df Model:                            5\n",
        "Date:                Thu, 06 Mar 2014   Pseudo R-squ.:                  0.2009\n",
        "Time:                        00:46:17   Log-Likelihood:                -965.31\n",
        "converged:                       True   LL-Null:                       -1208.0\n",
        "                                        LLR p-value:                1.146e-102\n",
        "==============================================================================\n",
        "                 coef    std err          z      P>|z|      [95.0% Conf. Int.]\n",
        "------------------------------------------------------------------------------\n",
        "Intercept     -2.2839      0.221    -10.321      0.000        -2.718    -1.850\n",
        "npart         -0.2439      0.052     -4.703      0.000        -0.346    -0.142\n",
        "escalation     0.4545      0.037     12.224      0.000         0.382     0.527\n",
        "polity2       -0.0082      0.011     -0.732      0.464        -0.030     0.014\n",
        "etype          0.3638      0.023     15.522      0.000         0.318     0.410\n",
        "cgovtarget    -0.3088      0.121     -2.552      0.011        -0.546    -0.072\n",
        "==============================================================================\n"
       ]
      }
     ],
     "prompt_number": 182
    },
    {
     "cell_type": "code",
     "collapsed": false,
     "input": [
      "v = test[['death01', 'npart', 'escalation', 'polity2', 'etype', 'cgovtarget']]\n",
      "v = v[~np.isnan(v).any(1)]\n",
      "ests = np.round(mod.predict(v))\n",
      "true = v[['death01']].values\n",
      "\n",
      "predAnalysis = [[0 for x in xrange(2)] for x in xrange(2)]\n",
      "for i in range(0,len(true),1):\n",
      "    if true[[i]]==0 and ests[[i]]==0:\n",
      "        predAnalysis[0][0] = predAnalysis[0][0] + 1\n",
      "    elif true[[i]]==0 and ests[[i]]==1:\n",
      "        predAnalysis[0][1] = predAnalysis[0][1] + 1\n",
      "    elif true[[i]]==1 and ests[[i]]==0:\n",
      "        predAnalysis[1][0] = predAnalysis[1][0] + 1\n",
      "    elif true[[i]]==1 and ests[[i]]==1:\n",
      "        predAnalysis[1][1] = predAnalysis[1][1] + 1\n",
      "\n",
      "predAnalysis\n",
      "        "
     ],
     "language": "python",
     "metadata": {},
     "outputs": [
      {
       "output_type": "pyout",
       "prompt_number": 183,
       "text": [
        "[[501, 23], [65, 39]]"
       ]
      }
     ],
     "prompt_number": 183
    },
    {
     "cell_type": "code",
     "collapsed": false,
     "input": [
      "#Logit\n",
      "noNan = scad[['death01', 'npart', 'escalation', 'polity2', 'etype', 'cgovtarget']]\n",
      "noNan = noNan[~np.isnan(noNan).any(1)]\n",
      "X = noNan.ix[:, 1:]\n",
      "Y = noNan.death01\n",
      "\n",
      "#K-F CV\n",
      "k = 10\n",
      "kf = KFold(len(Y), n_folds=k, indices=False)\n",
      "            \n",
      "deathC = []\n",
      "noDeathC = []\n",
      "deathI = []\n",
      "noDeathI = []\n",
      "scores = []\n",
      "\n",
      "for train, test in kf:\n",
      "    trainX = sm.add_constant(X.iloc[train,:])\n",
      "    trainY = Y.iloc[train]\n",
      "    testX = sm.add_constant(X.iloc[test,:])\n",
      "    testY = Y.iloc[test]\n",
      "    mod = sm.Logit(endog=trainY, exog=trainX).fit()\n",
      "    fitted = np.round(mod.predict(testX))\n",
      "    noDeathC.extend([ sum((fitted[testY==0] - testY[testY==0])==0)])\n",
      "    noDeathI.extend([ sum((fitted - testY)==1)])\n",
      "    deathC.extend([ sum((fitted[testY==1] - testY[testY==1])==0)])\n",
      "    deathI.extend([ sum((fitted - testY)==-1)])\n",
      "    \n",
      "    \n",
      "predAnalysis = np.vstack((noDeathC, noDeathI, deathI, deathC))\n",
      "predAnalysis.dtype = float\n",
      "predAnalysis = predAnalysis.sum(axis=1)\n",
      "predAnalysis = predAnalysis.reshape((2,2)) \n",
      "rowSums = predAnalysis.sum(axis=1)\n",
      "for i in range(0, 2, 1):\n",
      "    for j in range(0, 2, 1):\n",
      "        predAnalysis[i][j] = 100*predAnalysis[i][j] / rowSums[i]\n",
      " \n",
      "predAnalysis"
     ],
     "language": "python",
     "metadata": {},
     "outputs": [
      {
       "output_type": "stream",
       "stream": "stdout",
       "text": [
        "Optimization terminated successfully.\n",
        "         Current function value: 0.384512\n",
        "         Iterations 6\n",
        "Optimization terminated successfully.\n",
        "         Current function value: 0.361058\n",
        "         Iterations 7\n",
        "Optimization terminated successfully.\n",
        "         Current function value: 0.376448\n",
        "         Iterations 6\n",
        "Optimization terminated successfully."
       ]
      },
      {
       "output_type": "stream",
       "stream": "stdout",
       "text": [
        "\n",
        "         Current function value: 0.366610\n",
        "         Iterations 7\n",
        "Optimization terminated successfully.\n",
        "         Current function value: 0.374680\n",
        "         Iterations 6\n",
        "Optimization terminated successfully.\n",
        "         Current function value: 0.368310\n",
        "         Iterations 7\n",
        "Optimization terminated successfully."
       ]
      },
      {
       "output_type": "stream",
       "stream": "stdout",
       "text": [
        "\n",
        "         Current function value: 0.376480\n",
        "         Iterations 6\n",
        "Optimization terminated successfully.\n",
        "         Current function value: 0.375587\n",
        "         Iterations 6\n",
        "Optimization terminated successfully.\n",
        "         Current function value: 0.385607\n",
        "         Iterations 6\n",
        "Optimization terminated successfully."
       ]
      },
      {
       "output_type": "stream",
       "stream": "stdout",
       "text": [
        "\n",
        "         Current function value: 0.382201\n",
        "         Iterations 6\n"
       ]
      },
      {
       "output_type": "pyout",
       "prompt_number": 169,
       "text": [
        "array([[ 95.88777863,   4.11222137],\n",
        "       [ 66.72535211,  33.27464789]])"
       ]
      }
     ],
     "prompt_number": 169
    },
    {
     "cell_type": "code",
     "collapsed": false,
     "input": [
      "predAnalysis"
     ],
     "language": "python",
     "metadata": {},
     "outputs": [
      {
       "output_type": "pyout",
       "prompt_number": 354,
       "text": [
        "array([[ 95.88777863,   4.11222137],\n",
        "       [ 66.72535211,  33.27464789]])"
       ]
      }
     ],
     "prompt_number": 354
    },
    {
     "cell_type": "markdown",
     "metadata": {},
     "source": [
      "##Modeling: Absolute Number of Deaths"
     ]
    },
    {
     "cell_type": "code",
     "collapsed": false,
     "input": [
      "#Poisson predict number of deaths\n",
      "v = train[['ndeath', 'npart', 'escalation', 'polity', 'milex', 'milper', 'tpop', 'upop', 'etype', 'cgovtarget']]\n",
      "v = v[v.ndeath>0]\n",
      "v = v[~np.isnan(v).any(1)]\n",
      "mod = poisson(\"ndeath ~ npart + escalation + polity + milex + milper + tpop + upop + etype + cgovtarget\", v).fit()\n",
      "print mod.summary()"
     ],
     "language": "python",
     "metadata": {},
     "outputs": [
      {
       "output_type": "stream",
       "stream": "stdout",
       "text": [
        "Warning: Maximum number of iterations has been exceeded.\n",
        "         Current function value: 180798.412603\n",
        "         Iterations: 35\n",
        "                          Poisson Regression Results                          \n",
        "==============================================================================\n",
        "Dep. Variable:                 ndeath   No. Observations:                  338\n",
        "Model:                        Poisson   Df Residuals:                      328\n",
        "Method:                           MLE   Df Model:                            9\n",
        "Date:                Thu, 06 Mar 2014   Pseudo R-squ.:                  -8760.\n",
        "Time:                        00:20:50   Log-Likelihood:            -6.1110e+07\n",
        "converged:                      False   LL-Null:                       -6975.4\n",
        "                                        LLR p-value:                     1.000\n",
        "==============================================================================\n",
        "                 coef    std err          z      P>|z|      [95.0% Conf. Int.]\n",
        "------------------------------------------------------------------------------\n",
        "Intercept    -36.3009      0.048   -750.607      0.000       -36.396   -36.206\n",
        "npart          4.8594      0.008    622.005      0.000         4.844     4.875\n",
        "escalation     1.6950      0.003    668.535      0.000         1.690     1.700\n",
        "polity        -0.0169   3.93e-05   -431.256      0.000        -0.017    -0.017\n",
        "milex       -4.07e-07   5.29e-09    -76.967      0.000     -4.17e-07 -3.97e-07\n",
        "milper        -0.0174      0.000   -171.145      0.000        -0.018    -0.017\n",
        "tpop       -3.227e-05   8.47e-07    -38.110      0.000     -3.39e-05 -3.06e-05\n",
        "upop           0.0007   4.39e-06    165.628      0.000         0.001     0.001\n",
        "etype          1.7731      0.001   1496.603      0.000         1.771     1.775\n",
        "cgovtarget    -4.0556      0.007   -550.805      0.000        -4.070    -4.041\n",
        "=============================================================================="
       ]
      },
      {
       "output_type": "stream",
       "stream": "stdout",
       "text": [
        "\n"
       ]
      }
     ],
     "prompt_number": 143
    },
    {
     "cell_type": "code",
     "collapsed": false,
     "input": [
      "# Residual vs. Fitted Value Plot for Poisson Model (on test set)\n",
      "v = test[['ndeath', 'npart', 'escalation', 'polity', 'milex', 'milper', 'tpop', 'upop', 'etype', 'cgovtarget']]\n",
      "v = v[v.ndeath>0]\n",
      "v = v[~np.isnan(v).any(1)]\n",
      "\n",
      "fitted = mod.predict(v)\n",
      "fitted.shape = (len(fitted),1)\n",
      "true = v[['ndeath']].values\n",
      "resid = true - fitted\n",
      "\n",
      "fig = plt.figure()\n",
      "ax = fig.add_subplot(131)\n",
      "width=0.5\n",
      "p1 = ax.scatter(fitted, resid, color='black', alpha=0.2)\n",
      "\n",
      "axesToLose = ['top', 'right']\n",
      "for axis in axesToLose:\n",
      "    ax.spines[axis].set_visible(False)\n",
      "    \n",
      "ax.xaxis.set_ticks_position('none')\n",
      "ax.yaxis.set_ticks_position('left')\n",
      "\n",
      "ax.set_ylabel('Residuals', fontsize=12)\n",
      "ax.set_xlabel('Fitted Values', fontsize=12)\n",
      "#ax.set_xlim((-20, 85))\n",
      "#ax.set_xticks(range(-20, 100, 20))\n",
      "\n",
      "#hlines(0, -20, 80, color=dark[1], linestyle='dashed')\n",
      "\n",
      "ax2 = fig.add_subplot(133)\n",
      "width=0.5\n",
      "trueSort, fittedSort = zip(*sorted(zip(true, fitted)))\n",
      "p2 = ax2.scatter(fittedSort, trueSort, color='black', alpha=0.2)\n",
      "axesToLose = ['top', 'right']\n",
      "for axis in axesToLose:\n",
      "    ax2.spines[axis].set_visible(False)\n",
      "    \n",
      "ax2.xaxis.set_ticks_position('none')\n",
      "ax2.yaxis.set_ticks_position('left')\n",
      "\n",
      "ax2.set_xlabel('Fitted Values', fontsize=12)\n",
      "ax2.set_ylabel('Observed Values', fontsize=12)\n",
      "#ax2.set_ylim((-20, 800))\n",
      "#ax2.set_xlim((-20, 85))\n",
      "#ax2.set_xticks(range(-20, 100, 20))\n",
      "\n",
      "#ax2.plot([-20,800], [-20,800], color=dark[1], linestyle='dashed')\n",
      "\n",
      "plt.show()"
     ],
     "language": "python",
     "metadata": {},
     "outputs": [
      {
       "output_type": "display_data",
       "png": "[encoded data removed]"
      }
     ],
     "prompt_number": 144
    },
    {
     "cell_type": "code",
     "collapsed": false,
     "input": [
      "#OLS predict log(number of deaths) to try to reduce skew\n",
      "v = train[['ndeath', 'npart', 'escalation', 'polity2', 'milex', 'milper', 'etype']]\n",
      "v = v[v.ndeath>0]\n",
      "v = v[~np.isnan(v).any(1)]\n",
      "v.ndeath = log(v.ndeath)\n",
      "mod = ols(\"ndeath ~ npart + escalation + polity2 + milex + milper + etype \", v).fit()\n",
      "print mod.summary()"
     ],
     "language": "python",
     "metadata": {},
     "outputs": [
      {
       "output_type": "stream",
       "stream": "stdout",
       "text": [
        "                            OLS Regression Results                            \n",
        "==============================================================================\n",
        "Dep. Variable:                 ndeath   R-squared:                       0.159\n",
        "Model:                            OLS   Adj. R-squared:                  0.143\n",
        "Method:                 Least Squares   F-statistic:                     10.41\n",
        "Date:                Thu, 06 Mar 2014   Prob (F-statistic):           1.42e-10\n",
        "Time:                        00:20:51   Log-Likelihood:                -562.49\n",
        "No. Observations:                 338   AIC:                             1139.\n",
        "Df Residuals:                     331   BIC:                             1166.\n",
        "Df Model:                           6                                         \n",
        "==============================================================================\n",
        "                 coef    std err          t      P>|t|      [95.0% Conf. Int.]\n",
        "------------------------------------------------------------------------------\n",
        "Intercept     -0.6061      0.321     -1.889      0.060        -1.237     0.025\n",
        "npart          0.3752      0.069      5.442      0.000         0.240     0.511\n",
        "escalation     0.0896      0.039      2.279      0.023         0.012     0.167\n",
        "polity2       -0.0258      0.016     -1.571      0.117        -0.058     0.007\n",
        "milex         1.6e-07   7.38e-08      2.167      0.031      1.48e-08  3.05e-07\n",
        "milper        -0.0016      0.001     -1.811      0.071        -0.003     0.000\n",
        "etype          0.1509      0.029      5.233      0.000         0.094     0.208\n",
        "==============================================================================\n",
        "Omnibus:                       18.644   Durbin-Watson:                   1.980\n",
        "Prob(Omnibus):                  0.000   Jarque-Bera (JB):               20.526\n",
        "Skew:                           0.603   Prob(JB):                     3.49e-05\n",
        "Kurtosis:                       3.065   Cond. No.                     8.41e+06\n",
        "==============================================================================\n",
        "\n",
        "Warnings:\n",
        "[1] The condition number is large, 8.41e+06. This might indicate that there are\n",
        "strong multicollinearity or other numerical problems.\n"
       ]
      }
     ],
     "prompt_number": 145
    },
    {
     "cell_type": "code",
     "collapsed": false,
     "input": [
      "v = test[['ndeath', 'npart', 'escalation', 'polity2', 'milex', 'milper', 'etype']]\n",
      "v = v[v.ndeath>0]\n",
      "v = v[~np.isnan(v).any(1)]\n",
      "v.ndeath = log(v.ndeath)\n",
      "fitted = mod.predict(v)\n",
      "fitted = exp(fitted)\n",
      "resid = exp(v.ndeath) - fitted\n",
      "\n",
      "obsSort, fitSort = zip(*sorted(zip(exp(v.ndeath), fitted)))\n",
      "\n",
      "plt.scatter(fitSort, resid)\n",
      "plt.show()"
     ],
     "language": "python",
     "metadata": {},
     "outputs": [
      {
       "output_type": "display_data",
       "png": "[encoded data removed]"
      }
     ],
     "prompt_number": 146
    },
    {
     "cell_type": "code",
     "collapsed": false,
     "input": [],
     "language": "python",
     "metadata": {},
     "outputs": [],
     "prompt_number": 146
    }
   ],
   "metadata": {}
  }
 ]
}