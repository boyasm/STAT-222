{
 "metadata": {
  "name": ""
 },
 "nbformat": 3,
 "nbformat_minor": 0,
 "worksheets": [
  {
   "cells": [
    {
     "cell_type": "markdown",
     "metadata": {},
     "source": [
      "#What Results in Death?  \n",
      "##*Analysis of Social Conflict in Africa, 1990&ndash;2011*\n",
      "\n",
      "###Matthew Boyas <br/> STAT 222, MA Capstone <br/> 19 March 2014"
     ]
    },
    {
     "cell_type": "code",
     "collapsed": false,
     "input": [
      "import numpy as np\n",
      "import pandas as pd\n",
      "import matplotlib as mpl\n",
      "import matplotlib.pyplot as plt\n",
      "import scipy as sp\n",
      "import collections as col\n",
      "import statsmodels.api as sm\n",
      "\n",
      "from statsmodels.formula.api import logit, probit, poisson\n",
      "from scipy import stats\n",
      "from scipy.stats import nbinom\n",
      "from sklearn.cross_validation import KFold, cross_val_score\n",
      "from sklearn.neighbors import KNeighborsClassifier\n",
      "from sklearn import tree\n",
      "from mpl_toolkits.basemap import Basemap\n",
      "from IPython.display import display\n",
      "from IPython.display import HTML\n",
      "\n",
      "# This code was written using Scipy 0.13.3, Numpy 1.6.1, Pandas 0.12.0, XLRD 0.9.2, Matplotlib Basemap 1.0.6, GEOS 3.3.3\n",
      "# It may not be compatibile with other module versions\n",
      "# Code version 3 March 2014\n",
      "# No known bugs\n",
      "\n",
      "pd.options.display.max_columns = 100\n",
      "import warnings\n",
      "warnings.filterwarnings(\"ignore\", category=DeprecationWarning, module=\"pandas\", lineno=570)\n",
      "#This ignores a bug that results when using pandas 0.12 alongside sklearn.  It will be fixed,\n",
      "#according to pandas developers, in pandas 0.13."
     ],
     "language": "python",
     "metadata": {},
     "outputs": [],
     "prompt_number": 35
    },
    {
     "cell_type": "code",
     "collapsed": false,
     "input": [
      "# Define color palette for graphing and plots\n",
      "# Print friendly as well as somewhat colorblind friendly\n",
      "# Palettes are ColorBrewer's Set2 and Dark2 palettes\n",
      "light = ['#66C2A5', '#FC8D62', '#8DA0CB', '#E78AC3', '#A6D654', '#FFD92F', '#E5C494', '#B3B3B3']\n",
      "dark = ['#003262', '#FDB515', '#1B9E77', '#D95F02', '#7570B3', '#E7298A', '#66A61E', '#E6AB02', '#A6761D', '#666666']"
     ],
     "language": "python",
     "metadata": {},
     "outputs": [],
     "prompt_number": 36
    },
    {
     "cell_type": "heading",
     "level": 2,
     "metadata": {},
     "source": [
      "Data Import, Merging, Cleaning, & Manipulation"
     ]
    },
    {
     "cell_type": "code",
     "collapsed": false,
     "input": [
      "scad = pd.read_excel('/accounts/grad/mboyas/STAT-222/Raw Datasets/SCAD 3.0/SCAD 3.0 1990-2011.xls', 'SCAD 3.0(2).csv')\n",
      "# Remove all conflicts starting prior to 1990 (see documentation)\n",
      "scad = scad[scad.styr>=1990]\n",
      "\n",
      "# Remove all conflicts that exceed one calendar year to simplify analyses\n",
      "scad = scad[scad.styr == scad.eyr]\n",
      "\n",
      "# Remove all duplicated rows (see documentation re: GIS)\n",
      "scad = scad.drop_duplicates(cols='eventid')"
     ],
     "language": "python",
     "metadata": {},
     "outputs": [],
     "prompt_number": 37
    },
    {
     "cell_type": "code",
     "collapsed": false,
     "input": [
      "# Merge in Polity IV\n",
      "polity = pd.read_excel('/accounts/grad/mboyas/STAT-222/Raw Datasets/Polity IV/p4v2012.xls', 'p4v2012')\n",
      "polity = polity[[\"ccode\", \"country\", \"year\", \"fragment\", \"democ\", \"autoc\", \"polity\", \"polity2\"]]\n",
      "newcols = polity.columns.values\n",
      "newcols[2] = 'styr'\n",
      "polity.columns=newcols\n",
      "scad = pd.merge(scad, polity, on=['ccode', 'styr'], how='left')"
     ],
     "language": "python",
     "metadata": {},
     "outputs": [],
     "prompt_number": 38
    },
    {
     "cell_type": "code",
     "collapsed": false,
     "input": [
      "# Merge in NMC from COW\n",
      "nmc = pd.read_csv('/accounts/grad/mboyas/STAT-222/Raw Datasets/COW/NMC_v4_0.csv', na_values='-9')\n",
      "nmc = nmc[nmc.columns[1:10]]\n",
      "newcols = nmc.columns.values\n",
      "newcols[1] = 'styr'\n",
      "nmc.columns=newcols\n",
      "nmc[1:5]\n",
      "scad = pd.merge(scad, nmc, on=['ccode', 'styr'], how='left')"
     ],
     "language": "python",
     "metadata": {},
     "outputs": [],
     "prompt_number": 39
    },
    {
     "cell_type": "code",
     "collapsed": false,
     "input": [
      "# Merge in World Religions from COW\n",
      "wrp = pd.read_csv('/accounts/grad/mboyas/STAT-222/Raw Datasets/COW/WRP_national.csv')\n",
      "wrp = wrp[wrp.columns[np.concatenate([np.array([0,1,8,13,21]), np.arange(25,38,1)])]]\n",
      "wrp['domRel'] = wrp.idxmax(axis=1)\n",
      "# determine the dominant religion\n",
      "wrp = wrp[wrp.columns[[0,1,18]]]\n",
      "newcols = wrp.columns.values\n",
      "newcols[0] = 'styr'\n",
      "newcols[1] = 'ccode'\n",
      "wrp.columns=newcols\n",
      "wrp = pd.merge(scad[scad.columns[[1,9]]].drop_duplicates(), wrp, on=['ccode', 'styr'], how='left')\n",
      "wrp = wrp.fillna(method='ffill')\n",
      "wrp.domRel = pd.Categorical(wrp.domRel)\n",
      "scad = pd.merge(scad, wrp, on=['ccode', 'styr'], how='left')"
     ],
     "language": "python",
     "metadata": {},
     "outputs": [],
     "prompt_number": 40
    },
    {
     "cell_type": "code",
     "collapsed": false,
     "input": [
      "# Set all INT variables as FLOAT to enable coding as np.nan\n",
      "for i in range(len(scad.columns)):\n",
      "    if scad[scad.columns[i]].dtype == int:\n",
      "        scad[scad.columns[i]] = scad[scad.columns[i]].astype(float)\n",
      "\n",
      "    "
     ],
     "language": "python",
     "metadata": {},
     "outputs": [],
     "prompt_number": 41
    },
    {
     "cell_type": "code",
     "collapsed": false,
     "input": [
      "#Code all dataset missing values as NaN\n",
      "scad.npart[scad.npart == -99] = np.nan\n",
      "scad.npart[scad.npart == -88] = np.nan\n",
      "scad.ndeath[scad.ndeath == -99] = np.nan\n",
      "scad.ndeath[scad.ndeath == -88] = np.nan\n",
      "scad.ndeath[scad.ndeath == -77] = np.nan\n",
      "scad.locnum[scad.locnum == -99] = np.nan\n",
      "scad.issue1[scad.issue1 == 14] = np.nan\n",
      "scad.issue1[scad.issue2 == 14] = np.nan\n",
      "scad.issue1[scad.issue3 == 14] = np.nan\n",
      "scad.fragment[scad.fragment == -66] = np.nan\n",
      "scad.fragment[scad.fragment == -77] = np.nan\n",
      "scad.fragment[scad.fragment == -88] = np.nan\n",
      "scad.democ[scad.democ == -66] = np.nan\n",
      "scad.democ[scad.democ == -77] = np.nan\n",
      "scad.democ[scad.democ == -88] = np.nan \n",
      "scad.autoc[scad.autoc == -66] = np.nan\n",
      "scad.autoc[scad.autoc == -77] = np.nan\n",
      "scad.autoc[scad.autoc == -88] = np.nan\n",
      "scad.polity[scad.polity == -66] = np.nan\n",
      "scad.polity[scad.polity == -77] = np.nan\n",
      "scad.polity[scad.polity == -88] = np.nan\n",
      "scad.polity2[scad.polity2 == -66] = np.nan\n",
      "scad.polity[scad.polity2 == -77] = np.nan\n",
      "scad.polity[scad.polity2 == -88] = np.nan\n",
      "scad.etype[scad.etype == -9] = np.nan"
     ],
     "language": "python",
     "metadata": {},
     "outputs": [],
     "prompt_number": 45
    },
    {
     "cell_type": "code",
     "collapsed": false,
     "input": [
      "#Recode dominant religion as a dummy numeric variable\n",
      "levels = dict([(val, i) for i, val in enumerate(set(scad.domRel))])\n",
      "scad['domRelNum'] = [levels[val] for val in scad.domRel]"
     ],
     "language": "python",
     "metadata": {},
     "outputs": [
      {
       "metadata": {},
       "output_type": "pyout",
       "prompt_number": 149,
       "text": [
        "{'anmgen': 3, 'chrstgen': 2, 'hindgen': 1, 'islmgen': 0}"
       ]
      }
     ],
     "prompt_number": 149
    },
    {
     "cell_type": "code",
     "collapsed": false,
     "input": [
      "#Code indicator variable, 0 if no deaths, 1 if at least one death\n",
      "scad['death01']=scad.ndeath\n",
      "scad.death01[scad.death01>0] = 1\n",
      "scad.death01[scad.ndeath == np.nan] = np.nan"
     ],
     "language": "python",
     "metadata": {},
     "outputs": [],
     "prompt_number": 47
    },
    {
     "cell_type": "heading",
     "level": 2,
     "metadata": {},
     "source": [
      "Experimental Grouping Analyses & Correlations"
     ]
    },
    {
     "cell_type": "markdown",
     "metadata": {},
     "source": [
      "There are a lot of missing values in the dataset coded as NaN (in Numpy).  I did not want to delete the majority of my dataset by filtering out any row that has a missing observation; for example, the variable issue3 only has 86 non-missing values out of a total of 7838 rows in the dataset. Thus, I chose to remove the missing values for each level of analysis depending on the variabes that I choose to use.  Note that this decision could cause some plots to have slighly different ranges, but my hope is that these differences do not cause large interpretory issues of my results."
     ]
    },
    {
     "cell_type": "code",
     "collapsed": false,
     "input": [
      "grouped = scad.groupby('death01')\n",
      "grouped.aggregate(np.median)\n",
      "grouped.aggregate(np.mean)"
     ],
     "language": "python",
     "metadata": {},
     "outputs": [
      {
       "html": [
        "<div style=\"max-height:1000px;max-width:1500px;overflow:auto;\">\n",
        "<table border=\"1\" class=\"dataframe\">\n",
        "  <thead>\n",
        "    <tr style=\"text-align: right;\">\n",
        "      <th></th>\n",
        "      <th>eventid</th>\n",
        "      <th>ccode</th>\n",
        "      <th>id</th>\n",
        "      <th>duration</th>\n",
        "      <th>stday</th>\n",
        "      <th>stmo</th>\n",
        "      <th>styr</th>\n",
        "      <th>eday</th>\n",
        "      <th>emo</th>\n",
        "      <th>eyr</th>\n",
        "      <th>etype</th>\n",
        "      <th>escalation</th>\n",
        "      <th>cgovtarget</th>\n",
        "      <th>rgovtarget</th>\n",
        "      <th>npart</th>\n",
        "      <th>ndeath</th>\n",
        "      <th>repress</th>\n",
        "      <th>sublocal</th>\n",
        "      <th>locnum</th>\n",
        "      <th>gislocnum</th>\n",
        "      <th>issue1</th>\n",
        "      <th>issue2</th>\n",
        "      <th>issue3</th>\n",
        "      <th>nsource</th>\n",
        "      <th>ACD_questionable</th>\n",
        "      <th>latitude</th>\n",
        "      <th>longitude</th>\n",
        "      <th>fragment</th>\n",
        "      <th>democ</th>\n",
        "      <th>autoc</th>\n",
        "      <th>polity</th>\n",
        "      <th>polity2</th>\n",
        "      <th>irst</th>\n",
        "      <th>milex</th>\n",
        "      <th>milper</th>\n",
        "      <th>pec</th>\n",
        "      <th>tpop</th>\n",
        "      <th>upop</th>\n",
        "      <th>cinc</th>\n",
        "      <th>domRelNum</th>\n",
        "    </tr>\n",
        "    <tr>\n",
        "      <th>death01</th>\n",
        "      <th></th>\n",
        "      <th></th>\n",
        "      <th></th>\n",
        "      <th></th>\n",
        "      <th></th>\n",
        "      <th></th>\n",
        "      <th></th>\n",
        "      <th></th>\n",
        "      <th></th>\n",
        "      <th></th>\n",
        "      <th></th>\n",
        "      <th></th>\n",
        "      <th></th>\n",
        "      <th></th>\n",
        "      <th></th>\n",
        "      <th></th>\n",
        "      <th></th>\n",
        "      <th></th>\n",
        "      <th></th>\n",
        "      <th></th>\n",
        "      <th></th>\n",
        "      <th></th>\n",
        "      <th></th>\n",
        "      <th></th>\n",
        "      <th></th>\n",
        "      <th></th>\n",
        "      <th></th>\n",
        "      <th></th>\n",
        "      <th></th>\n",
        "      <th></th>\n",
        "      <th></th>\n",
        "      <th></th>\n",
        "      <th></th>\n",
        "      <th></th>\n",
        "      <th></th>\n",
        "      <th></th>\n",
        "      <th></th>\n",
        "      <th></th>\n",
        "      <th></th>\n",
        "      <th></th>\n",
        "    </tr>\n",
        "  </thead>\n",
        "  <tbody>\n",
        "    <tr>\n",
        "      <th>0</th>\n",
        "      <td> 5237366.559140</td>\n",
        "      <td> 523.717535</td>\n",
        "      <td> 191.207610</td>\n",
        "      <td> 4.871588</td>\n",
        "      <td> 15.221257</td>\n",
        "      <td> 6.305418</td>\n",
        "      <td> 2001.997932</td>\n",
        "      <td> 16.080852</td>\n",
        "      <td> 6.404467</td>\n",
        "      <td> 2001.997932</td>\n",
        "      <td> 3.804177</td>\n",
        "      <td> 0.330645</td>\n",
        "      <td> 0.577957</td>\n",
        "      <td> 0.051489</td>\n",
        "      <td> 3.415624</td>\n",
        "      <td>  0.000000</td>\n",
        "      <td> 0.246691</td>\n",
        "      <td> 1.033912</td>\n",
        "      <td> 2.725225</td>\n",
        "      <td>-0.929901</td>\n",
        "      <td> 6.656783</td>\n",
        "      <td> 6.383707</td>\n",
        "      <td> 8.844444</td>\n",
        "      <td> 0.436725</td>\n",
        "      <td> 0.007444</td>\n",
        "      <td> 2.850657</td>\n",
        "      <td> 17.049998</td>\n",
        "      <td> 0.266167</td>\n",
        "      <td> 3.113037</td>\n",
        "      <td> 2.73023</td>\n",
        "      <td> 0.382807</td>\n",
        "      <td> 0.440979</td>\n",
        "      <td> 1286.445935</td>\n",
        "      <td>  914651.891509</td>\n",
        "      <td> 69.761247</td>\n",
        "      <td> 69726.417113</td>\n",
        "      <td> 34607.410926</td>\n",
        "      <td> 7629.150699</td>\n",
        "      <td> 0.003086</td>\n",
        "      <td> 1.064516</td>\n",
        "    </tr>\n",
        "    <tr>\n",
        "      <th>1</th>\n",
        "      <td> 5162870.017782</td>\n",
        "      <td> 516.261158</td>\n",
        "      <td> 258.441771</td>\n",
        "      <td> 4.628661</td>\n",
        "      <td> 15.122385</td>\n",
        "      <td> 6.251743</td>\n",
        "      <td> 2001.798466</td>\n",
        "      <td> 15.564854</td>\n",
        "      <td> 6.356695</td>\n",
        "      <td> 2001.798466</td>\n",
        "      <td> 6.616109</td>\n",
        "      <td> 0.516039</td>\n",
        "      <td> 0.277545</td>\n",
        "      <td> 0.064854</td>\n",
        "      <td> 2.967298</td>\n",
        "      <td> 30.811715</td>\n",
        "      <td> 0.489191</td>\n",
        "      <td> 1.070084</td>\n",
        "      <td> 3.395292</td>\n",
        "      <td> 2.630056</td>\n",
        "      <td> 7.523339</td>\n",
        "      <td> 7.543524</td>\n",
        "      <td> 6.641026</td>\n",
        "      <td> 0.520572</td>\n",
        "      <td> 0.043584</td>\n",
        "      <td> 1.039060</td>\n",
        "      <td> 21.869196</td>\n",
        "      <td> 0.648680</td>\n",
        "      <td> 3.789972</td>\n",
        "      <td> 2.05298</td>\n",
        "      <td> 1.736991</td>\n",
        "      <td> 1.591363</td>\n",
        "      <td> 1744.512457</td>\n",
        "      <td> 1035289.580565</td>\n",
        "      <td> 67.626248</td>\n",
        "      <td> 78352.929633</td>\n",
        "      <td> 42194.788961</td>\n",
        "      <td> 8831.501391</td>\n",
        "      <td> 0.003646</td>\n",
        "      <td> 1.002789</td>\n",
        "    </tr>\n",
        "  </tbody>\n",
        "</table>\n",
        "</div>"
       ],
       "metadata": {},
       "output_type": "pyout",
       "prompt_number": 11,
       "text": [
        "                eventid       ccode          id  duration      stday  \\\n",
        "death01                                                                \n",
        "0        5237366.559140  523.717535  191.207610  4.871588  15.221257   \n",
        "1        5162870.017782  516.261158  258.441771  4.628661  15.122385   \n",
        "\n",
        "             stmo         styr       eday       emo          eyr     etype  \\\n",
        "death01                                                                      \n",
        "0        6.305418  2001.997932  16.080852  6.404467  2001.997932  3.804177   \n",
        "1        6.251743  2001.798466  15.564854  6.356695  2001.798466  6.616109   \n",
        "\n",
        "         escalation  cgovtarget  rgovtarget     npart     ndeath   repress  \\\n",
        "death01                                                                      \n",
        "0          0.330645    0.577957    0.051489  3.415624   0.000000  0.246691   \n",
        "1          0.516039    0.277545    0.064854  2.967298  30.811715  0.489191   \n",
        "\n",
        "         sublocal    locnum  gislocnum    issue1    issue2    issue3  \\\n",
        "death01                                                                \n",
        "0        1.033912  2.725225  -0.929901  6.656783  6.383707  8.844444   \n",
        "1        1.070084  3.395292   2.630056  7.523339  7.543524  6.641026   \n",
        "\n",
        "          nsource  ACD_questionable  latitude  longitude  fragment     democ  \\\n",
        "death01                                                                        \n",
        "0        0.436725          0.007444  2.850657  17.049998  0.266167  3.113037   \n",
        "1        0.520572          0.043584  1.039060  21.869196  0.648680  3.789972   \n",
        "\n",
        "           autoc    polity   polity2         irst           milex     milper  \\\n",
        "death01                                                                        \n",
        "0        2.73023  0.382807  0.440979  1286.445935   914651.891509  69.761247   \n",
        "1        2.05298  1.736991  1.591363  1744.512457  1035289.580565  67.626248   \n",
        "\n",
        "                  pec          tpop         upop      cinc  domRelNum  \n",
        "death01                                                                \n",
        "0        69726.417113  34607.410926  7629.150699  0.003086   1.064516  \n",
        "1        78352.929633  42194.788961  8831.501391  0.003646   1.002789  "
       ]
      }
     ],
     "prompt_number": 11
    },
    {
     "cell_type": "code",
     "collapsed": false,
     "input": [
      "#T Tests\n",
      "#Run a series of unequal variance, two-sample T-Tests across the binary death01 variable to get a feel for what might be significant\n",
      "#Note, though, that the sample size is3rt large (7838), so many tests could be significant simply due to large n\n",
      "death = scad[scad.death01==1]\n",
      "noDeath = scad[scad.death01==0]\n",
      "\n",
      "tests = ['duration', 'etype', 'escalation', 'cgovtarget', 'rgovtarget', 'npart', 'issue1', 'issue2', 'issue3', 'nsource', 'polity', 'polity2', 'domRelNum']\n",
      "for val in tests:\n",
      "    print val\n",
      "    print sp.stats.ttest_ind(death[val][~np.isnan(death[val])], noDeath[val][~np.isnan(noDeath[val])], equal_var=False)\n",
      "    \n"
     ],
     "language": "python",
     "metadata": {},
     "outputs": [
      {
       "output_type": "stream",
       "stream": "stdout",
       "text": [
        "duration\n",
        "(array(-0.6191845920484388), 0.53582363662933341)\n",
        "etype\n",
        "(array(45.25647926762926), 0.0)\n",
        "escalation\n",
        "(array(5.501096413280938), 3.9758488353637421e-08)\n",
        "cgovtarget\n",
        "(array(-27.37948468667773), 2.7444336572226109e-156)\n",
        "rgovtarget\n",
        "(array(2.3905804113531386), 0.016855122166157831)\n",
        "npart\n",
        "(array(-7.712361475803531), 3.827789900366002e-14)\n",
        "issue1\n",
        "(array(8.987688769843748), 3.4456273733061221e-19)\n",
        "issue2\n",
        "(array(5.826617939496881), 7.590613069373708e-09)\n",
        "issue3\n",
        "(array(-3.4257606454584377), 0.0010949932512394106)\n",
        "nsource\n",
        "(array(7.139369574626679), 1.0488298097688245e-12)\n",
        "polity\n",
        "(array(9.756527174433069), 2.8855726574799853e-22)\n",
        "polity2\n",
        "(array(9.988017092316245), 2.5525560969023723e-23)\n",
        "domRelNum\n",
        "(array(-2.5464491709369006), 0.010906674426839512)\n"
       ]
      }
     ],
     "prompt_number": 12
    },
    {
     "cell_type": "code",
     "collapsed": false,
     "input": [
      "scad.ndeath.corr(scad.escalation)"
     ],
     "language": "python",
     "metadata": {},
     "outputs": [
      {
       "metadata": {},
       "output_type": "pyout",
       "prompt_number": 13,
       "text": [
        "0.023542145277172289"
       ]
      }
     ],
     "prompt_number": 13
    },
    {
     "cell_type": "code",
     "collapsed": false,
     "input": [
      "scad.ndeath.corr(scad.etype)"
     ],
     "language": "python",
     "metadata": {},
     "outputs": [
      {
       "metadata": {},
       "output_type": "pyout",
       "prompt_number": 14,
       "text": [
        "0.076513997138151713"
       ]
      }
     ],
     "prompt_number": 14
    },
    {
     "cell_type": "code",
     "collapsed": false,
     "input": [
      "scad.ndeath.corr(scad.duration)"
     ],
     "language": "python",
     "metadata": {},
     "outputs": [
      {
       "metadata": {},
       "output_type": "pyout",
       "prompt_number": 15,
       "text": [
        "0.21327331547766268"
       ]
      }
     ],
     "prompt_number": 15
    },
    {
     "cell_type": "code",
     "collapsed": false,
     "input": [
      "scad.ndeath.corr(scad.domRelNum)"
     ],
     "language": "python",
     "metadata": {},
     "outputs": [
      {
       "metadata": {},
       "output_type": "pyout",
       "prompt_number": 16,
       "text": [
        "0.0094617254397450015"
       ]
      }
     ],
     "prompt_number": 16
    },
    {
     "cell_type": "code",
     "collapsed": false,
     "input": [
      "scad.ndeath.corr(scad.issue1)"
     ],
     "language": "python",
     "metadata": {},
     "outputs": [
      {
       "metadata": {},
       "output_type": "pyout",
       "prompt_number": 17,
       "text": [
        "-0.0012071784818209227"
       ]
      }
     ],
     "prompt_number": 17
    },
    {
     "cell_type": "heading",
     "level": 2,
     "metadata": {},
     "source": [
      "Descriptive Plots and Tables"
     ]
    },
    {
     "cell_type": "code",
     "collapsed": false,
     "input": [
      "grouped = scad.groupby('styr')\n",
      "totals = grouped.death01.aggregate(len)\n",
      "deaths = grouped.death01.aggregate(np.nansum)\n",
      "deaths[np.isnan(deaths)]=0\n",
      "nodeaths = totals - deaths\n",
      "years = np.arange(1990, 2012, 1)\n",
      "\n",
      "ax = plt.subplot(111)\n",
      "width=0.5\n",
      "p1 = ax.bar(years, nodeaths, width, color='b', align='center')\n",
      "p2 = ax.bar(years, deaths, width, color='r', align='center')\n",
      "axesToLose = ['top', 'right']\n",
      "for axis in axesToLose:\n",
      "    ax.spines[axis].set_visible(False)\n",
      "    \n",
      "ax.xaxis.set_ticks_position('none')\n",
      "ax.yaxis.set_ticks_position('left')\n",
      "    \n",
      "legend = ax.legend( (p1[0], p2[0]), ('No Deaths', 'Deaths'), loc=2, prop={'size':12})\n",
      "legend.get_frame().set_linewidth(0.0)\n",
      "\n",
      "ax.set_ylabel('Total Number of Conflict Events', fontsize=12)\n",
      "ylabs = ['' for x in range(0, 9, 1) ]\n",
      "for i in range(0, 9, 1):\n",
      "    ylabs[i] = str(range(0, 450, 50)[i])\n",
      "    \n",
      "ax.set_yticklabels(ylabs, fontsize=8)\n",
      "\n",
      "ax.set_xlabel('Start Year of Conflict', fontsize=12)\n",
      "ax.set_xlim((1989, 2012))\n",
      "\n",
      "ax.set_xticks(years)\n",
      "ax.set_xticklabels(years, rotation=70, fontsize=8)\n",
      "plt.subplots_adjust(bottom=0.11, left=0.09, right=0.99, top=0.93)\n",
      "\n",
      "ax.set_title('Figure 1: Yearly Conflict Numbers \\n', fontsize=15)\n",
      "\n",
      "plt.savefig('fig1.pdf', format='pdf', bbox_inches='tight')"
     ],
     "language": "python",
     "metadata": {},
     "outputs": [
      {
       "metadata": {},
       "output_type": "display_data",
       "png": "[encoded data removed]",
       "text": [
        "<matplotlib.figure.Figure at 0x5cca990>"
       ]
      }
     ],
     "prompt_number": 18
    },
    {
     "cell_type": "markdown",
     "metadata": {},
     "source": [
      "Figure 1, above, is a split bar-chart, with one bar per year, visually showing the number of conflicts resulting in deaths relative to the total number of conflicts per year. Each bar represents all conflicts in the specified year and is split into two pieces, one piece for conflicts resulting in deaths and one piece for conflicts resulting in no deaths.  Note that with the exception of the spike in death conflicts in 2011 (most likely attributable to the Arab Spring), the number of conflicts result in deaths remain somewhat constant across the years of analysis.  Additionally, the number of conflicts resulting in no-deaths show a somewhat increasing trend as more governments democratize following the political revolutions of the 20th Century until the late 2000s, when dissatisfaction with incomplete democratization begins to set in&mdash;which, in turn, led to the Arab Spring."
     ]
    },
    {
     "cell_type": "code",
     "collapsed": false,
     "input": [
      "noNan = scad.ndeath[~np.isnan(scad.ndeath)]\n",
      "counts = col.Counter(noNan)\n",
      "bins = np.arange(0, 10, 1)\n",
      "freqs = [0]*len(counts)\n",
      "j=0\n",
      "for i in unique(counts):\n",
      "    freqs[j] = counts[i]\n",
      "    j = j+1\n",
      " \n",
      "freqs = np.array(freqs)\n",
      "histFreqs = [0]*10\n",
      "c = unique(counts)\n",
      "histFreqs[0] = freqs[c==0]\n",
      "histFreqs[1] = freqs[c==1]\n",
      "histFreqs[2] = freqs[c==2]\n",
      "histFreqs[3] = freqs[c==3]\n",
      "histFreqs[4] = freqs[c==4]\n",
      "histFreqs[5] = np.sum(freqs[(c>=5) & (c<=10)])\n",
      "histFreqs[6] = np.sum(freqs[(c>=11) & (c<=50)])\n",
      "histFreqs[7] = np.sum(freqs[(c>=51) & (c<=100)])\n",
      "histFreqs[8] = np.sum(freqs[(c>=101) & (c<=200)])\n",
      "histFreqs[9] = np.sum(freqs[(c>=201) & (c<=5000)])\n",
      "\n",
      "fig = plt.figure(dpi=300)\n",
      "ax = plt.subplot2grid((1,7), (0,2), colspan=5)\n",
      "width=0.5\n",
      "p1 = ax.bar(bins[0], histFreqs[0], color='b', align='center')\n",
      "p2 = ax.bar(bins[1:], histFreqs[1:], color='r', align='center')\n",
      "\n",
      "axesToLose = ['top', 'right']\n",
      "for axis in axesToLose:\n",
      "    ax.spines[axis].set_visible(False)\n",
      "    \n",
      "ax.xaxis.set_ticks_position('none')\n",
      "ax.yaxis.set_ticks_position('left')\n",
      "    \n",
      "legend = ax.legend( (p1[0], p2[0]), ('No Deaths', 'Deaths'), loc=1, prop={'size':12})\n",
      "legend.get_frame().set_linewidth(0.0)\n",
      "\n",
      "ylabs = ['' for x in range(0, 6, 1) ]\n",
      "for i in range(0, 6, 1):\n",
      "    ylabs[i] = str(range(0, 6000, 1000)[i])\n",
      "    \n",
      "ax.set_yticklabels(ylabs, fontsize=8)\n",
      "    \n",
      "xlabs = ['' for x in range(0, 13, 1) ]\n",
      "\n",
      "ax.set_xticks(bins)\n",
      "xlabs = ['0',' 1',' 2',' 3', '4', ' 5-10',' 11-50',' 51-100',' 101-200',' 201-5000']\n",
      "ax.set_xticklabels(xlabs, fontsize=8, rotation=70)\n",
      "ax.set_xlim((-1, 10))\n",
      "\n",
      "ax2 = plt.subplot2grid((1,7), (0, 0))\n",
      "p3 = ax2.bar(1, histFreqs[0], color='b', align='center', width=0.5)\n",
      "p4 = ax2.bar(1.7, np.sum(histFreqs[1:]), color='r', align='center', width=0.5)\n",
      "\n",
      "axesToLose = ['top', 'right']\n",
      "for axis in axesToLose:\n",
      "    ax2.spines[axis].set_visible(False)\n",
      "    \n",
      "ax2.xaxis.set_ticks_position('none')\n",
      "ax2.yaxis.set_ticks_position('left')\n",
      "ax2.set_ylabel('Frequency', fontsize=12)\n",
      "\n",
      "ax2.set_yticklabels(ylabs, fontsize=8)\n",
      "ax2.set_xlim((0.5, 2.2))\n",
      "ax2.set_xticks((1, 1.7))\n",
      "ax2.set_xticklabels(['0', '1-5000'], fontsize=8, rotation=70)\n",
      "\n",
      "\n",
      "fig.suptitle('Figure 2: Frequency of Death and No Death Conflicts \\n', fontsize=15)\n",
      "fig.text(0.35,-0.1,'Number of Deaths', fontsize=12)\n",
      "plt.savefig('fig2.pdf', format='pdf', bbox_inches='tight')"
     ],
     "language": "python",
     "metadata": {},
     "outputs": [
      {
       "metadata": {},
       "output_type": "display_data",
       "png": "[encoded data removed]",
       "text": [
        "<matplotlib.figure.Figure at 0x77e55d0>"
       ]
      }
     ],
     "prompt_number": 19
    },
    {
     "cell_type": "markdown",
     "metadata": {},
     "source": [
      "Figure 2 is a set of two bar charts intended to show the frequencies of the number of deaths in all of the African social conflicts from 1990&ndash;2011.  The right plot shows the number of conflicts that resulted in no deaths and at least one death; the left plot shows the same frequency bar for no death conflicts but bins the conflicts resulting in at least one death.  Note the extreme right skew on this more detailed plot; while there are over 2000 conflicts resulting in at least one death, the actual numbers range from one death to 5000 deaths.  The largest frequency of deaths is one death (frequency 552). There are only 104 conflicts ranging from 51 to 5000 deaths and only 37 conflicts ranging from 201 to 5000 deaths."
     ]
    },
    {
     "cell_type": "code",
     "collapsed": false,
     "input": [
      "noNan = scad[['ndeath', 'npart']]\n",
      "noNan = noNan[~np.isnan(noNan).any(1)]\n",
      "noNan = noNan[noNan.npart!=0]\n",
      "\n",
      "jitter = 0.05\n",
      "jittered = [x + random.uniform(-jitter, jitter) for x in noNan.npart]\n",
      "\n",
      "ax = plt.subplot(111)\n",
      "width=0.5\n",
      "p1 = ax.scatter(jittered, noNan.ndeath, color='black', alpha=0.2)\n",
      "\n",
      "axesToLose = ['top', 'right']\n",
      "for axis in axesToLose:\n",
      "    ax.spines[axis].set_visible(False)\n",
      "    \n",
      "ax.xaxis.set_ticks_position('none')\n",
      "ax.yaxis.set_ticks_position('left')\n",
      "\n",
      "ax.set_ylabel('Number of Deaths', fontsize=12)\n",
      "ylabs = ['' for x in range(-1, 9, 1) ]\n",
      "for i in range(0, 10, 1):\n",
      "    ylabs[i] = str(range(-100, 900, 100)[i])\n",
      "    \n",
      "ax.set_yticklabels(ylabs, fontsize=8)\n",
      "    \n",
      "ax.set_xlabel('Number of Participants', fontsize=12)\n",
      "xlabs = ['' for x in range(1, 8, 1) ]\n",
      "xlabs[0]='less than 10'\n",
      "xlabs[1]='10-100'\n",
      "xlabs[2]='101-1000'\n",
      "xlabs[3]='1001-10000'\n",
      "xlabs[4]='10001-100000'\n",
      "xlabs[5]='100001-1000000'\n",
      "xlabs[6]='over 1000000'\n",
      "\n",
      "ax.set_xticks(range(1, 8, 1))\n",
      "ax.set_xticklabels(xlabs, fontsize=8, rotation=70)\n",
      "ax.set_xlim((0, 8))\n",
      "\n",
      "ax.set_title('Figure 3: Deaths by Conflict Size \\n', fontsize=15)\n",
      "\n",
      "plt.savefig('fig3.pdf', format='pdf', bbox_inches='tight')"
     ],
     "language": "python",
     "metadata": {},
     "outputs": [
      {
       "output_type": "display_data",
       "png": "[encoded data removed]"
      }
     ],
     "prompt_number": 89
    },
    {
     "cell_type": "markdown",
     "metadata": {},
     "source": [
      "Figure 3, above, is a scatterplot showing the number of participants (binned by the original coders of the SCAD dataset) vs. the continuous variabe number of deaths.  The points are transluscent and jittered slightly to try to show the density.  It was expected that the plot should show an increasing relationship between participants and number of deaths, simply based on the idea that a conflict involving more people has higher odds to result in a death.  The plot does not necessarily show this relationship, though the normal-esque relationship is probably an artifact of the dataset having significantly more observations in the center than at the tails of the number of participants variable."
     ]
    },
    {
     "cell_type": "code",
     "collapsed": false,
     "input": [
      "noNan = scad[['ndeath', 'duration']]\n",
      "noNan = noNan[~np.isnan(noNan).any(1)]\n",
      "\n",
      "ax = plt.subplot(111)\n",
      "width=0.5\n",
      "p1 = ax.scatter(noNan.duration, noNan.ndeath, color='black', alpha=0.2)\n",
      "\n",
      "axesToLose = ['top', 'right']\n",
      "for axis in axesToLose:\n",
      "    ax.spines[axis].set_visible(False)\n",
      "    \n",
      "ax.xaxis.set_ticks_position('bottom')\n",
      "ax.yaxis.set_ticks_position('left')\n",
      "\n",
      "ax.set_ylabel('Number of Deaths', fontsize=12)\n",
      "\n",
      "   \n",
      "ax.tick_params(axis='both', which='major', labelsize=8)\n",
      "ax.set_xlim((-25, 400))\n",
      "ax.set_ylim((-500, 5100))\n",
      "ax.set_xlabel('Duration (days)', fontsize=12)\n",
      "\n",
      "ax.set_title('Figure 4: Deaths by Conflict Duration \\n', fontsize=15)\n",
      "\n",
      "plt.savefig('fig4.pdf', format='pdf', bbox_inches='tight')"
     ],
     "language": "python",
     "metadata": {},
     "outputs": [
      {
       "output_type": "display_data",
       "png": "[encoded data removed]"
      }
     ],
     "prompt_number": 23
    },
    {
     "cell_type": "markdown",
     "metadata": {},
     "source": [
      "Motivatived similarly as Figure 3, Figure 4 is a scatterplot of the duration of each conflict (in days) against the number of deaths.  It intuitively makes sense that there should be an increasing relationship between these variables, as the longer a conflict, the more chances for a death to result.  However, the plot does not support such a conclusion; taking into account the fact that we have many more shorter conflicts in the dataset, there does not seem to be that much of a relationship between duration and the number of deaths."
     ]
    },
    {
     "cell_type": "code",
     "collapsed": false,
     "input": [
      "#top 10 most violent conflicts table\n",
      "noNan = scad[~np.isnan(scad.ndeath)]\n",
      "top10 = noNan.sort(column='ndeath', ascending=False)[0:10]\n",
      "top10 = top10[['ndeath', 'countryname', 'startdate', 'enddate', 'duration']]\n",
      "top10.index = range(1,11,1)\n",
      "top10.columns = ['Deaths', 'Country', 'Start', 'End', 'Duration (days)']\n",
      "display(HTML(\"<center>\" + \"<font size=3>\" + 'Table 1: Top 10 Most Violent Conflicts' + \"</font>\" + \"</center>\"))\n",
      "top10"
     ],
     "language": "python",
     "metadata": {},
     "outputs": [
      {
       "html": [
        "<center><font size=3>Table 1: Top 10 Most Violent Conflicts</font></center>"
       ],
       "metadata": {},
       "output_type": "display_data",
       "text": [
        "<IPython.core.display.HTML at 0x85ae790>"
       ]
      },
      {
       "html": [
        "<div style=\"max-height:1000px;max-width:1500px;overflow:auto;\">\n",
        "<table border=\"1\" class=\"dataframe\">\n",
        "  <thead>\n",
        "    <tr style=\"text-align: right;\">\n",
        "      <th></th>\n",
        "      <th>Deaths</th>\n",
        "      <th>Country</th>\n",
        "      <th>Start</th>\n",
        "      <th>End</th>\n",
        "      <th>Duration (days)</th>\n",
        "    </tr>\n",
        "  </thead>\n",
        "  <tbody>\n",
        "    <tr>\n",
        "      <th>1 </th>\n",
        "      <td> 5000</td>\n",
        "      <td> Democratic Republic of the Congo</td>\n",
        "      <td>  1-Sep-99</td>\n",
        "      <td> 31-Dec-99</td>\n",
        "      <td> 122</td>\n",
        "    </tr>\n",
        "    <tr>\n",
        "      <th>2 </th>\n",
        "      <td> 3500</td>\n",
        "      <td> Democratic Republic of the Congo</td>\n",
        "      <td> 20-Mar-93</td>\n",
        "      <td> 31-Aug-93</td>\n",
        "      <td> 165</td>\n",
        "    </tr>\n",
        "    <tr>\n",
        "      <th>3 </th>\n",
        "      <td> 3000</td>\n",
        "      <td>                            Ghana</td>\n",
        "      <td>  4-Feb-94</td>\n",
        "      <td> 14-Feb-94</td>\n",
        "      <td>  11</td>\n",
        "    </tr>\n",
        "    <tr>\n",
        "      <th>4 </th>\n",
        "      <td> 3000</td>\n",
        "      <td>                          Nigeria</td>\n",
        "      <td> 27-Jan-98</td>\n",
        "      <td> 15-Sep-98</td>\n",
        "      <td> 232</td>\n",
        "    </tr>\n",
        "    <tr>\n",
        "      <th>5 </th>\n",
        "      <td> 2000</td>\n",
        "      <td>                           Rwanda</td>\n",
        "      <td> 24-Apr-95</td>\n",
        "      <td> 24-Apr-95</td>\n",
        "      <td>   1</td>\n",
        "    </tr>\n",
        "    <tr>\n",
        "      <th>6 </th>\n",
        "      <td> 1800</td>\n",
        "      <td>                          Nigeria</td>\n",
        "      <td> 15-May-92</td>\n",
        "      <td> 20-May-92</td>\n",
        "      <td>   6</td>\n",
        "    </tr>\n",
        "    <tr>\n",
        "      <th>7 </th>\n",
        "      <td> 1500</td>\n",
        "      <td> Democratic Republic of the Congo</td>\n",
        "      <td> 30-Mar-09</td>\n",
        "      <td> 30-Jun-09</td>\n",
        "      <td>  93</td>\n",
        "    </tr>\n",
        "    <tr>\n",
        "      <th>8 </th>\n",
        "      <td> 1500</td>\n",
        "      <td>                          Liberia</td>\n",
        "      <td>  6-Apr-96</td>\n",
        "      <td> 27-May-96</td>\n",
        "      <td>  52</td>\n",
        "    </tr>\n",
        "    <tr>\n",
        "      <th>9 </th>\n",
        "      <td> 1400</td>\n",
        "      <td> Democratic Republic of the Congo</td>\n",
        "      <td> 30-Apr-02</td>\n",
        "      <td> 11-Jun-02</td>\n",
        "      <td>  43</td>\n",
        "    </tr>\n",
        "    <tr>\n",
        "      <th>10</th>\n",
        "      <td> 1132</td>\n",
        "      <td>                     South Africa</td>\n",
        "      <td> 12-Aug-90</td>\n",
        "      <td>  1-Oct-90</td>\n",
        "      <td>  51</td>\n",
        "    </tr>\n",
        "  </tbody>\n",
        "</table>\n",
        "</div>"
       ],
       "metadata": {},
       "output_type": "pyout",
       "prompt_number": 51,
       "text": [
        "    Deaths                           Country      Start        End  \\\n",
        "1     5000  Democratic Republic of the Congo   1-Sep-99  31-Dec-99   \n",
        "2     3500  Democratic Republic of the Congo  20-Mar-93  31-Aug-93   \n",
        "3     3000                             Ghana   4-Feb-94  14-Feb-94   \n",
        "4     3000                           Nigeria  27-Jan-98  15-Sep-98   \n",
        "5     2000                            Rwanda  24-Apr-95  24-Apr-95   \n",
        "6     1800                           Nigeria  15-May-92  20-May-92   \n",
        "7     1500  Democratic Republic of the Congo  30-Mar-09  30-Jun-09   \n",
        "8     1500                           Liberia   6-Apr-96  27-May-96   \n",
        "9     1400  Democratic Republic of the Congo  30-Apr-02  11-Jun-02   \n",
        "10    1132                      South Africa  12-Aug-90   1-Oct-90   \n",
        "\n",
        "    Duration (days)  \n",
        "1               122  \n",
        "2               165  \n",
        "3                11  \n",
        "4               232  \n",
        "5                 1  \n",
        "6                 6  \n",
        "7                93  \n",
        "8                52  \n",
        "9                43  \n",
        "10               51  "
       ]
      }
     ],
     "prompt_number": 51
    },
    {
     "cell_type": "markdown",
     "metadata": {},
     "source": [
      "Table 1 lists the top 10 most violent conflicts in terms of absolute deaths.  Note the variation even amongst these 10 records: 6 different countries, 10 different years, 7 different months, and durations ranging from one day to almost 8 months.  There does not seem to be a unique profile that identifies a high-mortality conflict, which could create issues during the modeling phase of this project."
     ]
    },
    {
     "cell_type": "code",
     "collapsed": false,
     "input": [
      "#deaths no deaths by regime and dominant religion\n",
      "agg = scad.groupby(['death01', 'domRel']).size()\n",
      "r1 = [agg[0][x] for x in range(0, 4, 1)]\n",
      "r2 = [agg[1][x] for x in range(0, 4, 1)]\n",
      "religion = pd.DataFrame(np.vstack((r1,r2)))\n",
      "religion.index=['No Deaths', 'Deaths']\n",
      "religion.columns = ['Animist', 'Christianity', 'Hinduism', 'Islam']\n",
      "display(HTML(\"<left>\" + \"<font size=3>\" + 'Table 2: Number of Conflicts by Death/No Death and Dominant Religion' + \"</font>\" + \"</left>\"))\n",
      "religion[['Islam', 'Christianity', 'Animist', 'Hinduism']]"
     ],
     "language": "python",
     "metadata": {},
     "outputs": [
      {
       "html": [
        "<left><font size=3>Table 2: Number of Conflicts by Death/No Death and Dominant Religion</font></left>"
       ],
       "metadata": {},
       "output_type": "display_data",
       "text": [
        "<IPython.core.display.HTML at 0x872fa10>"
       ]
      },
      {
       "html": [
        "<div style=\"max-height:1000px;max-width:1500px;overflow:auto;\">\n",
        "<table border=\"1\" class=\"dataframe\">\n",
        "  <thead>\n",
        "    <tr style=\"text-align: right;\">\n",
        "      <th></th>\n",
        "      <th>Islam</th>\n",
        "      <th>Christianity</th>\n",
        "      <th>Animist</th>\n",
        "      <th>Hinduism</th>\n",
        "    </tr>\n",
        "  </thead>\n",
        "  <tbody>\n",
        "    <tr>\n",
        "      <th>No Deaths</th>\n",
        "      <td> 2339</td>\n",
        "      <td> 2333</td>\n",
        "      <td> 159</td>\n",
        "      <td> 5</td>\n",
        "    </tr>\n",
        "    <tr>\n",
        "      <th>Deaths</th>\n",
        "      <td> 1447</td>\n",
        "      <td> 1385</td>\n",
        "      <td>  35</td>\n",
        "      <td> 1</td>\n",
        "    </tr>\n",
        "  </tbody>\n",
        "</table>\n",
        "</div>"
       ],
       "metadata": {},
       "output_type": "pyout",
       "prompt_number": 52,
       "text": [
        "           Islam  Christianity  Animist  Hinduism\n",
        "No Deaths   2339          2333      159         5\n",
        "Deaths      1447          1385       35         1"
       ]
      }
     ],
     "prompt_number": 52
    },
    {
     "cell_type": "markdown",
     "metadata": {},
     "source": [
      "Table 2 lists shows the number of conflicts resulting in deaths / no deaths broken out by the dominant religion of the country.  There does not seem to be any pattern here.  Christianity and Islam are the two major religions in Africa, and they show very similar numbers in the table output."
     ]
    },
    {
     "cell_type": "code",
     "collapsed": false,
     "input": [
      "#deaths no deaths by regime and dominant religion\n",
      "v = scad[['death01', 'polity', 'countryname']]\n",
      "v['pind'] = v.polity\n",
      "v.pind[(v.polity>=-10) & (v.polity<=-6)] = 1\n",
      "v.pind[(v.polity>=-5) & (v.polity<=-1)] = 2\n",
      "v.pind[v.polity==0] = 3\n",
      "v.pind[(v.polity>=1) & (v.polity<=5)] = 4\n",
      "v.pind[(v.polity>=6) & (v.polity<=10)] = 5\n",
      "v.pind[v.polity<-10] = np.nan\n",
      "v = v[['death01', 'pind']]\n",
      "agg = v.groupby(['death01', 'pind']).size()\n",
      "r1 = [agg[0][x] for x in range(1, 6, 1)]\n",
      "r2 = [agg[1][x] for x in range(1, 6, 1)]\n",
      "regime = pd.DataFrame(np.vstack((r1,r2)))\n",
      "regime.index=['No Deaths', 'Deaths']\n",
      "regime.columns = ['Strong Autocracy', 'Weak Autocracy', 'Middle Ground', 'Weak Democracy', 'Strong Democracy']\n",
      "display(HTML(\"<center>\" + \"<font size=3>\" + 'Table 3: Number of Conflicts by Death/No Death and Regime Type' + \"</font>\" + \"</center>\"))\n",
      "regime"
     ],
     "language": "python",
     "metadata": {},
     "outputs": [
      {
       "html": [
        "<center><font size=3>Table 3: Number of Conflicts by Death/No Death and Regime Type</font></center>"
       ],
       "metadata": {},
       "output_type": "display_data",
       "text": [
        "<IPython.core.display.HTML at 0x8748ed0>"
       ]
      },
      {
       "html": [
        "<div style=\"max-height:1000px;max-width:1500px;overflow:auto;\">\n",
        "<table border=\"1\" class=\"dataframe\">\n",
        "  <thead>\n",
        "    <tr style=\"text-align: right;\">\n",
        "      <th></th>\n",
        "      <th>Strong Autocracy</th>\n",
        "      <th>Weak Autocracy</th>\n",
        "      <th>Middle Ground</th>\n",
        "      <th>Weak Democracy</th>\n",
        "      <th>Strong Democracy</th>\n",
        "    </tr>\n",
        "  </thead>\n",
        "  <tbody>\n",
        "    <tr>\n",
        "      <th>No Deaths</th>\n",
        "      <td> 798</td>\n",
        "      <td> 1401</td>\n",
        "      <td> 74</td>\n",
        "      <td> 1010</td>\n",
        "      <td> 928</td>\n",
        "    </tr>\n",
        "    <tr>\n",
        "      <th>Deaths</th>\n",
        "      <td> 247</td>\n",
        "      <td>  605</td>\n",
        "      <td> 22</td>\n",
        "      <td>  753</td>\n",
        "      <td> 487</td>\n",
        "    </tr>\n",
        "  </tbody>\n",
        "</table>\n",
        "</div>"
       ],
       "metadata": {},
       "output_type": "pyout",
       "prompt_number": 57,
       "text": [
        "           Strong Autocracy  Weak Autocracy  Middle Ground  Weak Democracy  \\\n",
        "No Deaths               798            1401             74            1010   \n",
        "Deaths                  247             605             22             753   \n",
        "\n",
        "           Strong Democracy  \n",
        "No Deaths               928  \n",
        "Deaths                  487  "
       ]
      }
     ],
     "prompt_number": 57
    },
    {
     "cell_type": "markdown",
     "metadata": {},
     "source": [
      "In Table 3, above, regime type is measured on a continuum binned from the Freedom House Polity Variable which ranges from -10 (full autocracy) to +10 (full democracy).  The above table seems to show that democracies have more death-resulting conflicts than do autocracies.  The total number of conflicts is roughly the same across the two regime types, but this pattern does not necessarily suggest that democracy results in death.  More than likely, democracy fosters a political environment where citizens can speak their minds, which inevitably will lead to more situations of death. The 'Middle Ground' group have a Polity score of 0, dead center between autocracy and democracy; the low numbers there can be explained by a relatively small number of countries that fall into that category. "
     ]
    },
    {
     "cell_type": "code",
     "collapsed": false,
     "input": [
      "fig = plt.figure(dpi=300)\n",
      "noNan = scad[['longitude', 'latitude', 'death01']]\n",
      "\n",
      "ax1 = plt.subplot2grid((1,4), (0,0), colspan=2)\n",
      "map1 = Basemap(projection='merc', resolution='i', llcrnrlon=-20, llcrnrlat=-38, urcrnrlon=55, urcrnrlat=40, area_thresh=1, ax=ax1)\n",
      "map1.drawcoastlines()\n",
      "map1.drawcountries()\n",
      "map1.drawmapboundary()\n",
      "map1.fillcontinents()\n",
      "ndx, ndy = map1(noNan.longitude[noNan.death01==0], noNan.latitude[noNan.death01==0])\n",
      "p1 = map1.plot(ndx, ndy, marker='.',  color='b', alpha=0.3, ls='', lw=0)\n",
      "ax1.set_title('No Deaths')\n",
      "\n",
      "ax2 = plt.subplot2grid((1,4), (0,2), colspan=2)\n",
      "map2 = Basemap(projection='merc', resolution='i', llcrnrlon=-20, llcrnrlat=-38, urcrnrlon=55, urcrnrlat=40, area_thresh=1, ax=ax2)\n",
      "map2.drawcoastlines()\n",
      "map2.drawcountries()\n",
      "map2.drawmapboundary()\n",
      "map2.fillcontinents()\n",
      "dx, dy = map2(noNan.longitude[noNan.death01==1], noNan.latitude[noNan.death01==1])\n",
      "p2 = map2.plot(dx, dy, marker='.', color='r', alpha=0.3, ls='', lw=0)\n",
      "ax2.set_title('Deaths')\n",
      "\n",
      "fig.suptitle('Figure 5: Map of Conflict Events', fontsize=15)\n",
      "plt.savefig('fig5.pdf', format='pdf', bbox_inches='tight')"
     ],
     "language": "python",
     "metadata": {},
     "outputs": [
      {
       "metadata": {},
       "output_type": "display_data",
       "png": "[encoded data removed]",
       "text": [
        "<matplotlib.figure.Figure at 0x51e69d0>"
       ]
      }
     ],
     "prompt_number": 16
    },
    {
     "cell_type": "markdown",
     "metadata": {},
     "source": [
      "Figure 5 above attemps to visualize an answer to the question, \"Are deaths more likely to happen in certain countries?\"  In short, the answer is no.  Each dot represents an individual unique conflict ID, and the dots are quite translucent to facilitate  sense of understanding the density of conflicts.  At first glance, the two maps look effectively the same, with the bulk of all conflicts occurring in West and East Africa.  There seems to be a small pocket of death conflicts in West Central Africa that does not correspond to a similar set of no death conflicts &mdash; this area corresponds to South Sudan, which was plagued with deadly conflict both pre and post-independence.  Otherwise, while certain countries are certainly more prone towards *conflicts* than other countries, deaths do not seem to follow a clear geographic pattern."
     ]
    },
    {
     "cell_type": "code",
     "collapsed": false,
     "input": [
      "map = Basemap(projection='merc', resolution='i', llcrnrlon=-20, llcrnrlat=-38, urcrnrlon=55, urcrnrlat=40, area_thresh=1)\n",
      "map.drawcoastlines()\n",
      "map.drawcountries()\n",
      "map.drawmapboundary()\n",
      "map.fillcontinents()\n",
      "\n",
      "noNan = scad[['longitude', 'latitude', 'death01']]\n",
      "noNan.longitude = np.round(noNan.longitude, decimals=0)\n",
      "noNan.latitude = np.round(noNan.latitude, decimals=0)\n",
      "noNan = noNan.drop_duplicates()\n",
      "\n",
      "ndx, ndy = map(noNan.longitude[noNan.death01==0], noNan.latitude[noNan.death01==0])\n",
      "p1 = map.plot(ndx, ndy, marker='.', ls='', color='b', alpha=0.3, lw=0)\n",
      "dx, dy = map(noNan.longitude[noNan.death01==1], noNan.latitude[noNan.death01==1])\n",
      "p2 = map.plot(dx, dy, marker='.', ls='', color='r', alpha=0.3, lw=0)\n",
      "\n",
      "legend = plt.legend((p1[0], p2[0]), ('No Deaths', 'Deaths'), loc=3, prop={'size':8}, numpoints=1)\n",
      "legend.get_frame().set_linewidth(0.0)\n",
      "\n",
      "plt.title('Figure 6: Conflict Differences (Nearest Degree) \\n', fontsize=15)\n",
      "\n",
      "plt.savefig('fig6.pdf', format='pdf', bbox_inches='tight')"
     ],
     "language": "python",
     "metadata": {},
     "outputs": [
      {
       "ename": "NameError",
       "evalue": "name 'Basemap' is not defined",
       "output_type": "pyerr",
       "traceback": [
        "\u001b[1;31m---------------------------------------------------------------------------\u001b[0m\n\u001b[1;31mNameError\u001b[0m                                 Traceback (most recent call last)",
        "\u001b[1;32m<ipython-input-70-95a46a0807ce>\u001b[0m in \u001b[0;36m<module>\u001b[1;34m()\u001b[0m\n\u001b[1;32m----> 1\u001b[1;33m \u001b[0mmap\u001b[0m \u001b[1;33m=\u001b[0m \u001b[0mBasemap\u001b[0m\u001b[1;33m(\u001b[0m\u001b[0mprojection\u001b[0m\u001b[1;33m=\u001b[0m\u001b[1;34m'merc'\u001b[0m\u001b[1;33m,\u001b[0m \u001b[0mresolution\u001b[0m\u001b[1;33m=\u001b[0m\u001b[1;34m'i'\u001b[0m\u001b[1;33m,\u001b[0m \u001b[0mllcrnrlon\u001b[0m\u001b[1;33m=\u001b[0m\u001b[1;33m-\u001b[0m\u001b[1;36m20\u001b[0m\u001b[1;33m,\u001b[0m \u001b[0mllcrnrlat\u001b[0m\u001b[1;33m=\u001b[0m\u001b[1;33m-\u001b[0m\u001b[1;36m38\u001b[0m\u001b[1;33m,\u001b[0m \u001b[0murcrnrlon\u001b[0m\u001b[1;33m=\u001b[0m\u001b[1;36m55\u001b[0m\u001b[1;33m,\u001b[0m \u001b[0murcrnrlat\u001b[0m\u001b[1;33m=\u001b[0m\u001b[1;36m40\u001b[0m\u001b[1;33m,\u001b[0m \u001b[0marea_thresh\u001b[0m\u001b[1;33m=\u001b[0m\u001b[1;36m1\u001b[0m\u001b[1;33m)\u001b[0m\u001b[1;33m\u001b[0m\u001b[0m\n\u001b[0m\u001b[0;32m      2\u001b[0m \u001b[0mmap\u001b[0m\u001b[1;33m.\u001b[0m\u001b[0mdrawcoastlines\u001b[0m\u001b[1;33m(\u001b[0m\u001b[1;33m)\u001b[0m\u001b[1;33m\u001b[0m\u001b[0m\n\u001b[0;32m      3\u001b[0m \u001b[0mmap\u001b[0m\u001b[1;33m.\u001b[0m\u001b[0mdrawcountries\u001b[0m\u001b[1;33m(\u001b[0m\u001b[1;33m)\u001b[0m\u001b[1;33m\u001b[0m\u001b[0m\n\u001b[0;32m      4\u001b[0m \u001b[0mmap\u001b[0m\u001b[1;33m.\u001b[0m\u001b[0mdrawmapboundary\u001b[0m\u001b[1;33m(\u001b[0m\u001b[1;33m)\u001b[0m\u001b[1;33m\u001b[0m\u001b[0m\n\u001b[0;32m      5\u001b[0m \u001b[0mmap\u001b[0m\u001b[1;33m.\u001b[0m\u001b[0mfillcontinents\u001b[0m\u001b[1;33m(\u001b[0m\u001b[1;33m)\u001b[0m\u001b[1;33m\u001b[0m\u001b[0m\n",
        "\u001b[1;31mNameError\u001b[0m: name 'Basemap' is not defined"
       ]
      }
     ],
     "prompt_number": 70
    },
    {
     "cell_type": "markdown",
     "metadata": {},
     "source": [
      "Figure 6 above attemps to show the difference between the two maps included in Figure 5.  Because of the high density of points map obscuring what type of conflict occurs where, I rounded each set of latitude/longitude coordinates to the nearest degree and then removed duplicate sets of coordinates *after* subsetting by the death/no-death indicator variable.  Then plotting the points in red and blue with translucency reveals a very interesting picture.  Most of the African conflicts with deaths occur on top or nearby conflicts with no deaths with two exceptions: there is a large pocket of death-resulting conflicts in West Africa, which roughly corresponds to the conflict-ridden South Sudan.  There is also a large pocket of no death conflicts in South Africa, corresponding to Namibia, a very successful democracy.  While this map illustrates more of a geographic pattern than do the previous fi"
     ]
    },
    {
     "cell_type": "heading",
     "level": 2,
     "metadata": {},
     "source": [
      "Modeling: Death/No Death Indicator"
     ]
    },
    {
     "cell_type": "markdown",
     "metadata": {},
     "source": [
      "###Logistic Regression"
     ]
    },
    {
     "cell_type": "code",
     "collapsed": false,
     "input": [
      "# Set aside 30% of the dataset as a testing set to use after fitting the model\n",
      "crossVal = [False] * (len(scad))\n",
      "numTest = int(0.3*len(scad))\n",
      "crossVal[0:numTest] = [True] * numTest\n",
      "crossVal = np.random.permutation(crossVal)\n",
      "train = scad[~crossVal]\n",
      "test = scad[crossVal]"
     ],
     "language": "python",
     "metadata": {},
     "outputs": [],
     "prompt_number": 112
    },
    {
     "cell_type": "code",
     "collapsed": false,
     "input": [
      "# Logistic regression analysis - try a number of sets of variables based on preliminary analyses and pick the model with the highest prediction rates\n",
      "v = train[['death01', 'npart', 'duration', 'ccode', 'escalation', 'fragment', 'polity2', 'tpop', 'irst', 'etype', 'repress', 'cgovtarget']]\n",
      "v = v[~np.isnan(v).any(1)]\n",
      "mod = logit(\"death01 ~ npart + duration + ccode + escalation + fragment+polity2 + tpop + irst+etype+repress+cgovtarget\", v).fit()\n",
      "print mod.summary()"
     ],
     "language": "python",
     "metadata": {},
     "outputs": [
      {
       "output_type": "stream",
       "stream": "stdout",
       "text": [
        "Optimization terminated successfully.\n",
        "         Current function value: 0.224998\n",
        "         Iterations 8\n",
        "                           Logit Regression Results                           \n",
        "==============================================================================\n",
        "Dep. Variable:                death01   No. Observations:                  956\n",
        "Model:                          Logit   Df Residuals:                      944\n",
        "Method:                           MLE   Df Model:                           11\n",
        "Date:                Sat, 15 Mar 2014   Pseudo R-squ.:                  0.4779\n",
        "Time:                        22:17:10   Log-Likelihood:                -215.10\n",
        "converged:                       True   LL-Null:                       -412.00\n",
        "                                        LLR p-value:                 1.260e-77\n",
        "==============================================================================\n",
        "                 coef    std err          z      P>|z|      [95.0% Conf. Int.]\n",
        "------------------------------------------------------------------------------\n",
        "Intercept     -2.3183      1.449     -1.600      0.110        -5.158     0.521\n",
        "npart         -0.5021      0.129     -3.895      0.000        -0.755    -0.249\n",
        "duration       0.0104      0.011      0.973      0.331        -0.011     0.031\n",
        "ccode         -0.0041      0.003     -1.609      0.108        -0.009     0.001\n",
        "escalation     0.3597      0.078      4.609      0.000         0.207     0.513\n",
        "fragment       0.3717      0.144      2.587      0.010         0.090     0.653\n",
        "polity2       -0.0163      0.033     -0.499      0.618        -0.080     0.048\n",
        "tpop        2.847e-06   3.56e-06      0.799      0.424     -4.14e-06  9.83e-06\n",
        "irst       -6.745e-06   6.01e-05     -0.112      0.911        -0.000     0.000\n",
        "etype          0.6362      0.063     10.169      0.000         0.514     0.759\n",
        "repress        2.5483      0.226     11.280      0.000         2.106     2.991\n",
        "cgovtarget    -0.5230      0.270     -1.937      0.053        -1.052     0.006\n",
        "=============================================================================="
       ]
      },
      {
       "output_type": "stream",
       "stream": "stdout",
       "text": [
        "\n"
       ]
      }
     ],
     "prompt_number": 21
    },
    {
     "cell_type": "code",
     "collapsed": false,
     "input": [
      "scad[0:1]"
     ],
     "language": "python",
     "metadata": {},
     "outputs": []
    },
    {
     "cell_type": "code",
     "collapsed": false,
     "input": [
      "#KNN\n",
      "noNan = scad[['death01', 'npart', 'escalation', 'polity2', 'etype', 'cgovtarget']]\n",
      "noNan = noNan[~np.isnan(noNan).any(1)]\n",
      "X = noNan.ix[:, 1:]\n",
      "Y = noNan.death01\n",
      "\n",
      "#K-fold cross validation\n",
      "k = 10\n",
      "kf = KFold(len(Y), n_folds=k, indices=False)\n",
      "            \n",
      "deathC = []\n",
      "noDeathC = []\n",
      "deathI = []\n",
      "noDeathI = []\n",
      "\n",
      "for train, test in kf:\n",
      "    trainX = X.iloc[train,:]\n",
      "    trainY = Y.iloc[train]\n",
      "    testX = X.iloc[test,:]\n",
      "    testY = Y.iloc[test]\n",
      "    KNN = KNeighborsClassifier(n_neighbors=10)\n",
      "    KNN.fit(trainX, trainY)\n",
      "    fitted = KNeighborsClassifier.predict(KNN, testX)\n",
      "    noDeathC.extend([ sum((fitted[testY==0] - testY[testY==0])==0)])\n",
      "    noDeathI.extend([ sum((fitted - testY)==1)])\n",
      "    deathC.extend([ sum((fitted[testY==1] - testY[testY==1])==0)])\n",
      "    deathI.extend([ sum((fitted - testY)==-1)])\n",
      "    \n",
      "predAnalysis = np.vstack((noDeathC, noDeathI, deathI, deathC))\n",
      "predAnalysis.dtype = float\n",
      "predAnalysis = predAnalysis.sum(axis=1)\n",
      "predAnalysis = predAnalysis.reshape((2,2)) \n",
      "rowSums = predAnalysis.sum(axis=1)\n",
      "for i in range(0, 2, 1):\n",
      "    for j in range(0, 2, 1):\n",
      "        predAnalysis[i][j] = 100*predAnalysis[i][j] / rowSums[i]\n",
      "        \n",
      "predAnalysis        "
     ],
     "language": "python",
     "metadata": {},
     "outputs": []
    },
    {
     "cell_type": "code",
     "collapsed": false,
     "input": [
      "dummies[1:2]"
     ],
     "language": "python",
     "metadata": {},
     "outputs": [
      {
       "html": [
        "<div style=\"max-height:1000px;max-width:1500px;overflow:auto;\">\n",
        "<table border=\"1\" class=\"dataframe\">\n",
        "  <thead>\n",
        "    <tr style=\"text-align: right;\">\n",
        "      <th></th>\n",
        "      <th>etype_1.0</th>\n",
        "      <th>etype_2.0</th>\n",
        "      <th>etype_3.0</th>\n",
        "      <th>etype_4.0</th>\n",
        "      <th>etype_5.0</th>\n",
        "      <th>etype_6.0</th>\n",
        "      <th>etype_7.0</th>\n",
        "      <th>etype_8.0</th>\n",
        "      <th>etype_9.0</th>\n",
        "      <th>etype_10.0</th>\n",
        "    </tr>\n",
        "  </thead>\n",
        "  <tbody>\n",
        "    <tr>\n",
        "      <th>2</th>\n",
        "      <td> 0</td>\n",
        "      <td> 1</td>\n",
        "      <td> 0</td>\n",
        "      <td> 0</td>\n",
        "      <td> 0</td>\n",
        "      <td> 0</td>\n",
        "      <td> 0</td>\n",
        "      <td> 0</td>\n",
        "      <td> 0</td>\n",
        "      <td> 0</td>\n",
        "    </tr>\n",
        "  </tbody>\n",
        "</table>\n",
        "</div>"
       ],
       "metadata": {},
       "output_type": "pyout",
       "prompt_number": 57,
       "text": [
        "   etype_1.0  etype_2.0  etype_3.0  etype_4.0  etype_5.0  etype_6.0  \\\n",
        "2          0          1          0          0          0          0   \n",
        "\n",
        "   etype_7.0  etype_8.0  etype_9.0  etype_10.0  \n",
        "2          0          0          0           0  "
       ]
      }
     ],
     "prompt_number": 57
    },
    {
     "cell_type": "code",
     "collapsed": false,
     "input": [
      "# Best Logistic Regression Model\n",
      "v = train[['death01', 'ccode', 'npart', 'escalation', 'polity2', 'cgovtarget', 'etype']]\n",
      "v = v[~np.isnan(v).any(1)]\n",
      "dummies = pd.get_dummies(v.etype, prefix='etype')\n",
      "v = v.drop('etype', 1)\n",
      "v = v.join(dummies.ix[:, 'etype_2.0':])\n",
      "dummies = pd.get_dummies(v.ccode, prefix='ccode')\n",
      "v = v.drop('ccode', 1)\n",
      "v = v.join(dummies.ix[:, 1:])\n",
      "v['intercept'] = 1.0\n",
      "mod = sm.Logit(v.death01, v[v.columns[1:]], missing='drop').fit()\n",
      "print mod.summary()"
     ],
     "language": "python",
     "metadata": {},
     "outputs": [
      {
       "output_type": "stream",
       "stream": "stdout",
       "text": [
        "Warning: Maximum number of iterations has been exceeded.\n",
        "         Current function value: 0.292825\n",
        "         Iterations: 35\n",
        "                           Logit Regression Results                           \n",
        "==============================================================================\n",
        "Dep. Variable:                death01   No. Observations:                 2196\n",
        "Model:                          Logit   Df Residuals:                     2136\n",
        "Method:                           MLE   Df Model:                           59\n",
        "Date:                Sun, 16 Mar 2014   Pseudo R-squ.:                  0.3758\n",
        "Time:                        01:43:03   Log-Likelihood:                -643.04\n",
        "converged:                      False   LL-Null:                       -1030.2\n",
        "                                        LLR p-value:                2.748e-125\n",
        "===============================================================================\n",
        "                  coef    std err          z      P>|z|      [95.0% Conf. Int.]\n",
        "-------------------------------------------------------------------------------\n",
        "npart           0.1816      0.076      2.388      0.017         0.033     0.331\n",
        "escalation      0.6499      0.052     12.519      0.000         0.548     0.752\n",
        "polity2        -0.0079      0.024     -0.322      0.747        -0.056     0.040\n",
        "cgovtarget      0.2156      0.178      1.209      0.227        -0.134     0.565\n",
        "etype_2.0       0.1078      0.253      0.426      0.670        -0.388     0.604\n",
        "etype_3.0       2.4948      0.473      5.276      0.000         1.568     3.422\n",
        "etype_4.0       2.7791      0.276     10.073      0.000         2.238     3.320\n",
        "etype_5.0       1.0472      0.517      2.025      0.043         0.034     2.061\n",
        "etype_6.0      -0.8678      0.421     -2.061      0.039        -1.693    -0.042\n",
        "etype_7.0       2.7934      0.418      6.689      0.000         1.975     3.612\n",
        "etype_8.0       4.5341      0.414     10.946      0.000         3.722     5.346\n",
        "etype_9.0       5.1568      0.389     13.252      0.000         4.394     5.919\n",
        "etype_10.0      2.5702      0.558      4.604      0.000         1.476     3.664\n",
        "ccode_420.0     1.7843      1.653      1.079      0.280        -1.456     5.024\n",
        "ccode_432.0    -0.0909      1.055     -0.086      0.931        -2.158     1.976\n",
        "ccode_433.0    -0.4355      1.028     -0.424      0.672        -2.451     1.579\n",
        "ccode_434.0    -0.6941      1.601     -0.434      0.665        -3.832     2.444\n",
        "ccode_435.0    -0.4741      1.025     -0.462      0.644        -2.484     1.536\n",
        "ccode_436.0    -1.4218      1.139     -1.248      0.212        -3.655     0.811\n",
        "ccode_437.0    -0.0841      0.904     -0.093      0.926        -1.857     1.689\n",
        "ccode_438.0     1.1253      1.056      1.066      0.287        -0.944     3.195\n",
        "ccode_439.0    -1.3863      1.107     -1.252      0.211        -3.557     0.784\n",
        "ccode_450.0    -0.8768      1.042     -0.841      0.400        -2.919     1.166\n",
        "ccode_451.0    -0.6252      1.067     -0.586      0.558        -2.717     1.466\n",
        "ccode_452.0    -0.0806      1.138     -0.071      0.943        -2.311     2.149\n",
        "ccode_461.0     0.4244      0.986      0.430      0.667        -1.509     2.357\n",
        "ccode_471.0     1.0109      1.116      0.906      0.365        -1.176     3.198\n",
        "ccode_475.0     0.4895      0.864      0.567      0.571        -1.204     2.183\n",
        "ccode_481.0     0.5869      1.182      0.496      0.620        -1.730     2.904\n",
        "ccode_482.0     0.9237      1.043      0.886      0.376        -1.120     2.967\n",
        "ccode_483.0     0.3681      1.110      0.331      0.740        -1.808     2.545\n",
        "ccode_484.0     1.7335      1.402      1.236      0.216        -1.014     4.481\n",
        "ccode_490.0     0.2681      0.916      0.293      0.770        -1.528     2.064\n",
        "ccode_500.0    -0.1559      1.095     -0.142      0.887        -2.301     1.990\n",
        "ccode_501.0    -0.0422      0.888     -0.047      0.962        -1.782     1.698\n",
        "ccode_510.0    -0.6357      1.157     -0.550      0.583        -2.903     1.631\n",
        "ccode_516.0    -0.6888      1.047     -0.658      0.511        -2.740     1.363\n",
        "ccode_517.0     0.2297      1.146      0.201      0.841        -2.016     2.475\n",
        "ccode_520.0     0.8820      0.952      0.927      0.354        -0.983     2.747\n",
        "ccode_530.0     1.3370      1.660      0.806      0.420        -1.916     4.590\n",
        "ccode_531.0   -33.2224   5.13e+07  -6.48e-07      1.000     -1.01e+08  1.01e+08\n",
        "ccode_540.0     0.1029      1.195      0.086      0.931        -2.239     2.445\n",
        "ccode_541.0     1.0716      1.028      1.042      0.297        -0.943     3.087\n",
        "ccode_551.0    -1.1428      1.125     -1.016      0.310        -3.348     1.062\n",
        "ccode_552.0    -1.5878      1.015     -1.564      0.118        -3.577     0.402\n",
        "ccode_553.0    -1.4189      1.065     -1.332      0.183        -3.507     0.669\n",
        "ccode_560.0     0.0217      0.878      0.025      0.980        -1.700     1.743\n",
        "ccode_565.0   -32.8703   2.26e+07  -1.45e-06      1.000     -4.44e+07  4.44e+07\n",
        "ccode_570.0     0.2984      1.215      0.246      0.806        -2.083     2.679\n",
        "ccode_571.0     0.7415      1.513      0.490      0.624        -2.224     3.707\n",
        "ccode_572.0   -33.9705   1.28e+07  -2.65e-06      1.000     -2.52e+07  2.52e+07\n",
        "ccode_580.0     0.8789      0.990      0.888      0.375        -1.062     2.819\n",
        "ccode_590.0   -32.3088   5.11e+07  -6.32e-07      1.000        -1e+08     1e+08\n",
        "ccode_600.0    -0.3112      1.023     -0.304      0.761        -2.317     1.695\n",
        "ccode_615.0    -0.8502      0.939     -0.905      0.365        -2.691     0.991\n",
        "ccode_616.0   -34.2460    2.5e+07  -1.37e-06      1.000      -4.9e+07   4.9e+07\n",
        "ccode_620.0    -1.2870      1.237     -1.040      0.298        -3.712     1.137\n",
        "ccode_625.0    -0.1356      0.955     -0.142      0.887        -2.008     1.736\n",
        "ccode_651.0    -0.1809      0.891     -0.203      0.839        -1.927     1.565\n",
        "intercept      -4.0742      0.926     -4.401      0.000        -5.889    -2.260\n",
        "==============================================================================="
       ]
      },
      {
       "output_type": "stream",
       "stream": "stdout",
       "text": [
        "\n"
       ]
      }
     ],
     "prompt_number": 166
    },
    {
     "cell_type": "code",
     "collapsed": false,
     "input": [
      "# Best Logistic Regression Model\n",
      "v = train[['death01', 'npart', 'escalation', 'polity2', 'cgovtarget', 'etype']]\n",
      "v = v[~np.isnan(v).any(1)]\n",
      "dummies = pd.get_dummies(v.etype, prefix='etype')\n",
      "v = v.drop('etype', 1)\n",
      "v = v.join(dummies.ix[:, 'etype_2.0':])\n",
      "dummies = pd.get_dummies(v.escalation, prefix='escalation')\n",
      "v = v.drop('escalation', 1)\n",
      "v = v.join(dummies.ix[:, 'escalation_2.0':])\n",
      "v['intercept'] = 1.0\n",
      "mod = sm.Logit(v.death01, v[v.columns[1:]], missing='drop').fit()\n",
      "print mod.summary()"
     ],
     "language": "python",
     "metadata": {},
     "outputs": [
      {
       "output_type": "stream",
       "stream": "stdout",
       "text": [
        "Warning: Maximum number of iterations has been exceeded.\n",
        "         Current function value: 0.307551\n",
        "         Iterations: 35\n",
        "                           Logit Regression Results                           \n",
        "==============================================================================\n",
        "Dep. Variable:                death01   No. Observations:                 2214\n",
        "Model:                          Logit   Df Residuals:                     2193\n",
        "Method:                           MLE   Df Model:                           20\n",
        "Date:                Sun, 16 Mar 2014   Pseudo R-squ.:                  0.3480\n",
        "Time:                        00:04:21   Log-Likelihood:                -680.92\n",
        "converged:                      False   LL-Null:                       -1044.4\n",
        "                                        LLR p-value:                4.364e-141\n",
        "===================================================================================\n",
        "                      coef    std err          z      P>|z|      [95.0% Conf. Int.]\n",
        "-----------------------------------------------------------------------------------\n",
        "npart               0.1912      0.073      2.631      0.009         0.049     0.334\n",
        "polity2             0.0005      0.014      0.037      0.970        -0.027     0.028\n",
        "cgovtarget         -0.1597      0.159     -1.002      0.316        -0.472     0.153\n",
        "etype_2.0           0.4499      0.255      1.764      0.078        -0.050     0.950\n",
        "etype_3.0           2.9551      0.442      6.686      0.000         2.089     3.821\n",
        "etype_4.0           3.0435      0.271     11.234      0.000         2.513     3.575\n",
        "etype_5.0           1.5678      0.515      3.046      0.002         0.559     2.577\n",
        "etype_6.0          -0.4772      0.376     -1.268      0.205        -1.215     0.260\n",
        "etype_7.0           2.5634      0.419      6.124      0.000         1.743     3.384\n",
        "etype_8.0           4.6943      0.392     11.964      0.000         3.925     5.463\n",
        "etype_9.0           5.3070      0.382     13.876      0.000         4.557     6.057\n",
        "etype_10.0          2.7160      0.592      4.586      0.000         1.555     3.877\n",
        "escalation_2.0      0.8329      0.571      1.460      0.144        -0.285     1.951\n",
        "escalation_3.0      2.8671      0.485      5.914      0.000         1.917     3.817\n",
        "escalation_4.0      2.7467      0.212     12.953      0.000         2.331     3.162\n",
        "escalation_5.0      1.8816      1.553      1.211      0.226        -1.163     4.926\n",
        "escalation_6.0     -0.0393      1.164     -0.034      0.973        -2.320     2.242\n",
        "escalation_8.0     37.7338   3.36e+07   1.12e-06      1.000     -6.58e+07  6.58e+07\n",
        "escalation_9.0      4.5393      0.842      5.394      0.000         2.890     6.189\n",
        "escalation_10.0     0.6539      1.424      0.459      0.646        -2.138     3.446\n",
        "intercept          -4.2060      0.369    -11.414      0.000        -4.928    -3.484\n",
        "==================================================================================="
       ]
      },
      {
       "output_type": "stream",
       "stream": "stdout",
       "text": [
        "\n"
       ]
      }
     ],
     "prompt_number": 87
    },
    {
     "cell_type": "code",
     "collapsed": false,
     "input": [
      "mod.predict("
     ],
     "language": "python",
     "metadata": {},
     "outputs": [
      {
       "metadata": {},
       "output_type": "pyout",
       "prompt_number": 84,
       "text": [
        "-10.0"
       ]
      }
     ],
     "prompt_number": 84
    },
    {
     "cell_type": "code",
     "collapsed": false,
     "input": [
      "v = test[['death01', 'npart', 'escalation', 'polity2', 'cgovtarget', 'etype']]\n",
      "v = v[~np.isnan(v).any(1)]\n",
      "dummies = pd.get_dummies(v.etype, prefix='etype')\n",
      "v = v.drop('etype', 1)\n",
      "v = v.join(dummies.ix[:, 'etype_2.0':])\n",
      "dummies = pd.get_dummies(v.escalation, prefix='escalation')\n",
      "v = v.drop('escalation', 1)\n",
      "v = v.join(dummies.ix[:, 'escalation_2.0':])\n",
      "v['intercept'] = 1.0\n",
      "ests = np.round(mod.predict(v[v.columns[1:]]))\n",
      "true = v[['death01']].values\n",
      "\n",
      "predAnalysis = [[0 for x in xrange(2)] for x in xrange(2)]\n",
      "for i in range(0,len(true),1):\n",
      "    if true[[i]]==0 and ests[[i]]==0:\n",
      "        predAnalysis[0][0] = predAnalysis[0][0] + 1\n",
      "    elif true[[i]]==0 and ests[[i]]==1:\n",
      "        predAnalysis[0][1] = predAnalysis[0][1] + 1\n",
      "    elif true[[i]]==1 and ests[[i]]==0:\n",
      "        predAnalysis[1][0] = predAnalysis[1][0] + 1\n",
      "    elif true[[i]]==1 and ests[[i]]==1:\n",
      "        predAnalysis[1][1] = predAnalysis[1][1] + 1\n",
      "\n",
      "predAnalysis = pd.DataFrame(predAnalysis)\n",
      "predAnalysis.index=['No Deaths', 'Deaths']\n",
      "predAnalysis.columns = ['Predicted as No Deaths', 'Predicted as Deaths']\n",
      "display(HTML(\"<left>\" + \"<font size=3>\" + '&nbsp;&nbsp;&nbsp;&nbsp;&nbsp;&nbsp;&nbsp;&nbsp;&nbsp;&nbsp;&nbsp;&nbsp;' + 'Table 4: Logistic Regression Prediction Accuracy' + \"</font>\" + \"</left>\"))\n",
      "predAnalysis"
     ],
     "language": "python",
     "metadata": {},
     "outputs": [
      {
       "html": [
        "<left><font size=3>&nbsp;&nbsp;&nbsp;&nbsp;&nbsp;&nbsp;&nbsp;&nbsp;&nbsp;&nbsp;&nbsp;&nbsp;Table 4: Logistic Regression Prediction Accuracy</font></left>"
       ],
       "metadata": {},
       "output_type": "display_data",
       "text": [
        "<IPython.core.display.HTML at 0x57f2350>"
       ]
      },
      {
       "html": [
        "<div style=\"max-height:1000px;max-width:1500px;overflow:auto;\">\n",
        "<table border=\"1\" class=\"dataframe\">\n",
        "  <thead>\n",
        "    <tr style=\"text-align: right;\">\n",
        "      <th></th>\n",
        "      <th>Predicted as No Deaths</th>\n",
        "      <th>Predicted as Deaths</th>\n",
        "    </tr>\n",
        "  </thead>\n",
        "  <tbody>\n",
        "    <tr>\n",
        "      <th>No Deaths</th>\n",
        "      <td> 767</td>\n",
        "      <td> 20</td>\n",
        "    </tr>\n",
        "    <tr>\n",
        "      <th>Deaths</th>\n",
        "      <td> 105</td>\n",
        "      <td> 64</td>\n",
        "    </tr>\n",
        "  </tbody>\n",
        "</table>\n",
        "</div>"
       ],
       "metadata": {},
       "output_type": "pyout",
       "prompt_number": 108,
       "text": [
        "           Predicted as No Deaths  Predicted as Deaths\n",
        "No Deaths                     767                   20\n",
        "Deaths                        105                   64"
       ]
      }
     ],
     "prompt_number": 108
    },
    {
     "cell_type": "code",
     "collapsed": false,
     "input": [
      "#Logit\n",
      "noNan = scad[['death01', 'npart', 'escalation', 'polity2', 'etype', 'cgovtarget']]\n",
      "noNan = noNan[~np.isnan(noNan).any(1)]\n",
      "X = noNan.ix[:, 1:]\n",
      "Y = noNan.death01\n",
      "\n",
      "#K-F CV\n",
      "k = 10\n",
      "kf = KFold(len(Y), n_folds=k, indices=False)\n",
      "            \n",
      "deathC = []\n",
      "noDeathC = []\n",
      "deathI = []\n",
      "noDeathI = []\n",
      "scores = []\n",
      "\n",
      "for train, test in kf:\n",
      "    trainX = sm.add_constant(X.iloc[train,:])\n",
      "    trainY = Y.iloc[train]\n",
      "    testX = sm.add_constant(X.iloc[test,:])\n",
      "    testY = Y.iloc[test]\n",
      "    mod = sm.Logit(endog=trainY, exog=trainX).fit()\n",
      "    fitted = np.round(mod.predict(testX))\n",
      "    noDeathC.extend([ sum((fitted[testY==0] - testY[testY==0])==0)])\n",
      "    noDeathI.extend([ sum((fitted - testY)==1)])\n",
      "    deathC.extend([ sum((fitted[testY==1] - testY[testY==1])==0)])\n",
      "    deathI.extend([ sum((fitted - testY)==-1)])\n",
      "    \n",
      "    \n",
      "predAnalysis = np.vstack((noDeathC, noDeathI, deathI, deathC))\n",
      "predAnalysis.dtype = float\n",
      "predAnalysis = predAnalysis.sum(axis=1)\n",
      "predAnalysis = predAnalysis.reshape((2,2)) \n",
      "rowSums = predAnalysis.sum(axis=1)\n",
      "for i in range(0, 2, 1):\n",
      "    for j in range(0, 2, 1):\n",
      "        predAnalysis[i][j] = 100*predAnalysis[i][j] / rowSums[i]\n",
      " \n",
      "predAnalysis"
     ],
     "language": "python",
     "metadata": {},
     "outputs": [
      {
       "output_type": "stream",
       "stream": "stdout",
       "text": [
        "Optimization terminated successfully.\n",
        "         Current function value: 0.384512\n",
        "         Iterations 6\n",
        "Optimization terminated successfully.\n",
        "         Current function value: 0.361058\n",
        "         Iterations 7\n",
        "Optimization terminated successfully.\n",
        "         Current function value: 0.376448\n",
        "         Iterations 6\n",
        "Optimization terminated successfully."
       ]
      },
      {
       "output_type": "stream",
       "stream": "stdout",
       "text": [
        "\n",
        "         Current function value: 0.366610\n",
        "         Iterations 7\n",
        "Optimization terminated successfully.\n",
        "         Current function value: 0.374680\n",
        "         Iterations 6\n",
        "Optimization terminated successfully.\n",
        "         Current function value: 0.368310\n",
        "         Iterations 7\n",
        "Optimization terminated successfully."
       ]
      },
      {
       "output_type": "stream",
       "stream": "stdout",
       "text": [
        "\n",
        "         Current function value: 0.376480\n",
        "         Iterations 6\n",
        "Optimization terminated successfully.\n",
        "         Current function value: 0.375587\n",
        "         Iterations 6\n",
        "Optimization terminated successfully.\n",
        "         Current function value: 0.385607\n",
        "         Iterations 6\n",
        "Optimization terminated successfully.\n",
        "         Current function value: 0.382201\n",
        "         Iterations 6\n"
       ]
      },
      {
       "metadata": {},
       "output_type": "pyout",
       "prompt_number": 109,
       "text": [
        "array([[ 95.88777863,   4.11222137],\n",
        "       [ 66.72535211,  33.27464789]])"
       ]
      }
     ],
     "prompt_number": 109
    },
    {
     "cell_type": "code",
     "collapsed": false,
     "input": [
      "predAnalysis"
     ],
     "language": "python",
     "metadata": {},
     "outputs": []
    },
    {
     "cell_type": "markdown",
     "metadata": {},
     "source": [
      "##Modeling: Absolute Number of Deaths"
     ]
    },
    {
     "cell_type": "code",
     "collapsed": false,
     "input": [
      "index"
     ],
     "language": "python",
     "metadata": {},
     "outputs": [
      {
       "ename": "NameError",
       "evalue": "name 'index' is not defined",
       "output_type": "pyerr",
       "traceback": [
        "\u001b[1;31m---------------------------------------------------------------------------\u001b[0m\n\u001b[1;31mNameError\u001b[0m                                 Traceback (most recent call last)",
        "\u001b[1;32m<ipython-input-160-caf7e7bf96a7>\u001b[0m in \u001b[0;36m<module>\u001b[1;34m()\u001b[0m\n\u001b[1;32m----> 1\u001b[1;33m \u001b[0mindex\u001b[0m\u001b[1;33m\u001b[0m\u001b[0m\n\u001b[0m",
        "\u001b[1;31mNameError\u001b[0m: name 'index' is not defined"
       ]
      }
     ],
     "prompt_number": 160
    },
    {
     "cell_type": "code",
     "collapsed": false,
     "input": [
      "#Poisson predict number of deaths\n",
      "v = train[['ndeath', 'npart', 'domRelNum', 'polity2', 'cgovtarget', 'etype', 'cinc', 'pec']]\n",
      "v = v[~np.isnan(v).any(1)]\n",
      "dummies = pd.get_dummies(v.etype, prefix='etype')\n",
      "v = v.drop('etype', 1)\n",
      "v = v.join(dummies.ix[:, 'etype_2.0':])\n",
      "dummies = pd.get_dummies(v.domRelNum, prefix='rel')\n",
      "v = v.drop('domRelNum', 1)\n",
      "v = v.join(dummies.ix[:, 'rel_0.0':])\n",
      "v['intercept'] = 1.0\n",
      "mod = sm.NegativeBinomial(v.ndeath, v[v.columns[1:]], missing='drop').fit()\n",
      "print mod.summary()"
     ],
     "language": "python",
     "metadata": {},
     "outputs": [
      {
       "output_type": "stream",
       "stream": "stdout",
       "text": [
        "Warning: Desired error not necessarily achieved due to precision loss.\n",
        "         Current function value: 1.485883\n",
        "         Iterations: 0\n",
        "         Function evaluations: 29\n",
        "         Gradient evaluations: 29\n",
        "                     NegativeBinomial Regression Results                      \n",
        "==============================================================================\n",
        "Dep. Variable:                 ndeath   No. Observations:                 1706\n",
        "Model:               NegativeBinomial   Df Residuals:                     1688\n",
        "Method:                           MLE   Df Model:                           17\n",
        "Date:                Sun, 16 Mar 2014   Pseudo R-squ.:                 -0.4489\n",
        "Time:                        01:37:47   Log-Likelihood:                -2534.9\n",
        "converged:                      False   LL-Null:                       -1749.6\n",
        "                                        LLR p-value:                     1.000\n",
        "==============================================================================\n",
        "                 coef    std err          z      P>|z|      [95.0% Conf. Int.]\n",
        "------------------------------------------------------------------------------\n",
        "npart          0.8016      0.038     21.345      0.000         0.728     0.875\n",
        "polity2       -0.0146      0.009     -1.567      0.117        -0.033     0.004\n",
        "cgovtarget    -0.1472      0.090     -1.637      0.102        -0.323     0.029\n",
        "cinc         159.5101     22.650      7.042      0.000       115.117   203.903\n",
        "pec        -2.064e-06   8.24e-07     -2.506      0.012     -3.68e-06  -4.5e-07\n",
        "etype_2.0      1.3186      0.117     11.297      0.000         1.090     1.547\n",
        "etype_3.0      1.6220      0.278      5.825      0.000         1.076     2.168\n",
        "etype_4.0      2.7745      0.141     19.632      0.000         2.497     3.051\n",
        "etype_5.0      1.5901      0.187      8.497      0.000         1.223     1.957\n",
        "etype_6.0     -0.1967      0.165     -1.192      0.233        -0.520     0.127\n",
        "etype_7.0      2.3136      0.224     10.329      0.000         1.875     2.753\n",
        "etype_8.0      2.6134      0.218     12.001      0.000         2.187     3.040\n",
        "etype_9.0      4.1833      0.186     22.451      0.000         3.818     4.549\n",
        "etype_10.0     4.2550      0.297     14.307      0.000         3.672     4.838\n",
        "rel_1        -32.5863   2.23e+07  -1.46e-06      1.000     -4.36e+07  4.36e+07\n",
        "rel_2         -0.0888      0.085     -1.047      0.295        -0.255     0.077\n",
        "rel_3         -1.4644      0.294     -4.986      0.000        -2.040    -0.889\n",
        "intercept     -4.0552      0.214    -18.980      0.000        -4.474    -3.636\n",
        "alpha          1.1052      0.033     33.846      0.000         1.041     1.169\n",
        "=============================================================================="
       ]
      },
      {
       "output_type": "stream",
       "stream": "stdout",
       "text": [
        "\n"
       ]
      }
     ],
     "prompt_number": 159
    },
    {
     "cell_type": "code",
     "collapsed": false,
     "input": [
      "# Residual vs. Fitted Value Plot for Poisson Model (on test set)\n",
      "v = test[['ndeath', 'npart', 'escalation', 'polity2', 'cgovtarget', 'etype', 'cinc']]\n",
      "v = v[~np.isnan(v).any(1)]\n",
      "dummies = pd.get_dummies(v.etype, prefix='etype')\n",
      "v = v.drop('etype', 1)\n",
      "v = v.join(dummies.ix[:, 'etype_2.0':])\n",
      "#dummies = pd.get_dummies(v.escalation, prefix='escalation')\n",
      "v = v.drop('escalation', 1)\n",
      "#v = v.join(dummies.ix[:, 'escalation_2.0':])\n",
      "v['intercept'] = 1.0\n",
      "\n",
      "fitted = mod.predict(v[v.columns[1:]])\n",
      "fitted.shape = (len(fitted),1)\n",
      "true = v[['ndeath']].values\n",
      "resid = true - fitted\n",
      "\n",
      "fig = plt.figure()\n",
      "ax = fig.add_subplot(111)\n",
      "width=0.5\n",
      "p1 = ax.scatter(fitted, resid, color='black', alpha=0.2)\n",
      "\n",
      "axesToLose = ['top', 'right']\n",
      "for axis in axesToLose:\n",
      "    ax.spines[axis].set_visible(False)\n",
      "    \n",
      "ax.xaxis.set_ticks_position('none')\n",
      "ax.yaxis.set_ticks_position('left')\n",
      "\n",
      "ax.set_ylabel('Residuals', fontsize=12)\n",
      "ax.set_xlabel('Fitted Values', fontsize=12)\n",
      "\n",
      "plt.show()\n",
      "np.sum(np.square(resid))"
     ],
     "language": "python",
     "metadata": {},
     "outputs": [
      {
       "metadata": {},
       "output_type": "display_data",
       "png": "[encoded data removed]",
       "text": [
        "<matplotlib.figure.Figure at 0x65aaa50>"
       ]
      },
      {
       "metadata": {},
       "output_type": "pyout",
       "prompt_number": 141,
       "text": [
        "324751.77386344678"
       ]
      }
     ],
     "prompt_number": 141
    },
    {
     "cell_type": "code",
     "collapsed": false,
     "input": [
      "\n",
      "#OLS predict log(number of deaths) to try to reduce skew\n",
      "v = train[['ndeath', 'npart', 'escalation', 'polity2', 'milex', 'milper', 'etype']]\n",
      "v = v[v.ndeath>0]\n",
      "v = v[~np.isnan(v).any(1)]\n",
      "v.ndeath = log(v.ndeath)\n",
      "mod = ols(\"ndeath ~ npart + escalation + polity2 + milex + milper + etype \", v).fit()\n",
      "print mod.summary()"
     ],
     "language": "python",
     "metadata": {},
     "outputs": []
    },
    {
     "cell_type": "code",
     "collapsed": false,
     "input": [
      "v = test[['ndeath', 'npart', 'escalation', 'polity2']]\n",
      "v = v[v.ndeath>0]\n",
      "v = v[~np.isnan(v).any(1)]\n",
      "v.ndeath = log(v.ndeath)\n",
      "fitted = mod.predict(v)\n",
      "fitted = exp(fitted)\n",
      "resid = exp(v.ndeath) - fitted\n",
      "\n",
      "obsSort, fitSort = zip(*sorted(zip(exp(v.ndeath), fitted)))\n",
      "\n",
      "plt.scatter(fitSort, resid)\n",
      "plt.show()"
     ],
     "language": "python",
     "metadata": {},
     "outputs": []
    },
    {
     "cell_type": "code",
     "collapsed": false,
     "input": [
      "v = train[['ndeath', 'ccode', 'npart',  'polity2', 'milper', 'milex',  'upop', 'cinc', 'pec', 'irst']]\n",
      "#v = v[v.ndeath>0]\n",
      "v = v[~np.isnan(v).any(1)]\n",
      "Y = v.ndeath\n",
      "X = v[['npart', 'ccode', 'polity2',  'milper', 'milex', 'upop', 'cinc', 'pec', 'irst']]\n",
      "from sklearn import tree\n",
      "clf = tree.DecisionTreeClassifier()\n",
      "clf = clf.fit(X, Y)\n",
      "tree.export_graphviz(clf)"
     ],
     "language": "python",
     "metadata": {},
     "outputs": [
      {
       "output_type": "pyout",
       "prompt_number": 79,
       "text": [
        "<open file 'tree.dot', mode 'wb' at 0x67dbf60>"
       ]
      }
     ],
     "prompt_number": 79
    },
    {
     "cell_type": "code",
     "collapsed": false,
     "input": [
      "#import StringIO\n",
      "#import pydot\n",
      "#dot_data = StringIO.StringIO() \n",
      "#tree.export_graphviz(clf, out_file=dot_data) \n",
      "#graph = pydot.graph_from_dot_data(dot_data.getvalue()) \n",
      "#graph.write_pdf(\"iris.pdf\") "
     ],
     "language": "python",
     "metadata": {},
     "outputs": [],
     "prompt_number": 71
    },
    {
     "cell_type": "code",
     "collapsed": false,
     "input": [
      "v = test[['ndeath', 'ccode', 'npart', 'polity2', 'milex', 'milper','upop', 'cinc', 'pec', 'irst']]\n",
      "#v = v[v.ndeath>0]\n",
      "v = v[~np.isnan(v).any(1)]\n",
      "Y = v.ndeath\n",
      "X = v[['npart', 'ccode',  'polity2', 'milex', 'milper','upop', 'cinc', 'pec','irst']]\n",
      "preds = clf.predict(X)\n",
      "ax=plt.subplot(111)\n",
      "ax.scatter(preds, Y-preds)\n",
      "ax.set_xlabel('Fitted Values')\n",
      "ax.set_ylabel('Residuals')\n",
      "ax.set_title('CART Decision Tree - Test Set')\n",
      "plt.show()"
     ],
     "language": "python",
     "metadata": {},
     "outputs": [
      {
       "output_type": "display_data",
       "png": "[encoded data removed]"
      }
     ],
     "prompt_number": 80
    },
    {
     "cell_type": "code",
     "collapsed": false,
     "input": [],
     "language": "python",
     "metadata": {},
     "outputs": [
      {
       "output_type": "display_data",
       "png": "[encoded data removed]"
      }
     ],
     "prompt_number": 102
    },
    {
     "cell_type": "code",
     "collapsed": false,
     "input": [
      "noNan = scad[['longitude', 'latitude', 'death01']]\n",
      "noNan.longitude = np.round(noNan.longitude, decimals=0)\n",
      "noNan.latitude = np.round(noNan.latitude, decimals=0)\n",
      "print len(noNan)\n",
      "noNan = noNan.drop_duplicates(cols=['latitude', 'longitude'])\n",
      "print len(noNan)"
     ],
     "language": "python",
     "metadata": {},
     "outputs": [
      {
       "output_type": "stream",
       "stream": "stdout",
       "text": [
        "7838\n",
        "857\n"
       ]
      }
     ],
     "prompt_number": 31
    },
    {
     "cell_type": "markdown",
     "metadata": {},
     "source": []
    },
    {
     "cell_type": "code",
     "collapsed": false,
     "input": [],
     "language": "python",
     "metadata": {},
     "outputs": []
    }
   ],
   "metadata": {}
  }
 ]
}