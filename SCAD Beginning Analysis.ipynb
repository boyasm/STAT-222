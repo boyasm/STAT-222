{
 "metadata": {
  "name": "SCAD Beginning Analysis"
 },
 "nbformat": 3,
 "nbformat_minor": 0,
 "worksheets": [
  {
   "cells": [
    {
     "cell_type": "code",
     "collapsed": false,
     "input": [
      "import numpy as np\n",
      "import pandas as pd\n",
      "import matplotlib.pyplot as plt\n",
      "import scipy as sp\n",
      "from scipy import stats\n",
      "\n",
      "pd.options.display.max_columns = 100"
     ],
     "language": "python",
     "metadata": {},
     "outputs": [],
     "prompt_number": 80
    },
    {
     "cell_type": "code",
     "collapsed": false,
     "input": [
      "# Define color palette for graphing and plots\n",
      "# Print friendly as well as somewhat colorblind friendly\n",
      "# Palettes are ColorBrewer's Set2 and Dark2 palettes\n",
      "light = ['#66C2A5', '#FC8D62', '#8DA0CB', '#E78AC3', '#A6D654', '#FFD92F', '#E5C494', '#B3B3B3']\n",
      "dark = ['#1B9E77', '#D95F02', '#7570B3', '#E7298A', '#66A61E', '#E6AB02', '#A6761D', '#666666']\n",
      "almostBlack = '#262626'"
     ],
     "language": "python",
     "metadata": {},
     "outputs": [],
     "prompt_number": 111
    },
    {
     "cell_type": "code",
     "collapsed": false,
     "input": [
      "scad = pd.read_table('/accounts/grad/mboyas/STAT-222/Raw Datasets/SCAD 3.0/SCAD 3.0 1990-2011.txt')"
     ],
     "language": "python",
     "metadata": {},
     "outputs": [],
     "prompt_number": 82
    },
    {
     "cell_type": "code",
     "collapsed": false,
     "input": [
      "for i in range(len(scad.columns)):\n",
      "    if scad[scad.columns[i]].dtype == int:\n",
      "        scad[scad.columns[i]] = scad[scad.columns[i]].astype(float)\n",
      "\n",
      "    \n",
      "        "
     ],
     "language": "python",
     "metadata": {},
     "outputs": [],
     "prompt_number": 83
    },
    {
     "cell_type": "code",
     "collapsed": false,
     "input": [
      "#Code all dataset missing values as NaN\n",
      "scad.npart[scad.npart == -99] = np.nan\n",
      "scad.ndeath[scad.ndeath == -99] = np.nan\n",
      "scad.ndeath[scad.ndeath == -88] = np.nan\n",
      "scad.ndeath[scad.ndeath == -77] = np.nan\n",
      "scad.locnum[scad.locnum == -99] = np.nan\n",
      "scad.issue1[scad.issue1 == 14] = np.nan\n",
      "scad.issue1[scad.issue2 == 14] = np.nan\n",
      "scad.issue1[scad.issue3 == 14] = np.nan"
     ],
     "language": "python",
     "metadata": {},
     "outputs": [],
     "prompt_number": 84
    },
    {
     "cell_type": "code",
     "collapsed": false,
     "input": [
      "# Remove all conflicts starting prior to 1990 (see documentation)\n",
      "scad = scad[scad.styr>=1990]"
     ],
     "language": "python",
     "metadata": {},
     "outputs": [],
     "prompt_number": 85
    },
    {
     "cell_type": "code",
     "collapsed": false,
     "input": [
      "#Code indicator variable, 0 if no deaths, 1 if at least one death\n",
      "scad['death01']=scad.ndeath\n",
      "scad.death01[scad.death01>0] = 1\n",
      "scad.death01[scad.ndeath == np.nan] = np.nan"
     ],
     "language": "python",
     "metadata": {},
     "outputs": [],
     "prompt_number": 86
    },
    {
     "cell_type": "code",
     "collapsed": false,
     "input": [
      "scad.ix[1:5, ['ndeath', 'death01']]"
     ],
     "language": "python",
     "metadata": {},
     "outputs": [
      {
       "html": [
        "<div style=\"max-height:1000px;max-width:1500px;overflow:auto;\">\n",
        "<table border=\"1\" class=\"dataframe\">\n",
        "  <thead>\n",
        "    <tr style=\"text-align: right;\">\n",
        "      <th></th>\n",
        "      <th>ndeath</th>\n",
        "      <th>death01</th>\n",
        "    </tr>\n",
        "  </thead>\n",
        "  <tbody>\n",
        "    <tr>\n",
        "      <th>1</th>\n",
        "      <td>NaN</td>\n",
        "      <td>NaN</td>\n",
        "    </tr>\n",
        "    <tr>\n",
        "      <th>2</th>\n",
        "      <td>  0</td>\n",
        "      <td>  0</td>\n",
        "    </tr>\n",
        "    <tr>\n",
        "      <th>3</th>\n",
        "      <td>  0</td>\n",
        "      <td>  0</td>\n",
        "    </tr>\n",
        "    <tr>\n",
        "      <th>4</th>\n",
        "      <td>  0</td>\n",
        "      <td>  0</td>\n",
        "    </tr>\n",
        "    <tr>\n",
        "      <th>5</th>\n",
        "      <td>  0</td>\n",
        "      <td>  0</td>\n",
        "    </tr>\n",
        "  </tbody>\n",
        "</table>\n",
        "</div>"
       ],
       "output_type": "pyout",
       "prompt_number": 87,
       "text": [
        "   ndeath  death01\n",
        "1     NaN      NaN\n",
        "2       0        0\n",
        "3       0        0\n",
        "4       0        0\n",
        "5       0        0"
       ]
      }
     ],
     "prompt_number": 87
    },
    {
     "cell_type": "code",
     "collapsed": false,
     "input": [
      "grouped = scad.groupby('death01')\n",
      "grouped.aggregate(np.median)\n",
      "grouped.aggregate(np.mean)"
     ],
     "language": "python",
     "metadata": {},
     "outputs": [
      {
       "html": [
        "<div style=\"max-height:1000px;max-width:1500px;overflow:auto;\">\n",
        "<table border=\"1\" class=\"dataframe\">\n",
        "  <thead>\n",
        "    <tr style=\"text-align: right;\">\n",
        "      <th></th>\n",
        "      <th>eventid</th>\n",
        "      <th>ccode</th>\n",
        "      <th>id</th>\n",
        "      <th>duration</th>\n",
        "      <th>stday</th>\n",
        "      <th>stmo</th>\n",
        "      <th>styr</th>\n",
        "      <th>eday</th>\n",
        "      <th>emo</th>\n",
        "      <th>eyr</th>\n",
        "      <th>etype</th>\n",
        "      <th>escalation</th>\n",
        "      <th>cgovtarget</th>\n",
        "      <th>rgovtarget</th>\n",
        "      <th>npart</th>\n",
        "      <th>ndeath</th>\n",
        "      <th>repress</th>\n",
        "      <th>sublocal</th>\n",
        "      <th>locnum</th>\n",
        "      <th>gislocnum</th>\n",
        "      <th>issue1</th>\n",
        "      <th>issue2</th>\n",
        "      <th>issue3</th>\n",
        "      <th>nsource</th>\n",
        "      <th>ACD_questionable</th>\n",
        "      <th>latitude</th>\n",
        "      <th>longitude</th>\n",
        "    </tr>\n",
        "    <tr>\n",
        "      <th>death01</th>\n",
        "      <th></th>\n",
        "      <th></th>\n",
        "      <th></th>\n",
        "      <th></th>\n",
        "      <th></th>\n",
        "      <th></th>\n",
        "      <th></th>\n",
        "      <th></th>\n",
        "      <th></th>\n",
        "      <th></th>\n",
        "      <th></th>\n",
        "      <th></th>\n",
        "      <th></th>\n",
        "      <th></th>\n",
        "      <th></th>\n",
        "      <th></th>\n",
        "      <th></th>\n",
        "      <th></th>\n",
        "      <th></th>\n",
        "      <th></th>\n",
        "      <th></th>\n",
        "      <th></th>\n",
        "      <th></th>\n",
        "      <th></th>\n",
        "      <th></th>\n",
        "      <th></th>\n",
        "      <th></th>\n",
        "    </tr>\n",
        "  </thead>\n",
        "  <tbody>\n",
        "    <tr>\n",
        "      <th>0</th>\n",
        "      <td> 5249108.256205</td>\n",
        "      <td> 524.891753</td>\n",
        "      <td> 190.730431</td>\n",
        "      <td> 6.247232</td>\n",
        "      <td> 15.237304</td>\n",
        "      <td> 6.353952</td>\n",
        "      <td> 2001.947117</td>\n",
        "      <td> 16.039519</td>\n",
        "      <td> 6.378580</td>\n",
        "      <td> 2001.957236</td>\n",
        "      <td> 3.778351</td>\n",
        "      <td> 0.348225</td>\n",
        "      <td> 0.584956</td>\n",
        "      <td> 0.049828</td>\n",
        "      <td> 3.445648</td>\n",
        "      <td>  0.00000</td>\n",
        "      <td> 0.253532</td>\n",
        "      <td> 1.101184</td>\n",
        "      <td> 2.863582</td>\n",
        "      <td>-0.623139</td>\n",
        "      <td> 6.610553</td>\n",
        "      <td> 6.408252</td>\n",
        "      <td> 8.892857</td>\n",
        "      <td> 0.450935</td>\n",
        "      <td> 0.007446</td>\n",
        "      <td> 2.501158</td>\n",
        "      <td> 17.406568</td>\n",
        "    </tr>\n",
        "    <tr>\n",
        "      <th>1</th>\n",
        "      <td> 5177885.199819</td>\n",
        "      <td> 517.763301</td>\n",
        "      <td> 252.188936</td>\n",
        "      <td> 5.695586</td>\n",
        "      <td> 15.204958</td>\n",
        "      <td> 6.304111</td>\n",
        "      <td> 2001.560157</td>\n",
        "      <td> 15.669891</td>\n",
        "      <td> 6.341596</td>\n",
        "      <td> 2001.568622</td>\n",
        "      <td> 6.612152</td>\n",
        "      <td> 0.601572</td>\n",
        "      <td> 0.283857</td>\n",
        "      <td> 0.064389</td>\n",
        "      <td> 2.783383</td>\n",
        "      <td> 43.94468</td>\n",
        "      <td> 0.514510</td>\n",
        "      <td> 1.243349</td>\n",
        "      <td> 3.655099</td>\n",
        "      <td> 2.998489</td>\n",
        "      <td> 7.373342</td>\n",
        "      <td> 7.502521</td>\n",
        "      <td> 6.712329</td>\n",
        "      <td> 0.538694</td>\n",
        "      <td> 0.042322</td>\n",
        "      <td> 0.392680</td>\n",
        "      <td> 22.455082</td>\n",
        "    </tr>\n",
        "  </tbody>\n",
        "</table>\n",
        "</div>"
       ],
       "output_type": "pyout",
       "prompt_number": 88,
       "text": [
        "                eventid       ccode          id  duration      stday  \\\n",
        "death01                                                                \n",
        "0        5249108.256205  524.891753  190.730431  6.247232  15.237304   \n",
        "1        5177885.199819  517.763301  252.188936  5.695586  15.204958   \n",
        "\n",
        "             stmo         styr       eday       emo          eyr     etype  \\\n",
        "death01                                                                      \n",
        "0        6.353952  2001.947117  16.039519  6.378580  2001.957236  3.778351   \n",
        "1        6.304111  2001.560157  15.669891  6.341596  2001.568622  6.612152   \n",
        "\n",
        "         escalation  cgovtarget  rgovtarget     npart    ndeath   repress  \\\n",
        "death01                                                                     \n",
        "0          0.348225    0.584956    0.049828  3.445648   0.00000  0.253532   \n",
        "1          0.601572    0.283857    0.064389  2.783383  43.94468  0.514510   \n",
        "\n",
        "         sublocal    locnum  gislocnum    issue1    issue2    issue3  \\\n",
        "death01                                                                \n",
        "0        1.101184  2.863582  -0.623139  6.610553  6.408252  8.892857   \n",
        "1        1.243349  3.655099   2.998489  7.373342  7.502521  6.712329   \n",
        "\n",
        "          nsource  ACD_questionable  latitude  longitude  \n",
        "death01                                                   \n",
        "0        0.450935          0.007446  2.501158  17.406568  \n",
        "1        0.538694          0.042322  0.392680  22.455082  "
       ]
      }
     ],
     "prompt_number": 88
    },
    {
     "cell_type": "code",
     "collapsed": false,
     "input": [
      "# Need to delete duplicate rows if not using geographic data (see documentation)\n",
      "scad = scad.drop_duplicates(cols='eventid')"
     ],
     "language": "python",
     "metadata": {},
     "outputs": [],
     "prompt_number": 89
    },
    {
     "cell_type": "code",
     "collapsed": false,
     "input": [
      "scad.ndeath.corr(scad.npart)"
     ],
     "language": "python",
     "metadata": {},
     "outputs": [
      {
       "output_type": "pyout",
       "prompt_number": 90,
       "text": [
        "0.025416029835246032"
       ]
      }
     ],
     "prompt_number": 90
    },
    {
     "cell_type": "code",
     "collapsed": false,
     "input": [
      "scad.ndeath.corr(scad.escalation)"
     ],
     "language": "python",
     "metadata": {},
     "outputs": [
      {
       "output_type": "pyout",
       "prompt_number": 91,
       "text": [
        "0.023094751376824069"
       ]
      }
     ],
     "prompt_number": 91
    },
    {
     "cell_type": "code",
     "collapsed": false,
     "input": [
      "scad.ndeath.corr(scad.etype)"
     ],
     "language": "python",
     "metadata": {},
     "outputs": [
      {
       "output_type": "pyout",
       "prompt_number": 92,
       "text": [
        "0.074881877054530213"
       ]
      }
     ],
     "prompt_number": 92
    },
    {
     "cell_type": "code",
     "collapsed": false,
     "input": [
      "scad.ndeath.corr(scad.duration)"
     ],
     "language": "python",
     "metadata": {},
     "outputs": [
      {
       "output_type": "pyout",
       "prompt_number": 93,
       "text": [
        "0.15058984166702985"
       ]
      }
     ],
     "prompt_number": 93
    },
    {
     "cell_type": "code",
     "collapsed": false,
     "input": [
      "scad.ndeath.corr(scad.repress)"
     ],
     "language": "python",
     "metadata": {},
     "outputs": [
      {
       "output_type": "pyout",
       "prompt_number": 94,
       "text": [
        "0.015236850215849519"
       ]
      }
     ],
     "prompt_number": 94
    },
    {
     "cell_type": "code",
     "collapsed": false,
     "input": [
      "scad.ndeath.corr(scad.issue1)"
     ],
     "language": "python",
     "metadata": {},
     "outputs": [
      {
       "output_type": "pyout",
       "prompt_number": 95,
       "text": [
        "-0.003888998952692999"
       ]
      }
     ],
     "prompt_number": 95
    },
    {
     "cell_type": "code",
     "collapsed": false,
     "input": [
      "years[1]"
     ],
     "language": "python",
     "metadata": {},
     "outputs": [
      {
       "ename": "KeyError",
       "evalue": "1",
       "output_type": "pyerr",
       "traceback": [
        "\u001b[1;31m---------------------------------------------------------------------------\u001b[0m\n\u001b[1;31mKeyError\u001b[0m                                  Traceback (most recent call last)",
        "\u001b[1;32m<ipython-input-132-638e139d09b3>\u001b[0m in \u001b[0;36m<module>\u001b[1;34m()\u001b[0m\n\u001b[1;32m----> 1\u001b[1;33m \u001b[0myears\u001b[0m\u001b[1;33m[\u001b[0m\u001b[1;36m1\u001b[0m\u001b[1;33m]\u001b[0m\u001b[1;33m\u001b[0m\u001b[0m\n\u001b[0m",
        "\u001b[1;32m/usr/lib/python2.7/dist-packages/pandas/core/series.pyc\u001b[0m in \u001b[0;36m__getitem__\u001b[1;34m(self, key)\u001b[0m\n\u001b[0;32m    616\u001b[0m     \u001b[1;32mdef\u001b[0m \u001b[0m__getitem__\u001b[0m\u001b[1;33m(\u001b[0m\u001b[0mself\u001b[0m\u001b[1;33m,\u001b[0m \u001b[0mkey\u001b[0m\u001b[1;33m)\u001b[0m\u001b[1;33m:\u001b[0m\u001b[1;33m\u001b[0m\u001b[0m\n\u001b[0;32m    617\u001b[0m         \u001b[1;32mtry\u001b[0m\u001b[1;33m:\u001b[0m\u001b[1;33m\u001b[0m\u001b[0m\n\u001b[1;32m--> 618\u001b[1;33m             \u001b[1;32mreturn\u001b[0m \u001b[0mself\u001b[0m\u001b[1;33m.\u001b[0m\u001b[0mindex\u001b[0m\u001b[1;33m.\u001b[0m\u001b[0mget_value\u001b[0m\u001b[1;33m(\u001b[0m\u001b[0mself\u001b[0m\u001b[1;33m,\u001b[0m \u001b[0mkey\u001b[0m\u001b[1;33m)\u001b[0m\u001b[1;33m\u001b[0m\u001b[0m\n\u001b[0m\u001b[0;32m    619\u001b[0m         \u001b[1;32mexcept\u001b[0m \u001b[0mInvalidIndexError\u001b[0m\u001b[1;33m:\u001b[0m\u001b[1;33m\u001b[0m\u001b[0m\n\u001b[0;32m    620\u001b[0m             \u001b[1;32mpass\u001b[0m\u001b[1;33m\u001b[0m\u001b[0m\n",
        "\u001b[1;32m/usr/lib/python2.7/dist-packages/pandas/core/index.pyc\u001b[0m in \u001b[0;36mget_value\u001b[1;34m(self, series, key)\u001b[0m\n\u001b[0;32m    722\u001b[0m         \"\"\"\n\u001b[0;32m    723\u001b[0m         \u001b[1;32mtry\u001b[0m\u001b[1;33m:\u001b[0m\u001b[1;33m\u001b[0m\u001b[0m\n\u001b[1;32m--> 724\u001b[1;33m             \u001b[1;32mreturn\u001b[0m \u001b[0mself\u001b[0m\u001b[1;33m.\u001b[0m\u001b[0m_engine\u001b[0m\u001b[1;33m.\u001b[0m\u001b[0mget_value\u001b[0m\u001b[1;33m(\u001b[0m\u001b[0mseries\u001b[0m\u001b[1;33m,\u001b[0m \u001b[0mkey\u001b[0m\u001b[1;33m)\u001b[0m\u001b[1;33m\u001b[0m\u001b[0m\n\u001b[0m\u001b[0;32m    725\u001b[0m         \u001b[1;32mexcept\u001b[0m \u001b[0mKeyError\u001b[0m\u001b[1;33m,\u001b[0m \u001b[0me1\u001b[0m\u001b[1;33m:\u001b[0m\u001b[1;33m\u001b[0m\u001b[0m\n\u001b[0;32m    726\u001b[0m             \u001b[1;32mif\u001b[0m \u001b[0mlen\u001b[0m\u001b[1;33m(\u001b[0m\u001b[0mself\u001b[0m\u001b[1;33m)\u001b[0m \u001b[1;33m>\u001b[0m \u001b[1;36m0\u001b[0m \u001b[1;32mand\u001b[0m \u001b[0mself\u001b[0m\u001b[1;33m.\u001b[0m\u001b[0minferred_type\u001b[0m \u001b[1;33m==\u001b[0m \u001b[1;34m'integer'\u001b[0m\u001b[1;33m:\u001b[0m\u001b[1;33m\u001b[0m\u001b[0m\n",
        "\u001b[1;32m/usr/lib/python2.7/dist-packages/pandas/index.so\u001b[0m in \u001b[0;36mpandas.index.IndexEngine.get_value (pandas/index.c:2881)\u001b[1;34m()\u001b[0m\n",
        "\u001b[1;32m/usr/lib/python2.7/dist-packages/pandas/index.so\u001b[0m in \u001b[0;36mpandas.index.IndexEngine.get_value (pandas/index.c:2693)\u001b[1;34m()\u001b[0m\n",
        "\u001b[1;32m/usr/lib/python2.7/dist-packages/pandas/index.so\u001b[0m in \u001b[0;36mpandas.index.IndexEngine.get_loc (pandas/index.c:3430)\u001b[1;34m()\u001b[0m\n",
        "\u001b[1;32m/usr/lib/python2.7/dist-packages/pandas/hashtable.so\u001b[0m in \u001b[0;36mpandas.hashtable.Int64HashTable.get_item (pandas/hashtable.c:6580)\u001b[1;34m()\u001b[0m\n",
        "\u001b[1;32m/usr/lib/python2.7/dist-packages/pandas/hashtable.so\u001b[0m in \u001b[0;36mpandas.hashtable.Int64HashTable.get_item (pandas/hashtable.c:6521)\u001b[1;34m()\u001b[0m\n",
        "\u001b[1;31mKeyError\u001b[0m: 1"
       ]
      }
     ],
     "prompt_number": 132
    },
    {
     "cell_type": "code",
     "collapsed": false,
     "input": [
      "grouped = scad.groupby('styr')\n",
      "totals = grouped.death01.aggregate(len)\n",
      "deaths = grouped.death01.aggregate(np.nansum)\n",
      "deaths[np.isnan(deaths)]=0\n",
      "nodeaths = totals - deaths\n",
      "years = np.arange(1990, 2012, 1)\n",
      "\n",
      "ax = plt.subplot(111)\n",
      "width=0.5\n",
      "p1 = ax.bar(years, nodeaths, width, color=light[0], align='center')\n",
      "p2 = ax.bar(years, deaths, width, color=light[1], align='center')\n",
      "axesToLose = ['top', 'right']\n",
      "for axis in axesToLose:\n",
      "    ax.spines[axis].set_visible(False)\n",
      "    \n",
      "ax.xaxis.set_ticks_position('none')\n",
      "ax.yaxis.set_ticks_position('left')\n",
      "    \n",
      "ax.title.set_color(almostBlack)\n",
      "legend = ax.legend( (p1[0], p2[0]), ('No Deaths', 'Deaths'), loc=2, prop={'size':8})\n",
      "legend.get_frame().set_linewidth(0.0)\n",
      "\n",
      "ax.set_ylabel('Total Number of Conflict Events')\n",
      "ax.set_yticklabels(ax.get_yticks(), fontsize=8)\n",
      "\n",
      "ax.set_xlabel('Start Year of Conflict')\n",
      "ax.set_xlim((1989, 2012))\n",
      "ax.set_xticks(years)\n",
      "ax.set_xticklabels(years, rotation=70, fontsize=8)\n",
      "plt.subplots_adjust(bottom=0.11, left=0.09, right=0.99, top=0.93)\n",
      "\n",
      "ax.set_title('Figure 1: Yearly Conflict Numbers')\n",
      "\n",
      "plt.savefig('tst.png', bbox_inches='tight')"
     ],
     "language": "python",
     "metadata": {},
     "outputs": [],
     "prompt_number": 176
    },
    {
     "cell_type": "code",
     "collapsed": false,
     "input": [
      "light[7]35.cdefiklprs["
     ],
     "language": "python",
     "metadata": {},
     "outputs": [
      {
       "output_type": "pyout",
       "prompt_number": 112,
       "text": [
        "'#B3B3B3'"
       ]
      }
     ],
     "prompt_number": 112
    },
    {
     "cell_type": "code",
     "collapsed": false,
     "input": [],
     "language": "python",
     "metadata": {},
     "outputs": []
    }
   ],
   "metadata": {}
  }
 ]
}