{
 "metadata": {
  "name": "SCAD Beginning Analysis"
 },
 "nbformat": 3,
 "nbformat_minor": 0,
 "worksheets": [
  {
   "cells": [
    {
     "cell_type": "code",
     "collapsed": false,
     "input": [
      "import numpy as np\n",
      "import pandas as pd\n",
      "import matplotlib.pyplot as plt\n",
      "import scipy as sp\n",
      "from scipy import stats\n",
      "\n",
      "pd.options.display.max_columns = 100"
     ],
     "language": "python",
     "metadata": {},
     "outputs": [],
     "prompt_number": 171
    },
    {
     "cell_type": "code",
     "collapsed": false,
     "input": [
      "scad = pd.read_table('/accounts/grad/mboyas/STAT-222/Raw Datasets/SCAD 3.0/SCAD 3.0 1990-2011.txt')"
     ],
     "language": "python",
     "metadata": {},
     "outputs": [],
     "prompt_number": 172
    },
    {
     "cell_type": "code",
     "collapsed": false,
     "input": [
      "for i in range(len(scad.columns)):\n",
      "    if scad[scad.columns[i]].dtype == int:\n",
      "        scad[scad.columns[i]] = scad[scad.columns[i]].astype(float)\n",
      "\n",
      "    \n",
      "        "
     ],
     "language": "python",
     "metadata": {},
     "outputs": [],
     "prompt_number": 173
    },
    {
     "cell_type": "code",
     "collapsed": false,
     "input": [
      "#Code all dataset missing values as NaN\n",
      "scad.npart[scad.npart == -99] = np.nan\n",
      "scad.ndeath[scad.ndeath == -99] = np.nan\n",
      "scad.ndeath[scad.ndeath == -88] = np.nan\n",
      "scad.ndeath[scad.ndeath == -77] = np.nan\n",
      "scad.locnum[scad.locnum == -99] = np.nan\n",
      "scad.issue1[scad.issue1 == 14] = np.nan\n",
      "scad.issue1[scad.issue2 == 14] = np.nan\n",
      "scad.issue1[scad.issue3 == 14] = np.nan"
     ],
     "language": "python",
     "metadata": {},
     "outputs": [],
     "prompt_number": 174
    },
    {
     "cell_type": "code",
     "collapsed": false,
     "input": [
      "#Code indicator variable, 0 if no deaths, 1 if at least one death\n",
      "scad['death01']=scad.ndeath\n",
      "scad.death01[scad.death01>0] = 1\n",
      "scad.death01[scad.ndeath == np.nan] = np.nan"
     ],
     "language": "python",
     "metadata": {},
     "outputs": [],
     "prompt_number": 175
    },
    {
     "cell_type": "code",
     "collapsed": false,
     "input": [
      "scad.ix[1:5, ['ndeath', 'death01']]"
     ],
     "language": "python",
     "metadata": {},
     "outputs": [
      {
       "html": [
        "<div style=\"max-height:1000px;max-width:1500px;overflow:auto;\">\n",
        "<table border=\"1\" class=\"dataframe\">\n",
        "  <thead>\n",
        "    <tr style=\"text-align: right;\">\n",
        "      <th></th>\n",
        "      <th>ndeath</th>\n",
        "      <th>death01</th>\n",
        "    </tr>\n",
        "  </thead>\n",
        "  <tbody>\n",
        "    <tr>\n",
        "      <th>1</th>\n",
        "      <td>NaN</td>\n",
        "      <td>NaN</td>\n",
        "    </tr>\n",
        "    <tr>\n",
        "      <th>2</th>\n",
        "      <td>  0</td>\n",
        "      <td>  0</td>\n",
        "    </tr>\n",
        "    <tr>\n",
        "      <th>3</th>\n",
        "      <td>  0</td>\n",
        "      <td>  0</td>\n",
        "    </tr>\n",
        "    <tr>\n",
        "      <th>4</th>\n",
        "      <td>  0</td>\n",
        "      <td>  0</td>\n",
        "    </tr>\n",
        "    <tr>\n",
        "      <th>5</th>\n",
        "      <td>  0</td>\n",
        "      <td>  0</td>\n",
        "    </tr>\n",
        "  </tbody>\n",
        "</table>\n",
        "</div>"
       ],
       "output_type": "pyout",
       "prompt_number": 176,
       "text": [
        "   ndeath  death01\n",
        "1     NaN      NaN\n",
        "2       0        0\n",
        "3       0        0\n",
        "4       0        0\n",
        "5       0        0"
       ]
      }
     ],
     "prompt_number": 176
    },
    {
     "cell_type": "code",
     "collapsed": false,
     "input": [
      "grouped = scad.groupby('death01')\n",
      "grouped.aggregate(np.median)\n",
      "grouped.aggregate(np.mean)"
     ],
     "language": "python",
     "metadata": {},
     "outputs": [
      {
       "html": [
        "<div style=\"max-height:1000px;max-width:1500px;overflow:auto;\">\n",
        "<table border=\"1\" class=\"dataframe\">\n",
        "  <thead>\n",
        "    <tr style=\"text-align: right;\">\n",
        "      <th></th>\n",
        "      <th>eventid</th>\n",
        "      <th>ccode</th>\n",
        "      <th>id</th>\n",
        "      <th>duration</th>\n",
        "      <th>stday</th>\n",
        "      <th>stmo</th>\n",
        "      <th>styr</th>\n",
        "      <th>eday</th>\n",
        "      <th>emo</th>\n",
        "      <th>eyr</th>\n",
        "      <th>etype</th>\n",
        "      <th>escalation</th>\n",
        "      <th>cgovtarget</th>\n",
        "      <th>rgovtarget</th>\n",
        "      <th>npart</th>\n",
        "      <th>ndeath</th>\n",
        "      <th>repress</th>\n",
        "      <th>sublocal</th>\n",
        "      <th>locnum</th>\n",
        "      <th>gislocnum</th>\n",
        "      <th>issue1</th>\n",
        "      <th>issue2</th>\n",
        "      <th>issue3</th>\n",
        "      <th>nsource</th>\n",
        "      <th>ACD_questionable</th>\n",
        "      <th>latitude</th>\n",
        "      <th>longitude</th>\n",
        "    </tr>\n",
        "    <tr>\n",
        "      <th>death01</th>\n",
        "      <th></th>\n",
        "      <th></th>\n",
        "      <th></th>\n",
        "      <th></th>\n",
        "      <th></th>\n",
        "      <th></th>\n",
        "      <th></th>\n",
        "      <th></th>\n",
        "      <th></th>\n",
        "      <th></th>\n",
        "      <th></th>\n",
        "      <th></th>\n",
        "      <th></th>\n",
        "      <th></th>\n",
        "      <th></th>\n",
        "      <th></th>\n",
        "      <th></th>\n",
        "      <th></th>\n",
        "      <th></th>\n",
        "      <th></th>\n",
        "      <th></th>\n",
        "      <th></th>\n",
        "      <th></th>\n",
        "      <th></th>\n",
        "      <th></th>\n",
        "      <th></th>\n",
        "      <th></th>\n",
        "    </tr>\n",
        "  </thead>\n",
        "  <tbody>\n",
        "    <tr>\n",
        "      <th>0</th>\n",
        "      <td> 5249108.256205</td>\n",
        "      <td> 524.891753</td>\n",
        "      <td> 190.730431</td>\n",
        "      <td> 6.247232</td>\n",
        "      <td> 15.237304</td>\n",
        "      <td> 6.353952</td>\n",
        "      <td> 2001.947117</td>\n",
        "      <td> 16.039519</td>\n",
        "      <td> 6.378580</td>\n",
        "      <td> 2001.957236</td>\n",
        "      <td> 3.778351</td>\n",
        "      <td> 0.348225</td>\n",
        "      <td> 0.584956</td>\n",
        "      <td> 0.049828</td>\n",
        "      <td> 3.445648</td>\n",
        "      <td>  0.00000</td>\n",
        "      <td> 0.253532</td>\n",
        "      <td> 1.101184</td>\n",
        "      <td> 2.863582</td>\n",
        "      <td>-0.623139</td>\n",
        "      <td> 6.610553</td>\n",
        "      <td> 6.408252</td>\n",
        "      <td> 8.892857</td>\n",
        "      <td> 0.450935</td>\n",
        "      <td> 0.007446</td>\n",
        "      <td> 2.501158</td>\n",
        "      <td> 17.406568</td>\n",
        "    </tr>\n",
        "    <tr>\n",
        "      <th>1</th>\n",
        "      <td> 5177885.199819</td>\n",
        "      <td> 517.763301</td>\n",
        "      <td> 252.188936</td>\n",
        "      <td> 5.695586</td>\n",
        "      <td> 15.204958</td>\n",
        "      <td> 6.304111</td>\n",
        "      <td> 2001.560157</td>\n",
        "      <td> 15.669891</td>\n",
        "      <td> 6.341596</td>\n",
        "      <td> 2001.568622</td>\n",
        "      <td> 6.612152</td>\n",
        "      <td> 0.601572</td>\n",
        "      <td> 0.283857</td>\n",
        "      <td> 0.064389</td>\n",
        "      <td> 2.783383</td>\n",
        "      <td> 43.94468</td>\n",
        "      <td> 0.514510</td>\n",
        "      <td> 1.243349</td>\n",
        "      <td> 3.655099</td>\n",
        "      <td> 2.998489</td>\n",
        "      <td> 7.373342</td>\n",
        "      <td> 7.502521</td>\n",
        "      <td> 6.712329</td>\n",
        "      <td> 0.538694</td>\n",
        "      <td> 0.042322</td>\n",
        "      <td> 0.392680</td>\n",
        "      <td> 22.455082</td>\n",
        "    </tr>\n",
        "  </tbody>\n",
        "</table>\n",
        "</div>"
       ],
       "output_type": "pyout",
       "prompt_number": 177,
       "text": [
        "                eventid       ccode          id  duration      stday  \\\n",
        "death01                                                                \n",
        "0        5249108.256205  524.891753  190.730431  6.247232  15.237304   \n",
        "1        5177885.199819  517.763301  252.188936  5.695586  15.204958   \n",
        "\n",
        "             stmo         styr       eday       emo          eyr     etype  \\\n",
        "death01                                                                      \n",
        "0        6.353952  2001.947117  16.039519  6.378580  2001.957236  3.778351   \n",
        "1        6.304111  2001.560157  15.669891  6.341596  2001.568622  6.612152   \n",
        "\n",
        "         escalation  cgovtarget  rgovtarget     npart    ndeath   repress  \\\n",
        "death01                                                                     \n",
        "0          0.348225    0.584956    0.049828  3.445648   0.00000  0.253532   \n",
        "1          0.601572    0.283857    0.064389  2.783383  43.94468  0.514510   \n",
        "\n",
        "         sublocal    locnum  gislocnum    issue1    issue2    issue3  \\\n",
        "death01                                                                \n",
        "0        1.101184  2.863582  -0.623139  6.610553  6.408252  8.892857   \n",
        "1        1.243349  3.655099   2.998489  7.373342  7.502521  6.712329   \n",
        "\n",
        "          nsource  ACD_questionable  latitude  longitude  \n",
        "death01                                                   \n",
        "0        0.450935          0.007446  2.501158  17.406568  \n",
        "1        0.538694          0.042322  0.392680  22.455082  "
       ]
      }
     ],
     "prompt_number": 177
    },
    {
     "cell_type": "code",
     "collapsed": false,
     "input": [
      "# Need to delete duplicate rows if not using geographic data (see documentation)\n",
      "scad = scad.drop_duplicates(cols='eventid')"
     ],
     "language": "python",
     "metadata": {},
     "outputs": [],
     "prompt_number": 179
    },
    {
     "cell_type": "code",
     "collapsed": false,
     "input": [
      "scad.ndeath.corr(scad.npart)"
     ],
     "language": "python",
     "metadata": {},
     "outputs": [
      {
       "output_type": "pyout",
       "prompt_number": 180,
       "text": [
        "0.025416029835246032"
       ]
      }
     ],
     "prompt_number": 180
    },
    {
     "cell_type": "code",
     "collapsed": false,
     "input": [
      "scad.ndeath.corr(scad.escalation)"
     ],
     "language": "python",
     "metadata": {},
     "outputs": [
      {
       "output_type": "pyout",
       "prompt_number": 181,
       "text": [
        "0.023094751376824069"
       ]
      }
     ],
     "prompt_number": 181
    },
    {
     "cell_type": "code",
     "collapsed": false,
     "input": [
      "scad.ndeath.corr(scad.etype)"
     ],
     "language": "python",
     "metadata": {},
     "outputs": [
      {
       "output_type": "pyout",
       "prompt_number": 182,
       "text": [
        "0.074881877054530213"
       ]
      }
     ],
     "prompt_number": 182
    },
    {
     "cell_type": "code",
     "collapsed": false,
     "input": [
      "scad.ndeath.corr(scad.duration)"
     ],
     "language": "python",
     "metadata": {},
     "outputs": [
      {
       "output_type": "pyout",
       "prompt_number": 183,
       "text": [
        "0.15058984166702985"
       ]
      }
     ],
     "prompt_number": 183
    },
    {
     "cell_type": "code",
     "collapsed": false,
     "input": [
      "scad.ndeath.corr(scad.repress)"
     ],
     "language": "python",
     "metadata": {},
     "outputs": [
      {
       "output_type": "pyout",
       "prompt_number": 184,
       "text": [
        "0.015236850215849519"
       ]
      }
     ],
     "prompt_number": 184
    },
    {
     "cell_type": "code",
     "collapsed": false,
     "input": [
      "scad.ndeath.corr(scad.issue1)"
     ],
     "language": "python",
     "metadata": {},
     "outputs": [
      {
       "output_type": "pyout",
       "prompt_number": 185,
       "text": [
        "-0.003888998952692999"
       ]
      }
     ],
     "prompt_number": 185
    },
    {
     "cell_type": "code",
     "collapsed": false,
     "input": [
      "scad.ndeath.corr(scad.issue2)"
     ],
     "language": "python",
     "metadata": {},
     "outputs": [
      {
       "output_type": "pyout",
       "prompt_number": 186,
       "text": [
        "0.047825270890422197"
       ]
      }
     ],
     "prompt_number": 186
    },
    {
     "cell_type": "code",
     "collapsed": false,
     "input": [
      "scad.ndeath.corr(scad.nsource)"
     ],
     "language": "python",
     "metadata": {},
     "outputs": [
      {
       "output_type": "pyout",
       "prompt_number": 187,
       "text": [
        "0.072172333267491839"
       ]
      }
     ],
     "prompt_number": 187
    },
    {
     "cell_type": "code",
     "collapsed": false,
     "input": [
      "grouped = scad.groupby('styr')\n",
      "totals = grouped.death01.aggregate(len)\n",
      "deaths = grouped.death01.aggregate(np.nansum)\n",
      "deaths[np.isnan(deaths)]=0\n",
      "nodeaths = totals - deaths\n",
      "years = np.unique(scad.styr)\n",
      "\n",
      "width=0.35\n",
      "p1 = plt.bar(years, nodeaths, width, color='b')\n",
      "p2 = plt.bar(years, deaths, width, color='r')\n",
      "plt.ylabel('Total Number of Conflict Events')\n",
      "plt.xlabel('Start Year of Conflict')\n",
      "plt.legend( (p1[0], p2[0]), ('No Deaths', 'Deaths') )\n",
      "plt.show()\n"
     ],
     "language": "python",
     "metadata": {},
     "outputs": [],
     "prompt_number": "*"
    }
   ],
   "metadata": {}
  }
 ]
}