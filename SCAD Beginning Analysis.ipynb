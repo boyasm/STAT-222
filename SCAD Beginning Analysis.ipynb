{
 "metadata": {
  "name": "SCAD Beginning Analysis"
 },
 "nbformat": 3,
 "nbformat_minor": 0,
 "worksheets": [
  {
   "cells": [
    {
     "cell_type": "code",
     "collapsed": false,
     "input": [
      "import numpy as np\n",
      "import pandas as pd\n",
      "import matplotlib.pyplot as plt\n",
      "import scipy as sp\n",
      "from scipy import stats\n",
      "\n",
      "pd.options.display.max_columns = 100"
     ],
     "language": "python",
     "metadata": {},
     "outputs": [],
     "prompt_number": 65
    },
    {
     "cell_type": "code",
     "collapsed": false,
     "input": [
      "# Define color palette for graphing and plots\n",
      "# Print friendly as well as somewhat colorblind friendly\n",
      "# Palettes are ColorBrewer's Set2 and Dark2 palettes\n",
      "light = ['#66C2A5', '#FC8D62', '#8DA0CB', '#E78AC3', '#A6D654', '#FFD92F', '#E5C494', '#B3B3B3']\n",
      "dark = ['#1B9E77', '#D95F02', '#7570B3', '#E7298A', '#66A61E', '#E6AB02', '#A6761D', '#666666']\n",
      "almostBlack = '#262626'"
     ],
     "language": "python",
     "metadata": {},
     "outputs": [],
     "prompt_number": 66
    },
    {
     "cell_type": "code",
     "collapsed": false,
     "input": [
      "scad = pd.read_table('/accounts/grad/mboyas/STAT-222/Raw Datasets/SCAD 3.0/SCAD 3.0 1990-2011.txt')\n",
      "# Remove all conflicts starting prior to 1990 (see documentation)\n",
      "scad = scad[scad.styr>=1990]\n",
      "\n",
      "# Remove all conflicts that exceed one calendar year to simplify analyses\n",
      "scad = scad[scad.styr == scad.eyr]\n",
      "\n",
      "# Remove all duplicated rows (see documentation re: GIS)\n",
      "scad = scad.drop_duplicates()"
     ],
     "language": "python",
     "metadata": {},
     "outputs": [],
     "prompt_number": 67
    },
    {
     "cell_type": "code",
     "collapsed": false,
     "input": [
      "# Merge in Polity IV\n",
      "polity = pd.read_excel('/accounts/grad/mboyas/STAT-222/Raw Datasets/Polity IV/p4v2012.xls', 'p4v2012')\n",
      "polity = polity[[\"ccode\", \"country\", \"year\", \"fragment\", \"democ\", \"autoc\", \"polity\", \"polity2\"]]\n",
      "newcols = polity.columns.values\n",
      "newcols[2] = 'styr'\n",
      "polity.columns=newcols\n",
      "scad = pd.merge(scad, polity, on=['ccode', 'styr'], how='left')\n",
      "#NEED TO CODE MISSINGS"
     ],
     "language": "python",
     "metadata": {},
     "outputs": [],
     "prompt_number": 68
    },
    {
     "cell_type": "code",
     "collapsed": false,
     "input": [
      "# Merge in NMC from COW\n",
      "nmc = pd.read_csv('/accounts/grad/mboyas/STAT-222/Raw Datasets/COW/NMC_v4_0.csv', na_values='-9')\n",
      "nmc = nmc[nmc.columns[1:10]]\n",
      "newcols = nmc.columns.values\n",
      "newcols[1] = 'styr'\n",
      "nmc.columns=newcols\n",
      "nmc[1:5]\n",
      "scad = pd.merge(scad, nmc, on=['ccode', 'styr'], how='left')"
     ],
     "language": "python",
     "metadata": {},
     "outputs": [],
     "prompt_number": 69
    },
    {
     "cell_type": "code",
     "collapsed": false,
     "input": [
      "# Merge in World Religions from COW\n",
      "wrp = pd.read_csv('/accounts/grad/mboyas/STAT-222/Raw Datasets/COW/WRP_national.csv')\n",
      "wrp = wrp[wrp.columns[np.concatenate([np.array([0,1,8,13,21]), np.arange(25,38,1)])]]\n",
      "wrp['domRel'] = wrp.idxmax(axis=1)\n",
      "# determine the dominant religion\n",
      "wrp = wrp[wrp.columns[[0,1,18]]]\n",
      "newcols = wrp.columns.values\n",
      "newcols[0] = 'styr'\n",
      "newcols[1] = 'ccode'\n",
      "wrp.columns=newcols\n",
      "wrp = pd.merge(scad[scad.columns[[1,9]]].drop_duplicates(), wrp, on=['ccode', 'styr'], how='left')\n",
      "scad = pd.merge(scad, wrp, on=['ccode', 'styr'], how='left')\n",
      "\n",
      "    \n",
      "        #NEED TO CODE MISSINGS\n"
     ],
     "language": "python",
     "metadata": {},
     "outputs": [],
     "prompt_number": 162
    },
    {
     "cell_type": "code",
     "collapsed": false,
     "input": [
      "for i in range(len(scad.columns)):\n",
      "    if scad[scad.columns[i]].dtype == int:\n",
      "        scad[scad.columns[i]] = scad[scad.columns[i]].astype(float)\n",
      "\n",
      "    \n",
      "        "
     ],
     "language": "python",
     "metadata": {},
     "outputs": [],
     "prompt_number": 164
    },
    {
     "cell_type": "code",
     "collapsed": false,
     "input": [
      "#Code all dataset missing values as NaN\n",
      "scad.npart[scad.npart == -99] = np.nan\n",
      "scad.ndeath[scad.ndeath == -99] = np.nan\n",
      "scad.ndeath[scad.ndeath == -88] = np.nan\n",
      "scad.ndeath[scad.ndeath == -77] = np.nan\n",
      "scad.locnum[scad.locnum == -99] = np.nan\n",
      "scad.issue1[scad.issue1 == 14] = np.nan\n",
      "scad.issue1[scad.issue2 == 14] = np.nan\n",
      "scad.issue1[scad.issue3 == 14] = np.nan"
     ],
     "language": "python",
     "metadata": {},
     "outputs": [],
     "prompt_number": 165
    },
    {
     "cell_type": "code",
     "collapsed": false,
     "input": [
      "#Code indicator variable, 0 if no deaths, 1 if at least one death\n",
      "scad['death01']=scad.ndeath\n",
      "scad.death01[scad.death01>0] = 1\n",
      "scad.death01[scad.ndeath == np.nan] = np.nan"
     ],
     "language": "python",
     "metadata": {},
     "outputs": [],
     "prompt_number": 166
    },
    {
     "cell_type": "code",
     "collapsed": false,
     "input": [
      "scad.ix[1:5, ['ndeath', 'death01']]"
     ],
     "language": "python",
     "metadata": {},
     "outputs": [
      {
       "html": [
        "<div style=\"max-height:1000px;max-width:1500px;overflow:auto;\">\n",
        "<table border=\"1\" class=\"dataframe\">\n",
        "  <thead>\n",
        "    <tr style=\"text-align: right;\">\n",
        "      <th></th>\n",
        "      <th>ndeath</th>\n",
        "      <th>death01</th>\n",
        "    </tr>\n",
        "  </thead>\n",
        "  <tbody>\n",
        "    <tr>\n",
        "      <th>1</th>\n",
        "      <td>NaN</td>\n",
        "      <td>NaN</td>\n",
        "    </tr>\n",
        "    <tr>\n",
        "      <th>2</th>\n",
        "      <td>  0</td>\n",
        "      <td>  0</td>\n",
        "    </tr>\n",
        "    <tr>\n",
        "      <th>3</th>\n",
        "      <td>  0</td>\n",
        "      <td>  0</td>\n",
        "    </tr>\n",
        "    <tr>\n",
        "      <th>4</th>\n",
        "      <td>  0</td>\n",
        "      <td>  0</td>\n",
        "    </tr>\n",
        "    <tr>\n",
        "      <th>5</th>\n",
        "      <td>  0</td>\n",
        "      <td>  0</td>\n",
        "    </tr>\n",
        "  </tbody>\n",
        "</table>\n",
        "</div>"
       ],
       "output_type": "pyout",
       "prompt_number": 8,
       "text": [
        "   ndeath  death01\n",
        "1     NaN      NaN\n",
        "2       0        0\n",
        "3       0        0\n",
        "4       0        0\n",
        "5       0        0"
       ]
      }
     ],
     "prompt_number": 8
    },
    {
     "cell_type": "code",
     "collapsed": false,
     "input": [
      "grouped = scad.groupby('death01')\n",
      "grouped.aggregate(np.median)\n",
      "grouped.aggregate(np.mean)"
     ],
     "language": "python",
     "metadata": {},
     "outputs": [
      {
       "html": [
        "<div style=\"max-height:1000px;max-width:1500px;overflow:auto;\">\n",
        "<table border=\"1\" class=\"dataframe\">\n",
        "  <thead>\n",
        "    <tr style=\"text-align: right;\">\n",
        "      <th></th>\n",
        "      <th>eventid</th>\n",
        "      <th>ccode</th>\n",
        "      <th>id</th>\n",
        "      <th>duration</th>\n",
        "      <th>stday</th>\n",
        "      <th>stmo</th>\n",
        "      <th>styr</th>\n",
        "      <th>eday</th>\n",
        "      <th>emo</th>\n",
        "      <th>eyr</th>\n",
        "      <th>etype</th>\n",
        "      <th>escalation</th>\n",
        "      <th>cgovtarget</th>\n",
        "      <th>rgovtarget</th>\n",
        "      <th>npart</th>\n",
        "      <th>ndeath</th>\n",
        "      <th>repress</th>\n",
        "      <th>sublocal</th>\n",
        "      <th>locnum</th>\n",
        "      <th>gislocnum</th>\n",
        "      <th>issue1</th>\n",
        "      <th>issue2</th>\n",
        "      <th>issue3</th>\n",
        "      <th>nsource</th>\n",
        "      <th>ACD_questionable</th>\n",
        "      <th>latitude</th>\n",
        "      <th>longitude</th>\n",
        "      <th>fragment</th>\n",
        "      <th>democ</th>\n",
        "      <th>autoc</th>\n",
        "      <th>polity</th>\n",
        "      <th>polity2</th>\n",
        "      <th>irst</th>\n",
        "      <th>milex</th>\n",
        "      <th>milper</th>\n",
        "      <th>pec</th>\n",
        "      <th>tpop</th>\n",
        "      <th>upop</th>\n",
        "      <th>cinc</th>\n",
        "    </tr>\n",
        "    <tr>\n",
        "      <th>death01</th>\n",
        "      <th></th>\n",
        "      <th></th>\n",
        "      <th></th>\n",
        "      <th></th>\n",
        "      <th></th>\n",
        "      <th></th>\n",
        "      <th></th>\n",
        "      <th></th>\n",
        "      <th></th>\n",
        "      <th></th>\n",
        "      <th></th>\n",
        "      <th></th>\n",
        "      <th></th>\n",
        "      <th></th>\n",
        "      <th></th>\n",
        "      <th></th>\n",
        "      <th></th>\n",
        "      <th></th>\n",
        "      <th></th>\n",
        "      <th></th>\n",
        "      <th></th>\n",
        "      <th></th>\n",
        "      <th></th>\n",
        "      <th></th>\n",
        "      <th></th>\n",
        "      <th></th>\n",
        "      <th></th>\n",
        "      <th></th>\n",
        "      <th></th>\n",
        "      <th></th>\n",
        "      <th></th>\n",
        "      <th></th>\n",
        "      <th></th>\n",
        "      <th></th>\n",
        "      <th></th>\n",
        "      <th></th>\n",
        "      <th></th>\n",
        "      <th></th>\n",
        "      <th></th>\n",
        "    </tr>\n",
        "  </thead>\n",
        "  <tbody>\n",
        "    <tr>\n",
        "      <th>0</th>\n",
        "      <td> 5249730.428930</td>\n",
        "      <td> 524.953905</td>\n",
        "      <td> 191.373963</td>\n",
        "      <td> 4.984764</td>\n",
        "      <td> 15.242044</td>\n",
        "      <td> 6.315140</td>\n",
        "      <td> 2001.966635</td>\n",
        "      <td> 16.059595</td>\n",
        "      <td> 6.419286</td>\n",
        "      <td> 2001.966635</td>\n",
        "      <td> 3.760656</td>\n",
        "      <td> 0.346384</td>\n",
        "      <td> 0.584185</td>\n",
        "      <td> 0.050145</td>\n",
        "      <td> 3.443390</td>\n",
        "      <td>  0.000000</td>\n",
        "      <td> 0.254581</td>\n",
        "      <td> 1.101639</td>\n",
        "      <td> 2.845939</td>\n",
        "      <td>-0.557956</td>\n",
        "      <td> 6.625821</td>\n",
        "      <td> 6.430769</td>\n",
        "      <td> 8.814815</td>\n",
        "      <td> 0.448602</td>\n",
        "      <td> 0.007136</td>\n",
        "      <td> 2.49259</td>\n",
        "      <td> 17.362072</td>\n",
        "      <td> 0.263281</td>\n",
        "      <td> -7.175262</td>\n",
        "      <td> -7.485653</td>\n",
        "      <td> -9.599845</td>\n",
        "      <td> 0.414244</td>\n",
        "      <td> 1330.833037</td>\n",
        "      <td>  927051.133574</td>\n",
        "      <td> 70.269454</td>\n",
        "      <td> 69328.563616</td>\n",
        "      <td> 34018.502697</td>\n",
        "      <td> 7540.155468</td>\n",
        "      <td> 0.003073</td>\n",
        "    </tr>\n",
        "    <tr>\n",
        "      <th>1</th>\n",
        "      <td> 5176825.749161</td>\n",
        "      <td> 517.657309</td>\n",
        "      <td> 252.664022</td>\n",
        "      <td> 5.177296</td>\n",
        "      <td> 15.138541</td>\n",
        "      <td> 6.258468</td>\n",
        "      <td> 2001.545316</td>\n",
        "      <td> 15.682942</td>\n",
        "      <td> 6.378090</td>\n",
        "      <td> 2001.545316</td>\n",
        "      <td> 6.628013</td>\n",
        "      <td> 0.601770</td>\n",
        "      <td> 0.280745</td>\n",
        "      <td> 0.060116</td>\n",
        "      <td> 2.774775</td>\n",
        "      <td> 37.641745</td>\n",
        "      <td> 0.505951</td>\n",
        "      <td> 1.216662</td>\n",
        "      <td> 3.634716</td>\n",
        "      <td> 2.998779</td>\n",
        "      <td> 7.411542</td>\n",
        "      <td> 7.573657</td>\n",
        "      <td> 6.694444</td>\n",
        "      <td> 0.535246</td>\n",
        "      <td> 0.042417</td>\n",
        "      <td> 0.34305</td>\n",
        "      <td> 22.398844</td>\n",
        "      <td> 0.663740</td>\n",
        "      <td>-18.262667</td>\n",
        "      <td>-19.488032</td>\n",
        "      <td>-19.841156</td>\n",
        "      <td> 1.618392</td>\n",
        "      <td> 1901.793658</td>\n",
        "      <td> 1081113.603338</td>\n",
        "      <td> 67.740484</td>\n",
        "      <td> 79453.974281</td>\n",
        "      <td> 40997.110306</td>\n",
        "      <td> 8609.314815</td>\n",
        "      <td> 0.003665</td>\n",
        "    </tr>\n",
        "  </tbody>\n",
        "</table>\n",
        "</div>"
       ],
       "output_type": "pyout",
       "prompt_number": 167,
       "text": [
        "                eventid       ccode          id  duration      stday  \\\n",
        "death01                                                                \n",
        "0        5249730.428930  524.953905  191.373963  4.984764  15.242044   \n",
        "1        5176825.749161  517.657309  252.664022  5.177296  15.138541   \n",
        "\n",
        "             stmo         styr       eday       emo          eyr     etype  \\\n",
        "death01                                                                      \n",
        "0        6.315140  2001.966635  16.059595  6.419286  2001.966635  3.760656   \n",
        "1        6.258468  2001.545316  15.682942  6.378090  2001.545316  6.628013   \n",
        "\n",
        "         escalation  cgovtarget  rgovtarget     npart     ndeath   repress  \\\n",
        "death01                                                                      \n",
        "0          0.346384    0.584185    0.050145  3.443390   0.000000  0.254581   \n",
        "1          0.601770    0.280745    0.060116  2.774775  37.641745  0.505951   \n",
        "\n",
        "         sublocal    locnum  gislocnum    issue1    issue2    issue3  \\\n",
        "death01                                                                \n",
        "0        1.101639  2.845939  -0.557956  6.625821  6.430769  8.814815   \n",
        "1        1.216662  3.634716   2.998779  7.411542  7.573657  6.694444   \n",
        "\n",
        "          nsource  ACD_questionable  latitude  longitude  fragment      democ  \\\n",
        "death01                                                                         \n",
        "0        0.448602          0.007136   2.49259  17.362072  0.263281  -7.175262   \n",
        "1        0.535246          0.042417   0.34305  22.398844  0.663740 -18.262667   \n",
        "\n",
        "             autoc     polity   polity2         irst           milex  \\\n",
        "death01                                                                \n",
        "0        -7.485653  -9.599845  0.414244  1330.833037   927051.133574   \n",
        "1       -19.488032 -19.841156  1.618392  1901.793658  1081113.603338   \n",
        "\n",
        "            milper           pec          tpop         upop      cinc  \n",
        "death01                                                                \n",
        "0        70.269454  69328.563616  34018.502697  7540.155468  0.003073  \n",
        "1        67.740484  79453.974281  40997.110306  8609.314815  0.003665  "
       ]
      }
     ],
     "prompt_number": 167
    },
    {
     "cell_type": "code",
     "collapsed": false,
     "input": [
      "# Need to delete duplicate rows if not using geographic data (see documentation)\n",
      "scad = scad.drop_duplicates(cols='eventid')"
     ],
     "language": "python",
     "metadata": {},
     "outputs": [],
     "prompt_number": 10
    },
    {
     "cell_type": "code",
     "collapsed": false,
     "input": [
      "scad.ndeath.corr(scad.pec)"
     ],
     "language": "python",
     "metadata": {},
     "outputs": [
      {
       "output_type": "pyout",
       "prompt_number": 178,
       "text": [
        "-0.0095120689181336891"
       ]
      }
     ],
     "prompt_number": 178
    },
    {
     "cell_type": "code",
     "collapsed": false,
     "input": [
      "scad.ndeath.corr(scad.escalation)"
     ],
     "language": "python",
     "metadata": {},
     "outputs": [
      {
       "output_type": "pyout",
       "prompt_number": 12,
       "text": [
        "0.023094751376824069"
       ]
      }
     ],
     "prompt_number": 12
    },
    {
     "cell_type": "code",
     "collapsed": false,
     "input": [
      "scad.ndeath.corr(scad.etype)"
     ],
     "language": "python",
     "metadata": {},
     "outputs": [
      {
       "output_type": "pyout",
       "prompt_number": 13,
       "text": [
        "0.074881877054530213"
       ]
      }
     ],
     "prompt_number": 13
    },
    {
     "cell_type": "code",
     "collapsed": false,
     "input": [
      "scad.ndeath.corr(scad.duration)"
     ],
     "language": "python",
     "metadata": {},
     "outputs": [
      {
       "output_type": "pyout",
       "prompt_number": 14,
       "text": [
        "0.15058984166702985"
       ]
      }
     ],
     "prompt_number": 14
    },
    {
     "cell_type": "code",
     "collapsed": false,
     "input": [
      "scad.ndeath.corr(scad.repress)"
     ],
     "language": "python",
     "metadata": {},
     "outputs": [
      {
       "output_type": "pyout",
       "prompt_number": 15,
       "text": [
        "0.015236850215849519"
       ]
      }
     ],
     "prompt_number": 15
    },
    {
     "cell_type": "code",
     "collapsed": false,
     "input": [
      "scad.ndeath.corr(scad.issue1)"
     ],
     "language": "python",
     "metadata": {},
     "outputs": [
      {
       "output_type": "pyout",
       "prompt_number": 16,
       "text": [
        "-0.003888998952692999"
       ]
      }
     ],
     "prompt_number": 16
    },
    {
     "cell_type": "code",
     "collapsed": false,
     "input": [
      "grouped = scad.groupby('styr')\n",
      "totals = grouped.death01.aggregate(len)\n",
      "deaths = grouped.death01.aggregate(np.nansum)\n",
      "deaths[np.isnan(deaths)]=0\n",
      "nodeaths = totals - deaths\n",
      "years = np.arange(1990, 2012, 1)\n",
      "\n",
      "ax = plt.subplot(111)\n",
      "width=0.5\n",
      "p1 = ax.bar(years, nodeaths, width, color=light[0], align='center')\n",
      "p2 = ax.bar(years, deaths, width, color=light[1], align='center')\n",
      "axesToLose = ['top', 'right']\n",
      "for axis in axesToLose:\n",
      "    ax.spines[axis].set_visible(False)\n",
      "    \n",
      "ax.xaxis.set_ticks_position('none')\n",
      "ax.yaxis.set_ticks_position('left')\n",
      "    \n",
      "ax.title.set_color(almostBlack)\n",
      "legend = ax.legend( (p1[0], p2[0]), ('No Deaths', 'Deaths'), loc=2, prop={'size':12})\n",
      "legend.get_frame().set_linewidth(0.0)\n",
      "\n",
      "ax.set_ylabel('Total Number of Conflict Events', fontsize=12)\n",
      "ylabs = ['' for x in range(0, 9, 1) ]\n",
      "for i in range(0, 9, 1):\n",
      "    ylabs[i] = str(range(0, 450, 50)[i])\n",
      "    \n",
      "ax.set_yticklabels(ylabs, fontsize=8)\n",
      "\n",
      "ax.set_xlabel('Start Year of Conflict', fontsize=12)\n",
      "ax.set_xlim((1989, 2012))\n",
      "\n",
      "ax.set_xticks(years)\n",
      "ax.set_xticklabels(years, rotation=70, fontsize=8)\n",
      "plt.subplots_adjust(bottom=0.11, left=0.09, right=0.99, top=0.93)\n",
      "\n",
      "ax.set_title('Figure 1: Yearly Conflict Numbers', fontsize=17)\n",
      "\n",
      "plt.show()\n",
      "#plt.savefig('tst.png', bbox_inches='tight')"
     ],
     "language": "python",
     "metadata": {},
     "outputs": [
      {
       "output_type": "display_data",
       "png": "[encoded data removed]"
      }
     ],
     "prompt_number": 169
    },
    {
     "cell_type": "code",
     "collapsed": false,
     "input": [],
     "language": "python",
     "metadata": {},
     "outputs": []
    }
   ],
   "metadata": {}
  }
 ]
}